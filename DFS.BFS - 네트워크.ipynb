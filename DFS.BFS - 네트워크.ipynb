{
 "cells": [
  {
   "cell_type": "markdown",
   "id": "cff26197",
   "metadata": {},
   "source": [
    "# 코딩 전 생각"
   ]
  },
  {
   "cell_type": "code",
   "execution_count": null,
   "id": "7025986f",
   "metadata": {},
   "outputs": [],
   "source": [
    "\"\"\"\"\"\"\"\"\"\"\"\n",
    "1. visited 리스트 선언\n",
    "\n",
    "2. 0번 컴퓨터부터 n-1번 컴퓨터까지 반복하여, 만약 visited 리스트 값이 0이라면 그 값을 1로 하고 count를 1늘리며\n",
    "dfs 함수로 visited 처리를 한다\n",
    "\"\"\"\"\"\"\"\"\"\"\""
   ]
  },
  {
   "cell_type": "markdown",
   "id": "a768fd84",
   "metadata": {},
   "source": [
    "# 내 답안"
   ]
  },
  {
   "cell_type": "code",
   "execution_count": null,
   "id": "ebde891a",
   "metadata": {},
   "outputs": [],
   "source": [
    "def dfs(i, computers):\n",
    "    for j in range(len(computers[0])):\n",
    "        if computers[i][j] == 1 and visited[j] == 0:\n",
    "            visited[j] = 1\n",
    "            dfs(j, computers)\n",
    "\n",
    "def solution(n, computers):\n",
    "    global visited\n",
    "    visited = [0] * n\n",
    "    count = 0\n",
    "    for i in range(n): # 0 1 2\n",
    "        print(i, visited)\n",
    "        if visited[i] == 0: \n",
    "            visited[i] = 1 # 1 0 0\n",
    "            count += 1 # 1\n",
    "            dfs(i, computers) \n",
    "    return count"
   ]
  },
  {
   "cell_type": "markdown",
   "id": "50a9f015",
   "metadata": {},
   "source": [
    "# 답안 작성 후 생각"
   ]
  },
  {
   "cell_type": "code",
   "execution_count": null,
   "id": "b6aee36c",
   "metadata": {},
   "outputs": [],
   "source": [
    "\"\"\"\"\"\"\"\"\"\"\n",
    "행렬 방식과 이중 리스트 방식을 헷갈려서 dfs 함수를 잘못 작성했었다.\n",
    "\"\"\"\"\"\"\"\"\"\""
   ]
  }
 ],
 "metadata": {
  "kernelspec": {
   "display_name": "Python 3 (ipykernel)",
   "language": "python",
   "name": "python3"
  },
  "language_info": {
   "codemirror_mode": {
    "name": "ipython",
    "version": 3
   },
   "file_extension": ".py",
   "mimetype": "text/x-python",
   "name": "python",
   "nbconvert_exporter": "python",
   "pygments_lexer": "ipython3",
   "version": "3.7.13"
  }
 },
 "nbformat": 4,
 "nbformat_minor": 5
}
