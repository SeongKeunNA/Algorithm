{
 "cells": [
  {
   "cell_type": "markdown",
   "id": "b4a0ed87",
   "metadata": {},
   "source": [
    "# 코딩 전 생각"
   ]
  },
  {
   "cell_type": "code",
   "execution_count": null,
   "id": "a29996de",
   "metadata": {},
   "outputs": [],
   "source": [
    "\"\"\"\"\"\"\"\"\"\"\n",
    "cnt 변수를 0으로 선언한 뒤 \"(\"가 나오면 +1, ')'가 나오면 -1 한다.\n",
    "\n",
    "만약 cnt가 0인데 ')'가 나오거나, 맨 마지막에 cnt가 0이 아니라면 'no'를 출력한다.\n",
    "\n",
    "그렇지 않다면 'yes'를 출력한다.\n",
    "\"\"\"\"\"\"\"\"\"\""
   ]
  },
  {
   "cell_type": "markdown",
   "id": "7a6ad70c",
   "metadata": {},
   "source": [
    "# 내 답안"
   ]
  },
  {
   "cell_type": "code",
   "execution_count": 1,
   "id": "94049b44",
   "metadata": {},
   "outputs": [
    {
     "name": "stdout",
     "output_type": "stream",
     "text": [
      "1\n",
      "(())())\n",
      "NO\n"
     ]
    }
   ],
   "source": [
    "for t in range(int(input())):\n",
    "    cnt = 0\n",
    "    ans = 'YES'\n",
    "    for i in input():\n",
    "        if i == '(':\n",
    "            cnt += 1\n",
    "        elif cnt == 0:\n",
    "            ans = 'NO'\n",
    "            break\n",
    "        else:\n",
    "            cnt -= 1\n",
    "    if cnt:\n",
    "        ans = 'NO'\n",
    "    print(ans)"
   ]
  }
 ],
 "metadata": {
  "kernelspec": {
   "display_name": "Python 3 (ipykernel)",
   "language": "python",
   "name": "python3"
  },
  "language_info": {
   "codemirror_mode": {
    "name": "ipython",
    "version": 3
   },
   "file_extension": ".py",
   "mimetype": "text/x-python",
   "name": "python",
   "nbconvert_exporter": "python",
   "pygments_lexer": "ipython3",
   "version": "3.7.13"
  }
 },
 "nbformat": 4,
 "nbformat_minor": 5
}
