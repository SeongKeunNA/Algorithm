{
 "cells": [
  {
   "cell_type": "markdown",
   "id": "aa1bd165",
   "metadata": {},
   "source": [
    "# 풀이 전 생각"
   ]
  },
  {
   "cell_type": "code",
   "execution_count": 1,
   "id": "9ff9ffda",
   "metadata": {},
   "outputs": [
    {
     "data": {
      "text/plain": [
       "'\\n'"
      ]
     },
     "execution_count": 1,
     "metadata": {},
     "output_type": "execute_result"
    }
   ],
   "source": [
    "\"\"\"\n",
    "1. 다이나믹 프로그래밍 기법으로 0부터 40까지의 0/1의 출력 횟수를 튜플로 저장함\n",
    "\n",
    "2. 쿼리에 해당하는 값을 출력함\n",
    "\"\"\""
   ]
  },
  {
   "cell_type": "markdown",
   "id": "d3af28a5",
   "metadata": {},
   "source": [
    "# 내 답안"
   ]
  },
  {
   "cell_type": "code",
   "execution_count": null,
   "id": "dd05c0d9",
   "metadata": {},
   "outputs": [],
   "source": [
    "from sys import stdin, stdout\n",
    "_ = int(input())\n",
    "queries = list(map(int, stdin.read().splitlines()))\n",
    "info0 = [1, 0]\n",
    "info1 = [0, 1]\n",
    "for i in range(2, max(queries) + 1):\n",
    "    info0.append(info0[i-1] + info0[i-2])\n",
    "    info1.append(info1[i-1] + info1[i-2])\n",
    "for query in queries:\n",
    "    stdout.write(\" \".join(map(str, (info0[query], info1[query]))) + \"\\n\")"
   ]
  },
  {
   "cell_type": "markdown",
   "id": "688220d5",
   "metadata": {},
   "source": [
    "# ghkdwogud852님의 풀이 https://www.acmicpc.net/source/33331036"
   ]
  },
  {
   "cell_type": "code",
   "execution_count": null,
   "id": "a72ea260",
   "metadata": {},
   "outputs": [],
   "source": [
    "a = int(input())\n",
    "b = [int(input()) for _ in range(a)]\n",
    "c = [0, 1]\n",
    "d = 1\n",
    "\n",
    "for i in range(2, 41):\n",
    "    d = c[i-1] + c[i-2]\n",
    "    c.append(d)\n",
    "\n",
    "for i in b:\n",
    "    if i != 0:\n",
    "        print(f'{c[i-1]} {c[i]}')\n",
    "    else:\n",
    "        print('1 0')"
   ]
  },
  {
   "cell_type": "markdown",
   "id": "83eec5d5",
   "metadata": {},
   "source": [
    "# 풀이 후 생각"
   ]
  },
  {
   "cell_type": "code",
   "execution_count": null,
   "id": "18664080",
   "metadata": {},
   "outputs": [],
   "source": [
    "\"\"\"\n",
    "피보나치 수의 0의 개수는 이전 피보나치 수의 1의 개수와 같다는 점을 이용해 풀 수도 있다.\n",
    "\"\"\""
   ]
  }
 ],
 "metadata": {
  "kernelspec": {
   "display_name": "Python 3 (ipykernel)",
   "language": "python",
   "name": "python3"
  },
  "language_info": {
   "codemirror_mode": {
    "name": "ipython",
    "version": 3
   },
   "file_extension": ".py",
   "mimetype": "text/x-python",
   "name": "python",
   "nbconvert_exporter": "python",
   "pygments_lexer": "ipython3",
   "version": "3.7.13"
  }
 },
 "nbformat": 4,
 "nbformat_minor": 5
}
