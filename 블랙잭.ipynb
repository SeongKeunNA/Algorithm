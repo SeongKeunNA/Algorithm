{
 "cells": [
  {
   "cell_type": "markdown",
   "id": "e22076ef",
   "metadata": {},
   "source": [
    "# 코딩 전 생각"
   ]
  },
  {
   "cell_type": "code",
   "execution_count": null,
   "id": "93de1ebf",
   "metadata": {},
   "outputs": [],
   "source": [
    "\"\"\"\"\"\"\"\"\"\"\n",
    "itertools의 combinations를 이용해 모든 가능한 조합을 찾은 뒤 각 조합마다 최대값을 갱신한다. \n",
    "\n",
    "단, 각 조합마다 현재까지의 카드의 합이 m을 초과하면 바로 continue하여 다음 조합을 찾는다.\n",
    "\"\"\"\"\"\"\"\"\"\""
   ]
  },
  {
   "cell_type": "markdown",
   "id": "3e1161c6",
   "metadata": {},
   "source": [
    "# 내 답안 - 완전탐색"
   ]
  },
  {
   "cell_type": "code",
   "execution_count": 3,
   "id": "ba318925",
   "metadata": {},
   "outputs": [
    {
     "name": "stdout",
     "output_type": "stream",
     "text": [
      "5 21\n",
      "5 6 7 8 9\n",
      "21\n"
     ]
    }
   ],
   "source": [
    "from itertools import combinations as cb\n",
    "n, m = map(int, input().split())\n",
    "cards = list(map(int, input().split()))\n",
    "max_value = 0\n",
    "for com in cb(cards, 3):\n",
    "    now = sum(com)\n",
    "    if now <= m:\n",
    "        max_value = max(max_value, now)\n",
    "print(max_value)"
   ]
  }
 ],
 "metadata": {
  "kernelspec": {
   "display_name": "Python 3 (ipykernel)",
   "language": "python",
   "name": "python3"
  },
  "language_info": {
   "codemirror_mode": {
    "name": "ipython",
    "version": 3
   },
   "file_extension": ".py",
   "mimetype": "text/x-python",
   "name": "python",
   "nbconvert_exporter": "python",
   "pygments_lexer": "ipython3",
   "version": "3.7.13"
  }
 },
 "nbformat": 4,
 "nbformat_minor": 5
}
