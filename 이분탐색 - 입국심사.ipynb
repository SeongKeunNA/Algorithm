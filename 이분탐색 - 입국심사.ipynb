{
 "cells": [
  {
   "cell_type": "markdown",
   "id": "819ed381",
   "metadata": {},
   "source": [
    "# 코딩 전 생각"
   ]
  },
  {
   "cell_type": "code",
   "execution_count": null,
   "id": "b5a8af59",
   "metadata": {},
   "outputs": [],
   "source": [
    "\"\"\"\"\"\"\"\"\"\"\n",
    "매 순간 가장 앞 사람은 모든 심사대 중에서 대기시간 + 심사시간이 제일 적은 곳으로 가서 심사를 받는다.\n",
    "\n",
    "20~30\n",
    "21~28\n",
    "\n",
    "21~28\n",
    "21~31\n",
    "\n",
    "7*3 21\n",
    "10 *3 30\n",
    "0(1) 0(2) 7(3) 10(4) 14(5) \n",
    "[0,0]\n",
    "[1,0]\n",
    "[]\n",
    "-------------------------------\n",
    "18:30\n",
    "\n",
    "7 14 21...\n",
    "10 20 30...\n",
    "\n",
    "0 0 7 10 14 20 21 28 30.... 70\n",
    "\n",
    "1e18\n",
    "\n",
    "'20': 7 2번 10 2번 총 4번\n",
    "'30': 7 4번 10 3번 총7번\n",
    "'21': 7 3번 10 2번 총 5번\n",
    "\n",
    "---------------------\n",
    "'20': 7*3 < 10이므로 10도 추가\n",
    "7 10 14 20 21 28 30\n",
    "\n",
    "=> 가능한 시간의 최댓값인 int(1e18)과 최솟값인 1사이에서 이분탐색을 진행한다.\n",
    "\n",
    "이 때 이분탐색으로 나온 값에서 times의 각 원소를 나눈 몫을 모두 구한 다음 더해서 그 합이 n보다 크거나 같다면 시간 범위를 줄이고,\n",
    "\n",
    "n보다 작으면 시간 범위를 늘린다.\n",
    "\"\"\"\"\"\"\"\""
   ]
  },
  {
   "cell_type": "markdown",
   "id": "c53cc492",
   "metadata": {},
   "source": [
    "# 내 답안"
   ]
  },
  {
   "cell_type": "code",
   "execution_count": null,
   "id": "67926632",
   "metadata": {},
   "outputs": [],
   "source": [
    "def solution(n, times):\n",
    "    answer = 0\n",
    "    start = 0\n",
    "    end = int(1e18)\n",
    "    while start <= end:\n",
    "        mid = (start + end) // 2\n",
    "        value = 0\n",
    "        for t in times:\n",
    "            value += mid // t\n",
    "        if value >= n:\n",
    "            answer = mid\n",
    "            end = mid - 1\n",
    "        else:\n",
    "            start = mid + 1\n",
    "    return answer"
   ]
  },
  {
   "cell_type": "markdown",
   "id": "6070a494",
   "metadata": {},
   "source": [
    "# 정윤석 , 김희재 , 탈퇴한 사용자 , - , 박재민 외 4 명의 답안"
   ]
  },
  {
   "cell_type": "code",
   "execution_count": null,
   "id": "feaa5ea2",
   "metadata": {},
   "outputs": [],
   "source": [
    "import bisect\n",
    "\n",
    "def solution(n, times):\n",
    "    times.sort()\n",
    "    l = 1\n",
    "    r = times[len(times)-1]*n\n",
    "    answer = r\n",
    "    while(l<=r):\n",
    "        mid = int((l+r)/2)\n",
    "        sum = 0\n",
    "        for i in range(len(times)):\n",
    "            sum += int(mid/times[i])\n",
    "        if(sum >= n):\n",
    "            if(answer > mid):\n",
    "                answer = mid;\n",
    "            r = mid-1\n",
    "        else:\n",
    "            l = mid +1\n",
    "\n",
    "    return answer"
   ]
  },
  {
   "cell_type": "markdown",
   "id": "2f28d32c",
   "metadata": {},
   "source": [
    "# 답안 작성 후 생각"
   ]
  },
  {
   "cell_type": "code",
   "execution_count": null,
   "id": "1ff44588",
   "metadata": {},
   "outputs": [],
   "source": [
    "\"\"\"\"\"\"\"\"\"\"\n",
    "최댓값을 times를 정렬한 뒤 가장 큰 값 * n으로 하였다.\n",
    "\"\"\"\"\"\"\"\"\"\""
   ]
  }
 ],
 "metadata": {
  "kernelspec": {
   "display_name": "Python 3 (ipykernel)",
   "language": "python",
   "name": "python3"
  },
  "language_info": {
   "codemirror_mode": {
    "name": "ipython",
    "version": 3
   },
   "file_extension": ".py",
   "mimetype": "text/x-python",
   "name": "python",
   "nbconvert_exporter": "python",
   "pygments_lexer": "ipython3",
   "version": "3.7.13"
  }
 },
 "nbformat": 4,
 "nbformat_minor": 5
}
