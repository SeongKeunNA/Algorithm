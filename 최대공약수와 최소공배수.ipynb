{
 "cells": [
  {
   "cell_type": "markdown",
   "id": "a2373bfc",
   "metadata": {},
   "source": [
    "# 코딩 전 생각"
   ]
  },
  {
   "cell_type": "code",
   "execution_count": 1,
   "id": "c79f7204",
   "metadata": {},
   "outputs": [
    {
     "ename": "SyntaxError",
     "evalue": "EOF while scanning triple-quoted string literal (886353925.py, line 1)",
     "output_type": "error",
     "traceback": [
      "\u001b[1;36m  File \u001b[1;32m\"C:\\Users\\najonggeun\\AppData\\Local\\Temp\\ipykernel_16748\\886353925.py\"\u001b[1;36m, line \u001b[1;32m1\u001b[0m\n\u001b[1;33m    \"\"\"\"\"\"\"\"\"\"\u001b[0m\n\u001b[1;37m              ^\u001b[0m\n\u001b[1;31mSyntaxError\u001b[0m\u001b[1;31m:\u001b[0m EOF while scanning triple-quoted string literal\n"
     ]
    }
   ],
   "source": [
    "\"\"\"\"\"\"\"\"\"\"\n",
    "최대 공약수를 유클리드 호제법을 통해 구하고 주어진 두 수의 곱 나누기 최대공약수로 최소공배수를 구한다.\n",
    "\"\"\"\"\"\"\"\"\"\""
   ]
  },
  {
   "cell_type": "markdown",
   "id": "36f8962f",
   "metadata": {},
   "source": [
    "# 내 답안"
   ]
  },
  {
   "cell_type": "code",
   "execution_count": 46,
   "id": "aedc20fa",
   "metadata": {},
   "outputs": [
    {
     "name": "stdout",
     "output_type": "stream",
     "text": [
      "1 199\n",
      "1\n",
      "199\n"
     ]
    }
   ],
   "source": [
    "n, m = map(int, input().split())\n",
    "if n < m: n, m = m, n\n",
    "nxt = m\n",
    "while True:\n",
    "    nxt = n % nxt\n",
    "    \n",
    "    if n % nxt == 0:\n",
    "        \n",
    "    if m % nxt != 0:\n",
    "        nxt = 1\n",
    "        break\n",
    "\n",
    "    \n",
    "   \n",
    "print(nxt)\n",
    "print(n*m//nxt)"
   ]
  },
  {
   "cell_type": "markdown",
   "id": "271fc061",
   "metadata": {},
   "source": [
    "# 내 답안(2)"
   ]
  },
  {
   "cell_type": "code",
   "execution_count": null,
   "id": "d8daa479",
   "metadata": {},
   "outputs": [],
   "source": [
    "n, m = map(int, input().split())\n",
    "if n < m: n, m = m, n\n",
    "a, b = n, m\n",
    "while b > 0:\n",
    "    r = a % b\n",
    "    a = b\n",
    "    b = r\n",
    "    \n",
    "print(a)\n",
    "print(n*m//a)"
   ]
  },
  {
   "cell_type": "markdown",
   "id": "c1a98998",
   "metadata": {},
   "source": [
    "# 답안 작성 후 생각"
   ]
  },
  {
   "cell_type": "code",
   "execution_count": null,
   "id": "a4893b05",
   "metadata": {},
   "outputs": [],
   "source": [
    "\"\"\"\"\"\"\"\"\"\"\n",
    "유클리드 호제법을 대충 알고 있어서 헤맸다. 제대로 알아보고 해결했다.\n",
    "\"\"\"\"\"\"\"\"\"\"\""
   ]
  }
 ],
 "metadata": {
  "kernelspec": {
   "display_name": "Python 3 (ipykernel)",
   "language": "python",
   "name": "python3"
  },
  "language_info": {
   "codemirror_mode": {
    "name": "ipython",
    "version": 3
   },
   "file_extension": ".py",
   "mimetype": "text/x-python",
   "name": "python",
   "nbconvert_exporter": "python",
   "pygments_lexer": "ipython3",
   "version": "3.7.13"
  }
 },
 "nbformat": 4,
 "nbformat_minor": 5
}
