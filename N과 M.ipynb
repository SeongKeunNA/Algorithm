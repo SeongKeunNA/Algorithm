{
 "cells": [
  {
   "cell_type": "markdown",
   "id": "fc45c558",
   "metadata": {},
   "source": [
    "# 코딩 전 생각"
   ]
  },
  {
   "cell_type": "code",
   "execution_count": null,
   "id": "337d273b",
   "metadata": {},
   "outputs": [],
   "source": [
    "\"\"\"\"\"\"\"\"\"\"\n",
    "permutation 라이브러리를 사용해 해결한다.\n",
    "\"\"\"\"\"\"\"\"\"\""
   ]
  },
  {
   "cell_type": "markdown",
   "id": "78059011",
   "metadata": {},
   "source": [
    "# 내 답안"
   ]
  },
  {
   "cell_type": "code",
   "execution_count": 2,
   "id": "93b2ce5e",
   "metadata": {},
   "outputs": [
    {
     "name": "stdout",
     "output_type": "stream",
     "text": [
      "4 2\n",
      "1 2\n",
      "1 3\n",
      "1 4\n",
      "2 1\n",
      "2 3\n",
      "2 4\n",
      "3 1\n",
      "3 2\n",
      "3 4\n",
      "4 1\n",
      "4 2\n",
      "4 3\n"
     ]
    }
   ],
   "source": [
    "from itertools import permutations as pm\n",
    "n, m = map(int, input().split())\n",
    "possible = pm(range(1, n + 1), m)\n",
    "for p in possible:\n",
    "    print(' '.join(map(str, p)))"
   ]
  }
 ],
 "metadata": {
  "kernelspec": {
   "display_name": "Python 3 (ipykernel)",
   "language": "python",
   "name": "python3"
  },
  "language_info": {
   "codemirror_mode": {
    "name": "ipython",
    "version": 3
   },
   "file_extension": ".py",
   "mimetype": "text/x-python",
   "name": "python",
   "nbconvert_exporter": "python",
   "pygments_lexer": "ipython3",
   "version": "3.7.13"
  }
 },
 "nbformat": 4,
 "nbformat_minor": 5
}
