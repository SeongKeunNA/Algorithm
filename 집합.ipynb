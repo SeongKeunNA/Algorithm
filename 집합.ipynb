{
 "cells": [
  {
   "cell_type": "markdown",
   "id": "8847f51d",
   "metadata": {},
   "source": [
    "# 풀이 전 생각"
   ]
  },
  {
   "cell_type": "code",
   "execution_count": null,
   "id": "9fb7482a",
   "metadata": {},
   "outputs": [],
   "source": [
    "\"\"\"\n",
    "집합 S를 class로 선언하여 메서드와 속성을 추가한다.\n",
    "\"\"\""
   ]
  },
  {
   "cell_type": "markdown",
   "id": "3203d5c6",
   "metadata": {},
   "source": [
    "# 내 답안"
   ]
  },
  {
   "cell_type": "code",
   "execution_count": null,
   "id": "e80d429e",
   "metadata": {},
   "outputs": [],
   "source": [
    "from sys import stdin, stdout\n",
    "input = stdin.readline\n",
    "print = stdout.write\n",
    "\n",
    "class S():\n",
    "    def __init__(self):\n",
    "        self.s = set()\n",
    "    \n",
    "    def add(self, x):\n",
    "        self.s.add(x)\n",
    "        \n",
    "    def remove(self, x):\n",
    "        self.s.discard(x)\n",
    "        \n",
    "    def check(self, x):\n",
    "        if x in self.s:\n",
    "            return 1\n",
    "        else:\n",
    "            return 0\n",
    "        \n",
    "    def toggle(self, x):\n",
    "        if x in self.s:\n",
    "            self.s.remove(x)\n",
    "        else:\n",
    "            self.s.add(x)\n",
    "    \n",
    "    def all_(self):\n",
    "        self.s = set(map(str,range(1, 21)))\n",
    "    \n",
    "    def empty(self):\n",
    "        self.s = set()\n",
    "\n",
    "Set = S()\n",
    "for i in range(int(input())):\n",
    "    oper = input.split()\n",
    "    if oper[0] == 'all':\n",
    "        Set.all_()\n",
    "    elif oper[0] == 'empty':\n",
    "        Set.empty()\n",
    "    elif oper[0] == 'add':\n",
    "        Set.add(oper[1])\n",
    "    elif oper[0] == 'remove':\n",
    "        Set.remove(oper[1])\n",
    "    elif oper[0] == 'check':\n",
    "        print(str(Set.check(oper[1])))       \n",
    "    else:\n",
    "        Set.toggle(oper[1])"
   ]
  },
  {
   "cell_type": "markdown",
   "id": "69e5eb46",
   "metadata": {},
   "source": [
    "# 내 답안(2)"
   ]
  },
  {
   "cell_type": "code",
   "execution_count": null,
   "id": "505eb294",
   "metadata": {},
   "outputs": [],
   "source": [
    "from sys import stdin, stdout\n",
    "input = stdin.readline\n",
    "print = stdout.write\n",
    "\n",
    "class S:\n",
    "    def __init__(self):\n",
    "        self.s = set()\n",
    "    \n",
    "    def add(self, x):\n",
    "        self.s.add(x)\n",
    "        \n",
    "    def remove(self, x):\n",
    "        self.s.discard(x)\n",
    "        \n",
    "    def check(self, x):\n",
    "        if x in self.s:\n",
    "            print(\"1\\n\")\n",
    "        else:\n",
    "            print(\"0\\n\")\n",
    "        \n",
    "    def toggle(self, x):\n",
    "        if x in self.s:\n",
    "            self.s.discard(x)\n",
    "        else:\n",
    "            self.s.add(x)\n",
    "    \n",
    "    def all_(self):\n",
    "        self.s = set(list(map(str, range(1, 21))))\n",
    "        \n",
    "    def empty(self):\n",
    "        self.s = set()\n",
    "\n",
    "Set = S()\n",
    "n = int(input())\n",
    "for i in range(n):\n",
    "    oper = input().split()\n",
    "    if oper[0] == 'all':\n",
    "        Set.all_()\n",
    "    elif oper[0] == 'empty':\n",
    "        Set.empty()\n",
    "    elif oper[0] == 'add':\n",
    "        Set.add(oper[1])\n",
    "    elif oper[0] == 'remove':\n",
    "        Set.remove(oper[1])\n",
    "    elif oper[0] == 'check':\n",
    "        Set.check(oper[1]) \n",
    "    elif oper[0] == 'toggle':\n",
    "        Set.toggle(oper[1])"
   ]
  },
  {
   "cell_type": "markdown",
   "id": "6a8edda3",
   "metadata": {},
   "source": [
    "# 답안 작성 후 생각"
   ]
  },
  {
   "cell_type": "code",
   "execution_count": null,
   "id": "0500d41b",
   "metadata": {},
   "outputs": [],
   "source": [
    "\"\"\"\n",
    "1. stdout.write() 함수 사용 시 뒤에 \\n을 붙여야만 다음 줄로 넘어간다는 점\n",
    "\n",
    "2. set()에 하나의 iterable 객체만 들어갈 수 있다는 점\n",
    "\n",
    "3. map의 구조 - map(func, object)를 깜빡해서\n",
    "\n",
    "시간이 오래 걸렸다.\n",
    "\n",
    "추가로, 클래스 선언을 하지 않으면 시간이 절약되는 것 같다.\n",
    "\"\"\""
   ]
  }
 ],
 "metadata": {
  "kernelspec": {
   "display_name": "Python 3 (ipykernel)",
   "language": "python",
   "name": "python3"
  },
  "language_info": {
   "codemirror_mode": {
    "name": "ipython",
    "version": 3
   },
   "file_extension": ".py",
   "mimetype": "text/x-python",
   "name": "python",
   "nbconvert_exporter": "python",
   "pygments_lexer": "ipython3",
   "version": "3.7.13"
  }
 },
 "nbformat": 4,
 "nbformat_minor": 5
}
