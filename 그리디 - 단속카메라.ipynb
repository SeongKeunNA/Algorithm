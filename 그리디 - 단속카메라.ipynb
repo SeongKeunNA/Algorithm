{
 "cells": [
  {
   "cell_type": "markdown",
   "id": "a87583a8",
   "metadata": {},
   "source": [
    "# 코딩 전 생각"
   ]
  },
  {
   "cell_type": "code",
   "execution_count": null,
   "id": "e15a62e7",
   "metadata": {},
   "outputs": [],
   "source": [
    "\"\"\"\"\"\"\"\"\"\"\n",
    "i번째 반복에서 i번째 최좌측(최소) 진출 지점 - left과 i번째 최우측(최대) 진입 지점-right을 찾고 left >= right라면 2 * i를 반환한다.\n",
    "\"\"\"\"\"\"\"\"\"\""
   ]
  },
  {
   "cell_type": "markdown",
   "id": "443104d8",
   "metadata": {},
   "source": [
    "# 내 답안"
   ]
  },
  {
   "cell_type": "code",
   "execution_count": null,
   "id": "d91d433f",
   "metadata": {},
   "outputs": [],
   "source": [
    "-20 -19 -18 17 16 15 14 13 12 11 10 9 8 7 6 5 4 3"
   ]
  },
  {
   "cell_type": "code",
   "execution_count": null,
   "id": "99b319cb",
   "metadata": {},
   "outputs": [],
   "source": [
    "def solution(routes):\n",
    "    answer = 0\n",
    "    routes_right = sorted(routes, reverse = True)\n",
    "    routes_left = sorted(routes, key = lambda x : x[1])\n",
    "    for i in range(len(routes) // 2):\n",
    "        left = routes_left[i][1]\n",
    "        right = routes_right[i][0]\n",
    "        if left >= right:\n",
    "            return answer\n",
    "        answer += 2"
   ]
  },
  {
   "cell_type": "code",
   "execution_count": null,
   "id": "98bed703",
   "metadata": {},
   "outputs": [],
   "source": [
    "def solution(routes):\n",
    "    answer = 0\n",
    "    routes_in = set(route_in[0] for route_in in routes)\n",
    "    routes_out = set(route_out[1] for route_out in routes)\n",
    "    routes_right = sorted(routes_in, reverse = True)\n",
    "    routes_left = sorted(routes_out)\n",
    "    for i in range(len(routes) // 2):\n",
    "        left = routes_left[i]\n",
    "        right = routes_right[i]\n",
    "        if left >= right:\n",
    "            return answer\n",
    "        answer += 2\n",
    "        "
   ]
  },
  {
   "cell_type": "markdown",
   "id": "600ab520",
   "metadata": {},
   "source": [
    "# 최종 답안"
   ]
  },
  {
   "cell_type": "code",
   "execution_count": null,
   "id": "b29302f8",
   "metadata": {},
   "outputs": [],
   "source": [
    "def solution(routes):\n",
    "    answer = 0\n",
    "    while routes:\n",
    "        routes_right = sorted(routes, reverse = True) \n",
    "        routes_left = sorted(routes, key = lambda x : x[1])\n",
    "        left = routes_left[0][1]  \n",
    "        right = routes_right[0][0] \n",
    "        if left >= right:\n",
    "            return answer + 1\n",
    "        answer += 2\n",
    "        routes = [r for r in routes if (left not in range(r[0], r[1] + 1)) and (right not in range(r[0], r[1] + 1))]       \n",
    "    return answer  "
   ]
  },
  {
   "cell_type": "markdown",
   "id": "f95bcac7",
   "metadata": {},
   "source": [
    "# 답안 작성 후 생각"
   ]
  },
  {
   "cell_type": "code",
   "execution_count": null,
   "id": "54855d84",
   "metadata": {},
   "outputs": [],
   "source": [
    "\"\"\"\"\"\"\"\"\"\"\n",
    "매번 최좌측 진출 지점과 최우측 지점을 찾고, 만약 left >= right라면 answer+1을 반환한다.\n",
    "\n",
    "그렇지 않다면 left와 right 두 지점에 각각 카메라를 설치하고(answer + 2), 두 카메라로 못 잡는 경로를 달리는 자동차만 routes에 남긴다.\n",
    "\n",
    "모든 자동차를 카메라로 담았다면 answer을 반환한다.\n",
    "\"\"\"\"\"\"\"\"\"\""
   ]
  }
 ],
 "metadata": {
  "kernelspec": {
   "display_name": "Python 3 (ipykernel)",
   "language": "python",
   "name": "python3"
  },
  "language_info": {
   "codemirror_mode": {
    "name": "ipython",
    "version": 3
   },
   "file_extension": ".py",
   "mimetype": "text/x-python",
   "name": "python",
   "nbconvert_exporter": "python",
   "pygments_lexer": "ipython3",
   "version": "3.7.13"
  }
 },
 "nbformat": 4,
 "nbformat_minor": 5
}
