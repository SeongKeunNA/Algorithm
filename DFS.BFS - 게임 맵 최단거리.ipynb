{
 "cells": [
  {
   "cell_type": "markdown",
   "id": "26e61ca7",
   "metadata": {},
   "source": [
    "# 코딩 전 생각"
   ]
  },
  {
   "cell_type": "code",
   "execution_count": null,
   "id": "b8ac3aac",
   "metadata": {},
   "outputs": [],
   "source": [
    "\"\"\"\"\"\"\"\"\"\"\n",
    "BFS를 활용한다.\n",
    "\"\"\"\"\"\"\"\"\"\""
   ]
  },
  {
   "cell_type": "markdown",
   "id": "20a6beb5",
   "metadata": {},
   "source": [
    "# 내 답안"
   ]
  },
  {
   "cell_type": "code",
   "execution_count": null,
   "id": "6d1180cf",
   "metadata": {},
   "outputs": [],
   "source": [
    "from collections import deque\n",
    "def solution(maps):\n",
    "    answer = 0\n",
    "    n = len(maps)\n",
    "    m = len(maps[0])\n",
    "    dx = [-1, 0, 1, 0]\n",
    "    dy = [0, 1, 0, -1]\n",
    "    q = deque()\n",
    "    q.append((0, 0, 1))\n",
    "    maps[0][0] = 0\n",
    "    while q:\n",
    "        x, y, now = q.popleft()\n",
    "        if x == n - 1 and y == m - 1:\n",
    "            return now\n",
    "        for i in range(4):\n",
    "            nx = x + dx[i]\n",
    "            ny = y + dy[i]\n",
    "            if 0 <= nx < n and 0 <= ny < m:\n",
    "                if maps[nx][ny] == 1:\n",
    "                    maps[nx][ny] = 0\n",
    "                    q.append((nx, ny, now + 1))\n",
    "    return -1"
   ]
  },
  {
   "cell_type": "markdown",
   "id": "96db4785",
   "metadata": {},
   "source": [
    "# 답안 작성 후 생각"
   ]
  },
  {
   "cell_type": "code",
   "execution_count": null,
   "id": "3b2fd85c",
   "metadata": {},
   "outputs": [],
   "source": [
    "\"\"\"\"\"\"\"\"\"\"\n",
    "다음 이동 가능 공간을 q에 추가할 때 maps의 해당 해당 공간을 방문처리하는 것이 q에서\n",
    "\n",
    "원소를 뽑을 때마다 방문처리하는 것보다 시간복잡도가 훨씬 적다.\n",
    "\"\"\"\"\"\"\"\"\"\""
   ]
  }
 ],
 "metadata": {
  "kernelspec": {
   "display_name": "Python 3 (ipykernel)",
   "language": "python",
   "name": "python3"
  },
  "language_info": {
   "codemirror_mode": {
    "name": "ipython",
    "version": 3
   },
   "file_extension": ".py",
   "mimetype": "text/x-python",
   "name": "python",
   "nbconvert_exporter": "python",
   "pygments_lexer": "ipython3",
   "version": "3.7.13"
  }
 },
 "nbformat": 4,
 "nbformat_minor": 5
}
