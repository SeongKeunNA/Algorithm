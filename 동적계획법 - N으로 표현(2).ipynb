{
 "cells": [
  {
   "cell_type": "markdown",
   "id": "e883f946",
   "metadata": {},
   "source": [
    "# 내 답안"
   ]
  },
  {
   "cell_type": "code",
   "execution_count": 6,
   "id": "c81decd0",
   "metadata": {},
   "outputs": [],
   "source": [
    "from itertools import combinations as cb\n",
    "def solution(N, number):\n",
    "    d = [[] for _ in range(9)]\n",
    "    d[1] = [N]\n",
    "    d[2] = [int(str(N) * 2), N*N, N+N, N-N, N//N]\n",
    "    for i in range(3, 9):\n",
    "        d[i] = [int(str(N) * i)]\n",
    "        possible = cb(range(1, i), 2)\n",
    "        for a, b in possible:\n",
    "            if a + b == i:\n",
    "                for k in d[a]:\n",
    "                    for l in d[b]:\n",
    "                        d[i].append(k+l)\n",
    "                        d[i].append(k*l)\n",
    "                        d[i].append(k-l)\n",
    "                        d[i].append(l-k)\n",
    "                        if l != 0:                  \n",
    "                            d[i].append(k//l)\n",
    "                        if k != 0:                  \n",
    "                            d[i].append(l//k)\n",
    "                            \n",
    "    for i in range(1, 9):\n",
    "        if number in d[i]:\n",
    "            return i\n",
    "    return -1"
   ]
  },
  {
   "cell_type": "markdown",
   "id": "564a6068",
   "metadata": {},
   "source": [
    "# - , 김지현 , - , LeeKB , - 외 20 명의 답안"
   ]
  },
  {
   "cell_type": "code",
   "execution_count": null,
   "id": "7690aed7",
   "metadata": {},
   "outputs": [],
   "source": [
    "def solution(N, number):\n",
    "    S = [{N}]\n",
    "    for i in range(2, 9):\n",
    "        lst = [int(str(N)*i)]\n",
    "        for X_i in range(0, int(i / 2)):\n",
    "            for x in S[X_i]:\n",
    "                for y in S[i - X_i - 2]:\n",
    "                    lst.append(x + y)\n",
    "                    lst.append(x - y)\n",
    "                    lst.append(y - x)\n",
    "                    lst.append(x * y)\n",
    "                    if x != 0: lst.append(y // x)\n",
    "                    if y != 0: lst.append(x // y)\n",
    "        if number in set(lst):\n",
    "            return i\n",
    "        S.append(lst)\n",
    "    return -1"
   ]
  },
  {
   "cell_type": "markdown",
   "id": "af92e8df",
   "metadata": {},
   "source": [
    "# 답안 작성 후 생각"
   ]
  },
  {
   "cell_type": "code",
   "execution_count": null,
   "id": "48d37152",
   "metadata": {},
   "outputs": [],
   "source": [
    "\"\"\"\"\"\"\"\"\"\"\n",
    "전현서님의 글(https://school.programmers.co.kr/questions/25218)에서 힌트를 얻어 문제를 푸는 데 성공했다.\n",
    "\n",
    "* zip(a,b) 형태로 풀어버리면 이중 for 문과 달리 모든 가능한 조합을 뽑아내지 못한다. (순서대로 하나씩만)\n",
    "\"\"\"\"\"\"\"\"\"\""
   ]
  }
 ],
 "metadata": {
  "kernelspec": {
   "display_name": "Python 3 (ipykernel)",
   "language": "python",
   "name": "python3"
  },
  "language_info": {
   "codemirror_mode": {
    "name": "ipython",
    "version": 3
   },
   "file_extension": ".py",
   "mimetype": "text/x-python",
   "name": "python",
   "nbconvert_exporter": "python",
   "pygments_lexer": "ipython3",
   "version": "3.7.13"
  }
 },
 "nbformat": 4,
 "nbformat_minor": 5
}
