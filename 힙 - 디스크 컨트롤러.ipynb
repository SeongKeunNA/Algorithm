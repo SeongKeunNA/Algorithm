{
 "cells": [
  {
   "cell_type": "markdown",
   "id": "39512266",
   "metadata": {},
   "source": [
    "# 코딩 전 생각"
   ]
  },
  {
   "cell_type": "code",
   "execution_count": null,
   "id": "86ace0c0",
   "metadata": {},
   "outputs": [],
   "source": [
    "\"\"\"\"\"\"\"\"\"\"\n",
    "1. jobs를 deque으로 선언하고 q를 heapq으로 선언한다.\n",
    "\n",
    "\n",
    "2. time = 0\n",
    "    while jobs:\n",
    "        1. jobs의 0번째 작업의 작업요청 시점이 time보다 작거나 같으면 popleft()로 꺼낸 후\n",
    "        소요시간을 q에 추가하는 것을 반복한다.\n",
    "\n",
    "        2. 최소 시간 소요 작업을 꺼낸 후 time에 해당 작업 시간을 더한다.\n",
    "        \n",
    "        3. answer 리스트에 해당 작업 시간을 append()한다.\n",
    "    sum(answer)을 return 한다.\n",
    "\"\"\"\"\"\"\"\"\"\""
   ]
  },
  {
   "cell_type": "markdown",
   "id": "e5d2ad4b",
   "metadata": {},
   "source": [
    "# 내 답안"
   ]
  },
  {
   "cell_type": "code",
   "execution_count": null,
   "id": "3341f1db",
   "metadata": {},
   "outputs": [],
   "source": [
    "import heapq\n",
    "from collections import deque\n",
    "def solution(jobs):\n",
    "    answer = []\n",
    "    jobs.sort()\n",
    "    jobs = deque(jobs)\n",
    "    q = []\n",
    "    time = 0\n",
    "    while jobs or q:\n",
    "        while jobs:\n",
    "            if time >= jobs[0][0]:\n",
    "                job = jobs.popleft()\n",
    "                heapq.heappush(q, [job[1], job[0]])\n",
    "            else:\n",
    "                break\n",
    "        # [9,1],[6,2]\n",
    "        if q:\n",
    "            process_time, request_time = heapq.heappop(q)\n",
    "            time += process_time\n",
    "            answer.append(time - request_time)\n",
    "        else:\n",
    "            time += 1\n",
    "    return sum(answer) // len(answer)"
   ]
  },
  {
   "cell_type": "markdown",
   "id": "10e8065b",
   "metadata": {},
   "source": [
    "# 이시윤 , 민재홍 , 조규관 , - , 양승민 외 6 명의 답안"
   ]
  },
  {
   "cell_type": "code",
   "execution_count": null,
   "id": "fb7880f1",
   "metadata": {},
   "outputs": [],
   "source": [
    "import heapq\n",
    "from collections import deque\n",
    "\n",
    "def solution(jobs):\n",
    "    tasks = deque(sorted([(x[1], x[0]) for x in jobs], key=lambda x: (x[1], x[0])))\n",
    "    q = []\n",
    "    heapq.heappush(q, tasks.popleft())\n",
    "    current_time, total_response_time = 0, 0\n",
    "    while len(q) > 0:\n",
    "        dur, arr = heapq.heappop(q)\n",
    "        current_time = max(current_time + dur, arr + dur)\n",
    "        total_response_time += current_time - arr\n",
    "        while len(tasks) > 0 and tasks[0][1] <= current_time:\n",
    "            heapq.heappush(q, tasks.popleft())\n",
    "        if len(tasks) > 0 and len(q) == 0:\n",
    "            heapq.heappush(q, tasks.popleft())\n",
    "    return total_response_time // len(jobs)"
   ]
  },
  {
   "cell_type": "markdown",
   "id": "4614164a",
   "metadata": {},
   "source": [
    "# 답안 작성 후 생각"
   ]
  },
  {
   "cell_type": "code",
   "execution_count": 1,
   "id": "7edfbb19",
   "metadata": {},
   "outputs": [
    {
     "data": {
      "text/plain": [
       "''"
      ]
     },
     "execution_count": 1,
     "metadata": {},
     "output_type": "execute_result"
    }
   ],
   "source": [
    "\"\"\"\"\"\"\"\"\"\"\"\n",
    "처음 큐에 원소를 넣을 때 current_time = max(current_time + dur, arr + dur)을 활용해 현재 시간을\n",
    "알맞게 초기화했다.\n",
    "\"\"\"\"\"\"\"\"\"\"\""
   ]
  }
 ],
 "metadata": {
  "kernelspec": {
   "display_name": "Python 3 (ipykernel)",
   "language": "python",
   "name": "python3"
  },
  "language_info": {
   "codemirror_mode": {
    "name": "ipython",
    "version": 3
   },
   "file_extension": ".py",
   "mimetype": "text/x-python",
   "name": "python",
   "nbconvert_exporter": "python",
   "pygments_lexer": "ipython3",
   "version": "3.7.13"
  }
 },
 "nbformat": 4,
 "nbformat_minor": 5
}
