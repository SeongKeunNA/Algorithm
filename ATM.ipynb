{
 "cells": [
  {
   "cell_type": "markdown",
   "id": "d77ca393",
   "metadata": {},
   "source": [
    "# 풀이 전 생각"
   ]
  },
  {
   "cell_type": "code",
   "execution_count": 1,
   "id": "637f33dd",
   "metadata": {},
   "outputs": [
    {
     "data": {
      "text/plain": [
       "'\\n인출하는 데 걸리는 시간이 적은 순서대로 정렬한 후 첫번째 사람부터 누적합 + 해당 사람의 소요 시간을 구한다.\\n'"
      ]
     },
     "execution_count": 1,
     "metadata": {},
     "output_type": "execute_result"
    }
   ],
   "source": [
    "\"\"\"\n",
    "인출하는 데 걸리는 시간이 적은 순서대로 정렬한 후 첫번째 사람부터 누적합 + 해당 사람의 소요 시간을 구한다.\n",
    "\"\"\""
   ]
  },
  {
   "cell_type": "markdown",
   "id": "2723fb9c",
   "metadata": {},
   "source": [
    "# 내 답안"
   ]
  },
  {
   "cell_type": "code",
   "execution_count": 3,
   "id": "77d41e37",
   "metadata": {},
   "outputs": [
    {
     "name": "stdout",
     "output_type": "stream",
     "text": [
      "5\n",
      "3 1 4 3 2\n",
      "32\n"
     ]
    }
   ],
   "source": [
    "n = int(input())\n",
    "accum = 0\n",
    "result = 0\n",
    "for i in sorted(map(int, input().split())):\n",
    "    accum += i\n",
    "    result += accum\n",
    "print(result)"
   ]
  },
  {
   "cell_type": "markdown",
   "id": "8ad31d60",
   "metadata": {},
   "source": [
    "# 풀이 후 생각"
   ]
  },
  {
   "cell_type": "code",
   "execution_count": null,
   "id": "e61c16e7",
   "metadata": {},
   "outputs": [],
   "source": [
    "\"\"\"\n",
    "단순한 그리디 문제이다.\n",
    "\"\"\""
   ]
  }
 ],
 "metadata": {
  "kernelspec": {
   "display_name": "Python 3 (ipykernel)",
   "language": "python",
   "name": "python3"
  },
  "language_info": {
   "codemirror_mode": {
    "name": "ipython",
    "version": 3
   },
   "file_extension": ".py",
   "mimetype": "text/x-python",
   "name": "python",
   "nbconvert_exporter": "python",
   "pygments_lexer": "ipython3",
   "version": "3.7.13"
  }
 },
 "nbformat": 4,
 "nbformat_minor": 5
}
