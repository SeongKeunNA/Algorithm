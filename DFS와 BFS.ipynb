{
 "cells": [
  {
   "cell_type": "markdown",
   "id": "78968f34",
   "metadata": {},
   "source": [
    "# 코딩 전 생각"
   ]
  },
  {
   "cell_type": "code",
   "execution_count": null,
   "id": "7b7be7b3",
   "metadata": {},
   "outputs": [],
   "source": [
    "\"\"\"\"\"\"\"\"\"\"\n",
    "주어진 입력 데이터를 바탕으로 그래프를 작성하고 각각 DFS와 BFS를 이용해 탐색한 결과를 출력한다.\n",
    "\"\"\"\"\"\"\"\"\"\""
   ]
  },
  {
   "cell_type": "markdown",
   "id": "fcfccb47",
   "metadata": {},
   "source": [
    "# 내 답안"
   ]
  },
  {
   "cell_type": "code",
   "execution_count": 9,
   "id": "b95a91fe",
   "metadata": {},
   "outputs": [
    {
     "name": "stdout",
     "output_type": "stream",
     "text": [
      "5 5 3\n",
      "5 4\n",
      "5 2\n",
      "1 2\n",
      "3 4\n",
      "3 1\n",
      "3 1 2 5 4\n",
      "3 1 4 2 5\n"
     ]
    }
   ],
   "source": [
    "from collections import deque\n",
    "\n",
    "def dfs(now):\n",
    "    result.append(now)\n",
    "    for i in sorted(graph[now]):\n",
    "        if visited[i] == 0:\n",
    "            visited[i] = 1\n",
    "            dfs(i)\n",
    "            \n",
    "def bfs(now):\n",
    "    q = deque([now])\n",
    "    while q:\n",
    "        now = q.popleft()\n",
    "        result.append(now)\n",
    "        for i in sorted(graph[now]):\n",
    "            if visited[i] == 0:\n",
    "                visited[i] = 1\n",
    "                q.append(i)\n",
    "                \n",
    "n, m, v = map(int, input().split())\n",
    "graph = [[] for _ in range(n + 1)]\n",
    "hist = set()\n",
    "for _ in range(m):\n",
    "    a, b = map(int, input().split())\n",
    "    if (a, b) not in hist:\n",
    "        hist.update([(a,b), (b,a)])\n",
    "        graph[a].append(b)\n",
    "        graph[b].append(a)\n",
    "        \n",
    "for f in dfs, bfs:\n",
    "    result = []\n",
    "    visited = [0] * (n + 1)\n",
    "    visited[v] = 1\n",
    "    f(v)\n",
    "    print(' '.join(map(str, result)))"
   ]
  },
  {
   "cell_type": "markdown",
   "id": "cdddd374",
   "metadata": {},
   "source": [
    "# jgryu0103님의 답안 - https://www.acmicpc.net/source/35999523"
   ]
  },
  {
   "cell_type": "code",
   "execution_count": null,
   "id": "4cc1e84f",
   "metadata": {},
   "outputs": [],
   "source": [
    "from sys import stdin\n",
    "inf=list(map(int,stdin.readline().split()))\n",
    "n,b,v=inf\n",
    "inp=[]\n",
    "for i in range(b):\n",
    "    inp.append(list(map(int,stdin.readline().split())))\n",
    "\n",
    "graph=[]\n",
    "for j in range(n+1):\n",
    "    graph.append([])\n",
    "for line in inp:\n",
    "    graph[line[0]].append(line[1])\n",
    "    graph[line[1]].append(line[0])\n",
    "\n",
    "for i in graph:\n",
    "    i.sort()\n",
    "\n",
    "\n",
    "result1=[]\n",
    "result2=[]\n",
    "def dfs(graph,v,visit,result):\n",
    "    visit[v]=True\n",
    "    result.append(v)\n",
    "    for i in graph[v]:\n",
    "        if not visit[i]:\n",
    "            dfs(graph,i,visit,result)\n",
    "\n",
    "def bfs(graph,v,visit,result):\n",
    "    check=[v]\n",
    "    visit[v]=True\n",
    "    while check:\n",
    "        v=check.pop(0)\n",
    "        result.append(v)\n",
    "        for i in graph[v]:\n",
    "            if not visit[i]:\n",
    "                check.append(i)\n",
    "                visit[i]=True\n",
    "\n",
    "visit=[False]*(n+1)\n",
    "dfs(graph,v,visit,result1)\n",
    "result1=list(map(str,result1))\n",
    "print(\" \".join(result1))\n",
    "visit=[False]*(n+1)\n",
    "bfs(graph,v,visit,result2)\n",
    "result2=list(map(str,result2))\n",
    "print(\" \".join(result2))\n"
   ]
  },
  {
   "cell_type": "markdown",
   "id": "6d1c010c",
   "metadata": {},
   "source": [
    "# 내 수정 답안"
   ]
  },
  {
   "cell_type": "code",
   "execution_count": 12,
   "id": "cd2e21b0",
   "metadata": {},
   "outputs": [
    {
     "name": "stdout",
     "output_type": "stream",
     "text": [
      "4 5 1\n",
      "1 2\n",
      "1 3\n",
      "1 4\n",
      "2 4\n",
      "3 4\n",
      "1 2 4 3\n",
      "1 2 3 4\n"
     ]
    }
   ],
   "source": [
    "from collections import deque\n",
    "\n",
    "def dfs(now):\n",
    "    result.append(now)\n",
    "    for i in graph[now]:\n",
    "        if visited[i] == 0:\n",
    "            visited[i] = 1\n",
    "            dfs(i)\n",
    "            \n",
    "def bfs(now):\n",
    "    q = deque([now])\n",
    "    while q:\n",
    "        now = q.popleft()\n",
    "        result.append(now)\n",
    "        for i in graph[now]:\n",
    "            if visited[i] == 0:\n",
    "                visited[i] = 1\n",
    "                q.append(i)\n",
    "                \n",
    "\n",
    "n, m, v = map(int, input().split())\n",
    "graph = [[] for _ in range(n + 1)]\n",
    "for _ in range(m):\n",
    "    a, b = map(int, input().split())\n",
    "    graph[a].append(b)\n",
    "    graph[b].append(a)\n",
    "    \n",
    "for g in graph:\n",
    "    g.sort()\n",
    "        \n",
    "for f in dfs, bfs:\n",
    "    result = []\n",
    "    visited = [0] * (n + 1)\n",
    "    visited[v] = 1\n",
    "    f(v)\n",
    "    print(' '.join(map(str, result)))"
   ]
  },
  {
   "cell_type": "markdown",
   "id": "6cead6dc",
   "metadata": {},
   "source": [
    "# 답안 작성 후 생각"
   ]
  },
  {
   "cell_type": "code",
   "execution_count": null,
   "id": "77be1f30",
   "metadata": {},
   "outputs": [],
   "source": [
    "\"\"\"\"\"\"\"\"\"\"\n",
    "1) 주어지는 간선의 중복을 고려하지 않는 것\n",
    "\n",
    "2) graph 내의 모든 리스트들을 처음에 한 번만 초기화시켜주는 것\n",
    "\n",
    "3) 함수 내에서 전역 변수를 사용하는 것이 아니라 인자에서 값을 가져오는 것이(?)\n",
    "시간 절약에 도움이 된다.\n",
    "\"\"\"\"\"\"\"\"\"\""
   ]
  }
 ],
 "metadata": {
  "kernelspec": {
   "display_name": "Python 3 (ipykernel)",
   "language": "python",
   "name": "python3"
  },
  "language_info": {
   "codemirror_mode": {
    "name": "ipython",
    "version": 3
   },
   "file_extension": ".py",
   "mimetype": "text/x-python",
   "name": "python",
   "nbconvert_exporter": "python",
   "pygments_lexer": "ipython3",
   "version": "3.7.13"
  }
 },
 "nbformat": 4,
 "nbformat_minor": 5
}
