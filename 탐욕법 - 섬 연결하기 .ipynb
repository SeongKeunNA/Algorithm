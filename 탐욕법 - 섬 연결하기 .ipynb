{
 "cells": [
  {
   "cell_type": "markdown",
   "id": "b370b0c2",
   "metadata": {},
   "source": [
    "# 코딩 전 생각"
   ]
  },
  {
   "cell_type": "code",
   "execution_count": 1,
   "id": "e87f631e",
   "metadata": {},
   "outputs": [
    {
     "data": {
      "text/plain": [
       "''"
      ]
     },
     "execution_count": 1,
     "metadata": {},
     "output_type": "execute_result"
    }
   ],
   "source": [
    "\"\"\"\"\"\"\"\"\"\"\"\n",
    "크루스칼 알고리즘을 활용한다.\n",
    "\n",
    "costs가 낮은 순서대로 정렬한 뒤 하나씩 뽑아 뽑힌 두 섬을 union 연산한다.\n",
    "이때 서로의 부모 노드가 이미 같다면 continue한다.\n",
    "\"\"\"\"\"\"\"\"\"\"\""
   ]
  },
  {
   "cell_type": "markdown",
   "id": "bfa3d932",
   "metadata": {},
   "source": [
    "# 내 답안"
   ]
  },
  {
   "cell_type": "code",
   "execution_count": null,
   "id": "eeb6e76e",
   "metadata": {},
   "outputs": [],
   "source": [
    "def find_parent(parent, x):\n",
    "    if parent[x] != x:\n",
    "        parent[x] = find_parent(parent, parent[x])\n",
    "    return parent[x]\n",
    "\n",
    "def union_parent(parent, a, b):\n",
    "    a = find_parent(parent, a)\n",
    "    b = find_parent(parent, b)\n",
    "    if a < b:\n",
    "        parent[b] = a\n",
    "    else:\n",
    "        parent[a] = b\n",
    "    \n",
    "\n",
    "def solution(n, costs):\n",
    "    global parent\n",
    "    parent = [i for i in range(n)]\n",
    "    costs.sort(key = lambda x:x[2])\n",
    "    count = 0\n",
    "    for a, b ,cost in costs:\n",
    "        if find_parent(parent,a) == find_parent(parent, b):\n",
    "            continue\n",
    "        else:\n",
    "            union_parent(parent, a, b)\n",
    "            count += cost\n",
    "    return count"
   ]
  }
 ],
 "metadata": {
  "kernelspec": {
   "display_name": "Python 3 (ipykernel)",
   "language": "python",
   "name": "python3"
  },
  "language_info": {
   "codemirror_mode": {
    "name": "ipython",
    "version": 3
   },
   "file_extension": ".py",
   "mimetype": "text/x-python",
   "name": "python",
   "nbconvert_exporter": "python",
   "pygments_lexer": "ipython3",
   "version": "3.7.13"
  }
 },
 "nbformat": 4,
 "nbformat_minor": 5
}
