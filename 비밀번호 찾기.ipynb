{
 "cells": [
  {
   "cell_type": "markdown",
   "id": "4983569e",
   "metadata": {},
   "source": [
    "# 풀이 전 생각"
   ]
  },
  {
   "cell_type": "code",
   "execution_count": null,
   "id": "c5a87119",
   "metadata": {},
   "outputs": [],
   "source": [
    "\"\"\"\n",
    "1. map(int, input.split())으로 n, m 값 저장\n",
    "\n",
    "2. 빈 딕셔너리를 선언하고 sys.stdin.readline()으로 각 사이트의 주소를 키, 비밀번호를 값으로 하여 딕셔너리에 넣음\n",
    "\n",
    "3. 쿼리에 해당하는 비밀번호를 저장해두고 write로 한 번에 출력\n",
    "\"\"\""
   ]
  },
  {
   "cell_type": "markdown",
   "id": "4cff5f4e",
   "metadata": {},
   "source": [
    "# 내 답안"
   ]
  },
  {
   "cell_type": "code",
   "execution_count": 2,
   "id": "f0fbe287",
   "metadata": {},
   "outputs": [
    {
     "ename": "SyntaxError",
     "evalue": "invalid syntax (4273280845.py, line 5)",
     "output_type": "error",
     "traceback": [
      "\u001b[1;36m  File \u001b[1;32m\"C:\\Users\\najonggeun\\AppData\\Local\\Temp\\ipykernel_19844\\4273280845.py\"\u001b[1;36m, line \u001b[1;32m5\u001b[0m\n\u001b[1;33m    dic[site] = password for site, password in sys.stdin.readline()\u001b[0m\n\u001b[1;37m                           ^\u001b[0m\n\u001b[1;31mSyntaxError\u001b[0m\u001b[1;31m:\u001b[0m invalid syntax\n"
     ]
    }
   ],
   "source": [
    "from sys import stdin, stdout\n",
    "input = stdin.readline\n",
    "print = stdout.write\n",
    "n, m = map(int, input().split())\n",
    "dic = dict()\n",
    "result = \"\"\n",
    "for _ in range(n):\n",
    "    site, password = input().split()\n",
    "    dic[site] = password\n",
    "for _ in range(m):\n",
    "    result += dic[input().strip()] + \"\\n\"\n",
    "print(result[:-1])"
   ]
  },
  {
   "cell_type": "markdown",
   "id": "451a516c",
   "metadata": {},
   "source": [
    "# 풀이 후 생각"
   ]
  },
  {
   "cell_type": "code",
   "execution_count": null,
   "id": "24427161",
   "metadata": {},
   "outputs": [],
   "source": [
    "\"\"\"\n",
    "정답 판정은 받았지만 시간이 너무 오래 소요된다.\n",
    "\n",
    "입력을 한 번에 받아 보자.\n",
    "\"\"\""
   ]
  },
  {
   "cell_type": "markdown",
   "id": "f5654b27",
   "metadata": {},
   "source": [
    "# 내 답안(2)"
   ]
  },
  {
   "cell_type": "code",
   "execution_count": null,
   "id": "49236bcb",
   "metadata": {},
   "outputs": [],
   "source": [
    "from sys import stdin, stdout\n",
    "print = stdout.write\n",
    "\n",
    "n, m = map(int, input().split())\n",
    "inputs = stdin.read().splitlines()\n",
    "dic = dict()\n",
    "result = \"\"\n",
    "for i in range(n):\n",
    "    info = inputs[i].split()\n",
    "    dic[info[0]] = info[1]\n",
    "for i in range(n, n+m):\n",
    "    result += dic[inputs[i]] + \"\\n\"\n",
    "print(result[:-1])"
   ]
  },
  {
   "cell_type": "markdown",
   "id": "82fc75c5",
   "metadata": {},
   "source": [
    "# lif님의 답안 https://www.acmicpc.net/source/42772326"
   ]
  },
  {
   "cell_type": "code",
   "execution_count": null,
   "id": "f2e9f121",
   "metadata": {},
   "outputs": [],
   "source": [
    "from sys import stdin, stdout\n",
    "N, M = map(int, stdin.readline().split())\n",
    "L = {}\n",
    "for _ in range(N):\n",
    "    site = stdin.readline().strip().split()\n",
    "    L[site[0]] = site[1]\n",
    "for _ in range(M):\n",
    "    site = stdin.readline().strip()\n",
    "    stdout.write(L[site] + '\\n')"
   ]
  },
  {
   "cell_type": "markdown",
   "id": "783db62e",
   "metadata": {},
   "source": [
    "# 풀이 후 생각"
   ]
  },
  {
   "cell_type": "code",
   "execution_count": null,
   "id": "54701d9a",
   "metadata": {},
   "outputs": [],
   "source": [
    "\"\"\"\n",
    "wirte를 한번에 쓰는 게 아니라 매번 써줘야 빠르다.\n",
    "\"\"\""
   ]
  }
 ],
 "metadata": {
  "kernelspec": {
   "display_name": "Python 3 (ipykernel)",
   "language": "python",
   "name": "python3"
  },
  "language_info": {
   "codemirror_mode": {
    "name": "ipython",
    "version": 3
   },
   "file_extension": ".py",
   "mimetype": "text/x-python",
   "name": "python",
   "nbconvert_exporter": "python",
   "pygments_lexer": "ipython3",
   "version": "3.7.13"
  }
 },
 "nbformat": 4,
 "nbformat_minor": 5
}
