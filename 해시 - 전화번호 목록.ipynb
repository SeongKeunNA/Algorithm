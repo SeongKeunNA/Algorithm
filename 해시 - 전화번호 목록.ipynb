{
 "cells": [
  {
   "cell_type": "markdown",
   "id": "f8128360",
   "metadata": {},
   "source": [
    "# 코딩 전 생각"
   ]
  },
  {
   "cell_type": "code",
   "execution_count": null,
   "id": "79cad7c1",
   "metadata": {},
   "outputs": [],
   "source": [
    "\"\"\"\"\"\"\"\"\"\"\n",
    "1. dic 딕셔너리를 선언하고 키를 1부터 20까지로 한다.\n",
    "\n",
    "2. phone_book의 모든 전화번호를 그 길이의 맞는 dic 딕셔너리의 키의 값에 넣는다.\n",
    "\n",
    "3. for i in range(1, 20):\n",
    "    for a in dic[i]:\n",
    "        for j in range(i+1, 21):\n",
    "            for b in dic[j]:\n",
    "                if b.startswith(a):\n",
    "                    return False\n",
    "    return True\n",
    "\"\"\"\"\"\"\"\"\"\""
   ]
  },
  {
   "cell_type": "markdown",
   "id": "d267799b",
   "metadata": {},
   "source": [
    "# 내 답안"
   ]
  },
  {
   "cell_type": "code",
   "execution_count": 2,
   "id": "d580d76d",
   "metadata": {},
   "outputs": [
    {
     "data": {
      "text/plain": [
       "{1: [],\n",
       " 2: [],\n",
       " 3: [],\n",
       " 4: [],\n",
       " 5: [],\n",
       " 6: [],\n",
       " 7: [],\n",
       " 8: [],\n",
       " 9: [],\n",
       " 10: [],\n",
       " 11: [],\n",
       " 12: [],\n",
       " 13: [],\n",
       " 14: [],\n",
       " 15: [],\n",
       " 16: [],\n",
       " 17: [],\n",
       " 18: [],\n",
       " 19: [],\n",
       " 20: []}"
      ]
     },
     "execution_count": 2,
     "metadata": {},
     "output_type": "execute_result"
    }
   ],
   "source": [
    "def solution(phone_book):\n",
    "    dic = dict()\n",
    "    for i in range(1, 21):\n",
    "        dic[i] = []\n",
    "\n",
    "    for phone_number in phone_book:\n",
    "        dic[len(phone_number)].append(phone_number)\n",
    "\n",
    "    for i in range(1, 20):\n",
    "        for a in dic[i]:\n",
    "            for j in range(i+1, 21):\n",
    "                for b in dic[j]:\n",
    "                    if b.startswith(a):\n",
    "                        return False\n",
    "    return True"
   ]
  },
  {
   "cell_type": "markdown",
   "id": "2ca15935",
   "metadata": {},
   "source": [
    "# 답안 작성 후 생각"
   ]
  },
  {
   "cell_type": "code",
   "execution_count": null,
   "id": "63f0ce1b",
   "metadata": {},
   "outputs": [],
   "source": [
    "\"\"\"\"\"\"\"\"\"\"\n",
    "프로그래머스 채점 사이트에서 효율성 테스트 4번 말고는 모두 통과한다. 4중 for 문이 문제인 듯하다.\n",
    "\"\"\"\"\"\"\"\"\"\""
   ]
  },
  {
   "cell_type": "markdown",
   "id": "f03e408c",
   "metadata": {},
   "source": [
    "# 내 답안-2"
   ]
  },
  {
   "cell_type": "code",
   "execution_count": null,
   "id": "fa92aff3",
   "metadata": {},
   "outputs": [],
   "source": [
    "def bsearch(lst, start, end, target, idx):\n",
    "    while start <= end:\n",
    "        mid = (start + end) // 2\n",
    "        if lst[mid][:i] > target:\n",
    "            end = mid - 1\n",
    "        elif lst[mid][:] < target:\n",
    "            start = mid + 1\n",
    "        else:\n",
    "            return True\n",
    "    return False\n",
    "    \n",
    "\n",
    "\n",
    "def solution(phone_book):\n",
    "    dic = dict()\n",
    "    for i in range(1, 21):\n",
    "        dic[i] = []\n",
    "\n",
    "    for phone_number in phone_book:\n",
    "        dic[len(phone_number)].append(phone_number)\n",
    "        \n",
    "    for i in range(1, 21):\n",
    "        dic[i].sort()\n",
    "        \n",
    "\n",
    "    for i in range(1, 20):\n",
    "        for a in dic[i]:\n",
    "            for j in range(i+1, 21):\n",
    "                if bsearch(dic[j], 0, len(dic[j]) - 1, a, i):\n",
    "                    return False\n",
    "    return True"
   ]
  },
  {
   "cell_type": "markdown",
   "id": "739b5f6d",
   "metadata": {},
   "source": [
    "# 답안 작성 후 생각"
   ]
  },
  {
   "cell_type": "code",
   "execution_count": null,
   "id": "02155f29",
   "metadata": {},
   "outputs": [],
   "source": [
    "\"\"\"\"\"\"\"\"\"\"\n",
    "이진탐색 알고리즘을 활용해 해결했다.\n",
    "\"\"\"\"\"\"\"\"\"\""
   ]
  },
  {
   "cell_type": "markdown",
   "id": "d79738da",
   "metadata": {},
   "source": [
    "# Ryan , - , 지양호 , Dolpario , - 외 826 명의 답안"
   ]
  },
  {
   "cell_type": "code",
   "execution_count": null,
   "id": "fb93fc55",
   "metadata": {},
   "outputs": [],
   "source": [
    "def solution(phoneBook):\n",
    "    phoneBook = sorted(phoneBook)\n",
    "\n",
    "    for p1, p2 in zip(phoneBook, phoneBook[1:]):\n",
    "        if p2.startswith(p1):\n",
    "            return False\n",
    "    return True"
   ]
  },
  {
   "cell_type": "markdown",
   "id": "e9c41ab7",
   "metadata": {},
   "source": [
    "# 탈퇴한 사용자 , 김성식 , jisoo0427 , - , 유민규 외 212 명의 답안"
   ]
  },
  {
   "cell_type": "code",
   "execution_count": null,
   "id": "1f44a29a",
   "metadata": {},
   "outputs": [],
   "source": [
    "def solution(phone_book):\n",
    "    answer = True\n",
    "    hash_map = {}\n",
    "    for phone_number in phone_book:\n",
    "        hash_map[phone_number] = 1\n",
    "    for phone_number in phone_book:\n",
    "        temp = \"\"\n",
    "        for number in phone_number:\n",
    "            temp += number\n",
    "            if temp in hash_map and temp != phone_number:\n",
    "                answer = False\n",
    "    return answer"
   ]
  },
  {
   "cell_type": "markdown",
   "id": "404a7d87",
   "metadata": {},
   "source": [
    "# 정답 확인 후 생각"
   ]
  },
  {
   "cell_type": "code",
   "execution_count": null,
   "id": "af2b4d8f",
   "metadata": {},
   "outputs": [],
   "source": [
    "\"\"\"\"\"\"\"\"\"\"\n",
    "1. sort()와 zip() 이용해 인접한 하나의 값만 각각 비교할 수 있다.\n",
    "\n",
    "2. 딕셔너리에서 키로 전화번호 자체를 사용할 수 있다.\n",
    "\"\"\"\"\"\"\"\"\"\""
   ]
  }
 ],
 "metadata": {
  "kernelspec": {
   "display_name": "Python 3 (ipykernel)",
   "language": "python",
   "name": "python3"
  },
  "language_info": {
   "codemirror_mode": {
    "name": "ipython",
    "version": 3
   },
   "file_extension": ".py",
   "mimetype": "text/x-python",
   "name": "python",
   "nbconvert_exporter": "python",
   "pygments_lexer": "ipython3",
   "version": "3.7.13"
  }
 },
 "nbformat": 4,
 "nbformat_minor": 5
}
