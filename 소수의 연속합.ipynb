{
 "cells": [
  {
   "cell_type": "markdown",
   "id": "7e311b95",
   "metadata": {},
   "source": [
    "# 코딩 전 생각"
   ]
  },
  {
   "cell_type": "code",
   "execution_count": null,
   "id": "0562d64b",
   "metadata": {},
   "outputs": [],
   "source": [
    "\"\"\"\"\"\"\"\"\"\"\n",
    "1. 주어진 수까지의 소수를 에라토스테네스의 체로 모두 구한다.\n",
    "\n",
    "2. 투포인터를 이용해 답을 구한다.\n",
    "\"\"\"\"\"\"\"\"\"\""
   ]
  },
  {
   "cell_type": "markdown",
   "id": "e2a9fa62",
   "metadata": {},
   "source": [
    "# 내 답안"
   ]
  },
  {
   "cell_type": "code",
   "execution_count": null,
   "id": "97674517",
   "metadata": {},
   "outputs": [],
   "source": [
    "n = int(input())\n",
    "a = [1] * (n + 1)\n",
    "\n",
    "for i in range(2, int(n**(1/2)) + 1):\n",
    "    if a[i] == 1:\n",
    "        j = 2\n",
    "        while i * j <= n:\n",
    "            a[i * j] = 0\n",
    "            j += 1\n",
    "            \n",
    "prime_nums = [i for i in range(2, n+1) if a[i] == 1]\n",
    "L = len(prime_nums)\n",
    "end = 0\n",
    "interval_sum = 0\n",
    "count = 0\n",
    "\n",
    "for start in range(L):\n",
    "    while interval_sum < n and end < L:\n",
    "        interval_sum += prime_nums[end]\n",
    "        end += 1\n",
    "    if interval_sum == n:\n",
    "        count += 1\n",
    "    interval_sum -= prime_nums[start]\n",
    "\n",
    "print(count)"
   ]
  }
 ],
 "metadata": {
  "kernelspec": {
   "display_name": "Python 3 (ipykernel)",
   "language": "python",
   "name": "python3"
  },
  "language_info": {
   "codemirror_mode": {
    "name": "ipython",
    "version": 3
   },
   "file_extension": ".py",
   "mimetype": "text/x-python",
   "name": "python",
   "nbconvert_exporter": "python",
   "pygments_lexer": "ipython3",
   "version": "3.7.13"
  }
 },
 "nbformat": 4,
 "nbformat_minor": 5
}
