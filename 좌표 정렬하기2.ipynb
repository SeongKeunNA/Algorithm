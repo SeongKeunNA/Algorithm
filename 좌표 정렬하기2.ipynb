{
 "cells": [
  {
   "cell_type": "markdown",
   "id": "75cc9ae6",
   "metadata": {},
   "source": [
    "# 코딩 전 생각"
   ]
  },
  {
   "cell_type": "code",
   "execution_count": null,
   "id": "13ba75d4",
   "metadata": {},
   "outputs": [],
   "source": [
    "\"\"\"\"\"\"\"\"\"\"\n",
    "주어진 요구사항대로 정렬한다.\n",
    "\"\"\"\"\"\"\"\"\"\""
   ]
  },
  {
   "cell_type": "markdown",
   "id": "3a6703d7",
   "metadata": {},
   "source": [
    "# 내 답안"
   ]
  },
  {
   "cell_type": "code",
   "execution_count": null,
   "id": "b7958d97",
   "metadata": {},
   "outputs": [],
   "source": [
    "from sys import stdin, stdout\n",
    "input, print = stdin.readline, stdout.write\n",
    "dic = {}\n",
    "for _ in range(int(input())):\n",
    "    a, b = map(int, input().split())\n",
    "    if b in dic.keys():\n",
    "        dic[b].append(a)\n",
    "    else:\n",
    "        dic[b] = [a]\n",
    "for key in sorted(dic):\n",
    "    for value in sorted(dic[key]):\n",
    "        print(str(value) + ' ' + str(key) + '\\n')"
   ]
  }
 ],
 "metadata": {
  "kernelspec": {
   "display_name": "Python 3 (ipykernel)",
   "language": "python",
   "name": "python3"
  },
  "language_info": {
   "codemirror_mode": {
    "name": "ipython",
    "version": 3
   },
   "file_extension": ".py",
   "mimetype": "text/x-python",
   "name": "python",
   "nbconvert_exporter": "python",
   "pygments_lexer": "ipython3",
   "version": "3.7.13"
  }
 },
 "nbformat": 4,
 "nbformat_minor": 5
}
