{
 "cells": [
  {
   "cell_type": "markdown",
   "id": "be2ac068",
   "metadata": {},
   "source": [
    "# 풀이 전 생각"
   ]
  },
  {
   "cell_type": "code",
   "execution_count": null,
   "id": "8c8e0e01",
   "metadata": {},
   "outputs": [],
   "source": [
    "\"\"\"\n",
    "DFS를 이용해 해결한다.\n",
    "\n",
    "1) 그래프를 선언하고 컴퓨터의 연결 정보를 담는다.\n",
    "\n",
    "2) 1번부터 시작해서 연결된 모든 컴퓨터에 대해 재귀를 진행하고 count에 1을 추가한다.\n",
    "\n",
    "3) count를 출력한다.\n",
    "\"\"\""
   ]
  },
  {
   "cell_type": "markdown",
   "id": "096dbe7e",
   "metadata": {},
   "source": [
    "# 내 답안"
   ]
  },
  {
   "cell_type": "code",
   "execution_count": 23,
   "id": "55a0fccf",
   "metadata": {},
   "outputs": [
    {
     "name": "stdout",
     "output_type": "stream",
     "text": [
      "7\n",
      "6\n",
      "1 2\n",
      "2 3\n",
      "1 5\n",
      "5 2\n",
      "5 6\n",
      "4 7\n",
      "4\n"
     ]
    }
   ],
   "source": [
    "from sys import stdin\n",
    "n = int(input())\n",
    "m = int(input())\n",
    "graph = [[] for _ in range(n+1)]\n",
    "for _ in range(m):\n",
    "    a, b = map(int, stdin.readline().strip().split())\n",
    "    graph[a].append(b)\n",
    "    graph[b].append(a)\n",
    "visited = [0] * (n+1)\n",
    "visited[1] = 1\n",
    "\n",
    "def dfs(k):\n",
    "    for i in graph[k]:\n",
    "        if visited[i] == 0:\n",
    "            visited[i] = 1\n",
    "            dfs(i)       \n",
    "dfs(1)\n",
    "print(sum(visited)-1)"
   ]
  },
  {
   "cell_type": "markdown",
   "id": "c1e6d2bd",
   "metadata": {},
   "source": [
    "# 풀이 후 생각"
   ]
  },
  {
   "cell_type": "code",
   "execution_count": null,
   "id": "aa8572c7",
   "metadata": {},
   "outputs": [],
   "source": [
    "\"\"\"\n",
    "1. a, b를 받을 때 for a, b in map(int, input().split())으로 바로 받으면 안 되고, a, b = map(int,input().split())으로 받아야 한다.\n",
    "\n",
    "2. dfs 함수를 저렇게 선언했으면 dfs(1)만 입력하면 되는데 for i in graph[1]: dfs(i)로 하는 바람에 \n",
    "오답 처리가 계속되고 문제를 파악하는 데 시간이 오래 걸렸다.\n",
    "\"\"\""
   ]
  }
 ],
 "metadata": {
  "kernelspec": {
   "display_name": "Python 3 (ipykernel)",
   "language": "python",
   "name": "python3"
  },
  "language_info": {
   "codemirror_mode": {
    "name": "ipython",
    "version": 3
   },
   "file_extension": ".py",
   "mimetype": "text/x-python",
   "name": "python",
   "nbconvert_exporter": "python",
   "pygments_lexer": "ipython3",
   "version": "3.7.13"
  }
 },
 "nbformat": 4,
 "nbformat_minor": 5
}
