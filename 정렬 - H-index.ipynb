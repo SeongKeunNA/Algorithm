{
 "cells": [
  {
   "cell_type": "markdown",
   "id": "b8720752",
   "metadata": {},
   "source": [
    "# 코딩 전 생각"
   ]
  },
  {
   "cell_type": "code",
   "execution_count": null,
   "id": "6d5b8c56",
   "metadata": {},
   "outputs": [],
   "source": [
    "\"\"\"\"\"\"\"\"\"\"\n",
    "1. citations 리스트를 정렬한다.\n",
    "\n",
    "2. 이진탐색을 활용해 mid 인덱스 값이 len(citations) - mid보다 같거나 작다면\n",
    "answer를 mid 인덱스 값으로 하고, 뒷쪽을 탐색한다.\n",
    "만약 mid 인덱스 값이 len(citations) - mid보다 크다면 왼쪽을 탐색한다.\n",
    "\"\"\"\"\"\"\"\"\"\""
   ]
  },
  {
   "cell_type": "markdown",
   "id": "7c199e24",
   "metadata": {},
   "source": [
    "# 내 답안"
   ]
  },
  {
   "cell_type": "code",
   "execution_count": null,
   "id": "583c5f7e",
   "metadata": {},
   "outputs": [],
   "source": [
    "def solution(citations):\n",
    "    L = len(citations)\n",
    "    answer = L\n",
    "    citations.sort()\n",
    "    start = 0\n",
    "    end = L - 1\n",
    "    while start <= end:\n",
    "        mid = (start + end) // 2\n",
    "        if citations[mid] <= L - mid:\n",
    "            if mid == L - 1 or citations[mid + 1] > L - mid - 1:\n",
    "                return max(citations[mid], L - mid - 1)\n",
    "            start = mid + 1\n",
    "        else:\n",
    "            end = mid - 1\n",
    "    return answer"
   ]
  },
  {
   "cell_type": "markdown",
   "id": "b6d5fbe0",
   "metadata": {},
   "source": [
    "# 탈퇴한 사용자 , - , 한진욱 , - , - 외 174 명의 답안"
   ]
  },
  {
   "cell_type": "code",
   "execution_count": null,
   "id": "0ecd77c1",
   "metadata": {},
   "outputs": [],
   "source": [
    "def solution(citations):\n",
    "    citations = sorted(citations)\n",
    "    l = len(citations)\n",
    "    for i in range(l):\n",
    "        if citations[i] >= l-i:\n",
    "            return l-i\n",
    "    return 0"
   ]
  },
  {
   "cell_type": "markdown",
   "id": "95db7b61",
   "metadata": {},
   "source": [
    "# - , 김성근 , - , 하윤아빠 , MyungHoon-Jin 외 173 명의 답안"
   ]
  },
  {
   "cell_type": "code",
   "execution_count": null,
   "id": "634cfd93",
   "metadata": {},
   "outputs": [],
   "source": [
    "def solution(citations):\n",
    "    citations.sort(reverse=True)\n",
    "    answer = max(map(min, enumerate(citations, start=1)))\n",
    "    return answer"
   ]
  },
  {
   "cell_type": "markdown",
   "id": "8c2092ca",
   "metadata": {},
   "source": [
    "# 정답 확인 후 생각"
   ]
  },
  {
   "cell_type": "code",
   "execution_count": null,
   "id": "9fca8664",
   "metadata": {},
   "outputs": [],
   "source": [
    "\"\"\"\"\"\"\"\"\"\"\"\"\n",
    "굳이 이진 탐색을 사용하지 않아도 되며, emumerate와 max를 이용해 세 줄로도 풀이가 가능하다.\n",
    "\"\"\"\"\"\"\"\"\"\"\"\""
   ]
  }
 ],
 "metadata": {
  "kernelspec": {
   "display_name": "Python 3 (ipykernel)",
   "language": "python",
   "name": "python3"
  },
  "language_info": {
   "codemirror_mode": {
    "name": "ipython",
    "version": 3
   },
   "file_extension": ".py",
   "mimetype": "text/x-python",
   "name": "python",
   "nbconvert_exporter": "python",
   "pygments_lexer": "ipython3",
   "version": "3.7.13"
  }
 },
 "nbformat": 4,
 "nbformat_minor": 5
}
