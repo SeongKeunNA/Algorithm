{
 "cells": [
  {
   "cell_type": "markdown",
   "id": "39cac751",
   "metadata": {},
   "source": [
    "# 코딩 전 생각"
   ]
  },
  {
   "cell_type": "code",
   "execution_count": null,
   "id": "c89c52af",
   "metadata": {},
   "outputs": [],
   "source": [
    "\"\"\"\"\"\"\"\"\"\"\n",
    "다이나믹 프로그래밍 기법을 이용한다.\n",
    "\n",
    "1. n+1개의 -1 원소를 갖는 리스트 d 선언\n",
    "\n",
    "2. 설탕 0g을 배달하는 데 봉지 0개가 필요하므로 d[0] = 0\n",
    "\n",
    "3. 3부터 n까지 반복해(i), d[i] = min(d[i-3], d[i-5]) + 1이고  이때 d[i-3], d[i-5]는 0이상이어야 한다.\n",
    "\"\"\"\"\"\"\"\"\"\""
   ]
  },
  {
   "cell_type": "markdown",
   "id": "98ae3018",
   "metadata": {},
   "source": [
    "# 내 답안"
   ]
  },
  {
   "cell_type": "code",
   "execution_count": 11,
   "id": "bd7c38eb",
   "metadata": {},
   "outputs": [
    {
     "name": "stdout",
     "output_type": "stream",
     "text": [
      "11\n",
      "3\n"
     ]
    }
   ],
   "source": [
    "n = int(input())\n",
    "d = [-1] * (n + 1)\n",
    "d[0], d[3] = 0, 1\n",
    "for i in range(5, n+1):\n",
    "    possible = [p for p in (d[i-3], d[i-5]) if p >= 0]\n",
    "    d[i] = -1 if not possible else min(possible) + 1\n",
    "print(d[n])   "
   ]
  }
 ],
 "metadata": {
  "kernelspec": {
   "display_name": "Python 3 (ipykernel)",
   "language": "python",
   "name": "python3"
  },
  "language_info": {
   "codemirror_mode": {
    "name": "ipython",
    "version": 3
   },
   "file_extension": ".py",
   "mimetype": "text/x-python",
   "name": "python",
   "nbconvert_exporter": "python",
   "pygments_lexer": "ipython3",
   "version": "3.7.13"
  }
 },
 "nbformat": 4,
 "nbformat_minor": 5
}
