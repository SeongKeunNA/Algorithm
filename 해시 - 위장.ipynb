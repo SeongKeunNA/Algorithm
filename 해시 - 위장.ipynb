{
 "cells": [
  {
   "cell_type": "markdown",
   "id": "d09bbcd8",
   "metadata": {},
   "source": [
    "# 코딩 전 생각"
   ]
  },
  {
   "cell_type": "code",
   "execution_count": null,
   "id": "d7b524ab",
   "metadata": {},
   "outputs": [],
   "source": [
    "\"\"\"\"\"\"\"\"\"\"\"\n",
    "1. dic 딕셔너리를 선언하고 의상의 종류를 키로 하여 종류별로 정리한다.(개수 count)\n",
    "\n",
    "2. 1에 dic.values()의 원소를 하나씩 모두 곱한 결과 - 1(모든 의상을 착용하지 않은 경우의 수 빼기) 반환\n",
    "\"\"\"\"\"\"\"\"\"\"\""
   ]
  },
  {
   "cell_type": "markdown",
   "id": "e7395a6b",
   "metadata": {},
   "source": [
    "# 내 답안"
   ]
  },
  {
   "cell_type": "code",
   "execution_count": null,
   "id": "f384d591",
   "metadata": {},
   "outputs": [],
   "source": [
    "def solution(clothes):\n",
    "    answer = 1\n",
    "    dic = dict()\n",
    "    for cloth_name, cloth_type in clothes:\n",
    "        if cloth_type in dic.keys():\n",
    "            dic[cloth_type] += 1\n",
    "        else:\n",
    "            dic[cloth_type] = 1\n",
    "    for i in dic.values():\n",
    "        answer *= (i + 1)\n",
    "    return answer - 1"
   ]
  }
 ],
 "metadata": {
  "kernelspec": {
   "display_name": "Python 3 (ipykernel)",
   "language": "python",
   "name": "python3"
  },
  "language_info": {
   "codemirror_mode": {
    "name": "ipython",
    "version": 3
   },
   "file_extension": ".py",
   "mimetype": "text/x-python",
   "name": "python",
   "nbconvert_exporter": "python",
   "pygments_lexer": "ipython3",
   "version": "3.7.13"
  }
 },
 "nbformat": 4,
 "nbformat_minor": 5
}
