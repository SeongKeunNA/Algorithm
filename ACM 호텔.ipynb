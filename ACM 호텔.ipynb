{
 "cells": [
  {
   "cell_type": "markdown",
   "id": "55f2be32",
   "metadata": {},
   "source": [
    "# 코딩 전 생각"
   ]
  },
  {
   "cell_type": "code",
   "execution_count": null,
   "id": "3a76350e",
   "metadata": {},
   "outputs": [],
   "source": [
    "\"\"\"\"\"\"\"\"\"\"\n",
    "1. 데이터를 입력 받음.\n",
    "\n",
    "2. n을 h로 나눈 몫+1이 호실 번호이고, 그 나머지가 층수이다. 이때 호수가 10보다 작다면 n이 아닌 0n의 형태로 출력한다.\n",
    "\"\"\"\"\"\"\"\"\"\""
   ]
  },
  {
   "cell_type": "markdown",
   "id": "64ae5177",
   "metadata": {},
   "source": [
    "# 내 답안"
   ]
  },
  {
   "cell_type": "code",
   "execution_count": 48,
   "id": "7e42e7f1",
   "metadata": {},
   "outputs": [
    {
     "name": "stdout",
     "output_type": "stream",
     "text": [
      "1\n",
      "20 20 40\n",
      "003\n"
     ]
    }
   ],
   "source": [
    "for t in range(int(input())):\n",
    "    h, w, n = map(int, input().split())\n",
    "    floor, num = 0, 0\n",
    "    if n == h * w:\n",
    "        floor = str(h)\n",
    "        num = str(w) if w >= 10 else '0'+ str(w)\n",
    "        \n",
    "    elif h == 1:\n",
    "        floor = '1'\n",
    "        num = str(n) if n >= 10 else '0' + str(n) \n",
    "        \n",
    "    else:\n",
    "        floor = str(n%h)\n",
    "        num = str(n//h+1) if n//h+1 >= 10 else '0' + str(n//h+1)\n",
    "    print(floor+num)"
   ]
  },
  {
   "cell_type": "markdown",
   "id": "60d44075",
   "metadata": {},
   "source": [
    "# 내 답안(2)"
   ]
  },
  {
   "cell_type": "code",
   "execution_count": 50,
   "id": "2e24eb87",
   "metadata": {},
   "outputs": [
    {
     "name": "stdout",
     "output_type": "stream",
     "text": [
      "2\n",
      "6 12 10\n",
      "402\n",
      "30 50 72\n",
      "1203\n"
     ]
    }
   ],
   "source": [
    "for t in range(int(input())):\n",
    "    h, w, n = map(int, input().split())\n",
    "    floor, num = 0, 0\n",
    "    \n",
    "    if n % h == 0:\n",
    "        floor = str(h)\n",
    "        num = str(n//h) if n//h >= 10 else '0' + str(n//h)\n",
    "    \n",
    "    else: #2, 6, 11\n",
    "        floor = str(n%h)\n",
    "        num = str(n//h+1) if n//h+1 >= 10 else '0' + str(n//h+1)\n",
    "    print(floor+num)"
   ]
  },
  {
   "cell_type": "markdown",
   "id": "67478974",
   "metadata": {},
   "source": [
    "# ggh2260님의 답안"
   ]
  },
  {
   "cell_type": "code",
   "execution_count": null,
   "id": "146b8a23",
   "metadata": {},
   "outputs": [],
   "source": [
    "from sys import stdin\n",
    "\n",
    "T = int(stdin.readline())\n",
    "\n",
    "for i in range(T) :\n",
    "    H, W, N = map(int, stdin.readline().split(' '))\n",
    "\n",
    "    user_H = N % H    # 층\n",
    "    user_W = ((N - 1) // H) + 1   # 호실\n",
    "    \n",
    "    if N % H == 0 :\n",
    "        user_H = H\n",
    "\n",
    "    result = str(user_H)\n",
    "    \n",
    "\n",
    "    if user_W < 10 :\n",
    "        result = result + '0' + str(user_W)\n",
    "    else :\n",
    "        result = result + str(user_W)\n",
    "        \n",
    "    print(result)"
   ]
  },
  {
   "cell_type": "markdown",
   "id": "a33967f3",
   "metadata": {},
   "source": [
    "# 정답 확인 후 생각"
   ]
  },
  {
   "cell_type": "code",
   "execution_count": null,
   "id": "e6d9254e",
   "metadata": {},
   "outputs": [],
   "source": [
    "\"\"\"\"\"\"\"\"\"\"\"\n",
    "호실을 ((N - 1) // H) + 1이라고 하면 간편하다.\n",
    "\"\"\"\"\"\"\"\"\"\"\""
   ]
  }
 ],
 "metadata": {
  "kernelspec": {
   "display_name": "Python 3 (ipykernel)",
   "language": "python",
   "name": "python3"
  },
  "language_info": {
   "codemirror_mode": {
    "name": "ipython",
    "version": 3
   },
   "file_extension": ".py",
   "mimetype": "text/x-python",
   "name": "python",
   "nbconvert_exporter": "python",
   "pygments_lexer": "ipython3",
   "version": "3.7.13"
  }
 },
 "nbformat": 4,
 "nbformat_minor": 5
}
