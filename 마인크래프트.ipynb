{
 "cells": [
  {
   "cell_type": "markdown",
   "id": "b938ccfa",
   "metadata": {},
   "source": [
    "# 코딩 전 생각"
   ]
  },
  {
   "cell_type": "code",
   "execution_count": null,
   "id": "357df4ba",
   "metadata": {},
   "outputs": [],
   "source": [
    "\"\"\"\"\"\"\"\"\"\"\n",
    "땅의 높이의 최솟값과 최댓값 사이의 높이들에 대해 백트래킹한다.\n",
    "\n",
    "매번 땅을 다 다진 경우 다지기의 최소시간을 갱신하고,\n",
    "\n",
    "백트랙킹시 이 최소시간을 경과한 경우나 블록이 부족한 경우 그 높이에 대해서는 더 이상 과정을 진행하지 않는다. \n",
    "\"\"\"\"\"\"\"\"\"\""
   ]
  },
  {
   "cell_type": "markdown",
   "id": "471832c3",
   "metadata": {},
   "source": [
    "# 내 답안(1)"
   ]
  },
  {
   "cell_type": "code",
   "execution_count": null,
   "id": "580f2d43",
   "metadata": {},
   "outputs": [],
   "source": [
    "from sys import stdin\n",
    "input = stdin.readline\n",
    "n, m, b = map(int, input().split())\n",
    "min_height, max_height = 257, -1\n",
    "graph = []\n",
    "\n",
    "for _ in range(n):\n",
    "    heights = list(map(int, input().split()))\n",
    "    for i in range(m):\n",
    "        if heights[i] < min_height:\n",
    "            min_height = heights[i]\n",
    "        if heights[i] > max_height:\n",
    "            max_height = heights[i]\n",
    "    graph.append(heights)\n",
    "    \n",
    "def leven_ground(h):\n",
    "    global min_time, height\n",
    "    time = 0\n",
    "    block = b\n",
    "    for i in range(n):\n",
    "        for j in range(m):\n",
    "            if graph[i][j] > h:\n",
    "                diff = (graph[i][j] - h)\n",
    "                block += diff\n",
    "                time += 2 * diff\n",
    "                \n",
    "            elif graph[i][j] < h:\n",
    "                diff = (h - graph[i][j])\n",
    "                if diff > block:\n",
    "                    return \n",
    "                block -= diff\n",
    "                time += (h - graph[i][j])\n",
    "                \n",
    "            if time > min_time:\n",
    "                return \n",
    "            \n",
    "    min_time = time\n",
    "    height = h\n",
    "    \n",
    "min_time = int(1e9)\n",
    "height = 0\n",
    "for h in range(min_height, max_height + 1):\n",
    "    leven_ground(h)\n",
    "print(min_time, height)"
   ]
  },
  {
   "cell_type": "markdown",
   "id": "4b396fc0",
   "metadata": {},
   "source": [
    "# 내 답안(2)"
   ]
  },
  {
   "cell_type": "code",
   "execution_count": 20,
   "id": "8e0f241f",
   "metadata": {},
   "outputs": [
    {
     "ename": "ValueError",
     "evalue": "not enough values to unpack (expected 3, got 0)",
     "output_type": "error",
     "traceback": [
      "\u001b[1;31m---------------------------------------------------------------------------\u001b[0m",
      "\u001b[1;31mValueError\u001b[0m                                Traceback (most recent call last)",
      "\u001b[1;32m~\\AppData\\Local\\Temp\\ipykernel_22788\\4244598907.py\u001b[0m in \u001b[0;36m<module>\u001b[1;34m\u001b[0m\n\u001b[0;32m      1\u001b[0m \u001b[1;32mfrom\u001b[0m \u001b[0msys\u001b[0m \u001b[1;32mimport\u001b[0m \u001b[0mstdin\u001b[0m\u001b[1;33m\u001b[0m\u001b[1;33m\u001b[0m\u001b[0m\n\u001b[0;32m      2\u001b[0m \u001b[0minput\u001b[0m \u001b[1;33m=\u001b[0m \u001b[0mstdin\u001b[0m\u001b[1;33m.\u001b[0m\u001b[0mreadline\u001b[0m\u001b[1;33m\u001b[0m\u001b[1;33m\u001b[0m\u001b[0m\n\u001b[1;32m----> 3\u001b[1;33m \u001b[0mn\u001b[0m\u001b[1;33m,\u001b[0m \u001b[0mm\u001b[0m\u001b[1;33m,\u001b[0m \u001b[0mb\u001b[0m \u001b[1;33m=\u001b[0m \u001b[0mmap\u001b[0m\u001b[1;33m(\u001b[0m\u001b[0mint\u001b[0m\u001b[1;33m,\u001b[0m \u001b[0minput\u001b[0m\u001b[1;33m(\u001b[0m\u001b[1;33m)\u001b[0m\u001b[1;33m.\u001b[0m\u001b[0msplit\u001b[0m\u001b[1;33m(\u001b[0m\u001b[1;33m)\u001b[0m\u001b[1;33m)\u001b[0m\u001b[1;33m\u001b[0m\u001b[1;33m\u001b[0m\u001b[0m\n\u001b[0m\u001b[0;32m      4\u001b[0m \u001b[0mmin_height\u001b[0m\u001b[1;33m,\u001b[0m \u001b[0mmax_height\u001b[0m \u001b[1;33m=\u001b[0m \u001b[1;36m257\u001b[0m\u001b[1;33m,\u001b[0m \u001b[1;33m-\u001b[0m\u001b[1;36m1\u001b[0m\u001b[1;33m\u001b[0m\u001b[1;33m\u001b[0m\u001b[0m\n\u001b[0;32m      5\u001b[0m \u001b[0mground\u001b[0m \u001b[1;33m=\u001b[0m \u001b[1;33m[\u001b[0m\u001b[1;33m]\u001b[0m\u001b[1;33m\u001b[0m\u001b[1;33m\u001b[0m\u001b[0m\n",
      "\u001b[1;31mValueError\u001b[0m: not enough values to unpack (expected 3, got 0)"
     ]
    }
   ],
   "source": [
    "from sys import stdin\n",
    "input = stdin.readline\n",
    "n, m, b = map(int, input().split())\n",
    "min_height, max_height = 257, -1\n",
    "ground = []\n",
    "\n",
    "for _ in range(n):\n",
    "    heights = list(map(int, input().split()))\n",
    "    minh = min(heights)\n",
    "    maxh = max(heights)\n",
    "    if minh < min_height:\n",
    "        min_height = minh\n",
    "    if maxh > max_height:\n",
    "        max_height = maxh\n",
    "    ground.extend(heights)\n",
    "    \n",
    "def leven_ground(h):\n",
    "    global min_time, height, ck\n",
    "    time = 0\n",
    "    block = b\n",
    "    for i in range(n*m):\n",
    "        if ground[i] > h:\n",
    "            diff = (ground[i] - h)\n",
    "            block += diff\n",
    "            time += 2 * diff\n",
    "\n",
    "        elif ground[i] < h:\n",
    "            diff = (h - ground[i])\n",
    "            if diff > block:\n",
    "                ck = 1\n",
    "                return \n",
    "            block -= diff\n",
    "            time += diff\n",
    "\n",
    "        if time > min_time:\n",
    "            return \n",
    "    min_time = time\n",
    "    height = h\n",
    "    \n",
    "ground.sort(reverse = True)\n",
    "min_time = int(1e9)\n",
    "height = 0\n",
    "ck = 0\n",
    "\n",
    "for h in range(min_height, max_height + 1):\n",
    "    leven_ground(h)\n",
    "    if ck == 1:\n",
    "        break\n",
    "print(min_time, height)"
   ]
  },
  {
   "cell_type": "markdown",
   "id": "3cbdf0c9",
   "metadata": {},
   "source": [
    "# 답안 작성 후 생각"
   ]
  },
  {
   "cell_type": "code",
   "execution_count": null,
   "id": "780b3b76",
   "metadata": {},
   "outputs": [],
   "source": [
    "\"\"\"\"\"\"\"\"\"\"\n",
    "틀리는 반례를 찾아서 (2 2 35/ 20 10/190 40) print문으로 매 높이마다 시간을 출력해보았다.\n",
    "\n",
    "내 기존 코드의 경우 ground에서 원하는 순서대로 땅을 파거나 올릴 수 있다는 사실을 간과해서\n",
    "\n",
    "더욱 높은 높이에 도전할 수 있는데도 블록이 부족해 루프가 더 이상 진행되지 않는 문제점이 있었다.\n",
    "\n",
    "또한 ground를 굳이 2차원 배열로 지정할 필요가 없어서 1차원으로 지정했다.\n",
    "\"\"\"\"\"\"\"\"\"\""
   ]
  },
  {
   "cell_type": "markdown",
   "id": "3dec42bf",
   "metadata": {},
   "source": [
    "# lambda님의 답안 https://www.acmicpc.net/source/39849478"
   ]
  },
  {
   "cell_type": "code",
   "execution_count": null,
   "id": "ab0726c7",
   "metadata": {},
   "outputs": [],
   "source": [
    "import sys\n",
    "from math import *\n",
    "input=sys.stdin.readline\n",
    "def sol():\n",
    "    n,m,b=map(int,input().split())\n",
    "    data=[0]*257 # 각 높이의 블락이 몇 개 있는지 배열에 담음\n",
    "    for _ in range(n):\n",
    "        for i in map(int,input().split()):\n",
    "            data[i]+=1\n",
    "    have=sum(i*data[i] for i in range(257)) # 총 블락의 개수를 담음\n",
    "    ans=(have*2,0)\n",
    "    need=0\n",
    "    t=data[0]\n",
    "    nm=n*m\n",
    "    for i in range(1,257):\n",
    "        need+=t\n",
    "        have-=nm-t\n",
    "        t+=data[i]\n",
    "        if have+b-need<0:\n",
    "            break\n",
    "        else:\n",
    "            ans=min((have*2+need,-i),ans)\n",
    "    print(ans[0],-ans[1])\n",
    "sol()"
   ]
  },
  {
   "cell_type": "markdown",
   "id": "38f7b786",
   "metadata": {},
   "source": [
    "# 정답 확인 후 생각"
   ]
  },
  {
   "cell_type": "code",
   "execution_count": null,
   "id": "52ce2459",
   "metadata": {},
   "outputs": [],
   "source": [
    "# 0 2 1 1(1 1 2 3)\n",
    "nm = 4\n",
    "t = 0 # 현재 확인하는 높이보다 작거나 같은 블록의 개수\n",
    "need = 0 # 필요한(올릴) 블락의 개수(누적t)\n",
    "have = 6 - 4 = 2  # 내릴 블락의 개수 (현재 존재하는 모든 블락을 제거하는데, 모든 땅의 개수nm만큼은 빼놓는다. 하지만 t만큼은 그대로 뺸다.)\n",
    "\n",
    "# 2 1 1 1\n",
    "nm = 4\n",
    "t = 2\n",
    "need = 2\n",
    "have = 6-2=4"
   ]
  }
 ],
 "metadata": {
  "kernelspec": {
   "display_name": "Python 3 (ipykernel)",
   "language": "python",
   "name": "python3"
  },
  "language_info": {
   "codemirror_mode": {
    "name": "ipython",
    "version": 3
   },
   "file_extension": ".py",
   "mimetype": "text/x-python",
   "name": "python",
   "nbconvert_exporter": "python",
   "pygments_lexer": "ipython3",
   "version": "3.7.13"
  }
 },
 "nbformat": 4,
 "nbformat_minor": 5
}
