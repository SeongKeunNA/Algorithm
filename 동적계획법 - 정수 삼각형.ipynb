{
 "cells": [
  {
   "cell_type": "markdown",
   "id": "a24fb014",
   "metadata": {},
   "source": [
    "# 코딩 전 생각"
   ]
  },
  {
   "cell_type": "code",
   "execution_count": null,
   "id": "d0c7f66d",
   "metadata": {},
   "outputs": [],
   "source": [
    "\"\"\"\"\"\"\"\"\"\"\n",
    "d1 = t1\n",
    "d2 = [d1[0] + t2[0], d1[0] + t2[1]]\n",
    "d3 = [d2[0] + max(t3[0], t3[1]), max(d2[0], d2[1]) + t3[1], d2[1] + t3[2]]\n",
    "...\n",
    "\n",
    "즉, d0 = t0이고 dij = max(di-1j-1, d-1j) + tij (i>=1, 0 < j < i)이며\n",
    "j = 0일때는 dij = di-1j+tij이고 j = i일때는 dij = di-1j-1+tij이다.\n",
    "\"\"\"\"\"\"\"\"\"\""
   ]
  },
  {
   "cell_type": "markdown",
   "id": "ed5cd334",
   "metadata": {},
   "source": [
    "# 내 답안"
   ]
  },
  {
   "cell_type": "code",
   "execution_count": null,
   "id": "2e0d6811",
   "metadata": {},
   "outputs": [],
   "source": [
    "def solution(triangle):\n",
    "    L = len(triangle)\n",
    "    d = [[0] * i for i in range(1, L + 1)]\n",
    "    d[0] = triangle[0]\n",
    "    for i in range(1, L):\n",
    "        for j in range(i + 1):\n",
    "            if j == 0:\n",
    "                pre = d[i-1][j]\n",
    "            elif j == i:\n",
    "                pre = d[i-1][j-1]\n",
    "            else:\n",
    "                pre = max(d[i-1][j-1], d[i-1][j])\n",
    "            d[i][j] = pre + triangle[i][j]\n",
    "    return max(d[L-1])"
   ]
  },
  {
   "cell_type": "markdown",
   "id": "7e19f45d",
   "metadata": {},
   "source": [
    "# 안대찬 , 탈퇴한 사용자 , 강민구 , 배형근님의 답안"
   ]
  },
  {
   "cell_type": "code",
   "execution_count": null,
   "id": "b51a35ec",
   "metadata": {},
   "outputs": [],
   "source": [
    "solution = lambda t, l = []: max(l) if not t else solution(t[1:], [max(x,y)+z for x,y,z in zip([0]+l, l+[0], t[0])])"
   ]
  }
 ],
 "metadata": {
  "kernelspec": {
   "display_name": "Python 3 (ipykernel)",
   "language": "python",
   "name": "python3"
  },
  "language_info": {
   "codemirror_mode": {
    "name": "ipython",
    "version": 3
   },
   "file_extension": ".py",
   "mimetype": "text/x-python",
   "name": "python",
   "nbconvert_exporter": "python",
   "pygments_lexer": "ipython3",
   "version": "3.7.13"
  }
 },
 "nbformat": 4,
 "nbformat_minor": 5
}
