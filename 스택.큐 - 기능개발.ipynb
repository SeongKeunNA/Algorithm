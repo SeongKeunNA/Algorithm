{
 "cells": [
  {
   "cell_type": "markdown",
   "id": "31d0e375",
   "metadata": {},
   "source": [
    "# 코딩 전 생각"
   ]
  },
  {
   "cell_type": "code",
   "execution_count": null,
   "id": "d645bfbf",
   "metadata": {},
   "outputs": [],
   "source": [
    "\"\"\"\"\"\"\"\"\"\"\n",
    "각 기능들을 각자의 속도에 맞게 하루씩 진행시킨 후, 첫번째 기능부터 순차적으로 완료 여부를 검사한다.\n",
    "\n",
    "이 때 list의 pop 연산을 활용한다. 더 이상 완료된 기능이 없으면 answer 리스트에 이번 반복에 pop한 기능들의 수를 append한다.\n",
    "\"\"\"\"\"\"\"\"\"\""
   ]
  },
  {
   "cell_type": "markdown",
   "id": "3c028265",
   "metadata": {},
   "source": [
    "# 내 답안"
   ]
  },
  {
   "cell_type": "code",
   "execution_count": 3,
   "id": "a8b00505",
   "metadata": {},
   "outputs": [
    {
     "data": {
      "text/plain": [
       "1"
      ]
     },
     "execution_count": 3,
     "metadata": {},
     "output_type": "execute_result"
    }
   ],
   "source": [
    "def solution(progresses, speeds):\n",
    "    answer = []\n",
    "    while progresses:\n",
    "        for i in range(len(progresses)):\n",
    "            progresses[i] += speeds[i]\n",
    "        count = 0\n",
    "        for p in progresses:\n",
    "            if p >= 100:\n",
    "                count += 1      \n",
    "            else:\n",
    "                break\n",
    "            \n",
    "        if count >= 1:\n",
    "            answer.append(count)\n",
    "            for _ in range(count):\n",
    "                progresses.pop(0)\n",
    "                speeds.pop(0)\n",
    "    return answer"
   ]
  },
  {
   "cell_type": "markdown",
   "id": "07106e41",
   "metadata": {},
   "source": [
    "# - , Roy Paik , - , YeEun Kim , - 외 187 명의 답안"
   ]
  },
  {
   "cell_type": "code",
   "execution_count": 4,
   "id": "a3003191",
   "metadata": {},
   "outputs": [
    {
     "data": {
      "text/plain": [
       "-3"
      ]
     },
     "execution_count": 4,
     "metadata": {},
     "output_type": "execute_result"
    }
   ],
   "source": [
    "def solution(progresses, speeds):\n",
    "    Q=[]\n",
    "    for p, s in zip(progresses, speeds):\n",
    "        if len(Q)==0 or Q[-1][0]<-((p-100)//s):\n",
    "            Q.append([-((p-100)//s),1])\n",
    "        else:\n",
    "            Q[-1][1]+=1\n",
    "    return [q[1] for q in Q]"
   ]
  },
  {
   "cell_type": "markdown",
   "id": "49b4708b",
   "metadata": {},
   "source": [
    "# 김동국 , wlwlwon , - , SeungHyun Kim , - 외 9 명의 답안"
   ]
  },
  {
   "cell_type": "code",
   "execution_count": null,
   "id": "d320de52",
   "metadata": {},
   "outputs": [],
   "source": [
    "def solution(progresses, speeds):\n",
    "    print(progresses)\n",
    "    print(speeds)\n",
    "    answer = []\n",
    "    time = 0\n",
    "    count = 0\n",
    "    while len(progresses)> 0:\n",
    "        if (progresses[0] + time*speeds[0]) >= 100:\n",
    "            progresses.pop(0)\n",
    "            speeds.pop(0)\n",
    "            count += 1\n",
    "        else:\n",
    "            if count > 0:\n",
    "                answer.append(count)\n",
    "                count = 0\n",
    "            time += 1\n",
    "    answer.append(count)\n",
    "    return answer\n"
   ]
  },
  {
   "cell_type": "markdown",
   "id": "8153c614",
   "metadata": {},
   "source": [
    "# 답안 작성 후 생각"
   ]
  },
  {
   "cell_type": "code",
   "execution_count": null,
   "id": "5081df62",
   "metadata": {},
   "outputs": [],
   "source": [
    "\"\"\"\"\"\"\"\"\"\n",
    "내 풀이는 O(N^2)이다..\n",
    "\n",
    "zip과 Q 구조를 잘 활용했다.\n",
    "\n",
    "만약 pop을 쓸거면 pop(0)보다 리스트를 reverse한 뒤 pop()을 쓰는 게 낫다고 한다.\n",
    "\n",
    "(p-100) => 음수, (p-100) // s => 내림한 음수(음수에서 내림은 절대값은 커짐), -((p-100)//s) => 올림한 양수 by -―\n",
    "\"\"\"\"\"\"\"\"\""
   ]
  }
 ],
 "metadata": {
  "kernelspec": {
   "display_name": "Python 3 (ipykernel)",
   "language": "python",
   "name": "python3"
  },
  "language_info": {
   "codemirror_mode": {
    "name": "ipython",
    "version": 3
   },
   "file_extension": ".py",
   "mimetype": "text/x-python",
   "name": "python",
   "nbconvert_exporter": "python",
   "pygments_lexer": "ipython3",
   "version": "3.7.13"
  }
 },
 "nbformat": 4,
 "nbformat_minor": 5
}
