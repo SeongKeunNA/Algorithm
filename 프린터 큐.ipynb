{
 "cells": [
  {
   "cell_type": "markdown",
   "id": "a0ee21d2",
   "metadata": {},
   "source": [
    "# 코딩 전 생각"
   ]
  },
  {
   "cell_type": "code",
   "execution_count": 2,
   "id": "ecaf210b",
   "metadata": {},
   "outputs": [
    {
     "ename": "SyntaxError",
     "evalue": "EOL while scanning string literal (20893200.py, line 3)",
     "output_type": "error",
     "traceback": [
      "\u001b[1;36m  File \u001b[1;32m\"C:\\Users\\najonggeun\\AppData\\Local\\Temp\\ipykernel_19940\\20893200.py\"\u001b[1;36m, line \u001b[1;32m3\u001b[0m\n\u001b[1;33m    \"\"\"\"\"\"\"\"\"\"\u001b[0m\n\u001b[1;37m              \n^\u001b[0m\n\u001b[1;31mSyntaxError\u001b[0m\u001b[1;31m:\u001b[0m EOL while scanning string literal\n"
     ]
    }
   ],
   "source": [
    "\"\"\"\"\"\"\"\"\"\"\n",
    "큐 자료구조를 이용해 해결한다.\n",
    "\"\"\"\"\"\"\"\"\"\""
   ]
  },
  {
   "cell_type": "markdown",
   "id": "8974d60a",
   "metadata": {},
   "source": [
    "# 내 답안"
   ]
  },
  {
   "cell_type": "code",
   "execution_count": 15,
   "id": "ce2d025a",
   "metadata": {},
   "outputs": [
    {
     "name": "stdout",
     "output_type": "stream",
     "text": [
      "3\n",
      "1 0\n",
      "5\n",
      "1\n",
      "4 2\n",
      "1 2 3 4\n",
      "2\n",
      "6 0\n",
      "1 1 9 1 1 1\n",
      "5\n"
     ]
    }
   ],
   "source": [
    "from collections import deque\n",
    "for _ in range(int(input())):\n",
    "    n, m = map(int, input().split())\n",
    "    ls = deque([(v, i) for i, v in enumerate(map(int, input().split()))])\n",
    "    count = 0\n",
    "    while True:\n",
    "        if ls[0][0] == max(ls)[0]:\n",
    "            count += 1\n",
    "            if ls[0][1] == m:\n",
    "                print(count)\n",
    "                break\n",
    "            ls.popleft()\n",
    "        else:\n",
    "            ls.append(ls.popleft())"
   ]
  },
  {
   "cell_type": "markdown",
   "id": "e8b590ff",
   "metadata": {},
   "source": [
    "# delena0702님의 답안"
   ]
  },
  {
   "cell_type": "code",
   "execution_count": null,
   "id": "0dc25c84",
   "metadata": {},
   "outputs": [],
   "source": [
    "import sys\n",
    "def input(): return sys.stdin.readline().strip()\n",
    "\n",
    "T = int(input())\n",
    "for _ in range(T):\n",
    "    N, M = map(int, input().split())\n",
    "    data = list(map(int, input().split()))\n",
    "    visited = [False] * N\n",
    "    idx, now, last, cnt = 0, max(data), N - 1, 0\n",
    "    \n",
    "    while True:\n",
    "        if not visited[idx] and now == data[idx]:\n",
    "            visited[idx] = True\n",
    "            cnt = cnt + 1\n",
    "            last = idx\n",
    "\n",
    "            if idx == M:\n",
    "                print(cnt)\n",
    "                break\n",
    "\n",
    "        elif idx == last:\n",
    "            now = now - 1\n",
    "\n",
    "        idx = (idx + 1) % N1"
   ]
  },
  {
   "cell_type": "markdown",
   "id": "a4e100fa",
   "metadata": {},
   "source": [
    "# 답안 작성 후 생각"
   ]
  },
  {
   "cell_type": "code",
   "execution_count": null,
   "id": "61c83724",
   "metadata": {},
   "outputs": [],
   "source": [
    "\"\"\"\"\"\"\"\"\"\"\n",
    "최대값을 1씩 내리는 방식으로 반복하여 해결했다. 특히 visited 리스트를 활용해 중복 중요도를 처리했다.\n",
    "\"\"\"\"\"\"\"\"\"\""
   ]
  }
 ],
 "metadata": {
  "kernelspec": {
   "display_name": "Python 3 (ipykernel)",
   "language": "python",
   "name": "python3"
  },
  "language_info": {
   "codemirror_mode": {
    "name": "ipython",
    "version": 3
   },
   "file_extension": ".py",
   "mimetype": "text/x-python",
   "name": "python",
   "nbconvert_exporter": "python",
   "pygments_lexer": "ipython3",
   "version": "3.7.13"
  }
 },
 "nbformat": 4,
 "nbformat_minor": 5
}
