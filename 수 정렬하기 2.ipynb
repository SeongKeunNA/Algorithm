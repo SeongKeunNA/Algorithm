{
 "cells": [
  {
   "cell_type": "markdown",
   "id": "058f5f7c",
   "metadata": {},
   "source": [
    "# 코딩 전 생각"
   ]
  },
  {
   "cell_type": "code",
   "execution_count": 1,
   "id": "e0030a95",
   "metadata": {},
   "outputs": [
    {
     "ename": "SyntaxError",
     "evalue": "EOF while scanning triple-quoted string literal (886353925.py, line 1)",
     "output_type": "error",
     "traceback": [
      "\u001b[1;36m  File \u001b[1;32m\"C:\\Users\\najonggeun\\AppData\\Local\\Temp\\ipykernel_17980\\886353925.py\"\u001b[1;36m, line \u001b[1;32m1\u001b[0m\n\u001b[1;33m    \"\"\"\"\"\"\"\"\"\"\u001b[0m\n\u001b[1;37m              ^\u001b[0m\n\u001b[1;31mSyntaxError\u001b[0m\u001b[1;31m:\u001b[0m EOF while scanning triple-quoted string literal\n"
     ]
    }
   ],
   "source": [
    "\"\"\"\"\"\"\"\"\"\"\n",
    "이진탐색으로 적절한 위치에 수를 넣어 최종 출력한다.\n",
    "\"\"\"\"\"\"\"\"\"\""
   ]
  },
  {
   "cell_type": "markdown",
   "id": "e9075d16",
   "metadata": {},
   "source": [
    "# 내 답안"
   ]
  },
  {
   "cell_type": "code",
   "execution_count": 16,
   "id": "a5fb1b00",
   "metadata": {},
   "outputs": [
    {
     "name": "stdout",
     "output_type": "stream",
     "text": [
      "3\n",
      "-192\n",
      "200001\n",
      "0\n"
     ]
    },
    {
     "ename": "TypeError",
     "evalue": "unsupported operand type(s) for +: 'int' and 'str'",
     "output_type": "error",
     "traceback": [
      "\u001b[1;31m---------------------------------------------------------------------------\u001b[0m",
      "\u001b[1;31mTypeError\u001b[0m                                 Traceback (most recent call last)",
      "\u001b[1;32m~\\AppData\\Local\\Temp\\ipykernel_17980\\995607630.py\u001b[0m in \u001b[0;36m<module>\u001b[1;34m\u001b[0m\n\u001b[0;32m     26\u001b[0m     \u001b[0mls\u001b[0m\u001b[1;33m.\u001b[0m\u001b[0minsert\u001b[0m\u001b[1;33m(\u001b[0m\u001b[0midx\u001b[0m\u001b[1;33m,\u001b[0m \u001b[0mm\u001b[0m\u001b[1;33m)\u001b[0m\u001b[1;33m\u001b[0m\u001b[1;33m\u001b[0m\u001b[0m\n\u001b[0;32m     27\u001b[0m \u001b[1;32mfor\u001b[0m \u001b[0mi\u001b[0m \u001b[1;32min\u001b[0m \u001b[0mls\u001b[0m\u001b[1;33m:\u001b[0m\u001b[1;33m\u001b[0m\u001b[1;33m\u001b[0m\u001b[0m\n\u001b[1;32m---> 28\u001b[1;33m     \u001b[0mprint\u001b[0m\u001b[1;33m(\u001b[0m\u001b[0mi\u001b[0m\u001b[1;33m+\u001b[0m\u001b[1;34m'\\n'\u001b[0m\u001b[1;33m)\u001b[0m\u001b[1;33m\u001b[0m\u001b[1;33m\u001b[0m\u001b[0m\n\u001b[0m",
      "\u001b[1;31mTypeError\u001b[0m: unsupported operand type(s) for +: 'int' and 'str'"
     ]
    }
   ],
   "source": [
    "def find_idx(m, ls):\n",
    "    L = len(ls) \n",
    "    s, e = 0, L - 1\n",
    "    mid = (s + e) // 2\n",
    "    idx = 0\n",
    "    while s <= e:\n",
    "        mid = (s + e) // 2\n",
    "        if ls[mid] >= m:\n",
    "            if mid == 0 or ls[mid-1] <= m:\n",
    "                idx = mid\n",
    "                break\n",
    "            e = mid - 1\n",
    "        elif ls[mid] < m:\n",
    "            if mid == L - 1 or ls[mid+1] >= m:\n",
    "                idx = mid + 1\n",
    "                break\n",
    "            s = mid + 1\n",
    "    return idx\n",
    "            \n",
    "\n",
    "n = int(input())\n",
    "ls_minus = []\n",
    "ls_plus = []\n",
    "for _ in range(n):\n",
    "    m = int(input())\n",
    "    if m >= 0:\n",
    "        idx = find_idx(m, ls_plus)\n",
    "    else:\n",
    "        idx = find_idx(m, ls_minus)\n",
    "    ls.insert(idx, m)    \n",
    "for i in ls:\n",
    "    print(i+'\\n')"
   ]
  },
  {
   "cell_type": "markdown",
   "id": "2a9dd793",
   "metadata": {},
   "source": [
    "# 답안 작성 후 생각"
   ]
  },
  {
   "cell_type": "code",
   "execution_count": null,
   "id": "ef286398",
   "metadata": {},
   "outputs": [],
   "source": [
    "\"\"\"\"\"\"\"\"\"\"\n",
    "시간초과가 발생한다. 힌트를 참고해서 다시 풀어보자.\n",
    "\"\"\"\"\"\"\"\"\"\""
   ]
  },
  {
   "cell_type": "markdown",
   "id": "46841f54",
   "metadata": {},
   "source": [
    "# 내 답안(2)"
   ]
  },
  {
   "cell_type": "code",
   "execution_count": 17,
   "id": "956b2195",
   "metadata": {},
   "outputs": [
    {
     "name": "stdout",
     "output_type": "stream",
     "text": [
      "5\n",
      "5\n",
      "4\n",
      "3\n",
      "2\n",
      "1\n",
      "1\n",
      "2\n",
      "3\n",
      "4\n",
      "5\n"
     ]
    }
   ],
   "source": [
    "ls_minus = [0] * 1000001\n",
    "ls_plus = [0] * 1000001\n",
    "for _ in range(int(input())):\n",
    "    n = int(input())\n",
    "    if n >= 0:\n",
    "        ls_plus[n] += 1\n",
    "    else:\n",
    "        ls_minus[-1 * n] += 1\n",
    "for i in range(1000000, 0, -1):\n",
    "    if ls_minus[i]:\n",
    "        print(-1 * i)\n",
    "for i in range(1000001):\n",
    "    if ls_plus[i]:\n",
    "        print(i)    "
   ]
  },
  {
   "cell_type": "markdown",
   "id": "9fe9fba2",
   "metadata": {},
   "source": [
    "# 답안 작성 후 생각(2)"
   ]
  },
  {
   "cell_type": "code",
   "execution_count": null,
   "id": "d3b54082",
   "metadata": {},
   "outputs": [],
   "source": [
    "\"\"\"\"\"\"\"\"\"\"\n",
    "이코테 책에서 계수 정렬을 복습한 뒤에 해결했다.\n",
    "\"\"\"\"\"\"\"\"\"\""
   ]
  }
 ],
 "metadata": {
  "kernelspec": {
   "display_name": "Python 3 (ipykernel)",
   "language": "python",
   "name": "python3"
  },
  "language_info": {
   "codemirror_mode": {
    "name": "ipython",
    "version": 3
   },
   "file_extension": ".py",
   "mimetype": "text/x-python",
   "name": "python",
   "nbconvert_exporter": "python",
   "pygments_lexer": "ipython3",
   "version": "3.7.13"
  }
 },
 "nbformat": 4,
 "nbformat_minor": 5
}
