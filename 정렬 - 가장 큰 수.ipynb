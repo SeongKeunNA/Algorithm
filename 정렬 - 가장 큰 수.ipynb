{
 "cells": [
  {
   "cell_type": "markdown",
   "id": "7fffc29a",
   "metadata": {},
   "source": [
    "# 코딩 전 생각"
   ]
  },
  {
   "cell_type": "code",
   "execution_count": null,
   "id": "a9cb34d3",
   "metadata": {},
   "outputs": [],
   "source": [
    "\"\"\"\"\"\"\"\"\"\"\n",
    "1. new_numbers 리스트를 선언하고 numbers의 각 number가 1에서 999사이라면 마지막 자릿수를 추가로 채워넣어 총 세자리 수가 되게 만든다.\n",
    "이후 (새로운 값, 인덱스값)을 new_numbers에 append한다.\n",
    "\n",
    "2. new_numbers를 역순으로 정렬한 리스트의 인덱스값대로 numbers의 값을 문자형으로 이어붙여 출력한다.\n",
    "\"\"\"\"\"\"\"\"\"\""
   ]
  },
  {
   "cell_type": "markdown",
   "id": "d0fd8ad0",
   "metadata": {},
   "source": [
    "# 내 답안"
   ]
  },
  {
   "cell_type": "code",
   "execution_count": null,
   "id": "2a3b9198",
   "metadata": {},
   "outputs": [],
   "source": [
    "def solution(numbers):\n",
    "    answer = '' \n",
    "    result = numbers.sort(key = lambda x: (str(x)[min(len(str(x)) - 1,   ]))\n",
    "    new_numbers = [(int(str(numbers[i]) + str(numbers[i])[-1] * (3 - len(str(numbers[i])))), i) if numbers[i] != 1000 else (1, i) for i in range(len(numbers))]\n",
    "    new_numbers.sort(reverse = True)\n",
    "    for _, i in new_numbers:\n",
    "        answer += str(numbers[i])\n",
    "    return answer"
   ]
  },
  {
   "cell_type": "markdown",
   "id": "b2a8b43a",
   "metadata": {},
   "source": [
    "# 내 답안2"
   ]
  },
  {
   "cell_type": "code",
   "execution_count": 28,
   "id": "af61795d",
   "metadata": {},
   "outputs": [
    {
     "ename": "SyntaxError",
     "evalue": "invalid token (2344908826.py, line 1)",
     "output_type": "error",
     "traceback": [
      "\u001b[1;36m  File \u001b[1;32m\"C:\\Users\\najonggeun\\AppData\\Local\\Temp\\ipykernel_185092\\2344908826.py\"\u001b[1;36m, line \u001b[1;32m1\u001b[0m\n\u001b[1;33m    str(01)\u001b[0m\n\u001b[1;37m         ^\u001b[0m\n\u001b[1;31mSyntaxError\u001b[0m\u001b[1;31m:\u001b[0m invalid token\n"
     ]
    }
   ],
   "source": [
    "def solution(numbers):\n",
    "    answer = '' \n",
    "    new_numbers = [(str(number) * (12 // len(str(number))), str(number)) for number in numbers]\n",
    "    for _, number in sorted(new_numbers, reverse = True): answer += str(number)\n",
    "    return \"0\" if sum(map(int, answer)) == 0 else answer"
   ]
  },
  {
   "cell_type": "markdown",
   "id": "10352d22",
   "metadata": {},
   "source": [
    "# Roasters , - , - , - , - 외 3094 명의 답안"
   ]
  },
  {
   "cell_type": "code",
   "execution_count": null,
   "id": "f8d36907",
   "metadata": {},
   "outputs": [],
   "source": [
    "def solution(numbers):\n",
    "    numbers = list(map(str, numbers))\n",
    "    numbers.sort(key=lambda x: x*3, reverse=True)\n",
    "    return str(int(''.join(numbers)))"
   ]
  },
  {
   "cell_type": "markdown",
   "id": "2df00daa",
   "metadata": {},
   "source": [
    "# 이준성 , - , 임지수 , - , - 외 39 명의 답안"
   ]
  },
  {
   "cell_type": "code",
   "execution_count": null,
   "id": "2c9cb57d",
   "metadata": {},
   "outputs": [],
   "source": [
    "import functools\n",
    "\n",
    "def comparator(a,b):\n",
    "    t1 = a+b\n",
    "    t2 = b+a\n",
    "    return (int(t1) > int(t2)) - (int(t1) < int(t2)) #  t1이 크다면 1  // t2가 크다면 -1  //  같으면 0\n",
    "\n",
    "def solution(numbers):\n",
    "    n = [str(x) for x in numbers]\n",
    "    n = sorted(n, key=functools.cmp_to_key(comparator),reverse=True)\n",
    "    answer = str(int(''.join(n)))\n",
    "    return answer"
   ]
  },
  {
   "cell_type": "markdown",
   "id": "ef35cc64",
   "metadata": {},
   "source": [
    "# omoikane 의 답안"
   ]
  },
  {
   "cell_type": "code",
   "execution_count": null,
   "id": "7cead1f2",
   "metadata": {},
   "outputs": [],
   "source": [
    "from io import StringIO\n",
    "\n",
    "\n",
    "def cmp_to_key(mycmp):\n",
    "    'Convert a cmp= function into a key= function'\n",
    "    class K:\n",
    "        def __init__(self, obj, *args):\n",
    "            self.obj = obj\n",
    "\n",
    "        def __lt__(self, other):\n",
    "            return mycmp(self.obj, other.obj) < 0\n",
    "\n",
    "        def __gt__(self, other):\n",
    "            return mycmp(self.obj, other.obj) > 0\n",
    "\n",
    "        def __eq__(self, other):\n",
    "            return mycmp(self.obj, other.obj) == 0\n",
    "\n",
    "        def __le__(self, other):\n",
    "            return mycmp(self.obj, other.obj) <= 0\n",
    "\n",
    "        def __ge__(self, other):\n",
    "            return mycmp(self.obj, other.obj) >= 0\n",
    "\n",
    "        def __ne__(self, other):\n",
    "            return mycmp(self.obj, other.obj) != 0\n",
    "    return K\n",
    "\n",
    "\n",
    "def comparator(x, y):\n",
    "    x = str(x)\n",
    "    y = str(y)\n",
    "    x_y = int(x + y)\n",
    "    y_x = int(y + x)\n",
    "\n",
    "    if x_y < y_x:\n",
    "        return -1\n",
    "    elif y_x < x_y:\n",
    "        return 1\n",
    "    else:\n",
    "        return 0\n",
    "\n",
    "\n",
    "def solution(numbers):\n",
    "\n",
    "    numbers = sorted(numbers, key=cmp_to_key(comparator), reverse=True)\n",
    "\n",
    "    string_buffer = StringIO()\n",
    "    for number in numbers:\n",
    "        string_buffer.write(str(number))\n",
    "\n",
    "    answer = int(string_buffer.getvalue())\n",
    "    return str(answer)"
   ]
  },
  {
   "cell_type": "markdown",
   "id": "69ae3a37",
   "metadata": {},
   "source": [
    "# 답안 작성 후 생각"
   ]
  },
  {
   "cell_type": "code",
   "execution_count": null,
   "id": "1deb75bb",
   "metadata": {},
   "outputs": [],
   "source": [
    "\"\"\"\"\"\"\"\"\"\"\n",
    "1. 문자열을 출력하는 것이 아니라, 숫자를 문자열로 출력하는 것이기 때문에 0000의 경우 '0'을 출력해야함.\n",
    "\n",
    "2. 숫자를 반복한 결과를 정렬할 때 문자열로 정렬하면 문자열의 개수가 서로 달라도 3배 이상 늘려주면 곱해주면 정확한 비교가 가능하다.\n",
    "\n",
    "3. cmp_to_key(mycmp) 함수를 선언하여 정렬을 위한 key를 직접 만드는 방법도 있다.\n",
    "\"\"\"\"\"\"\"\"\"\""
   ]
  }
 ],
 "metadata": {
  "kernelspec": {
   "display_name": "Python 3 (ipykernel)",
   "language": "python",
   "name": "python3"
  },
  "language_info": {
   "codemirror_mode": {
    "name": "ipython",
    "version": 3
   },
   "file_extension": ".py",
   "mimetype": "text/x-python",
   "name": "python",
   "nbconvert_exporter": "python",
   "pygments_lexer": "ipython3",
   "version": "3.7.13"
  }
 },
 "nbformat": 4,
 "nbformat_minor": 5
}
