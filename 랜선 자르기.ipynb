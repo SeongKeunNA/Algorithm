{
 "cells": [
  {
   "cell_type": "markdown",
   "id": "dbacfda4",
   "metadata": {},
   "source": [
    "# 코딩 전 생각"
   ]
  },
  {
   "cell_type": "code",
   "execution_count": null,
   "id": "b41d9fc6",
   "metadata": {},
   "outputs": [],
   "source": [
    "\"\"\"\"\"\"\"\"\"\"\n",
    "이분탐색을 이용한다.\n",
    "\n",
    "1) 만약 현재 탐색하는 길이의 랜선으로 n개를 만들 수 없다면 랜선의 길이를 줄여 탐색을 반복한다.\n",
    "\n",
    "2) 만약 만들 수 있는 랜선의 개수가 n개보다 크거나 같다면 그 길이를 저장하고 길이를 늘려 탐색을 반복한다.\n",
    "\"\"\"\"\"\"\"\"\"\""
   ]
  },
  {
   "cell_type": "markdown",
   "id": "8eed83bf",
   "metadata": {},
   "source": [
    "# 내 답안"
   ]
  },
  {
   "cell_type": "code",
   "execution_count": 6,
   "id": "75b9f85b",
   "metadata": {
    "scrolled": true
   },
   "outputs": [
    {
     "name": "stdout",
     "output_type": "stream",
     "text": [
      "4 11\n",
      "802\n",
      "743\n",
      "457\n",
      "539\n",
      "200\n"
     ]
    }
   ],
   "source": [
    "from sys import stdin\n",
    "input = stdin.readline\n",
    "n, m = map(int, input().split()) # n: 현재 랜선의 개수, m: 필요한 랜선의 개수\n",
    "ls = sorted([int(input()) for _ in range(n)])\n",
    "answer = 0\n",
    "start, end = 1, ls[-1] # 이분탐색\n",
    "while start <= end:\n",
    "    mid = (start + end) // 2\n",
    "    cnt = 0\n",
    "    for i in ls:\n",
    "        cnt += i // mid\n",
    "    if cnt < m:\n",
    "        end = mid - 1\n",
    "    else:\n",
    "        answer = mid\n",
    "        start = mid + 1\n",
    "print(answer)"
   ]
  },
  {
   "cell_type": "markdown",
   "id": "a9792006",
   "metadata": {},
   "source": [
    "# dz1120님의 답안"
   ]
  },
  {
   "cell_type": "code",
   "execution_count": null,
   "id": "cc695ec5",
   "metadata": {},
   "outputs": [],
   "source": [
    "import sys\n",
    "\n",
    "def search(start, end):\n",
    "    global answer\n",
    "    if start > end:\n",
    "        return\n",
    "    mid = (start + end) // 2\n",
    "    count = N\n",
    "    for num in nums:\n",
    "        count -= num // mid\n",
    "    if count <= 0:\n",
    "        if mid > answer:\n",
    "            answer = mid\n",
    "        search(mid + 1, end)\n",
    "    else:\n",
    "        search(start, mid - 1)\n",
    "    \n",
    "    \n",
    "\n",
    "K, N = map(int, sys.stdin.readline().rstrip().split())\n",
    "nums = []\n",
    "max_num = 0\n",
    "\n",
    "for i in range(K):\n",
    "    num = int(sys.stdin.readline().rstrip())\n",
    "    nums.append(num)\n",
    "    if num > max_num:\n",
    "        max_num = num\n",
    "\n",
    "\n",
    "start = 1\n",
    "end = max_num\n",
    "answer = -1\n",
    "\n",
    "search(start, end)\n",
    "\n",
    "print(answer)"
   ]
  },
  {
   "cell_type": "markdown",
   "id": "50e0a9e9",
   "metadata": {},
   "source": [
    "# 정답 확인 후 생각"
   ]
  },
  {
   "cell_type": "code",
   "execution_count": null,
   "id": "4e597311",
   "metadata": {},
   "outputs": [],
   "source": [
    "\"\"\"\"\"\"\"\"\"\"\n",
    "무조건 모든 리스트를 순회하므로 리스트를 정렬할 필요는 없다.\n",
    "\"\"\"\"\"\"\"\"\"\""
   ]
  },
  {
   "cell_type": "markdown",
   "id": "7d3ba790",
   "metadata": {},
   "source": [
    "# 내 답안(2)"
   ]
  },
  {
   "cell_type": "code",
   "execution_count": null,
   "id": "8628290e",
   "metadata": {},
   "outputs": [],
   "source": [
    "from sys import stdin\n",
    "input = stdin.readline\n",
    "n, m = map(int, input().split()) # n: 현재 랜선의 개수, m: 필요한 랜선의 개수\n",
    "ls = []\n",
    "max_value = 0\n",
    "for _ in range(n):\n",
    "    value = int(input())\n",
    "    if value > max_value: max_value= value\n",
    "    ls.append(value)\n",
    "answer = 1\n",
    "start, end = 1, max_value # 이분탐색\n",
    "while start <= end:\n",
    "    mid = (start + end) // 2\n",
    "    cnt = 0\n",
    "    for i in ls:\n",
    "        cnt += i // mid\n",
    "    if cnt < m:\n",
    "        end = mid - 1\n",
    "    else:\n",
    "        answer = mid\n",
    "        start = mid + 1\n",
    "print(answer)"
   ]
  }
 ],
 "metadata": {
  "kernelspec": {
   "display_name": "Python 3 (ipykernel)",
   "language": "python",
   "name": "python3"
  },
  "language_info": {
   "codemirror_mode": {
    "name": "ipython",
    "version": 3
   },
   "file_extension": ".py",
   "mimetype": "text/x-python",
   "name": "python",
   "nbconvert_exporter": "python",
   "pygments_lexer": "ipython3",
   "version": "3.7.13"
  }
 },
 "nbformat": 4,
 "nbformat_minor": 5
}
