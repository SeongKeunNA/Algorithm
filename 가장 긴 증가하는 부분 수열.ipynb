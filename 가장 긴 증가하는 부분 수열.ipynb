{
 "cells": [
  {
   "cell_type": "markdown",
   "id": "a8d1a52c",
   "metadata": {},
   "source": [
    "# 코딩 전 생각"
   ]
  },
  {
   "cell_type": "code",
   "execution_count": null,
   "id": "f2b8ad0c",
   "metadata": {},
   "outputs": [],
   "source": [
    "\"\"\"\"\"\"\"\"\"\"\n",
    "가장 앞의 수부터 '그 숫자를 마지막으로 하는 가장 긴 증가하는 부분 수열'을 찾고 result 리스트에 값을 추가한다.\n",
    "이때 다이나믹 프로그래밍을 이용하는데, 수열의 모든 수에 대해 차례대로 반복하여:(i)\n",
    "현재 확인하는 수 앞에 있는 수에 대해 반복하여:(j)\n",
    "그 수가 확인하는 수보다 작다면, result[i] = max(result[i], result[j] + 1)이다.\n",
    "최종적으로 max(result) 값을 출력한다.\n",
    "\"\"\"\"\"\"\"\"\"\""
   ]
  },
  {
   "cell_type": "markdown",
   "id": "f2359fcd",
   "metadata": {},
   "source": [
    "# 내 답안"
   ]
  },
  {
   "cell_type": "code",
   "execution_count": null,
   "id": "d331479f",
   "metadata": {},
   "outputs": [],
   "source": [
    "n = int(input())\n",
    "data = list(map(int, input().split()))\n",
    "result= [1] * n\n",
    "for i in range(1, n):\n",
    "    for j in range(i):\n",
    "        if data[j] < data[i]:\n",
    "            result[i] = max(result[i], result[j] + 1)\n",
    "print(max(result))"
   ]
  },
  {
   "cell_type": "markdown",
   "id": "10612082",
   "metadata": {},
   "source": [
    "## suker80님의 답안 - https://www.acmicpc.net/source/25237154"
   ]
  },
  {
   "cell_type": "code",
   "execution_count": null,
   "id": "e5618cfe",
   "metadata": {},
   "outputs": [],
   "source": [
    "n = int(input())\n",
    "boxes = list(map(int,input().split()))\n",
    "\n",
    "dp = [boxes[0]]\n",
    "\n",
    "def lowerBound(lst, key):\n",
    "    start ,end = 0,len(lst) -1\n",
    "    while start < end:\n",
    "        mid = (start + end) // 2\n",
    "        if lst[mid] == key:\n",
    "            end = mid\n",
    "        elif key < lst[mid]:\n",
    "            end = mid\n",
    "        elif lst[mid] < key:\n",
    "            start = mid + 1\n",
    "    return end\n",
    "## key보다 큰것들 중에 가장 작은 값을 찾는다\n",
    "\n",
    "\n",
    "for i in range(1,n):\n",
    "    if dp[-1]<boxes[i]:\n",
    "        dp.append(boxes[i])\n",
    "    elif dp[-1] > boxes[i]:\n",
    "        idx = lowerBound(dp,boxes[i])\n",
    "        dp[idx] = boxes[i]\n",
    "\n",
    "print(len(dp))"
   ]
  },
  {
   "cell_type": "markdown",
   "id": "cc227f76",
   "metadata": {},
   "source": [
    "# 답안 작성 후 생각"
   ]
  },
  {
   "cell_type": "code",
   "execution_count": null,
   "id": "0b7e3cff",
   "metadata": {},
   "outputs": [],
   "source": [
    "이진 탐색으로 현재까지 구한 가장 긴 증가하는 부분 수열 dp에서,\n",
    "만약 새로추가하려는 수 i가 dp의 마지막 수보다 작다면 dp에 추가한다.\n",
    "그렇지 않다면,\n",
    "'새로 추가하려는 수 i와과 같은 수거나, i보다 큰 수 중에서 가장 작은 수'의 인덱스를 구해 추가하려는 수를\n",
    "dp의 해당 인덱스 위치의 수와 교체한다."
   ]
  }
 ],
 "metadata": {
  "kernelspec": {
   "display_name": "Python 3 (ipykernel)",
   "language": "python",
   "name": "python3"
  },
  "language_info": {
   "codemirror_mode": {
    "name": "ipython",
    "version": 3
   },
   "file_extension": ".py",
   "mimetype": "text/x-python",
   "name": "python",
   "nbconvert_exporter": "python",
   "pygments_lexer": "ipython3",
   "version": "3.7.13"
  }
 },
 "nbformat": 4,
 "nbformat_minor": 5
}
