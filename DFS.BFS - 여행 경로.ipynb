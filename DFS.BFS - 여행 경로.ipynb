{
 "cells": [
  {
   "cell_type": "markdown",
   "id": "091ac6b0",
   "metadata": {},
   "source": [
    "# 코딩 전 생각"
   ]
  },
  {
   "cell_type": "code",
   "execution_count": null,
   "id": "c10299c0",
   "metadata": {},
   "outputs": [],
   "source": [
    "\"\"\"\"\"\"\"\"\"\n",
    "1. tickets의 모든 출발지, 도착지 티켓을 딕셔너리 형태로 변경한 뒤 각 키의 값인 리스트를 정렬\n",
    "\n",
    "2. start = 'ICN'\n",
    "    while len(answer) <= n + 1:\n",
    "    answer.append(start)\n",
    "    destination = dic[start].pop()\n",
    "    start = destination\n",
    "\n",
    "3. return answer\n",
    "\"\"\"\"\"\"\"\"\""
   ]
  },
  {
   "cell_type": "markdown",
   "id": "26fa008e",
   "metadata": {},
   "source": [
    "# 내 답안"
   ]
  },
  {
   "cell_type": "code",
   "execution_count": 8,
   "id": "8d8e83d9",
   "metadata": {},
   "outputs": [],
   "source": [
    "def solution(tickets):\n",
    "    n = len(tickets)\n",
    "    answer = ['ICN']\n",
    "    dic = dict()\n",
    "    for s, d in tickets:\n",
    "        if s in dic.keys():\n",
    "            dic[s].append(d)\n",
    "        else:\n",
    "            dic[s] = [d]\n",
    "            \n",
    "    for i in dic.values():\n",
    "        i.sort(reverse = True)\n",
    "    \n",
    "    \n",
    "    start = 'ICN'\n",
    "    for _ in range(n):\n",
    "        print(dic)\n",
    "        dest = dic[start].pop()\n",
    "        answer.append(dest) \n",
    "        start = dest  \n",
    "    \n",
    "    return answer"
   ]
  },
  {
   "cell_type": "code",
   "execution_count": 9,
   "id": "150b058b",
   "metadata": {},
   "outputs": [
    {
     "name": "stdout",
     "output_type": "stream",
     "text": [
      "{'ICN': ['AOO'], 'AOO': ['BOO'], 'BOO': ['COO', 'AOO'], 'COO': ['DOO', 'BOO'], 'DOO': ['EOO', 'COO'], 'EOO': ['DOO']}\n",
      "{'ICN': [], 'AOO': ['BOO'], 'BOO': ['COO', 'AOO'], 'COO': ['DOO', 'BOO'], 'DOO': ['EOO', 'COO'], 'EOO': ['DOO']}\n",
      "{'ICN': [], 'AOO': [], 'BOO': ['COO', 'AOO'], 'COO': ['DOO', 'BOO'], 'DOO': ['EOO', 'COO'], 'EOO': ['DOO']}\n",
      "{'ICN': [], 'AOO': [], 'BOO': ['COO'], 'COO': ['DOO', 'BOO'], 'DOO': ['EOO', 'COO'], 'EOO': ['DOO']}\n"
     ]
    },
    {
     "ename": "IndexError",
     "evalue": "pop from empty list",
     "output_type": "error",
     "traceback": [
      "\u001b[1;31m---------------------------------------------------------------------------\u001b[0m",
      "\u001b[1;31mIndexError\u001b[0m                                Traceback (most recent call last)",
      "\u001b[1;32m~\\AppData\\Local\\Temp\\ipykernel_21696\\3148337796.py\u001b[0m in \u001b[0;36m<module>\u001b[1;34m\u001b[0m\n\u001b[1;32m----> 1\u001b[1;33m \u001b[0mprint\u001b[0m\u001b[1;33m(\u001b[0m\u001b[0msolution\u001b[0m\u001b[1;33m(\u001b[0m\u001b[1;33m[\u001b[0m\u001b[1;33m[\u001b[0m\u001b[1;34m\"ICN\"\u001b[0m\u001b[1;33m,\u001b[0m \u001b[1;34m\"AOO\"\u001b[0m\u001b[1;33m]\u001b[0m\u001b[1;33m,\u001b[0m \u001b[1;33m[\u001b[0m\u001b[1;34m\"AOO\"\u001b[0m\u001b[1;33m,\u001b[0m \u001b[1;34m\"BOO\"\u001b[0m\u001b[1;33m]\u001b[0m\u001b[1;33m,\u001b[0m \u001b[1;33m[\u001b[0m\u001b[1;34m\"BOO\"\u001b[0m\u001b[1;33m,\u001b[0m \u001b[1;34m\"COO\"\u001b[0m\u001b[1;33m]\u001b[0m\u001b[1;33m,\u001b[0m \u001b[1;33m[\u001b[0m\u001b[1;34m\"COO\"\u001b[0m\u001b[1;33m,\u001b[0m \u001b[1;34m\"DOO\"\u001b[0m\u001b[1;33m]\u001b[0m\u001b[1;33m,\u001b[0m \u001b[1;33m[\u001b[0m\u001b[1;34m\"DOO\"\u001b[0m\u001b[1;33m,\u001b[0m \u001b[1;34m\"EOO\"\u001b[0m\u001b[1;33m]\u001b[0m\u001b[1;33m,\u001b[0m \u001b[1;33m[\u001b[0m\u001b[1;34m\"EOO\"\u001b[0m\u001b[1;33m,\u001b[0m \u001b[1;34m\"DOO\"\u001b[0m\u001b[1;33m]\u001b[0m\u001b[1;33m,\u001b[0m \u001b[1;33m[\u001b[0m\u001b[1;34m\"DOO\"\u001b[0m\u001b[1;33m,\u001b[0m \u001b[1;34m\"COO\"\u001b[0m\u001b[1;33m]\u001b[0m\u001b[1;33m,\u001b[0m \u001b[1;33m[\u001b[0m\u001b[1;34m\"COO\"\u001b[0m\u001b[1;33m,\u001b[0m \u001b[1;34m\"BOO\"\u001b[0m\u001b[1;33m]\u001b[0m\u001b[1;33m,\u001b[0m \u001b[1;33m[\u001b[0m\u001b[1;34m\"BOO\"\u001b[0m\u001b[1;33m,\u001b[0m \u001b[1;34m\"AOO\"\u001b[0m\u001b[1;33m]\u001b[0m\u001b[1;33m]\u001b[0m\u001b[1;33m)\u001b[0m \u001b[1;33m==\u001b[0m \u001b[1;33m[\u001b[0m\u001b[1;34m\"ICN\"\u001b[0m\u001b[1;33m,\u001b[0m \u001b[1;34m\"AOO\"\u001b[0m\u001b[1;33m,\u001b[0m \u001b[1;34m\"BOO\"\u001b[0m\u001b[1;33m,\u001b[0m \u001b[1;34m\"COO\"\u001b[0m\u001b[1;33m,\u001b[0m \u001b[1;34m\"DOO\"\u001b[0m\u001b[1;33m,\u001b[0m \u001b[1;34m\"EOO\"\u001b[0m\u001b[1;33m,\u001b[0m \u001b[1;34m\"DOO\"\u001b[0m\u001b[1;33m,\u001b[0m \u001b[1;34m\"COO\"\u001b[0m\u001b[1;33m,\u001b[0m \u001b[1;34m\"BOO\"\u001b[0m\u001b[1;33m,\u001b[0m \u001b[1;34m\"AOO\"\u001b[0m\u001b[1;33m]\u001b[0m\u001b[1;33m)\u001b[0m\u001b[1;33m\u001b[0m\u001b[1;33m\u001b[0m\u001b[0m\n\u001b[0m",
      "\u001b[1;32m~\\AppData\\Local\\Temp\\ipykernel_21696\\2945120405.py\u001b[0m in \u001b[0;36msolution\u001b[1;34m(tickets)\u001b[0m\n\u001b[0;32m     16\u001b[0m     \u001b[1;32mfor\u001b[0m \u001b[0m_\u001b[0m \u001b[1;32min\u001b[0m \u001b[0mrange\u001b[0m\u001b[1;33m(\u001b[0m\u001b[0mn\u001b[0m\u001b[1;33m)\u001b[0m\u001b[1;33m:\u001b[0m\u001b[1;33m\u001b[0m\u001b[1;33m\u001b[0m\u001b[0m\n\u001b[0;32m     17\u001b[0m         \u001b[0mprint\u001b[0m\u001b[1;33m(\u001b[0m\u001b[0mdic\u001b[0m\u001b[1;33m)\u001b[0m\u001b[1;33m\u001b[0m\u001b[1;33m\u001b[0m\u001b[0m\n\u001b[1;32m---> 18\u001b[1;33m         \u001b[0mdest\u001b[0m \u001b[1;33m=\u001b[0m \u001b[0mdic\u001b[0m\u001b[1;33m[\u001b[0m\u001b[0mstart\u001b[0m\u001b[1;33m]\u001b[0m\u001b[1;33m.\u001b[0m\u001b[0mpop\u001b[0m\u001b[1;33m(\u001b[0m\u001b[1;33m)\u001b[0m\u001b[1;33m\u001b[0m\u001b[1;33m\u001b[0m\u001b[0m\n\u001b[0m\u001b[0;32m     19\u001b[0m         \u001b[0manswer\u001b[0m\u001b[1;33m.\u001b[0m\u001b[0mappend\u001b[0m\u001b[1;33m(\u001b[0m\u001b[0mdest\u001b[0m\u001b[1;33m)\u001b[0m\u001b[1;33m\u001b[0m\u001b[1;33m\u001b[0m\u001b[0m\n\u001b[0;32m     20\u001b[0m         \u001b[0mstart\u001b[0m \u001b[1;33m=\u001b[0m \u001b[0mdest\u001b[0m\u001b[1;33m\u001b[0m\u001b[1;33m\u001b[0m\u001b[0m\n",
      "\u001b[1;31mIndexError\u001b[0m: pop from empty list"
     ]
    }
   ],
   "source": [
    "print(solution([[\"ICN\", \"AOO\"], [\"AOO\", \"BOO\"], [\"BOO\", \"COO\"], [\"COO\", \"DOO\"], [\"DOO\", \"EOO\"], [\"EOO\", \"DOO\"], [\"DOO\", \"COO\"], [\"COO\", \"BOO\"], [\"BOO\", \"AOO\"]]) == [\"ICN\", \"AOO\", \"BOO\", \"COO\", \"DOO\", \"EOO\", \"DOO\", \"COO\", \"BOO\", \"AOO\"])"
   ]
  },
  {
   "cell_type": "code",
   "execution_count": 38,
   "id": "c4b2bfe3",
   "metadata": {},
   "outputs": [],
   "source": [
    "from collections import deque\n",
    "from copy import deepcopy\n",
    "\n",
    "def solution(tickets):\n",
    "    n = len(tickets)\n",
    "    answer = []\n",
    "    dic = dict()\n",
    "    for s, d in tickets:\n",
    "        if s in dic.keys():\n",
    "            dic[s].append(d)\n",
    "        else:\n",
    "            dic[s] = [d]\n",
    "\n",
    "    q = deque()\n",
    "    q.append((['ICN'], dic))\n",
    "    while q:\n",
    "        routes, info = q.popleft() \n",
    "        now = routes[-1]\n",
    "        print('routes:', routes)\n",
    "        print('info:',info)\n",
    "        print('now:',now)\n",
    "        try:      \n",
    "            for i in info[now]:\n",
    "                new_routes = routes + [i]\n",
    "                new_info = deepcopy(info)\n",
    "                new_info[now].remove(i)\n",
    "                q.append((new_routes, new_info))\n",
    "        except:\n",
    "            pass\n",
    "        if len(routes) == n + 1:\n",
    "            answer.append(routes)\n",
    "            continue\n",
    "    return sorted(answer)[0]"
   ]
  },
  {
   "cell_type": "code",
   "execution_count": 39,
   "id": "4fb1ff85",
   "metadata": {},
   "outputs": [
    {
     "name": "stdout",
     "output_type": "stream",
     "text": [
      "routes: ['ICN']\n",
      "info: {'ICN': ['SFO', 'ATL'], 'SFO': ['ATL'], 'ATL': ['ICN', 'SFO']}\n",
      "now: ICN\n",
      "routes: ['ICN', 'SFO']\n",
      "info: {'ICN': ['ATL'], 'SFO': ['ATL'], 'ATL': ['ICN', 'SFO']}\n",
      "now: SFO\n",
      "routes: ['ICN', 'ATL']\n",
      "info: {'ICN': ['SFO'], 'SFO': ['ATL'], 'ATL': ['ICN', 'SFO']}\n",
      "now: ATL\n",
      "routes: ['ICN', 'SFO', 'ATL']\n",
      "info: {'ICN': ['ATL'], 'SFO': [], 'ATL': ['ICN', 'SFO']}\n",
      "now: ATL\n",
      "routes: ['ICN', 'ATL', 'ICN']\n",
      "info: {'ICN': ['SFO'], 'SFO': ['ATL'], 'ATL': ['SFO']}\n",
      "now: ICN\n",
      "routes: ['ICN', 'ATL', 'SFO']\n",
      "info: {'ICN': ['SFO'], 'SFO': ['ATL'], 'ATL': ['ICN']}\n",
      "now: SFO\n",
      "routes: ['ICN', 'SFO', 'ATL', 'ICN']\n",
      "info: {'ICN': ['ATL'], 'SFO': [], 'ATL': ['SFO']}\n",
      "now: ICN\n",
      "routes: ['ICN', 'SFO', 'ATL', 'SFO']\n",
      "info: {'ICN': ['ATL'], 'SFO': [], 'ATL': ['ICN']}\n",
      "now: SFO\n",
      "routes: ['ICN', 'ATL', 'ICN', 'SFO']\n",
      "info: {'ICN': [], 'SFO': ['ATL'], 'ATL': ['SFO']}\n",
      "now: SFO\n",
      "routes: ['ICN', 'ATL', 'SFO', 'ATL']\n",
      "info: {'ICN': ['SFO'], 'SFO': [], 'ATL': ['ICN']}\n",
      "now: ATL\n",
      "routes: ['ICN', 'SFO', 'ATL', 'ICN', 'ATL']\n",
      "info: {'ICN': [], 'SFO': [], 'ATL': ['SFO']}\n",
      "now: ATL\n",
      "routes: ['ICN', 'ATL', 'ICN', 'SFO', 'ATL']\n",
      "info: {'ICN': [], 'SFO': [], 'ATL': ['SFO']}\n",
      "now: ATL\n",
      "routes: ['ICN', 'ATL', 'SFO', 'ATL', 'ICN']\n",
      "info: {'ICN': ['SFO'], 'SFO': [], 'ATL': []}\n",
      "now: ICN\n",
      "routes: ['ICN', 'SFO', 'ATL', 'ICN', 'ATL', 'SFO']\n",
      "info: {'ICN': [], 'SFO': [], 'ATL': []}\n",
      "now: SFO\n",
      "routes: ['ICN', 'ATL', 'ICN', 'SFO', 'ATL', 'SFO']\n",
      "info: {'ICN': [], 'SFO': [], 'ATL': []}\n",
      "now: SFO\n",
      "routes: ['ICN', 'ATL', 'SFO', 'ATL', 'ICN', 'SFO']\n",
      "info: {'ICN': [], 'SFO': [], 'ATL': []}\n",
      "now: SFO\n"
     ]
    },
    {
     "data": {
      "text/plain": [
       "['ICN', 'ATL', 'ICN', 'SFO', 'ATL', 'SFO']"
      ]
     },
     "execution_count": 39,
     "metadata": {},
     "output_type": "execute_result"
    }
   ],
   "source": [
    "solution([[\"ICN\", \"SFO\"], [\"ICN\", \"ATL\"], [\"SFO\", \"ATL\"], [\"ATL\", \"ICN\"], [\"ATL\",\"SFO\"]])"
   ]
  },
  {
   "cell_type": "markdown",
   "id": "26472e58",
   "metadata": {},
   "source": [
    "# 허주환 , - , - , 조도연 , - 외 7 명의 답안"
   ]
  },
  {
   "cell_type": "code",
   "execution_count": null,
   "id": "03d63d66",
   "metadata": {},
   "outputs": [],
   "source": [
    "from collections import defaultdict \n",
    "\n",
    "def dfs(graph, N, key, footprint):\n",
    "    print(footprint)\n",
    "\n",
    "    if len(footprint) == N + 1:\n",
    "        return footprint\n",
    "\n",
    "    for idx, country in enumerate(graph[key]):\n",
    "        graph[key].pop(idx)\n",
    "\n",
    "        tmp = footprint[:]\n",
    "        tmp.append(country)\n",
    "\n",
    "        ret = dfs(graph, N, country, tmp)\n",
    "\n",
    "        graph[key].insert(idx, country)\n",
    "\n",
    "        if ret:\n",
    "            return ret\n",
    "\n",
    "\n",
    "def solution(tickets):\n",
    "    answer = []\n",
    "\n",
    "    graph = defaultdict(list)\n",
    "\n",
    "    N = len(tickets)\n",
    "    for ticket in tickets:\n",
    "        graph[ticket[0]].append(ticket[1])\n",
    "        graph[ticket[0]].sort()\n",
    "\n",
    "    answer = dfs(graph, N, \"ICN\", [\"ICN\"])\n",
    "\n",
    "    return answer"
   ]
  },
  {
   "cell_type": "markdown",
   "id": "9be27eec",
   "metadata": {},
   "source": [
    "# 답안 작성 후 생각"
   ]
  },
  {
   "cell_type": "code",
   "execution_count": 40,
   "id": "8e308238",
   "metadata": {},
   "outputs": [
    {
     "ename": "SyntaxError",
     "evalue": "EOF while scanning triple-quoted string literal (1314066099.py, line 1)",
     "output_type": "error",
     "traceback": [
      "\u001b[1;36m  File \u001b[1;32m\"C:\\Users\\najonggeun\\AppData\\Local\\Temp\\ipykernel_21696\\1314066099.py\"\u001b[1;36m, line \u001b[1;32m1\u001b[0m\n\u001b[1;33m    \"\"\"\"\"\"\"\"\"\"\u001b[0m\n\u001b[1;37m              ^\u001b[0m\n\u001b[1;31mSyntaxError\u001b[0m\u001b[1;31m:\u001b[0m EOF while scanning triple-quoted string literal\n"
     ]
    }
   ],
   "source": [
    "\"\"\"\"\"\"\"\"\"\"\n",
    "모든 티켓을 사용해야하므로 결국 DFS나 BFS로 완전 탐색을 해야만한다.\n",
    "\"\"\"\"\"\"\"\"\"\""
   ]
  }
 ],
 "metadata": {
  "kernelspec": {
   "display_name": "Python 3 (ipykernel)",
   "language": "python",
   "name": "python3"
  },
  "language_info": {
   "codemirror_mode": {
    "name": "ipython",
    "version": 3
   },
   "file_extension": ".py",
   "mimetype": "text/x-python",
   "name": "python",
   "nbconvert_exporter": "python",
   "pygments_lexer": "ipython3",
   "version": "3.7.13"
  }
 },
 "nbformat": 4,
 "nbformat_minor": 5
}
