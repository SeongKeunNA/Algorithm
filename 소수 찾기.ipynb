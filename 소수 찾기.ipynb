{
 "cells": [
  {
   "cell_type": "markdown",
   "id": "2d0e5b6a",
   "metadata": {},
   "source": [
    "# 코딩 전 생각"
   ]
  },
  {
   "cell_type": "code",
   "execution_count": null,
   "id": "8a6d00e8",
   "metadata": {},
   "outputs": [],
   "source": [
    "\"\"\"\"\"\"\"\"\"\"\n",
    "에르토스테네스의 체를 이용해 주어진 수 중 가장 큰 수까지의 소수를 모두 구하고, 주어진 수 중 소소의 수를 출력한다.\n",
    "\"\"\"\"\"\"\"\"\"\""
   ]
  },
  {
   "cell_type": "markdown",
   "id": "6ee655f7",
   "metadata": {},
   "source": [
    "# 내 답안 - 에르토스테네스의 체"
   ]
  },
  {
   "cell_type": "code",
   "execution_count": 5,
   "id": "d66e3972",
   "metadata": {},
   "outputs": [
    {
     "name": "stdout",
     "output_type": "stream",
     "text": [
      "4\n",
      "1 3 5 7\n",
      "3\n"
     ]
    }
   ],
   "source": [
    "import math\n",
    "n = int(input())\n",
    "nums = list(map(int, input().split()))\n",
    "max_value = max(nums)\n",
    "ck_list = [1] * (max_value + 1)\n",
    "for i in range(2, int(math.sqrt(max_value)) + 1):\n",
    "    if ck_list[i] == 1:\n",
    "        j = 2\n",
    "        while i * j <= max_value:\n",
    "            ck_list[i*j] = 0\n",
    "            j += 1\n",
    "prime_nums = []\n",
    "for i in range(2, max_value + 1):\n",
    "    if ck_list[i] == 1:\n",
    "        prime_nums.append(i)\n",
    "\n",
    "count = 0\n",
    "for num in nums:\n",
    "    if num in prime_nums:\n",
    "        count += 1\n",
    "print(count)"
   ]
  },
  {
   "cell_type": "markdown",
   "id": "f4c1406b",
   "metadata": {},
   "source": [
    "# 내 답안 - 입력된 숫자 모두에 대해 반복"
   ]
  },
  {
   "cell_type": "code",
   "execution_count": null,
   "id": "f5bcba09",
   "metadata": {},
   "outputs": [],
   "source": [
    "import math\n",
    "n = int(input())\n",
    "nums = list(map(int, input().split()))\n",
    "count = 0\n",
    "for num in nums:\n",
    "    if num == 1:\n",
    "        continue       \n",
    "    elif num < 4:\n",
    "        count += 1\n",
    "        continue\n",
    "    for i in range(2, int(math.sqrt(num)) + 1):\n",
    "        if num % i == 0:\n",
    "            break\n",
    "    else:\n",
    "        count += 1\n",
    "print(count)"
   ]
  }
 ],
 "metadata": {
  "kernelspec": {
   "display_name": "Python 3 (ipykernel)",
   "language": "python",
   "name": "python3"
  },
  "language_info": {
   "codemirror_mode": {
    "name": "ipython",
    "version": 3
   },
   "file_extension": ".py",
   "mimetype": "text/x-python",
   "name": "python",
   "nbconvert_exporter": "python",
   "pygments_lexer": "ipython3",
   "version": "3.7.13"
  }
 },
 "nbformat": 4,
 "nbformat_minor": 5
}
