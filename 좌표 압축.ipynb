{
 "cells": [
  {
   "cell_type": "markdown",
   "id": "c10cecb3",
   "metadata": {},
   "source": [
    "# 코딩 전 생각"
   ]
  },
  {
   "cell_type": "code",
   "execution_count": null,
   "id": "944534ed",
   "metadata": {},
   "outputs": [],
   "source": [
    "\"\"\"\"\"\"\"\"\"\"\n",
    "data 리스트를 선언하고 그 안에 n개의 좌표를 담는다.\n",
    "\n",
    "data 리스트에서 중복을 제거한 data_set 세트를 선언한다.\n",
    "\n",
    "data 리스트의 각 좌표마다 data_set에서 루프를 돌아 해당하는 좌표보다 작은 좌표들의 수를 출력한다.\n",
    "\"\"\"\"\"\"\"\"\"\""
   ]
  },
  {
   "cell_type": "markdown",
   "id": "5c8c678b",
   "metadata": {},
   "source": [
    "# 내 답안"
   ]
  },
  {
   "cell_type": "code",
   "execution_count": null,
   "id": "ec29c072",
   "metadata": {},
   "outputs": [],
   "source": [
    "n = int(input())\n",
    "data = list(map(int, input().split()))\n",
    "data_set = set(data)\n",
    "for i in data:\n",
    "    count = 0\n",
    "    for j in data_set:\n",
    "        if i > j:\n",
    "            count += 1\n",
    "    print(count, end = ' ')"
   ]
  },
  {
   "cell_type": "markdown",
   "id": "4ea25e37",
   "metadata": {},
   "source": [
    "# 답안 작성 후 생각"
   ]
  },
  {
   "cell_type": "code",
   "execution_count": 5,
   "id": "48b1bd4d",
   "metadata": {},
   "outputs": [
    {
     "ename": "SyntaxError",
     "evalue": "EOF while scanning triple-quoted string literal (784252744.py, line 2)",
     "output_type": "error",
     "traceback": [
      "\u001b[1;36m  File \u001b[1;32m\"C:\\Users\\najonggeun\\AppData\\Local\\Temp\\ipykernel_25048\\784252744.py\"\u001b[1;36m, line \u001b[1;32m2\u001b[0m\n\u001b[1;33m    \"\"\u001b[0m\n\u001b[1;37m      \n^\u001b[0m\n\u001b[1;31mSyntaxError\u001b[0m\u001b[1;31m:\u001b[0m EOF while scanning triple-quoted string literal\n"
     ]
    }
   ],
   "source": [
    "\"\"\"\"\"\"\"\"\"\n",
    "완전 탐색으로 해결하려 했으나 시간초과가 발생한다.\n",
    "\n",
    "리스트를 정렬한 후 dic 딕셔너리를 만들어 정렬된 리스트의 각 원소를 키로 삼아 매번 인덱스를 값으로 할당한다.\n",
    "\n",
    "이 때 키의 값이 이미 존재한다면, 인덱스의 값을 증가시키지 않는다.\n",
    "\"\"\"\"\"\"\"\"\""
   ]
  },
  {
   "cell_type": "markdown",
   "id": "86c9d95c",
   "metadata": {},
   "source": [
    "# 내 답안-2"
   ]
  },
  {
   "cell_type": "code",
   "execution_count": null,
   "id": "05c97d83",
   "metadata": {},
   "outputs": [],
   "source": [
    "n = int(input())\n",
    "data = list(map(int, input().split()))\n",
    "sorted_data = sorted(data)\n",
    "dic = {}\n",
    "dic[sorted_data[0]] = 0\n",
    "index = 1\n",
    "for i in range(1, len(sorted_data)):\n",
    "    if sorted_data[i] > sorted_data[i - 1]:\n",
    "        dic[sorted_data[i]] = index\n",
    "        index += 1\n",
    "for d in data:\n",
    "    print(dic[d], end = ' ')"
   ]
  },
  {
   "cell_type": "markdown",
   "id": "3a4fde21",
   "metadata": {},
   "source": [
    "# rkaxhdals님의 답안 - https://www.acmicpc.net/source/39670484"
   ]
  },
  {
   "cell_type": "code",
   "execution_count": null,
   "id": "db8c258b",
   "metadata": {},
   "outputs": [],
   "source": [
    "import sys\n",
    "stdin = sys.stdin.buffer\n",
    "\n",
    "stdin.readline()\n",
    "arr = list(map(int, stdin.read().split())) # [2 4 -10 4 -9]\n",
    "dic = {x: i for i, x in enumerate(sorted(set(arr)))} {-10 -9 2 4}, {-10:0, -9:1, 2:2, 4:2}\n",
    "print(' '.join(map(str, [dic[x] for x in arr]))) "
   ]
  },
  {
   "cell_type": "markdown",
   "id": "68f9632a",
   "metadata": {},
   "source": [
    "# 답안 작성 후 생각"
   ]
  },
  {
   "cell_type": "code",
   "execution_count": null,
   "id": "cf637fb9",
   "metadata": {},
   "outputs": [],
   "source": [
    "\"\"\"\"\"\"\"\"\"\"\n",
    "set 자료형으로 중복을 제거한 순위를 매기고 enumerate()로 dictionary에 정보를 넣는 작업을 한 줄로 처리했다.\n",
    "\n",
    "set자료형에 sorted() 함수를 적용 할 수 있다. *sort()는 적용 불가\n",
    "\"\"\"\"\"\"\"\"\"\""
   ]
  }
 ],
 "metadata": {
  "kernelspec": {
   "display_name": "Python 3 (ipykernel)",
   "language": "python",
   "name": "python3"
  },
  "language_info": {
   "codemirror_mode": {
    "name": "ipython",
    "version": 3
   },
   "file_extension": ".py",
   "mimetype": "text/x-python",
   "name": "python",
   "nbconvert_exporter": "python",
   "pygments_lexer": "ipython3",
   "version": "3.7.13"
  }
 },
 "nbformat": 4,
 "nbformat_minor": 5
}
