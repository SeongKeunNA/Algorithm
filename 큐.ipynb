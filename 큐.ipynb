{
 "cells": [
  {
   "cell_type": "markdown",
   "id": "5981254c",
   "metadata": {},
   "source": [
    "# 코딩 전 생각"
   ]
  },
  {
   "cell_type": "code",
   "execution_count": 2,
   "id": "f8afb671",
   "metadata": {},
   "outputs": [
    {
     "data": {
      "text/plain": [
       "'\"\"\\n요구사항대로 구현한다.\\n'"
      ]
     },
     "execution_count": 2,
     "metadata": {},
     "output_type": "execute_result"
    }
   ],
   "source": [
    "\"\"\"\"\"\"\"\"\"\"\"\n",
    "요구사항대로 구현한다.\n",
    "\"\"\"\"\"\"\"\"\"\"\""
   ]
  },
  {
   "cell_type": "markdown",
   "id": "7a544320",
   "metadata": {},
   "source": [
    "# 내 답안"
   ]
  },
  {
   "cell_type": "code",
   "execution_count": 8,
   "id": "ae7b0436",
   "metadata": {},
   "outputs": [
    {
     "name": "stdout",
     "output_type": "stream",
     "text": [
      "15\n",
      "push 1\n",
      "push 2\n",
      "front\n",
      "1\n",
      "back\n",
      "2\n",
      "size\n",
      "2\n",
      "empty\n",
      "0\n",
      "pop\n",
      "1\n",
      "pop\n",
      "2\n",
      "pop\n",
      "-1\n",
      "size\n",
      "0\n",
      "empty\n",
      "1\n",
      "pop\n",
      "-1\n",
      "push 3\n",
      "empty\n",
      "0\n",
      "front\n",
      "3\n"
     ]
    }
   ],
   "source": [
    "from sys import stdin, stdout\n",
    "from collections import deque\n",
    "input, print = stdin.readline, stdout.write\n",
    "q = deque()\n",
    "for _ in range(int(input())):\n",
    "    command = input().rstrip().split()\n",
    "    if command[0] == 'push':\n",
    "        q.append(command[1])\n",
    "    elif command[0] == 'pop':\n",
    "        if q: print(str(q.popleft()) + '\\n')\n",
    "        else: print('-1' + '\\n')\n",
    "    elif command[0] == 'size':\n",
    "        print(str(len(q)) + '\\n')\n",
    "    elif command[0] == 'empty':\n",
    "        print(str(int(q == deque())) + '\\n')\n",
    "    elif command[0] == 'front':\n",
    "        if q: print(str(q[0]) + '\\n')\n",
    "        else: print('-1' + '\\n')\n",
    "    elif command[0] == 'back':\n",
    "        if q: print(str(q[-1]) + '\\n')\n",
    "        else: print('-1' + '\\n')"
   ]
  }
 ],
 "metadata": {
  "kernelspec": {
   "display_name": "Python 3 (ipykernel)",
   "language": "python",
   "name": "python3"
  },
  "language_info": {
   "codemirror_mode": {
    "name": "ipython",
    "version": 3
   },
   "file_extension": ".py",
   "mimetype": "text/x-python",
   "name": "python",
   "nbconvert_exporter": "python",
   "pygments_lexer": "ipython3",
   "version": "3.7.13"
  }
 },
 "nbformat": 4,
 "nbformat_minor": 5
}
