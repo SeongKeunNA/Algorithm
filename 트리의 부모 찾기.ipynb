{
 "cells": [
  {
   "cell_type": "markdown",
   "id": "b092b852",
   "metadata": {},
   "source": [
    "# 코딩 전 생각"
   ]
  },
  {
   "cell_type": "code",
   "execution_count": null,
   "id": "179cc9ab",
   "metadata": {},
   "outputs": [],
   "source": [
    "\"\"\"\"\"\"\"\"\"\"\n",
    "dfs를 이용해 현재 노드의 부모 노드를 이전 노드의 번호로 처리하고, 현재 노드의 자식 노드마다 다시 재귀적으로 반복한다.\n",
    "\"\"\"\"\"\"\"\"\"\""
   ]
  },
  {
   "cell_type": "markdown",
   "id": "88912fb4",
   "metadata": {},
   "source": [
    "# 내 답안 -  DFS"
   ]
  },
  {
   "cell_type": "code",
   "execution_count": null,
   "id": "ca62a503",
   "metadata": {},
   "outputs": [],
   "source": [
    "from sys import stdin\n",
    "\n",
    "def dfs(pre, now):\n",
    "    parents[now] = pre\n",
    "    for i in graph[now]:\n",
    "        dfs(now, i)\n",
    "        \n",
    "input = stdin.readline        \n",
    "n = int(input())\n",
    "graph = [[] for _ in range(n + 1)]\n",
    "for _ in range(n - 1):\n",
    "    a, b = map(int, input().split())\n",
    "    graph[a].append(b)    \n",
    "    graph[b].append(a)\n",
    "parents = [0] * (n + 1)\n",
    "dfs(0, 1)\n",
    "for p in parents[1:]:\n",
    "    print(p)"
   ]
  },
  {
   "cell_type": "markdown",
   "id": "456aa29b",
   "metadata": {},
   "source": [
    "# 내 답안 - BFS"
   ]
  },
  {
   "cell_type": "code",
   "execution_count": null,
   "id": "f61e8e26",
   "metadata": {},
   "outputs": [],
   "source": [
    "from sys import stdin\n",
    "from collections import deque\n",
    "input = stdin.readline        \n",
    "n = int(input())\n",
    "graph = [[] for _ in range(n + 1)]\n",
    "for _ in range(n - 1):\n",
    "    a, b = map(int, input().split())\n",
    "    graph[a].append(b)    \n",
    "    graph[b].append(a)\n",
    "    del(a)\n",
    "    del(b)\n",
    "parents = [0] * (n + 1)\n",
    "q = deque([(0, 1)]) # pre, now\n",
    "while q:\n",
    "    pre, now = q.popleft()\n",
    "    parents[now] = pre\n",
    "    for i in graph[now]:\n",
    "        q.append((now, i))\n",
    "for p in parents[1:]:\n",
    "    print(p)"
   ]
  },
  {
   "cell_type": "code",
   "execution_count": 1,
   "id": "0db31691",
   "metadata": {},
   "outputs": [
    {
     "name": "stdout",
     "output_type": "stream",
     "text": [
      "1\n",
      "140730726719904\n",
      "2\n",
      "140730726719936\n"
     ]
    }
   ],
   "source": [
    "from sys import stdin\n",
    "from collections import deque\n",
    "input = stdin.readline        \n",
    "n = int(input())\n",
    "graph = [[] for _ in range(n + 1)]\n",
    "for _ in range(n - 1):\n",
    "    a, b = map(int, input().split())\n",
    "    graph[a].append(b)    \n",
    "    graph[b].append(a)\n",
    "    del(a)\n",
    "    del(b)\n",
    "parents = ()\n",
    "q = deque([(0, 1)]) # pre, now\n",
    "while q:\n",
    "    pre, now = q.popleft()\n",
    "    parents.append((now, pre))\n",
    "    for i in graph[now]:\n",
    "        q.append((now, i))       \n",
    "for _, p in sorted(parents[1:]):\n",
    "    print(p)"
   ]
  },
  {
   "cell_type": "markdown",
   "id": "a16b2141",
   "metadata": {},
   "source": [
    "# 최종답안 - DFS"
   ]
  },
  {
   "cell_type": "code",
   "execution_count": null,
   "id": "664858a1",
   "metadata": {},
   "outputs": [],
   "source": [
    "from sys import stdin, setrecursionlimit\n",
    "setrecursionlimit(10**5)\n",
    "\n",
    "def dfs(pre, now):\n",
    "    parents[now] = pre\n",
    "    visited[now] = 1\n",
    "    for i in graph[now]:\n",
    "        if visited[i] == 0:\n",
    "            dfs(now, i)\n",
    "            \n",
    "input = stdin.readline        \n",
    "n = int(input())\n",
    "graph = [[] for _ in range(n + 1)]\n",
    "for _ in range(n - 1):\n",
    "    a, b = map(int, input().split())\n",
    "    graph[a].append(b)    \n",
    "    graph[b].append(a)\n",
    "parents = [0] * (n + 1)\n",
    "visited = [0] * (n + 1)\n",
    "dfs(0, 1)\n",
    "for p in parents[2:]:\n",
    "    print(p)"
   ]
  },
  {
   "cell_type": "markdown",
   "id": "a69c58c5",
   "metadata": {},
   "source": [
    "# rkaxhdals님의 답안 - https://www.acmicpc.net/source/36605712"
   ]
  },
  {
   "cell_type": "code",
   "execution_count": null,
   "id": "9f37a144",
   "metadata": {},
   "outputs": [],
   "source": [
    "import sys\n",
    "input = sys.stdin.readline\n",
    "\n",
    "N = int(input())\n",
    "tree = [[] for _ in range(N + 1)]\n",
    "ans = [0] * (N + 1)\n",
    "ans[1] = -1\n",
    "\n",
    "for _ in range(N - 1):\n",
    "\ta, b = map(int, input().split())\n",
    "\ttree[a].append(b)\n",
    "\ttree[b].append(a)\n",
    "\n",
    "q = [1]\n",
    "for v in q:\n",
    "\tfor ch in tree[v]:\n",
    "\t\tif not ans[ch]:\n",
    "\t\t\tans[ch] = v\n",
    "\t\t\tq.append(ch)\n",
    "\n",
    "print('\\n'.join(map(str, ans[2:])))"
   ]
  },
  {
   "cell_type": "markdown",
   "id": "9e2469e9",
   "metadata": {},
   "source": [
    "# 답안 작성 후 생각"
   ]
  },
  {
   "cell_type": "code",
   "execution_count": null,
   "id": "dfbf07a3",
   "metadata": {},
   "outputs": [],
   "source": [
    "\"\"\"\"\"\"\"\"\"\"\n",
    "1. dfs를 이용하면 메모리 초과를 막을 수 있다.\n",
    "\n",
    "2. setrecursionlimit()을 사용해야 재귀함수의 최대 깊이를 조절할 수 있다\n",
    "\n",
    "3. visited 리스트를 사용하지 않고 parents 리스트로 그 역할을 수행할 수 있다.\n",
    "\n",
    "4. rkaxhdals님의 답안처럼 아예 반복문만을 이용해 해결할 수도 있다.\n",
    "\"\"\"\"\"\"\"\"\"\""
   ]
  }
 ],
 "metadata": {
  "kernelspec": {
   "display_name": "Python 3 (ipykernel)",
   "language": "python",
   "name": "python3"
  },
  "language_info": {
   "codemirror_mode": {
    "name": "ipython",
    "version": 3
   },
   "file_extension": ".py",
   "mimetype": "text/x-python",
   "name": "python",
   "nbconvert_exporter": "python",
   "pygments_lexer": "ipython3",
   "version": "3.7.13"
  }
 },
 "nbformat": 4,
 "nbformat_minor": 5
}
