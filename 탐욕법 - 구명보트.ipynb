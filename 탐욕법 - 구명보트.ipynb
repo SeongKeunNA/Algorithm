{
 "cells": [
  {
   "cell_type": "markdown",
   "id": "b2976fe5",
   "metadata": {},
   "source": [
    "# 코딩 전 생각"
   ]
  },
  {
   "cell_type": "code",
   "execution_count": null,
   "id": "59c00415",
   "metadata": {},
   "outputs": [],
   "source": [
    "\"\"\"\"\"\"\"\"\"\"\n",
    "1. people를 내림차순 정렬하고 deque으로 선언한다.\n",
    "\n",
    "2. people이 빌 때까지 반복한다:\n",
    "    1. popleft()로 people에서 가장 앞(가장 몸무게가 높은)사람을 한 명 뽑는다 - heaviest\n",
    "    \n",
    "    2. 만약 people이 비었으면 count + 1를 return한다.\n",
    "    \n",
    "    3. 만약 heaviest + people[-1]이 limit보다 작다면 pop()으로\n",
    "    현재 가장 몸무게가 가장 낮은 사람(people[-1])을 같이 보트에 태워 보낸다.\n",
    "    \n",
    "    4. count +=1 한다.\n",
    "    \n",
    "3. count값을 return한다.\n",
    "\"\"\"\"\"\"\"\"\"\""
   ]
  },
  {
   "cell_type": "markdown",
   "id": "5fe5003b",
   "metadata": {},
   "source": [
    "# 내 답안"
   ]
  },
  {
   "cell_type": "code",
   "execution_count": null,
   "id": "9ee8aca9",
   "metadata": {},
   "outputs": [],
   "source": [
    "from collections import deque\n",
    "def solution(people, limit):\n",
    "    people = deque(sorted(people, reverse = True))\n",
    "    count = 0\n",
    "    while people:\n",
    "        heaviest = people.popleft()\n",
    "        if not people:\n",
    "            return count + 1\n",
    "        if heaviest + people[-1] <= limit:\n",
    "            people.pop()\n",
    "        count += 1\n",
    "    return count"
   ]
  },
  {
   "cell_type": "markdown",
   "id": "b86d8c47",
   "metadata": {},
   "source": [
    "# hestarium , - , - , - , - 외 58 명의 답안"
   ]
  },
  {
   "cell_type": "code",
   "execution_count": null,
   "id": "fa818949",
   "metadata": {},
   "outputs": [],
   "source": [
    "def solution(people, limit) :\n",
    "    answer = 0\n",
    "    people.sort()\n",
    "\n",
    "    a = 0\n",
    "    b = len(people) - 1\n",
    "    while a < b :\n",
    "        if people[b] + people[a] <= limit :\n",
    "            a += 1\n",
    "            answer += 1\n",
    "        b -= 1\n",
    "    return len(people) - answer"
   ]
  },
  {
   "cell_type": "markdown",
   "id": "888e3bfd",
   "metadata": {},
   "source": [
    "# 정답 확인 후 생각"
   ]
  },
  {
   "cell_type": "code",
   "execution_count": null,
   "id": "b3b34cfd",
   "metadata": {},
   "outputs": [],
   "source": [
    "\"\"\"\"\"\"\"\"\"\n",
    "짝 지었을때만 2명씩 나가니까 전체 인원에서 짝지은 수만 빼주면 보트의 수가 나오는 것을 활용함.\n",
    "\"\"\"\"\"\"\"\"\""
   ]
  }
 ],
 "metadata": {
  "kernelspec": {
   "display_name": "Python 3 (ipykernel)",
   "language": "python",
   "name": "python3"
  },
  "language_info": {
   "codemirror_mode": {
    "name": "ipython",
    "version": 3
   },
   "file_extension": ".py",
   "mimetype": "text/x-python",
   "name": "python",
   "nbconvert_exporter": "python",
   "pygments_lexer": "ipython3",
   "version": "3.7.13"
  }
 },
 "nbformat": 4,
 "nbformat_minor": 5
}
