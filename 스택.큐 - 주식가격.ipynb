{
 "cells": [
  {
   "cell_type": "markdown",
   "id": "a4469ae6",
   "metadata": {},
   "source": [
    "# 코딩 전 생각"
   ]
  },
  {
   "cell_type": "code",
   "execution_count": null,
   "id": "c74489e1",
   "metadata": {},
   "outputs": [],
   "source": [
    "\"\"\"\"\"\"\"\"\"\"\n",
    "popleft()연산으로 매번 prices에서 원소를 하나 뽑고 그 원소보다 작은 prices의 원소의 인덱스를 찾는다.\n",
    "\"\"\"\"\"\"\"\"\"\""
   ]
  },
  {
   "cell_type": "markdown",
   "id": "3f8aedce",
   "metadata": {},
   "source": [
    "# 내 답안"
   ]
  },
  {
   "cell_type": "code",
   "execution_count": null,
   "id": "8ed81e59",
   "metadata": {},
   "outputs": [],
   "source": [
    "prices = deque(prices)\n",
    "while len(prices) > 1:\n",
    "    price = prices.popleft()\n",
    "    for i in range(len(prices)):\n",
    "        if prices[i] < price:\n",
    "            answer.append(i+1)\n",
    "answer.append(0)\n",
    "return answer"
   ]
  },
  {
   "cell_type": "code",
   "execution_count": null,
   "id": "ae334ed2",
   "metadata": {},
   "outputs": [],
   "source": [
    "prices = deque(prices)\n",
    "while len(prices) > 1:\n",
    "    price = prices.popleft()\n",
    "    count = 1\n",
    "    for i in prices:\n",
    "        if i < price:\n",
    "            answer.append(count)\n",
    "        count += 1\n",
    "    else:\n",
    "        answer.append(count)\n",
    "answer.append(0)\n",
    "return answer"
   ]
  },
  {
   "cell_type": "code",
   "execution_count": null,
   "id": "d401bf70",
   "metadata": {},
   "outputs": [],
   "source": [
    "from collections import deque\n",
    "def bsearch(lst, target):\n",
    "    start, end = 0, len(lst) - 1\n",
    "    while start <= end:\n",
    "        mid = (start + end) // 2\n",
    "        if lst[mid][0] >= target: # 10 21 23 32 34\n",
    "            if lst[mid][0] == target and (lst[mid-1][0] < target or mid == 0):\n",
    "                return mid\n",
    "            end = mid - 1\n",
    "        elif lst[mid][0] < target:\n",
    "            start = mid + 1\n",
    "    return -1\n",
    "            \n",
    "\n",
    "def solution(prices):\n",
    "    answer = []\n",
    "    prices = deque(prices)\n",
    "    for i, v in enumerate(prices):\n",
    "        sorted_prices = sorted([(v, i) for i, v in enumerate(prices)])\n",
    "    for i in range()\n",
    "        price = prices.popleft()\n",
    "        sorted_prices.remove()\n",
    "        if bsearch(sorted_prices) ==  -1:\n",
    "            answer.append(len(prices))\n",
    "        else:\n",
    "            answer.append(sorted_prices[mid][1]) \n",
    "    answer.append(0)\n",
    "    return answer"
   ]
  },
  {
   "cell_type": "code",
   "execution_count": null,
   "id": "f826f899",
   "metadata": {},
   "outputs": [],
   "source": [
    "from collections import deque\n",
    "def solution(prices):\n",
    "    answer = []\n",
    "    prices = deque(prices)\n",
    "    while len(prices) > 1:\n",
    "        price = prices.popleft()\n",
    "        count = 0\n",
    "        for i in prices:\n",
    "            if i < price:\n",
    "                answer.append(count + 1)\n",
    "                break\n",
    "            count += 1\n",
    "        else:\n",
    "            answer.append(count)\n",
    "    answer.append(0)\n",
    "    return answer"
   ]
  },
  {
   "cell_type": "markdown",
   "id": "930293d6",
   "metadata": {},
   "source": [
    "# 답안 작성 후 생각"
   ]
  },
  {
   "cell_type": "code",
   "execution_count": null,
   "id": "8ca94921",
   "metadata": {},
   "outputs": [],
   "source": [
    "\"\"\"\"\"\"\"\"\"\"\n",
    "처음 작성한 답안이 효율성 테스트 3번을 통과하지 못해 이진 탐색으로 시도하다가 아니다 싶어서 힌트를 참고했다.\n",
    "\n",
    "for i in range(len(~))이 아닌 for i in ~로 효율성을 높였다.\n",
    "\"\"\"\"\"\"\"\"\"\""
   ]
  },
  {
   "cell_type": "code",
   "execution_count": null,
   "id": "d7462380",
   "metadata": {},
   "outputs": [],
   "source": [
    "def solution(prices):\n",
    "    answer = [0] * len(prices)\n",
    "    for i in range(len(prices)):\n",
    "        for j in range(i+1, len(prices)):\n",
    "            if prices[i] <= prices[j]:\n",
    "                answer[i] += 1\n",
    "            else:\n",
    "                answer[i] += 1\n",
    "                break\n",
    "    return answer"
   ]
  },
  {
   "cell_type": "code",
   "execution_count": null,
   "id": "3e93d558",
   "metadata": {},
   "outputs": [],
   "source": [
    "\n",
    "2\n",
    "3\n",
    "4\n",
    "5\n",
    "6\n",
    "7\n",
    "8\n",
    "9\n",
    "10\n",
    "11\n",
    "12\n",
    "13\n",
    "def solution(prices):\n",
    "    stack = []\n",
    "    answer = [0] * len(prices) #[00000]\n",
    "    for i in range(len(prices)): # 0 1 2 3 4\n",
    "        if stack != []: \n",
    "            while stack != [] and stack[-1][1] > prices[i]: \n",
    "                past, _ = stack.pop() #[[0,1], [1,2]]\n",
    "                answer[past] = i - past # #[00100]\n",
    "        stack.append([i, prices[i]]) # [[0, 1]] / [[0,1], [1, 2]] / [[0,1], [1,2], [2,3]] / [[0,1], [1,2], [3, 2]]\n",
    "        # [[0,1], [1,2], [3,2],[4,3]]\n",
    "    for i, s in stack:\n",
    "        answer[i] = len(prices) - 1 - i\n",
    "    return answer"
   ]
  }
 ],
 "metadata": {
  "kernelspec": {
   "display_name": "Python 3 (ipykernel)",
   "language": "python",
   "name": "python3"
  },
  "language_info": {
   "codemirror_mode": {
    "name": "ipython",
    "version": 3
   },
   "file_extension": ".py",
   "mimetype": "text/x-python",
   "name": "python",
   "nbconvert_exporter": "python",
   "pygments_lexer": "ipython3",
   "version": "3.7.13"
  }
 },
 "nbformat": 4,
 "nbformat_minor": 5
}
