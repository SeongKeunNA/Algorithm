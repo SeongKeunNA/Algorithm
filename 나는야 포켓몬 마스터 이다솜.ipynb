{
 "cells": [
  {
   "cell_type": "markdown",
   "id": "af1d6b51",
   "metadata": {},
   "source": [
    "# 풀이 전 생각"
   ]
  },
  {
   "cell_type": "code",
   "execution_count": null,
   "id": "3ec56e81",
   "metadata": {},
   "outputs": [],
   "source": [
    "\"\"\"\n",
    "1) 포켓몬의 이름들을 순차적으로 저장하는 리스트와(1), 그 리스트의 포켓몬의 이름과 순서를 각각 키, 값으로 하는 딕셔너리(2)를 선언한다.\n",
    "\n",
    "2) 입력이 숫자라면 리스트의 해당 인덱스의 값을 저장하고, 그렇지 않다면 딕셔너리의 해당 입력을 키로 갖는 값을 저장한다.\n",
    "\n",
    "3) 저장된 값들을 \\n으로 split하여 출력한다.\n",
    "\"\"\""
   ]
  },
  {
   "cell_type": "markdown",
   "id": "af48e432",
   "metadata": {},
   "source": [
    "# 내 답안"
   ]
  },
  {
   "cell_type": "code",
   "execution_count": 1,
   "id": "82d81da8",
   "metadata": {},
   "outputs": [
    {
     "ename": "SyntaxError",
     "evalue": "unexpected EOF while parsing (449824808.py, line 15)",
     "output_type": "error",
     "traceback": [
      "\u001b[1;36m  File \u001b[1;32m\"C:\\Users\\najonggeun\\AppData\\Local\\Temp\\ipykernel_14760\\449824808.py\"\u001b[1;36m, line \u001b[1;32m15\u001b[0m\n\u001b[1;33m    \u001b[0m\n\u001b[1;37m    ^\u001b[0m\n\u001b[1;31mSyntaxError\u001b[0m\u001b[1;31m:\u001b[0m unexpected EOF while parsing\n"
     ]
    }
   ],
   "source": [
    "from sys import stdin, stdout\n",
    "input = stdin.readlines\n",
    "print = stdout.write\n",
    "\n",
    "inputs = input().split(\"\\n\")\n",
    "n, m = map(int, inputs[0].strip().split())\n",
    "ls = inputs[1:n+1]\n",
    "queries = inputs[n+1:]\n",
    "dic = {}\n",
    "for i, v in enumerate(ls):\n",
    "    dic[v] = i+1\n",
    "outputs = []\n",
    "for i in range(m):\n",
    "    if queries[i].isalpha():\n",
    "        outputs.append(dic[queries[i]])\n",
    "    else:\n",
    "        outputs.append(str(ls[int(queries[i])-1]))\n",
    "print(\"\\n\".join(outputs))"
   ]
  },
  {
   "cell_type": "markdown",
   "id": "45f16d01",
   "metadata": {},
   "source": [
    "# 내 답안(2)"
   ]
  },
  {
   "cell_type": "code",
   "execution_count": null,
   "id": "45843d5c",
   "metadata": {},
   "outputs": [],
   "source": [
    "from sys import stdin, stdout\n",
    "input = stdin.readline\n",
    "print = stdout.write\n",
    "\n",
    "n, m = map(int, input().split())\n",
    "ls = [input().strip() for _ in range(n)]\n",
    "queries = [input().strip() for _ in range(m)]\n",
    "dic = dict()\n",
    "for i, v in enumerate(ls):\n",
    "    dic[v] = i+1\n",
    "outputs = []\n",
    "for i in range(m):\n",
    "    if queries[i].isalpha():\n",
    "        outputs.append(str(dic[queries[i]]))\n",
    "    else:\n",
    "        outputs.append(ls[int(queries[i])-1])\n",
    "print(\"\\n\".join(outputs))"
   ]
  },
  {
   "cell_type": "markdown",
   "id": "1914de65",
   "metadata": {},
   "source": [
    "# 정답 확인 후 생각"
   ]
  },
  {
   "cell_type": "code",
   "execution_count": null,
   "id": "5d8ef7a3",
   "metadata": {},
   "outputs": [],
   "source": [
    "\"\"\"\n",
    "백준에서는 readlines()를 사용하지 못함\n",
    "\"\"\""
   ]
  }
 ],
 "metadata": {
  "kernelspec": {
   "display_name": "Python 3 (ipykernel)",
   "language": "python",
   "name": "python3"
  },
  "language_info": {
   "codemirror_mode": {
    "name": "ipython",
    "version": 3
   },
   "file_extension": ".py",
   "mimetype": "text/x-python",
   "name": "python",
   "nbconvert_exporter": "python",
   "pygments_lexer": "ipython3",
   "version": "3.7.13"
  }
 },
 "nbformat": 4,
 "nbformat_minor": 5
}
