{
 "cells": [
  {
   "cell_type": "markdown",
   "id": "4d52ee92",
   "metadata": {},
   "source": [
    "# 풀이 전 생각"
   ]
  },
  {
   "cell_type": "code",
   "execution_count": null,
   "id": "f36d7d05",
   "metadata": {},
   "outputs": [],
   "source": [
    "\"\"\"\n",
    "2xi 크기의 공간을 채우는 경우의 수는, 1) 2xi-1까지 공간을 채우는 경우와 2) 2xi-2까지 공간을 채우는 경우로 나뉜다.\n",
    "\n",
    "1)의 경우는 나머지 공간을 2x1로 채워야 하고,\n",
    "\n",
    "2의 경우는 나머지 공간을 2x2나 1x2 2개로 채워야한다.\n",
    "\"\"\""
   ]
  },
  {
   "cell_type": "markdown",
   "id": "5b6e249a",
   "metadata": {},
   "source": [
    "# 내 답안"
   ]
  },
  {
   "cell_type": "code",
   "execution_count": 4,
   "id": "26e50c08",
   "metadata": {},
   "outputs": [
    {
     "name": "stdout",
     "output_type": "stream",
     "text": [
      "12\n",
      "2731\n"
     ]
    }
   ],
   "source": [
    "n = int(input())\n",
    "d = [1] * (n+1)\n",
    "for i in range(2, n+1):\n",
    "    d[i] = d[i-2] * 2 + d[i-1]\n",
    "print(d[n]%10007)"
   ]
  }
 ],
 "metadata": {
  "kernelspec": {
   "display_name": "Python 3 (ipykernel)",
   "language": "python",
   "name": "python3"
  },
  "language_info": {
   "codemirror_mode": {
    "name": "ipython",
    "version": 3
   },
   "file_extension": ".py",
   "mimetype": "text/x-python",
   "name": "python",
   "nbconvert_exporter": "python",
   "pygments_lexer": "ipython3",
   "version": "3.7.13"
  }
 },
 "nbformat": 4,
 "nbformat_minor": 5
}
