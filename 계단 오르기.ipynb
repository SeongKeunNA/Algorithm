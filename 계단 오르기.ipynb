{
 "cells": [
  {
   "cell_type": "markdown",
   "id": "9d495121",
   "metadata": {},
   "source": [
    "# 풀이 전 생각"
   ]
  },
  {
   "cell_type": "code",
   "execution_count": null,
   "id": "4f55b447",
   "metadata": {},
   "outputs": [],
   "source": [
    "\"\"\"\n",
    "다이나믹 프로그래밍으로 해결한다.\n",
    "\n",
    "리스트 ls를 선언하고 그 값을 해당 인덱스의 계단까지의 총 점수의 최댓값으로 한다.\n",
    "\n",
    "stairs 리스트를 선언하고 그 값을 해당 인덱스의 계단의 점수로 한다.\n",
    "\n",
    "ls = stairs[:]로 복사한다.\n",
    "\n",
    "ls[2] += stairs[1] 처리한다.\n",
    "\n",
    "i를 3부터 n까지 반복하여 해당 계단이 어떤 계단들로부터 왔는지 따져보고 그 중 최댓값을 ls[i]에 대입한다.\n",
    "\n",
    "ex)\n",
    "1) 전전전 계단에서 +1 +2로 온 경우 : ls[i] += \n",
    "\n",
    "2) 전전전 계단에서 +2 +1로 온 경우: ls[i] += \n",
    "\n",
    "즉, ls[i] += ls[i-3] + max(stairs[i-1], stairs[i-2])\n",
    "\"\"\""
   ]
  },
  {
   "cell_type": "markdown",
   "id": "14efec4f",
   "metadata": {},
   "source": [
    "# 내 답안"
   ]
  },
  {
   "cell_type": "code",
   "execution_count": 1,
   "id": "d9f05381",
   "metadata": {},
   "outputs": [
    {
     "name": "stdout",
     "output_type": "stream",
     "text": [
      "6\n"
     ]
    },
    {
     "ename": "NameError",
     "evalue": "name 'stdin' is not defined",
     "output_type": "error",
     "traceback": [
      "\u001b[1;31m---------------------------------------------------------------------------\u001b[0m",
      "\u001b[1;31mNameError\u001b[0m                                 Traceback (most recent call last)",
      "\u001b[1;32m~\\AppData\\Local\\Temp\\ipykernel_23240\\2251635919.py\u001b[0m in \u001b[0;36m<module>\u001b[1;34m\u001b[0m\n\u001b[0;32m      1\u001b[0m \u001b[0mn\u001b[0m \u001b[1;33m=\u001b[0m \u001b[0mint\u001b[0m\u001b[1;33m(\u001b[0m\u001b[0minput\u001b[0m\u001b[1;33m(\u001b[0m\u001b[1;33m)\u001b[0m\u001b[1;33m)\u001b[0m\u001b[1;33m\u001b[0m\u001b[1;33m\u001b[0m\u001b[0m\n\u001b[1;32m----> 2\u001b[1;33m \u001b[0mstairs\u001b[0m \u001b[1;33m=\u001b[0m \u001b[1;33m[\u001b[0m\u001b[1;36m0\u001b[0m\u001b[1;33m]\u001b[0m \u001b[1;33m+\u001b[0m \u001b[0mlist\u001b[0m\u001b[1;33m(\u001b[0m\u001b[0mmap\u001b[0m\u001b[1;33m(\u001b[0m\u001b[0mint\u001b[0m\u001b[1;33m,\u001b[0m \u001b[0mstdin\u001b[0m\u001b[1;33m.\u001b[0m\u001b[0mread\u001b[0m\u001b[1;33m(\u001b[0m\u001b[1;33m)\u001b[0m\u001b[1;33m.\u001b[0m\u001b[0msplitlines\u001b[0m\u001b[1;33m(\u001b[0m\u001b[1;33m)\u001b[0m\u001b[1;33m)\u001b[0m\u001b[1;33m)\u001b[0m\u001b[1;33m\u001b[0m\u001b[1;33m\u001b[0m\u001b[0m\n\u001b[0m\u001b[0;32m      3\u001b[0m \u001b[0mls\u001b[0m \u001b[1;33m=\u001b[0m \u001b[0mstairs\u001b[0m\u001b[1;33m[\u001b[0m\u001b[1;33m:\u001b[0m\u001b[1;33m]\u001b[0m\u001b[1;33m\u001b[0m\u001b[1;33m\u001b[0m\u001b[0m\n\u001b[0;32m      4\u001b[0m \u001b[1;32mfor\u001b[0m \u001b[0mi\u001b[0m \u001b[1;32min\u001b[0m \u001b[0mrange\u001b[0m\u001b[1;33m(\u001b[0m\u001b[1;36m2\u001b[0m\u001b[1;33m,\u001b[0m \u001b[0mn\u001b[0m\u001b[1;33m+\u001b[0m\u001b[1;36m1\u001b[0m\u001b[1;33m)\u001b[0m\u001b[1;33m:\u001b[0m\u001b[1;33m\u001b[0m\u001b[1;33m\u001b[0m\u001b[0m\n\u001b[0;32m      5\u001b[0m     \u001b[0mls\u001b[0m\u001b[1;33m[\u001b[0m\u001b[0mi\u001b[0m\u001b[1;33m]\u001b[0m \u001b[1;33m+=\u001b[0m \u001b[0mmax\u001b[0m\u001b[1;33m(\u001b[0m\u001b[0mls\u001b[0m\u001b[1;33m[\u001b[0m\u001b[0mi\u001b[0m\u001b[1;33m-\u001b[0m\u001b[1;36m1\u001b[0m\u001b[1;33m]\u001b[0m\u001b[1;33m,\u001b[0m \u001b[0mls\u001b[0m\u001b[1;33m[\u001b[0m\u001b[0mi\u001b[0m\u001b[1;33m-\u001b[0m\u001b[1;36m2\u001b[0m\u001b[1;33m]\u001b[0m\u001b[1;33m)\u001b[0m\u001b[1;33m\u001b[0m\u001b[1;33m\u001b[0m\u001b[0m\n",
      "\u001b[1;31mNameError\u001b[0m: name 'stdin' is not defined"
     ]
    }
   ],
   "source": [
    "from sys import stdin\n",
    "n = int(input())\n",
    "stairs = [0] + list(map(int, stdin.read().splitlines()))\n",
    "ls = stairs[:]\n",
    "if n >=2 :\n",
    "    ls[2] += stairs[1]\n",
    "for i in range(3, n+1):\n",
    "    ls[i] += max(ls[i-3] + stairs[i-1], ls[i-2])\n",
    "print(ls[n])"
   ]
  },
  {
   "cell_type": "markdown",
   "id": "80439d17",
   "metadata": {},
   "source": [
    "# 풀이 후 생각"
   ]
  },
  {
   "cell_type": "code",
   "execution_count": null,
   "id": "2f2c88b0",
   "metadata": {},
   "outputs": [],
   "source": [
    "\"\"\"\n",
    "생각보다 까다로웠지만 어느 계단에서부터 왔는지를 파악하는 다이나믹 프로그래밍 문제이다.\n",
    "\"\"\""
   ]
  }
 ],
 "metadata": {
  "kernelspec": {
   "display_name": "Python 3 (ipykernel)",
   "language": "python",
   "name": "python3"
  },
  "language_info": {
   "codemirror_mode": {
    "name": "ipython",
    "version": 3
   },
   "file_extension": ".py",
   "mimetype": "text/x-python",
   "name": "python",
   "nbconvert_exporter": "python",
   "pygments_lexer": "ipython3",
   "version": "3.7.13"
  }
 },
 "nbformat": 4,
 "nbformat_minor": 5
}
