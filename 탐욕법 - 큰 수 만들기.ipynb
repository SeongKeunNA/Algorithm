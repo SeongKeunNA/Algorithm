{
 "cells": [
  {
   "cell_type": "markdown",
   "id": "8d0d8829",
   "metadata": {},
   "source": [
    "# 코딩 전 생각"
   ]
  },
  {
   "cell_type": "code",
   "execution_count": null,
   "id": "152f552c",
   "metadata": {},
   "outputs": [],
   "source": [
    "\"\"\"\"\"\"\"\"\"\"\n",
    "start = 0\n",
    "while start < k:\n",
    "    values = [[v, i] for i, v in enumerate(number[start:min(start+k, len(number))])]\n",
    "    vv, ii = sorted(values, reverse = True)[0]\n",
    "    answer.append(vv)\n",
    "    start += ii\n",
    "return answer\n",
    "\"\"\"\"\"\"\"\"\"\""
   ]
  },
  {
   "cell_type": "markdown",
   "id": "58ee7015",
   "metadata": {},
   "source": [
    "# 내 답안"
   ]
  },
  {
   "cell_type": "code",
   "execution_count": null,
   "id": "0a3ba922",
   "metadata": {},
   "outputs": [],
   "source": [
    "def solution(number, k):\n",
    "    answer = ''\n",
    "    start = 0\n",
    "    L = len(number)\n",
    "    while k:\n",
    "        values = [[i, v] for i, v in enumerate(number[start:start+k+1])]\n",
    "\n",
    "        ii, vv = sorted(values, key = lambda x: (-int(x[1]), x[0]))[0]  # 0, 7\n",
    "\n",
    "        answer += vv # 7\n",
    "        \n",
    "        start += ii + 1 # 4\n",
    "        k -= ii # 2\n",
    "    answer += (number[start:])\n",
    "    return answer"
   ]
  },
  {
   "cell_type": "markdown",
   "id": "10d353c5",
   "metadata": {},
   "source": [
    "# 답안 작성 후 생각"
   ]
  },
  {
   "cell_type": "code",
   "execution_count": null,
   "id": "d7ee0ebb",
   "metadata": {},
   "outputs": [],
   "source": [
    "\"\"\"\"\"\"\"\"\"\"\n",
    "2개의 테스트 케이스에서 시간초과가, 1개의 테스트 케이스에서 런타임 에러가 발생한다.\n",
    "\"\"\"\"\"\"\"\"\"\""
   ]
  },
  {
   "cell_type": "markdown",
   "id": "6290ca82",
   "metadata": {},
   "source": [
    "# 내 답안(2)"
   ]
  },
  {
   "cell_type": "code",
   "execution_count": null,
   "id": "e3597ba3",
   "metadata": {},
   "outputs": [],
   "source": [
    "from collections import deque\n",
    "def solution(number, k):\n",
    "    number = deque(number)\n",
    "    while k:\n",
    "        temp = ''\n",
    "        while number:\n",
    "            out = number.popleft()\n",
    "            if out >= number[0]:\n",
    "                temp += out\n",
    "            else:\n",
    "                number = deque(temp) + number\n",
    "                k -= 1\n",
    "                break\n",
    "    return ''.join(number)"
   ]
  },
  {
   "cell_type": "code",
   "execution_count": null,
   "id": "3c6a1dd0",
   "metadata": {},
   "outputs": [],
   "source": [
    "\"\"\"\"\"\"\"\"\"\"\n",
    "여전히 2개의 테스트 케이스에서 시간초과가, 1개의 테스트 케이스에서 런타임 에러가 발생한다.\n",
    "1134\n",
    "\"\"\"\"\"\"\"\"\"\""
   ]
  },
  {
   "cell_type": "markdown",
   "id": "5fd1bb47",
   "metadata": {},
   "source": [
    "# 내 답안(3)"
   ]
  },
  {
   "cell_type": "code",
   "execution_count": null,
   "id": "f17f1d9e",
   "metadata": {},
   "outputs": [],
   "source": [
    "from collections import deque\n",
    "def solution(number, k):\n",
    "    answer = ''\n",
    "    L = len(number) - k\n",
    "    number = deque(number)\n",
    "    while k:\n",
    "        if len(answer) == L:\n",
    "            return answer\n",
    "        first = number.popleft()\n",
    "        for i in range(1, k+1):\n",
    "            if number[0] > first:\n",
    "                number = number[i:]\n",
    "                k -= i\n",
    "                break\n",
    "            else:\n",
    "                number.popleft()\n",
    "        else:\n",
    "            answer += first\n",
    "            number = number[1:]\n",
    "    return answer + number"
   ]
  },
  {
   "cell_type": "markdown",
   "id": "a3bb4271",
   "metadata": {},
   "source": [
    "# 내 답안(4)"
   ]
  },
  {
   "cell_type": "code",
   "execution_count": null,
   "id": "7b9f6dd8",
   "metadata": {},
   "outputs": [],
   "source": [
    "from collections import deque\n",
    "def solution(number, k):\n",
    "    answer = ''\n",
    "    L = len(number) - k\n",
    "    number = deque(number)\n",
    "    while k:\n",
    "        if len(answer) == L:\n",
    "            return answer\n",
    "        first = number.popleft()\n",
    "        for i in range(k):\n",
    "            if number[i] > first:\n",
    "                k -= i+1 \n",
    "                for _ in range(i):\n",
    "                    number.popleft()\n",
    "                break\n",
    "        else:\n",
    "            answer += first          \n",
    "    return answer + ''.join(list(number))"
   ]
  },
  {
   "cell_type": "markdown",
   "id": "4b00ff1e",
   "metadata": {},
   "source": [
    "# 내 답안(5)"
   ]
  },
  {
   "cell_type": "code",
   "execution_count": null,
   "id": "f2525b18",
   "metadata": {},
   "outputs": [],
   "source": [
    "def solution(number, k):\n",
    "    answer = ''\n",
    "    while k > 0:\n",
    "        L = len(number)\n",
    "        first = number[0]\n",
    "        max_value = int(first)\n",
    "        for i in range(min(L-1, 1), min(k + 1, L)):\n",
    "            if int(number[i]) > max_value:\n",
    "                max_value = int(number[i])\n",
    "                max_idx = i\n",
    "                \n",
    "        if max_value == int(first):\n",
    "            answer += first\n",
    "            number = number[1:]\n",
    "        else:\n",
    "            number = number[max_idx:]\n",
    "            k -= max_idx\n",
    "            \n",
    "    return answer + number"
   ]
  },
  {
   "cell_type": "markdown",
   "id": "36e8a26b",
   "metadata": {},
   "source": [
    "# 내 답안(6)"
   ]
  },
  {
   "cell_type": "code",
   "execution_count": null,
   "id": "13098210",
   "metadata": {},
   "outputs": [],
   "source": [
    "from collections import deque\n",
    "def solution(number, k):\n",
    "    answer = ''\n",
    "    count = len(number) - k\n",
    "    number = deque(number)\n",
    "    while k:\n",
    "        L = len(number)\n",
    "        first = number.popleft()\n",
    "        max_value = int(first)\n",
    "        for i in range(min(k, L)):\n",
    "            if int(number[i]) > max_value:\n",
    "                max_value = int(number[i])\n",
    "                max_idx = i\n",
    "                \n",
    "        if max_value == int(first):\n",
    "            answer += first\n",
    "            if len(answer) == count:\n",
    "                return answer\n",
    "        else:\n",
    "            for _ in range(max_idx): number.popleft()\n",
    "            k -= max_idx+1      \n",
    "    return answer + ''.join(list(number))"
   ]
  },
  {
   "cell_type": "markdown",
   "id": "23b79634",
   "metadata": {},
   "source": [
    "# 답안 작성 후 생각"
   ]
  },
  {
   "cell_type": "code",
   "execution_count": null,
   "id": "f1b1c468",
   "metadata": {},
   "outputs": [],
   "source": [
    "\"\"\"\"\"\"\"\"\"\"\n",
    "런타임 에러는 해결됐지만 여전히 두 개의 테스트 케이스에서 시간 초과가 발생한다.\n",
    "\n",
    "힌트를 참고해보자.\n",
    "\"\"\"\"\"\"\"\"\"\""
   ]
  },
  {
   "cell_type": "markdown",
   "id": "94215104",
   "metadata": {},
   "source": [
    "# 힌트 참고 후 내 답안 (7)"
   ]
  },
  {
   "cell_type": "code",
   "execution_count": null,
   "id": "4a4556ad",
   "metadata": {},
   "outputs": [],
   "source": [
    "def solution(number, k):\n",
    "    answer = ''\n",
    "    count = len(number) - k\n",
    "    while k > 0:\n",
    "        L = len(number)\n",
    "        first = number[0]\n",
    "        max_value = int(first)\n",
    "        for i in range(min(L-1, 1), min(k + 1, L)):\n",
    "            if max_value == 9:\n",
    "                break\n",
    "                \n",
    "            if int(number[i]) > max_value:\n",
    "                max_value = int(number[i])\n",
    "                max_idx = i\n",
    "                \n",
    "        if max_value == int(first):\n",
    "            number = number[1:]\n",
    "            answer += first\n",
    "            if len(answer) == count:\n",
    "                return answer\n",
    "            \n",
    "        else:\n",
    "            number = number[max_idx:]\n",
    "            k -= max_idx\n",
    "            \n",
    "    return answer + number"
   ]
  },
  {
   "cell_type": "markdown",
   "id": "4460b8ee",
   "metadata": {},
   "source": [
    "# 답안 작성 후 생각"
   ]
  },
  {
   "cell_type": "code",
   "execution_count": null,
   "id": "44dc27b0",
   "metadata": {},
   "outputs": [],
   "source": [
    "\"\"\"\"\"\"\"\"\"\"\n",
    "max_value가 9일 때 탐색을 멈추는 것만으로 시간 복잡도가 상당히 줄어들어 모든 테스트 케이스를 통과했다.\n",
    "\"\"\"\"\"\"\"\"\"\""
   ]
  },
  {
   "cell_type": "markdown",
   "id": "623b4a6a",
   "metadata": {},
   "source": [
    "# Demi , - , 이준희 , mminyoung , - 외 419 명의 답안"
   ]
  },
  {
   "cell_type": "code",
   "execution_count": null,
   "id": "06b6271d",
   "metadata": {},
   "outputs": [],
   "source": [
    "def solution(number, k):\n",
    "    stack = [number[0]]\n",
    "    for num in number[1:]: \n",
    "        while len(stack) > 0 and stack[-1] < num and k > 0: \n",
    "            k -= 1\n",
    "            stack.pop()\n",
    "        stack.append(num)\n",
    "    if k != 0:\n",
    "        stack = stack[:-k]\n",
    "    return ''.join(stack)"
   ]
  },
  {
   "cell_type": "markdown",
   "id": "f74071d6",
   "metadata": {},
   "source": [
    "# 정답 확인 후 생각"
   ]
  },
  {
   "cell_type": "code",
   "execution_count": null,
   "id": "12ce2886",
   "metadata": {},
   "outputs": [],
   "source": [
    "\"\"\"\"\"\"\"\"\"\"\n",
    "디버깅을 해야 비로소 이해가 된다.\n",
    "\n",
    "떠올리기 힘들지만 좋은 아이디어인 것 같다.\n",
    "\"\"\"\"\"\"\"\"\"\""
   ]
  }
 ],
 "metadata": {
  "kernelspec": {
   "display_name": "Python 3 (ipykernel)",
   "language": "python",
   "name": "python3"
  },
  "language_info": {
   "codemirror_mode": {
    "name": "ipython",
    "version": 3
   },
   "file_extension": ".py",
   "mimetype": "text/x-python",
   "name": "python",
   "nbconvert_exporter": "python",
   "pygments_lexer": "ipython3",
   "version": "3.7.13"
  }
 },
 "nbformat": 4,
 "nbformat_minor": 5
}
