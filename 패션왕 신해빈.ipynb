{
 "cells": [
  {
   "cell_type": "markdown",
   "id": "28f545fb",
   "metadata": {},
   "source": [
    "# 풀이 전 생각"
   ]
  },
  {
   "cell_type": "code",
   "execution_count": null,
   "id": "7a043391",
   "metadata": {},
   "outputs": [],
   "source": [
    "\"\"\"\n",
    "각 의상 종류를 키로 하고 의상 이름을 값으로 하는 딕셔너리 dic를 선언함\n",
    "\n",
    "각 의상을 종류 별로 combinations로 추출함\n",
    "\"\"\""
   ]
  },
  {
   "cell_type": "markdown",
   "id": "c625b8c3",
   "metadata": {},
   "source": [
    "# 내 답안"
   ]
  },
  {
   "cell_type": "code",
   "execution_count": 11,
   "id": "7a93066d",
   "metadata": {},
   "outputs": [
    {
     "name": "stdout",
     "output_type": "stream",
     "text": [
      "1\n",
      "2\n",
      "12\n"
     ]
    }
   ],
   "source": [
    "from sys import stdin, stdout\n",
    "for t in range(int(input())):\n",
    "    n = int(input())\n",
    "    if n == 0:\n",
    "        stdout.write(\"0\\n\")\n",
    "    else:\n",
    "        dic = {}\n",
    "        for _ in range(n):\n",
    "            value, key = stdin.readline().strip().split()\n",
    "            if key in dic.keys():\n",
    "                dic[key].append(value)\n",
    "            else:\n",
    "                dic[key] = [value]\n",
    "        length = [len(dic[key]) + 1 for key in dic.keys()]\n",
    "        val = 1\n",
    "        for i in length:\n",
    "            val *= i\n",
    "        stdout.write(str(val - 1) + \"\\n\")  "
   ]
  },
  {
   "cell_type": "markdown",
   "id": "86745b59",
   "metadata": {},
   "source": [
    "# 풀이 후 생각"
   ]
  },
  {
   "cell_type": "code",
   "execution_count": null,
   "id": "2bd6bb39",
   "metadata": {},
   "outputs": [],
   "source": [
    "\"\"\"\n",
    "오랜만에 푸느라 경우의 수를 생각하기가 어려웠다.\n",
    "\"\"\""
   ]
  }
 ],
 "metadata": {
  "kernelspec": {
   "display_name": "Python 3 (ipykernel)",
   "language": "python",
   "name": "python3"
  },
  "language_info": {
   "codemirror_mode": {
    "name": "ipython",
    "version": 3
   },
   "file_extension": ".py",
   "mimetype": "text/x-python",
   "name": "python",
   "nbconvert_exporter": "python",
   "pygments_lexer": "ipython3",
   "version": "3.7.13"
  }
 },
 "nbformat": 4,
 "nbformat_minor": 5
}
