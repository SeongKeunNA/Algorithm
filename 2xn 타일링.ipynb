{
 "cells": [
  {
   "cell_type": "markdown",
   "id": "dcdb2040",
   "metadata": {},
   "source": [
    "# 풀이 전 생각"
   ]
  },
  {
   "cell_type": "code",
   "execution_count": null,
   "id": "1170e694",
   "metadata": {},
   "outputs": [],
   "source": [
    "\"\"\"\n",
    "리스트 ls를 선언하고 2xi의 직사각형을 채운 방법의 경우의 수를 담는다. 초깃값은 0으로 설정한다.\n",
    "\n",
    "ls[1] = 1, ls[2] = 2이다.\n",
    "\n",
    "i를 3부터 n까지 반복해서 ls[i] = ls[i-2] + ls[i-1]로 한다.\n",
    "\n",
    "\"\"\""
   ]
  },
  {
   "cell_type": "markdown",
   "id": "7635f81f",
   "metadata": {},
   "source": [
    "# 내 답안"
   ]
  },
  {
   "cell_type": "code",
   "execution_count": 4,
   "id": "47eeff17",
   "metadata": {},
   "outputs": [
    {
     "name": "stdout",
     "output_type": "stream",
     "text": [
      "9\n",
      "55\n"
     ]
    }
   ],
   "source": [
    "n = int(input())\n",
    "ls = [0] * (n+1)\n",
    "ls[1], ls[2] = 1, 2\n",
    "for i in range(3, n+1):\n",
    "    ls[i] = ls[i-2] + ls[i-1]\n",
    "print(ls[n]%10007)"
   ]
  }
 ],
 "metadata": {
  "kernelspec": {
   "display_name": "Python 3 (ipykernel)",
   "language": "python",
   "name": "python3"
  },
  "language_info": {
   "codemirror_mode": {
    "name": "ipython",
    "version": 3
   },
   "file_extension": ".py",
   "mimetype": "text/x-python",
   "name": "python",
   "nbconvert_exporter": "python",
   "pygments_lexer": "ipython3",
   "version": "3.7.13"
  }
 },
 "nbformat": 4,
 "nbformat_minor": 5
}
