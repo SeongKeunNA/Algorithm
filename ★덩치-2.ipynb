{
 "cells": [
  {
   "cell_type": "code",
   "execution_count": 17,
   "id": "ef50b065",
   "metadata": {},
   "outputs": [
    {
     "name": "stdout",
     "output_type": "stream",
     "text": [
      "5 \n",
      "55 185\n",
      "58 183\n",
      "88 186\n",
      "60 175\n",
      "46 155\n"
     ]
    },
    {
     "ename": "ValueError",
     "evalue": "too many values to unpack (expected 2)",
     "output_type": "error",
     "traceback": [
      "\u001b[1;31m---------------------------------------------------------------------------\u001b[0m",
      "\u001b[1;31mValueError\u001b[0m                                Traceback (most recent call last)",
      "\u001b[1;32m~\\AppData\\Local\\Temp\\ipykernel_41484\\3969832606.py\u001b[0m in \u001b[0;36m<module>\u001b[1;34m\u001b[0m\n\u001b[0;32m      9\u001b[0m \u001b[0mheight_only\u001b[0m \u001b[1;33m=\u001b[0m \u001b[1;33m[\u001b[0m\u001b[0mj\u001b[0m\u001b[1;33m[\u001b[0m\u001b[1;36m1\u001b[0m\u001b[1;33m]\u001b[0m \u001b[1;32mfor\u001b[0m \u001b[0mj\u001b[0m \u001b[1;32min\u001b[0m \u001b[0mheight\u001b[0m\u001b[1;33m]\u001b[0m\u001b[1;33m\u001b[0m\u001b[1;33m\u001b[0m\u001b[0m\n\u001b[0;32m     10\u001b[0m \u001b[0mranks\u001b[0m \u001b[1;33m=\u001b[0m \u001b[1;33m[\u001b[0m\u001b[1;33m]\u001b[0m\u001b[1;33m\u001b[0m\u001b[1;33m\u001b[0m\u001b[0m\n\u001b[1;32m---> 11\u001b[1;33m \u001b[1;32mfor\u001b[0m \u001b[0mw\u001b[0m\u001b[1;33m,\u001b[0m \u001b[0mh\u001b[0m \u001b[1;32min\u001b[0m \u001b[0mdata\u001b[0m\u001b[1;33m:\u001b[0m\u001b[1;33m\u001b[0m\u001b[1;33m\u001b[0m\u001b[0m\n\u001b[0m\u001b[0;32m     12\u001b[0m     \u001b[0mwidx\u001b[0m \u001b[1;33m=\u001b[0m \u001b[0mweight_only\u001b[0m\u001b[1;33m.\u001b[0m\u001b[0mindex\u001b[0m\u001b[1;33m(\u001b[0m\u001b[0mw\u001b[0m\u001b[1;33m)\u001b[0m\u001b[1;33m\u001b[0m\u001b[1;33m\u001b[0m\u001b[0m\n\u001b[0;32m     13\u001b[0m     \u001b[0mhidx\u001b[0m \u001b[1;33m=\u001b[0m \u001b[0mheight_only\u001b[0m\u001b[1;33m.\u001b[0m\u001b[0mindex\u001b[0m\u001b[1;33m(\u001b[0m\u001b[0mh\u001b[0m\u001b[1;33m)\u001b[0m\u001b[1;33m\u001b[0m\u001b[1;33m\u001b[0m\u001b[0m\n",
      "\u001b[1;31mValueError\u001b[0m: too many values to unpack (expected 2)"
     ]
    }
   ],
   "source": [
    "n = int(input())\n",
    "data = [[] for _ in range(n)]\n",
    "for i in range(n):\n",
    "    data[i] = list(map(int, input().split()))\n",
    "    data[i].append(i)\n",
    "weight = sorted(data, reverse = True)\n",
    "height = sorted(data, key = lambda x: -x[1])\n",
    "weight_only = [i[0] for i in weight] \n",
    "height_only = [j[1] for j in height]\n",
    "ranks = []\n",
    "for w, h in data:\n",
    "    widx = weight_only.index(w) \n",
    "    hidx = height_only.index(h)\n",
    "    bigger_w = set(i[2] for i in weight[:widx])\n",
    "    bigger_h = set(j[2] for j in height[:hidx])\n",
    "    bigger_num = bigger_w.intersection(bigger_h)\n",
    "    ranks.append(len(bigger_num) + 1)\n",
    "for rank in ranks:\n",
    "    print(rank, end = ' ')"
   ]
  },
  {
   "cell_type": "markdown",
   "id": "391ad797",
   "metadata": {},
   "source": [
    "## interhan2017님의 풀이 https://www.acmicpc.net/source/37501756"
   ]
  },
  {
   "cell_type": "code",
   "execution_count": null,
   "id": "caa2b088",
   "metadata": {},
   "outputs": [],
   "source": [
    "import sys\n",
    "N = int(sys.stdin.readline())\n",
    "lst = []\n",
    "for _ in range(N):\n",
    "    data = list(map(int, sys.stdin.readline().split()))\n",
    "    lst.append(data)\n",
    "\n",
    "for i in range(len(lst)):\n",
    "    a = 1\n",
    "    for j in lst:\n",
    "        if j[0] > lst[i][0] and j[1] > lst[i][1]:\n",
    "            a += 1\n",
    "    lst[i].append(a)\n",
    "[print(i[2], end=' ') for i in lst]"
   ]
  },
  {
   "cell_type": "markdown",
   "id": "d7448339",
   "metadata": {},
   "source": [
    "# 정답 확인 후 생각"
   ]
  },
  {
   "cell_type": "code",
   "execution_count": null,
   "id": "84bd2fec",
   "metadata": {},
   "outputs": [],
   "source": [
    "\"\"\"\"\"\"\"\"\"\"\n",
    "정렬과 index(), set와 intersection 등을 활용해지만 완전 탐색이 더 빨랐다.\n",
    "\"\"\"\"\"\"\"\"\"\""
   ]
  }
 ],
 "metadata": {
  "kernelspec": {
   "display_name": "Python 3 (ipykernel)",
   "language": "python",
   "name": "python3"
  },
  "language_info": {
   "codemirror_mode": {
    "name": "ipython",
    "version": 3
   },
   "file_extension": ".py",
   "mimetype": "text/x-python",
   "name": "python",
   "nbconvert_exporter": "python",
   "pygments_lexer": "ipython3",
   "version": "3.7.13"
  }
 },
 "nbformat": 4,
 "nbformat_minor": 5
}
