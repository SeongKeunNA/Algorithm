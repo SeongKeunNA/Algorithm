{
 "cells": [
  {
   "cell_type": "markdown",
   "id": "ccacd1cd",
   "metadata": {},
   "source": [
    "# 코딩 전 생각"
   ]
  },
  {
   "cell_type": "code",
   "execution_count": null,
   "id": "cf903c14",
   "metadata": {},
   "outputs": [],
   "source": [
    "\"\"\"\"\"\"\"\"\"\"\"\n",
    "1. table의 (0,0)칸에서부터 반복하여 퍼즐을 dfs로 구분해 뽑음. (x,y)좌표로 모음\n",
    "\n",
    "2. 모든 퍼즐을 정렬한 뒤 첫번째 원소의 x,y좌표를 각각 뺌으로써 표준화함\n",
    "\n",
    "3. 회전 함수 구현:\n",
    "기준점에서 n칸 오른쪽 -> 기준점에서 n칸 아래\n",
    "기준점에서 n칸 아래 -> 기준점에서 n칸 왼쪽\n",
    "\n",
    "4. game_board의 빈칸을 dfs로 구분해 뽑아 (x,y)좌표로 모으고 마찬가지로  표준화함.\n",
    "\n",
    "5. 빈칸마다 남아있는 퍼즐을 맞추보고 맞춰지면 해당 퍼즐을 삭제하고 해당 퍼즐의 길이만큼 answer에 더함.\n",
    "\n",
    "6. answer 출력\n",
    "\"\"\"\"\"\"\"\"\"\"\""
   ]
  },
  {
   "cell_type": "markdown",
   "id": "c907fc49",
   "metadata": {},
   "source": [
    "# 내 답안"
   ]
  },
  {
   "cell_type": "code",
   "execution_count": null,
   "id": "e8ca40ee",
   "metadata": {},
   "outputs": [],
   "source": [
    "dx = [-1, 0, 1, 0]\n",
    "dy = [0, 1, -0, -1]\n",
    "\n",
    "def dfs(x, y, board, num):\n",
    "    n = len(board)\n",
    "    for i in range(4):\n",
    "        nx = x + dx[i]\n",
    "        ny = y + dy[i]\n",
    "        if 0 <= nx < n and 0 <= ny < n:\n",
    "            if board[nx][ny] == num:\n",
    "                board[nx][ny] = -1\n",
    "                block.append([nx, ny])\n",
    "                dfs(nx, ny, board, num)\n",
    "                \n",
    "def rotate(puzzle):\n",
    "    x0, y0 = puzzle[0]\n",
    "    new_puzzle = []\n",
    "    for x, y in puzzle:\n",
    "        new_puzzle.append([(y - y0), - (x - x0)])\n",
    "    x0, y0 = min(new_puzzle)\n",
    "    final_puzzle = []\n",
    "    for x, y in new_puzzle:\n",
    "        final_puzzle.append([x - x0, y - y0])\n",
    "    return sorted(final_puzzle)\n",
    "\n",
    "def check(empty):\n",
    "    for puzzle in puzzles:\n",
    "        puzzle_ = puzzle[:]\n",
    "        for _ in range(4):\n",
    "            puzzle_ = rotate(puzzle_)\n",
    "            if empty == puzzle_:\n",
    "                puzzles.remove(puzzle)\n",
    "                return True\n",
    "    return False\n",
    "\n",
    "def solution(game_board, table):\n",
    "    answer = 0\n",
    "    n = len(table)\n",
    "    global puzzles\n",
    "    global block\n",
    "    puzzles = []\n",
    "    for i in range(n):\n",
    "        for j in range(n):\n",
    "            if table[i][j] == 1:\n",
    "                table[i][j] = -1\n",
    "                block = [[i, j]]\n",
    "                dfs(i, j, table, 1)\n",
    "                block.sort()\n",
    "                x0, y0 = block[0]\n",
    "                puzzle = []\n",
    "                for x, y in block:\n",
    "                    puzzle.append([x - x0, y - y0])\n",
    "                puzzles.append(puzzle)\n",
    "                \n",
    "    for i in range(n):\n",
    "        for j in range(n):   \n",
    "            if game_board[i][j] == 0:\n",
    "                game_board[i][j] = -1\n",
    "                block = [[i, j]]\n",
    "                dfs(i, j, game_board, 0)\n",
    "                block.sort()\n",
    "                x0, y0 = block[0]\n",
    "                empty = []\n",
    "                for x, y in block:\n",
    "                    empty.append([x - x0, y - y0])\n",
    "                if check(empty):\n",
    "                    answer += len(empty)\n",
    "    return answer"
   ]
  },
  {
   "cell_type": "markdown",
   "id": "f2e630fb",
   "metadata": {},
   "source": [
    "# 정답 확인 후 생각"
   ]
  },
  {
   "cell_type": "code",
   "execution_count": null,
   "id": "5eb55ab9",
   "metadata": {},
   "outputs": [],
   "source": [
    "\"\"\"\"\"\"\"\"\"\"\n",
    "도저히 감이 잡히지 않아 다른 분들의 팁과 코드를 참고했다.\n",
    "\n",
    "https://school.programmers.co.kr/questions/34924\n",
    "\n",
    "https://school.programmers.co.kr/questions/23227\n",
    "\n",
    "https://school.programmers.co.kr/questions/30183\n",
    "\n",
    "https://school.programmers.co.kr/questions/31797\n",
    "\n",
    "https://school.programmers.co.kr/questions/20351\n",
    "\"\"\"\"\"\"\"\"\"\""
   ]
  }
 ],
 "metadata": {
  "kernelspec": {
   "display_name": "Python 3 (ipykernel)",
   "language": "python",
   "name": "python3"
  },
  "language_info": {
   "codemirror_mode": {
    "name": "ipython",
    "version": 3
   },
   "file_extension": ".py",
   "mimetype": "text/x-python",
   "name": "python",
   "nbconvert_exporter": "python",
   "pygments_lexer": "ipython3",
   "version": "3.7.13"
  }
 },
 "nbformat": 4,
 "nbformat_minor": 5
}
