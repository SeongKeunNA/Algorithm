{
 "cells": [
  {
   "cell_type": "markdown",
   "id": "655386e3",
   "metadata": {},
   "source": [
    "# 코딩 전 생각"
   ]
  },
  {
   "cell_type": "code",
   "execution_count": null,
   "id": "4b54c29c",
   "metadata": {},
   "outputs": [],
   "source": [
    "\"\"\"\"\"\"\"\"\"\"\n",
    "0. 장르별 총 재생 횟수를 담는 total dict와 장르별 고유번호 모음을 담는 nums dict를 생성한다. \n",
    "\n",
    "1. genres 리스트의 수 만큼 반복하여(i): i번째 노래의 장르가 hash의 keys()안에 존재한다면 해당 key 값의 value 리스트에 i를 추가하고, \n",
    "nums의 해당 key 값의 value 리스트에 (plays[i], i) 값을 추가한다. 그렇지않으면 두 dict에 새로운 key,value 쌍을 추가한다.\n",
    "\n",
    "2. total dict에서 값이 큰 순서대로 반복하여:\n",
    "만약 해당 key값의 value 리스트의 원소가 1개라면 해당 원소의 두 번째 값(고유번호)를 answer 리스트에 추가한다.\n",
    "그렇지 않다면 value 리스트의 가장 큰 두 개의 값을 answer 리스트에 추가한다.\n",
    "\"\"\"\"\"\"\"\"\"\""
   ]
  },
  {
   "cell_type": "markdown",
   "id": "d67dbc63",
   "metadata": {},
   "source": [
    "# 내 답안"
   ]
  },
  {
   "cell_type": "code",
   "execution_count": null,
   "id": "e1edf352",
   "metadata": {},
   "outputs": [],
   "source": [
    "def solution(genres, plays):\n",
    "    answer = []\n",
    "    total_dict = dict()\n",
    "    nums_dict = dict()\n",
    "    for i in range(len(genres)):\n",
    "        if genres[i] in total_dict.keys():\n",
    "            total_dict[genres[i]] += plays[i]\n",
    "            nums_dict[genres[i]].append((plays[i], i))\n",
    "        else:\n",
    "            total_dict[genres[i]] = plays[i]\n",
    "            nums_dict[genres[i]] = [(plays[i], i)]\n",
    "            \n",
    "    total_list = []\n",
    "    for genre in total_dict.keys():\n",
    "        total_list.append((total_dict[genre], genre))\n",
    "    total_list.sort(reverse = True)\n",
    "        \n",
    "    for value, genre in total_list:\n",
    "        if len(nums_dict[genre]) == 1:\n",
    "            answer.append(nums_dict[genre][0][1])\n",
    "        else:\n",
    "            nums_dict[genre].sort(key = lambda x: (-x[0], x[1]))\n",
    "            for i in range(2):\n",
    "                answer.append(nums_dict[genre][i][1])\n",
    "                \n",
    "    return answer"
   ]
  },
  {
   "cell_type": "markdown",
   "id": "3e8506a5",
   "metadata": {},
   "source": [
    "# 김정휘 , 남윤상 , - , hskim , toneyparky 외 46 명의 답안"
   ]
  },
  {
   "cell_type": "code",
   "execution_count": null,
   "id": "a36fbcc7",
   "metadata": {},
   "outputs": [],
   "source": [
    "def solution(genres, plays):\n",
    "    answer = []\n",
    "    d = {e:[] for e in set(genres)}\n",
    "    for e in zip(genres, plays, range(len(plays))):\n",
    "        d[e[0]].append([e[1] , e[2]])\n",
    "    genreSort =sorted(list(d.keys()), key= lambda x: sum( map(lambda y: y[0],d[x])), reverse = True)\n",
    "    for g in genreSort:\n",
    "        temp = [e[1] for e in sorted(d[g],key= lambda x: (x[0], -x[1]), reverse = True)]\n",
    "        answer += temp[:min(len(temp),2)]\n",
    "    return answer"
   ]
  },
  {
   "cell_type": "markdown",
   "id": "3d17ac06",
   "metadata": {},
   "source": [
    "# 박경준 , - , jimmyberg , 최동휘 , glow147 외 1 명의 답안"
   ]
  },
  {
   "cell_type": "code",
   "execution_count": null,
   "id": "a9091ad1",
   "metadata": {},
   "outputs": [],
   "source": [
    "def solution(genres, plays):\n",
    "    answer = []\n",
    "    dic = {}\n",
    "    album_list = []\n",
    "    for i in range(len(genres)):\n",
    "        dic[genres[i]] = dic.get(genres[i], 0) + plays[i]\n",
    "        album_list.append(album(genres[i], plays[i], i))\n",
    "\n",
    "    dic = sorted(dic.items(), key=lambda dic:dic[1], reverse=True)\n",
    "    album_list = sorted(album_list, reverse=True)\n",
    "\n",
    "\n",
    "\n",
    "    while len(dic) > 0:\n",
    "        play_genre = dic.pop(0)\n",
    "        print(play_genre)\n",
    "        cnt = 0;\n",
    "        for ab in album_list:\n",
    "            if play_genre[0] == ab.genre:\n",
    "                answer.append(ab.track)\n",
    "                cnt += 1\n",
    "            if cnt == 2:\n",
    "                break\n",
    "\n",
    "    return answer\n",
    "\n",
    "class album:\n",
    "    def __init__(self, genre, play, track):\n",
    "        self.genre = genre\n",
    "        self.play = play\n",
    "        self.track = track\n",
    "\n",
    "    def __lt__(self, other):\n",
    "        return self.play < other.play\n",
    "    def __le__(self, other):\n",
    "        return self.play <= other.play\n",
    "    def __gt__(self, other):\n",
    "        return self.play > other.play\n",
    "    def __ge__(self, other):\n",
    "        return self.play >= other.play\n",
    "    def __eq__(self, other):\n",
    "        return self.play == other.play\n",
    "    def __ne__(self, other):\n",
    "        return self.play != other.play"
   ]
  },
  {
   "cell_type": "markdown",
   "id": "5977b32c",
   "metadata": {},
   "source": [
    "# 답안 작성 후 생각"
   ]
  },
  {
   "cell_type": "code",
   "execution_count": null,
   "id": "28ee15a9",
   "metadata": {},
   "outputs": [],
   "source": [
    "\"\"\"\"\"\"\"\"\"\"\n",
    "1. get함수는 선언된 dict에서 출력하고자 하는 key가 있으면, 그에 해당하는 value를 출력해줍니다.\n",
    "또한, 출력하고자 하는 key가 없으면, 오류가 아닌 None을 출력합니다.\n",
    "출처: https://yang-wistory1009.tistory.com/38\n",
    "만약 인자를 하나 더 써주면 뒤의 인자는 해당 dic에 키값이 없을 때 기본값임\n",
    "\n",
    "2. dic.pop(0) 형태로 사용 가능\n",
    "\n",
    "3. 정렬 시 기준 값(key)로 lambda 안에 lambda가 있는 이중 lambda 구문을 활용할 수 있다.\n",
    "\"\"\"\"\"\"\"\"\"\""
   ]
  }
 ],
 "metadata": {
  "kernelspec": {
   "display_name": "Python 3 (ipykernel)",
   "language": "python",
   "name": "python3"
  },
  "language_info": {
   "codemirror_mode": {
    "name": "ipython",
    "version": 3
   },
   "file_extension": ".py",
   "mimetype": "text/x-python",
   "name": "python",
   "nbconvert_exporter": "python",
   "pygments_lexer": "ipython3",
   "version": "3.7.13"
  }
 },
 "nbformat": 4,
 "nbformat_minor": 5
}
