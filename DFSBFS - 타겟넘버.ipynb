{
 "cells": [
  {
   "cell_type": "markdown",
   "id": "0cc6d7fa",
   "metadata": {},
   "source": [
    "# 코딩 전 생각"
   ]
  },
  {
   "cell_type": "code",
   "execution_count": null,
   "id": "1ba02dfe",
   "metadata": {},
   "outputs": [],
   "source": [
    "\"\"\"\"\"\"\"\"\"\"\n",
    "DFS로 더하거나 뺀 최종 결과가 target과 같은 것의 개수를 모두 센다.\n",
    "\"\"\"\"\"\"\"\"\"\""
   ]
  },
  {
   "cell_type": "markdown",
   "id": "47f3097c",
   "metadata": {},
   "source": [
    "# 내 답안"
   ]
  },
  {
   "cell_type": "code",
   "execution_count": null,
   "id": "5f739e72",
   "metadata": {},
   "outputs": [],
   "source": [
    "def dfs(value, num, target, numbers):\n",
    "    global answer\n",
    "    if num >= L:\n",
    "        if value == target:\n",
    "            answer += 1\n",
    "        return\n",
    "    dfs(value + numbers[num], num + 1, target, numbers)\n",
    "    dfs(value - numbers[num], num + 1, target, numbers)\n",
    "\n",
    "def solution(numbers, target):\n",
    "    global answer, L\n",
    "    answer = 0\n",
    "    L = len(numbers)\n",
    "    dfs(0, 0, target, numbers)\n",
    "    return answer"
   ]
  }
 ],
 "metadata": {
  "kernelspec": {
   "display_name": "Python 3 (ipykernel)",
   "language": "python",
   "name": "python3"
  },
  "language_info": {
   "codemirror_mode": {
    "name": "ipython",
    "version": 3
   },
   "file_extension": ".py",
   "mimetype": "text/x-python",
   "name": "python",
   "nbconvert_exporter": "python",
   "pygments_lexer": "ipython3",
   "version": "3.7.13"
  }
 },
 "nbformat": 4,
 "nbformat_minor": 5
}
