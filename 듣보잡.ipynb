{
 "cells": [
  {
   "cell_type": "markdown",
   "id": "ff017982",
   "metadata": {},
   "source": [
    "# 풀이 전 생각"
   ]
  },
  {
   "cell_type": "code",
   "execution_count": null,
   "id": "46f95f20",
   "metadata": {},
   "outputs": [],
   "source": [
    "\"\"\"\n",
    "듣도 못한 사람과 보도 못한 사람을 각각의 set에 담아 intersection 결과를 정렬하여 출력한다.\n",
    "\"\"\""
   ]
  },
  {
   "cell_type": "markdown",
   "id": "f195fef6",
   "metadata": {},
   "source": [
    "# 내 답안"
   ]
  },
  {
   "cell_type": "code",
   "execution_count": null,
   "id": "ef41436c",
   "metadata": {},
   "outputs": [],
   "source": [
    "from sys import stdin, stdout\n",
    "input = stdin.readline\n",
    "print = stdout.write\n",
    "n, m = map(int, input().split())\n",
    "set_a = set()\n",
    "set_b = set()\n",
    "for i in range(n):\n",
    "    set_a.add(input().strip())\n",
    "for i in range(m):\n",
    "    set_b.add(input().strip())\n",
    "result = sorted(list(set_a.intersection(set_b)))\n",
    "print(len(result)+'\\n' + '\\n'.join(result))"
   ]
  },
  {
   "cell_type": "markdown",
   "id": "7d1f2c2f",
   "metadata": {},
   "source": [
    "# rladygks329님의 답안"
   ]
  },
  {
   "cell_type": "code",
   "execution_count": null,
   "id": "8b4e3e08",
   "metadata": {},
   "outputs": [],
   "source": [
    "import sys\n",
    "\n",
    "n, m = map(int, sys.stdin.readline().split())\n",
    "stdin = sys.stdin.read().splitlines()\n",
    "a = set(stdin[:n]) & set(stdin[n:])\n",
    "\n",
    "print(len(a))\n",
    "a = list(a)\n",
    "a.sort()\n",
    "for i in a:\n",
    "    print(i)\n"
   ]
  },
  {
   "cell_type": "markdown",
   "id": "adc16750",
   "metadata": {},
   "source": [
    "# 정답 확인 후 생각"
   ]
  },
  {
   "cell_type": "code",
   "execution_count": null,
   "id": "565e2b36",
   "metadata": {},
   "outputs": [],
   "source": [
    "\"\"\"\n",
    "1. stdin.read().splitlines()로 입력을 한 번에 받을 수 있다.\n",
    "\n",
    "2. intersection은 기호로 &이다.\n",
    "\"\"\""
   ]
  }
 ],
 "metadata": {
  "kernelspec": {
   "display_name": "Python 3 (ipykernel)",
   "language": "python",
   "name": "python3"
  },
  "language_info": {
   "codemirror_mode": {
    "name": "ipython",
    "version": 3
   },
   "file_extension": ".py",
   "mimetype": "text/x-python",
   "name": "python",
   "nbconvert_exporter": "python",
   "pygments_lexer": "ipython3",
   "version": "3.7.13"
  }
 },
 "nbformat": 4,
 "nbformat_minor": 5
}
