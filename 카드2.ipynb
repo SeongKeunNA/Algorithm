{
 "cells": [
  {
   "cell_type": "markdown",
   "id": "47f67407",
   "metadata": {},
   "source": [
    "# 코딩 전 생각"
   ]
  },
  {
   "cell_type": "code",
   "execution_count": null,
   "id": "1e4dc2da",
   "metadata": {},
   "outputs": [],
   "source": [
    "\"\"\"\"\"\"\"\"\"\"\n",
    "문제에서 주어진 조건에 따라 구현한다.\n",
    "\"\"\"\"\"\"\"\"\"\""
   ]
  },
  {
   "cell_type": "markdown",
   "id": "b6f77ac4",
   "metadata": {},
   "source": [
    "# 내 답안"
   ]
  },
  {
   "cell_type": "code",
   "execution_count": 1,
   "id": "5f49ff66",
   "metadata": {},
   "outputs": [
    {
     "name": "stdout",
     "output_type": "stream",
     "text": [
      "6\n",
      "4\n"
     ]
    }
   ],
   "source": [
    "from collections import deque\n",
    "n = int(input())\n",
    "if n == 1:\n",
    "    print(1)    \n",
    "else:\n",
    "    cards = deque(list(range(1, n + 1)))\n",
    "    while True:\n",
    "        a = cards.popleft()\n",
    "        b = cards.popleft()\n",
    "        if not cards:\n",
    "            print(b)\n",
    "            break\n",
    "        else:\n",
    "            cards.append(b)"
   ]
  },
  {
   "cell_type": "markdown",
   "id": "6ebace86",
   "metadata": {},
   "source": [
    "# pswoo27님의 답안 - https://www.acmicpc.net/source/38362320"
   ]
  },
  {
   "cell_type": "code",
   "execution_count": null,
   "id": "50bdd9fc",
   "metadata": {},
   "outputs": [],
   "source": [
    "n = int(input())\n",
    "\n",
    "if n == 1 or n == 2:\n",
    "    print(n)\n",
    "else:\n",
    "    num = [0 for _ in range(n + 1)]\n",
    "    num[1] = 1; num[2] = 2\n",
    "    \n",
    "    for i in range(3, n + 1):\n",
    "        if num[i - 1] + 2 > i:\n",
    "            num[i] = 2\n",
    "        else:\n",
    "            num[i] = num[i - 1] + 2\n",
    "    \n",
    "    print(num[n])"
   ]
  },
  {
   "cell_type": "markdown",
   "id": "1200795d",
   "metadata": {},
   "source": [
    "# 답안 작성 후 생각"
   ]
  },
  {
   "cell_type": "code",
   "execution_count": 2,
   "id": "9889dd68",
   "metadata": {},
   "outputs": [
    {
     "ename": "SyntaxError",
     "evalue": "EOF while scanning triple-quoted string literal (1314066099.py, line 1)",
     "output_type": "error",
     "traceback": [
      "\u001b[1;36m  File \u001b[1;32m\"C:\\Users\\najonggeun\\AppData\\Local\\Temp\\ipykernel_10824\\1314066099.py\"\u001b[1;36m, line \u001b[1;32m1\u001b[0m\n\u001b[1;33m    \"\"\"\"\"\"\"\"\"\"\u001b[0m\n\u001b[1;37m              ^\u001b[0m\n\u001b[1;31mSyntaxError\u001b[0m\u001b[1;31m:\u001b[0m EOF while scanning triple-quoted string literal\n"
     ]
    }
   ],
   "source": [
    "\"\"\"\"\"\"\"\"\"\"\n",
    "pswoo27님의 답안은 문제의 숨은 규칙을 찾아 점화식을 세워서, \n",
    "\n",
    "num[i - 1]에 2를 더한 수가 i보다 크다면 num[i] = 2, 그렇지 않다면 num[i-1]+2가 되도록 했다.\n",
    "\"\"\"\"\"\"\"\"\"\""
   ]
  }
 ],
 "metadata": {
  "kernelspec": {
   "display_name": "Python 3 (ipykernel)",
   "language": "python",
   "name": "python3"
  },
  "language_info": {
   "codemirror_mode": {
    "name": "ipython",
    "version": 3
   },
   "file_extension": ".py",
   "mimetype": "text/x-python",
   "name": "python",
   "nbconvert_exporter": "python",
   "pygments_lexer": "ipython3",
   "version": "3.7.13"
  }
 },
 "nbformat": 4,
 "nbformat_minor": 5
}
