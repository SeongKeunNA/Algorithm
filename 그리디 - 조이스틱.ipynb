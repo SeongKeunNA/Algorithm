{
 "cells": [
  {
   "cell_type": "markdown",
   "id": "ed473678",
   "metadata": {},
   "source": [
    "# 코딩 전 생각"
   ]
  },
  {
   "cell_type": "code",
   "execution_count": null,
   "id": "5bb8990e",
   "metadata": {},
   "outputs": [],
   "source": [
    "\"\"\"\"\"\"\"\"\"\"\n",
    "만들고자하는 모든 A가 아닌 글자에 대해 다음을 반복함:\n",
    "1. 순행으로 커서를 이동했을 때 A가 아닌 글자까지 커서의 이동거리와 역행으로 커서를 이동했을 때 A가 아닌 글자까지 커서의 이동거리를 비교함.\n",
    "둘 중 적은 쪽을 선택.\n",
    "2. 커서 이동 후, 특정 글자까지 알파벳의 이동거리를 순행 vs 역행으로 비교하여 적은 쪽을 선택함.\n",
    "\n",
    "-현재 커서(c)의 위치에서 다음 A가 아닌 글자의 위치(i)를 구해서, 순행(i - c)과 역행(n - )\n",
    "\"\"\"\"\"\"\"\"\"\""
   ]
  },
  {
   "cell_type": "markdown",
   "id": "025e9f53",
   "metadata": {},
   "source": [
    "# 내 답안"
   ]
  },
  {
   "cell_type": "code",
   "execution_count": 31,
   "id": "9e96fe15",
   "metadata": {},
   "outputs": [],
   "source": [
    "def Change_Alphabet(name, cursor):\n",
    "    global answer\n",
    "    Alphabet = ['A', 'B', 'C', 'D', 'E', 'F', 'G', 'H', 'I','J', 'K', 'L', 'M', 'N', 'O', 'P', 'Q', 'R', 'S', 'T', 'U', 'V', 'W', 'X', 'Y', 'Z']\n",
    "    forward = Alphabet.index(name[cursor])\n",
    "    backward = list(reversed(Alphabet)).index(name[cursor]) + 1\n",
    "    name[cursor] = 'A'\n",
    "    answer += min(forward, backward)\n",
    "    \n",
    "def Change_Cursor(name, cursor):\n",
    "    global answer\n",
    "    n = len(name)\n",
    "    forward_count = 0\n",
    "    forward_name = name[cursor+1:] + name[:cursor]\n",
    "    for i in range(n-1):\n",
    "        if forward_name[i] != 'A':\n",
    "            forward_count = i + 1\n",
    "            break\n",
    "    \n",
    "    backward_count = 0\n",
    "    backward_name = name[:cursor][::-1] + name[cursor+1:][::-1]\n",
    "    for i in range(n-1):\n",
    "        if backward_name[i] != 'A':\n",
    "            backward_count = i + 1\n",
    "            break\n",
    "    \n",
    "    if forward_count >= backward_count:        \n",
    "        cursor -= backward_count\n",
    "        if cursor < 0:\n",
    "            cursor = n + cursor\n",
    "        answer += backward_count\n",
    "        \n",
    "    else:\n",
    "        cursor = (cursor + forward_count) % n\n",
    "        answer += forward_count\n",
    "    return cursor\n",
    "\n",
    "def solution(name):\n",
    "    global answer\n",
    "    n = len(name)\n",
    "    name = list(name)\n",
    "    Alphabet = ['A', 'B', 'C', 'D', 'E', 'F', 'G', 'H', 'I','J', 'K', 'L', 'M', 'N', 'O', 'P', 'Q', 'R', 'S', 'T', 'U', 'V', 'W', 'X', 'Y', 'Z']\n",
    "    answer = 0\n",
    "    cursor = 0\n",
    "    while name != ['A'] * n:\n",
    "        if name[cursor] != 'A':\n",
    "            Change_Alphabet(name, cursor)\n",
    "        cursor = Change_Cursor(name, cursor)\n",
    "        print('name',name)\n",
    "        print('cursor',cursor)\n",
    "    return answer"
   ]
  },
  {
   "cell_type": "code",
   "execution_count": 32,
   "id": "f37342ea",
   "metadata": {},
   "outputs": [
    {
     "name": "stdout",
     "output_type": "stream",
     "text": [
      "name ['A', 'K', 'A', 'A', 'K', 'A', 'A', 'A', 'K', 'A', 'A', 'A', 'A', 'K', 'A', 'A', 'A', 'A', 'A', 'K']\n",
      "cursor 19\n",
      "name ['A', 'K', 'A', 'A', 'K', 'A', 'A', 'A', 'K', 'A', 'A', 'A', 'A', 'K', 'A', 'A', 'A', 'A', 'A', 'A']\n",
      "cursor 1\n",
      "name ['A', 'A', 'A', 'A', 'K', 'A', 'A', 'A', 'K', 'A', 'A', 'A', 'A', 'K', 'A', 'A', 'A', 'A', 'A', 'A']\n",
      "cursor 4\n",
      "name ['A', 'A', 'A', 'A', 'A', 'A', 'A', 'A', 'K', 'A', 'A', 'A', 'A', 'K', 'A', 'A', 'A', 'A', 'A', 'A']\n",
      "cursor 8\n",
      "name ['A', 'A', 'A', 'A', 'A', 'A', 'A', 'A', 'A', 'A', 'A', 'A', 'A', 'K', 'A', 'A', 'A', 'A', 'A', 'A']\n",
      "cursor 13\n",
      "name ['A', 'A', 'A', 'A', 'A', 'A', 'A', 'A', 'A', 'A', 'A', 'A', 'A', 'A', 'A', 'A', 'A', 'A', 'A', 'A']\n",
      "cursor 13\n"
     ]
    },
    {
     "data": {
      "text/plain": [
       "65"
      ]
     },
     "execution_count": 32,
     "metadata": {},
     "output_type": "execute_result"
    }
   ],
   "source": [
    "solution('JAN')"
   ]
  },
  {
   "cell_type": "code",
   "execution_count": 17,
   "id": "f4a2d8cc",
   "metadata": {},
   "outputs": [],
   "source": [
    "def dfs(name, cursor, value):\n",
    "\n",
    "    global answer\n",
    "    n = len(name)\n",
    "    new_name = name[:]\n",
    "    new_cursor = cursor\n",
    "    new_value = value\n",
    "    \n",
    "    if new_name[cursor] != 'A':\n",
    "        new_value += min(Alphabet.index(name[cursor]), list(reversed(Alphabet)).index(name[cursor]) + 1)\n",
    "        new_name[cursor] = 'A'\n",
    "\n",
    "    if new_name == ['A'] * n:\n",
    "        answer = min(answer, new_value)\n",
    "        return\n",
    "    \n",
    "    forward_count = 0\n",
    "    forward_name = new_name[cursor+1:] + new_name[:cursor]\n",
    "    for i in range(n-1):\n",
    "        if forward_name[i] != 'A':\n",
    "            forward_count = i + 1\n",
    "            new_cursor = (cursor + forward_count) % n\n",
    "            new_value += forward_count\n",
    "            dfs(new_name, new_cursor, new_value)\n",
    "            new_value -= forward_count\n",
    "            break\n",
    "\n",
    "    backward_count = 0\n",
    "    backward_name = new_name[:cursor][::-1] + new_name[cursor+1:][::-1]\n",
    "    for i in range(n-1):\n",
    "        if backward_name[i] != 'A':\n",
    "            backward_count = i + 1\n",
    "            new_cursor = cursor - backward_count\n",
    "            if new_cursor < 0:\n",
    "                new_cursor += n\n",
    "            new_value += backward_count\n",
    "            dfs(new_name, new_cursor, new_value)\n",
    "            break\n",
    "\n",
    "def solution(name):\n",
    "    global answer\n",
    "    global Alphabet\n",
    "    answer = int(1e9)\n",
    "    Alphabet = ['A', 'B', 'C', 'D', 'E', 'F', 'G', 'H', 'I','J', 'K', 'L', 'M', 'N', 'O', 'P', 'Q', 'R', 'S', 'T', 'U', 'V', 'W', 'X', 'Y', 'Z']\n",
    "    n = len(name)\n",
    "    name = list(name)\n",
    "    cursor = 0\n",
    "    value = 0\n",
    "    dfs(name, cursor, value)\n",
    "    return answer"
   ]
  },
  {
   "cell_type": "markdown",
   "id": "0ea5c72b",
   "metadata": {},
   "source": [
    "# - , Hyunji Lee , 한정탁 , Seungjun Hong , 정지우 외 7 명의 답안"
   ]
  },
  {
   "cell_type": "code",
   "execution_count": null,
   "id": "14358264",
   "metadata": {},
   "outputs": [],
   "source": [
    "# 문제가 개편되었습니다. 이로 인해 함수 구성이나 테스트케이스가 변경되어, 과거의 코드는 동작하지 않을 수 있습니다.\n",
    "# 새로운 함수 구성을 적용하려면 [코드 초기화] 버튼을 누르세요. 단, [코드 초기화] 버튼을 누르면 작성 중인 코드는 사라집니다.\n",
    "def solution(name):\n",
    "    answer = 0\n",
    "    n = len(name)\n",
    "\n",
    "    def alphabet_to_num(char):\n",
    "        num_char = [i for i in range(14)] + [j for j in range(12, 0, -1)]\n",
    "        return num_char[ord(char) - ord('A')]\n",
    "\n",
    "    for ch in name:\n",
    "        answer += alphabet_to_num(ch)\n",
    "\n",
    "    move = n - 1\n",
    "    for idx in range(n):\n",
    "        next_idx = idx + 1\n",
    "        while (next_idx < n) and (name[next_idx] == 'A'):\n",
    "            next_idx += 1\n",
    "        distance = min(idx, n - next_idx)\n",
    "        move = min(move, idx + n - next_idx + distance)\n",
    "\n",
    "    answer += move\n",
    "    return answer"
   ]
  },
  {
   "cell_type": "markdown",
   "id": "27bfeadb",
   "metadata": {},
   "source": [
    "# 답안 작성 후 생각"
   ]
  },
  {
   "cell_type": "code",
   "execution_count": null,
   "id": "8a8c5c95",
   "metadata": {},
   "outputs": [],
   "source": [
    "\"\"\"\"\"\"\"\"\"\"\n",
    "나의풀이에서,\n",
    "DFS를 이용했다.\n",
    "\n",
    "다른 사람의 풀이에서,\n",
    "ord와 리스트 연결을 이용해 알파벳 변경을 쉽게 했다.\n",
    "두번째 for문은 설명을 읽어도 이해하기가 어렵다.\n",
    "\"\"\"\"\"\"\"\"\"\""
   ]
  }
 ],
 "metadata": {
  "kernelspec": {
   "display_name": "Python 3 (ipykernel)",
   "language": "python",
   "name": "python3"
  },
  "language_info": {
   "codemirror_mode": {
    "name": "ipython",
    "version": 3
   },
   "file_extension": ".py",
   "mimetype": "text/x-python",
   "name": "python",
   "nbconvert_exporter": "python",
   "pygments_lexer": "ipython3",
   "version": "3.7.13"
  }
 },
 "nbformat": 4,
 "nbformat_minor": 5
}
