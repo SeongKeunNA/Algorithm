{
 "cells": [
  {
   "cell_type": "markdown",
   "id": "f7a7ad48",
   "metadata": {},
   "source": [
    "# 코딩 전 생각"
   ]
  },
  {
   "cell_type": "code",
   "execution_count": null,
   "id": "f169fc80",
   "metadata": {},
   "outputs": [],
   "source": [
    "\"\"\"\"\"\"\"\"\"\"\n",
    "1. 몸무게와 키 별로 리스트를 역순으로 정렬한다. (weight, height)\n",
    "\n",
    "2. 각 사람마다 반복하여: 그사람의 몸무게가 weight에서 몇 번째에 있는지(widx), 키가 height에서 몇 번째에 있는지(hidx)를 구한다.\n",
    "\n",
    "3. weight리스트에서 그 사람보다 몸무게가 많이 나가는 사람들(weight[0:widx], bigger_w)와 \n",
    "키가 더 큰 사람들(height[0:hdix], bigger_h)를 구한다. 이 때 자료형은 set이다.\n",
    "\n",
    "4. bigget_w와 bigger_h의 교집합의 수(i)를 구해 i+1를 그 사람의 덩치 등수로 한다.\n",
    "\"\"\"\"\"\"\"\"\"\""
   ]
  },
  {
   "cell_type": "markdown",
   "id": "1f903e8d",
   "metadata": {},
   "source": [
    "# 내 답안"
   ]
  },
  {
   "cell_type": "code",
   "execution_count": 103,
   "id": "05ce165e",
   "metadata": {
    "scrolled": true
   },
   "outputs": [
    {
     "name": "stdout",
     "output_type": "stream",
     "text": [
      "5\n",
      "55 185\n",
      "58 183\n",
      "88 186\n",
      "60 175\n",
      "46 155\n",
      "2 2 1 2 5 "
     ]
    }
   ],
   "source": [
    "from bisect import bisect_left as bl\n",
    "n = int(input())\n",
    "data = [list(map(int, input().split())) for _ in range(n)]\n",
    "weight = sorted(data)\n",
    "height = sorted(data, key = lambda x: x[1])\n",
    "ranks = []\n",
    "for w, h in data:\n",
    "    widx = bl([i[0] for i in weight], w)\n",
    "    hidx = bl([j[1] for j in height], h)\n",
    "    if widx == n - 1:\n",
    "        bigger_w = set()\n",
    "    else:\n",
    "        bigger_w = set(i[0] for i in weight[-(n - 1 - widx):])\n",
    "    if hidx == n - 1:\n",
    "        bigger_h = set()\n",
    "    else:\n",
    "        bigger_h = set(j[0] for j in height[-(n - 1 - hidx):])\n",
    "    bigger_num = bigger_w.intersection(bigger_h)\n",
    "    ranks.append(len(bigger_num) + 1)\n",
    "for rank in ranks:\n",
    "    print(rank, end = ' ')"
   ]
  },
  {
   "cell_type": "code",
   "execution_count": 102,
   "id": "f377661f",
   "metadata": {},
   "outputs": [
    {
     "name": "stdout",
     "output_type": "stream",
     "text": [
      "4 4 {46, 55, 88, 58, 60} {46, 55, 88, 58, 60} {46, 55, 88, 58, 60}\n"
     ]
    }
   ],
   "source": [
    "w,h = 88, 186\n",
    "widx = bl([i[0] for i in weight], w)\n",
    "hidx = bl([j[1] for j in height], h)\n",
    "bigger_w = set(i[0] for i in weight[-(n - 1 - widx):])\n",
    "bigger_h = set(j[0] for j in height[-(n - 1 - hidx):])\n",
    "if len(bigger_w) == n and len(bigger_h) == n:\n",
    "    rank.append(1)\n",
    "bigger_num = bigger_w.intersection(bigger_h)\n",
    "print(widx, hidx, bigger_w, bigger_h, bigger_num)"
   ]
  },
  {
   "cell_type": "code",
   "execution_count": 100,
   "id": "f3181c81",
   "metadata": {},
   "outputs": [
    {
     "data": {
      "text/plain": [
       "3"
      ]
     },
     "execution_count": 100,
     "metadata": {},
     "output_type": "execute_result"
    }
   ],
   "source": [
    "bigger_w = set(i[0] for i in weight[-(n - 1 - widx):])\n",
    "bigger_w # 46 \n",
    "len(bigger_w)"
   ]
  },
  {
   "cell_type": "code",
   "execution_count": 94,
   "id": "f39f35fd",
   "metadata": {},
   "outputs": [
    {
     "data": {
      "text/plain": [
       "[[46, 155], [55, 185], [58, 183], [60, 175], [88, 186]]"
      ]
     },
     "execution_count": 94,
     "metadata": {},
     "output_type": "execute_result"
    }
   ],
   "source": [
    "weight"
   ]
  },
  {
   "cell_type": "code",
   "execution_count": 96,
   "id": "1fd42a95",
   "metadata": {},
   "outputs": [
    {
     "data": {
      "text/plain": [
       "[[46, 155], [60, 175], [58, 183], [55, 185], [88, 186]]"
      ]
     },
     "execution_count": 96,
     "metadata": {},
     "output_type": "execute_result"
    }
   ],
   "source": [
    "height"
   ]
  },
  {
   "cell_type": "code",
   "execution_count": 98,
   "id": "b11fe932",
   "metadata": {},
   "outputs": [
    {
     "data": {
      "text/plain": [
       "{88}"
      ]
     },
     "execution_count": 98,
     "metadata": {},
     "output_type": "execute_result"
    }
   ],
   "source": [
    "bigger_h = set(j[0] for j in height[-(n - 1 - hidx):])\n",
    "bigger_h # 46 "
   ]
  },
  {
   "cell_type": "code",
   "execution_count": 99,
   "id": "a559aa79",
   "metadata": {},
   "outputs": [
    {
     "data": {
      "text/plain": [
       "185"
      ]
     },
     "execution_count": 99,
     "metadata": {},
     "output_type": "execute_result"
    }
   ],
   "source": [
    "h"
   ]
  },
  {
   "cell_type": "code",
   "execution_count": 82,
   "id": "795afcbf",
   "metadata": {},
   "outputs": [
    {
     "data": {
      "text/plain": [
       "(0, 5)"
      ]
     },
     "execution_count": 82,
     "metadata": {},
     "output_type": "execute_result"
    }
   ],
   "source": [
    "widx = bl([i[0] for i in weight], w)\n",
    "hidx = bl([j[1] for j in height], h)\n",
    "widx,hidx"
   ]
  },
  {
   "cell_type": "code",
   "execution_count": 40,
   "id": "3a94095e",
   "metadata": {},
   "outputs": [
    {
     "data": {
      "text/plain": [
       "[1, 1, 6, 1, 1]"
      ]
     },
     "execution_count": 40,
     "metadata": {},
     "output_type": "execute_result"
    }
   ],
   "source": [
    "ranks"
   ]
  },
  {
   "cell_type": "code",
   "execution_count": 41,
   "id": "5bcdff78",
   "metadata": {},
   "outputs": [
    {
     "data": {
      "text/plain": [
       "([[88, 186], [60, 175], [58, 183], [55, 185], [46, 155]],\n",
       " [[88, 186], [55, 185], [58, 183], [60, 175], [46, 155]])"
      ]
     },
     "execution_count": 41,
     "metadata": {},
     "output_type": "execute_result"
    }
   ],
   "source": [
    "weight, height"
   ]
  },
  {
   "cell_type": "code",
   "execution_count": 49,
   "id": "7be5ca8e",
   "metadata": {},
   "outputs": [
    {
     "data": {
      "text/plain": [
       "[88, 60, 58, 55, 46]"
      ]
     },
     "execution_count": 49,
     "metadata": {},
     "output_type": "execute_result"
    }
   ],
   "source": [
    "[i[0] for i in weight]"
   ]
  },
  {
   "cell_type": "code",
   "execution_count": 59,
   "id": "dbb3bcba",
   "metadata": {},
   "outputs": [
    {
     "data": {
      "text/plain": [
       "1"
      ]
     },
     "execution_count": 59,
     "metadata": {},
     "output_type": "execute_result"
    }
   ],
   "source": [
    "bl(sorted([i[0] for i in weight]), 55)"
   ]
  },
  {
   "cell_type": "code",
   "execution_count": 54,
   "id": "00ac895b",
   "metadata": {},
   "outputs": [
    {
     "data": {
      "text/plain": [
       "0"
      ]
     },
     "execution_count": 54,
     "metadata": {},
     "output_type": "execute_result"
    }
   ],
   "source": [
    "a = [88, 60, 58, 55, 46]\n",
    "bl(a, 46)"
   ]
  },
  {
   "cell_type": "code",
   "execution_count": 60,
   "id": "46b83b9e",
   "metadata": {},
   "outputs": [
    {
     "data": {
      "text/plain": [
       "[46, 55, 58, 60, 88]"
      ]
     },
     "execution_count": 60,
     "metadata": {},
     "output_type": "execute_result"
    }
   ],
   "source": [
    "sorted(a)"
   ]
  },
  {
   "cell_type": "code",
   "execution_count": 58,
   "id": "e907d457",
   "metadata": {},
   "outputs": [
    {
     "data": {
      "text/plain": [
       "2"
      ]
     },
     "execution_count": 58,
     "metadata": {},
     "output_type": "execute_result"
    }
   ],
   "source": [
    "b = [0,]\n",
    "bl(b, 2)"
   ]
  },
  {
   "cell_type": "code",
   "execution_count": 80,
   "id": "394dc3a7",
   "metadata": {},
   "outputs": [
    {
     "data": {
      "text/plain": [
       "3"
      ]
     },
     "execution_count": 80,
     "metadata": {},
     "output_type": "execute_result"
    }
   ],
   "source": [
    "c = sorted([i[0] for i in weight])\n",
    "5 - 1 - bl(c, 55)"
   ]
  },
  {
   "cell_type": "code",
   "execution_count": 81,
   "id": "8ca66b5b",
   "metadata": {},
   "outputs": [
    {
     "data": {
      "text/plain": [
       "[[88, 186], [55, 185], [58, 183], [60, 175], [46, 155]]"
      ]
     },
     "execution_count": 81,
     "metadata": {},
     "output_type": "execute_result"
    }
   ],
   "source": [
    "height"
   ]
  },
  {
   "cell_type": "code",
   "execution_count": 69,
   "id": "022d0f97",
   "metadata": {},
   "outputs": [
    {
     "data": {
      "text/plain": [
       "0"
      ]
     },
     "execution_count": 69,
     "metadata": {},
     "output_type": "execute_result"
    }
   ],
   "source": [
    "bl(sorted([i[0] for i in weight], reverse=True), 55)"
   ]
  },
  {
   "cell_type": "code",
   "execution_count": 65,
   "id": "ad751a58",
   "metadata": {},
   "outputs": [
    {
     "data": {
      "text/plain": [
       "0"
      ]
     },
     "execution_count": 65,
     "metadata": {},
     "output_type": "execute_result"
    }
   ],
   "source": [
    "bb = sorted([i[0] for i in weight], reverse = True)\n",
    "bl(bb, )"
   ]
  },
  {
   "cell_type": "code",
   "execution_count": 83,
   "id": "58117009",
   "metadata": {},
   "outputs": [],
   "source": [
    "w, h = 55, 185\n",
    "widx = bl([i[0] for i in weight], w)\n",
    "hidx = bl([j[1] for j in height], h)\n",
    "bigger_w = set(i[0] for i in weight[:widx])\n",
    "bigger_h = set(j[0] for j in height[:hidx])\n",
    "bigger_num = bigger_w.intersection(bigger_h)\n",
    "ranks.append(len(bigger_num) + 1)"
   ]
  },
  {
   "cell_type": "code",
   "execution_count": 84,
   "id": "7b87e8b9",
   "metadata": {},
   "outputs": [
    {
     "name": "stdout",
     "output_type": "stream",
     "text": [
      "0 5 set() {46, 55, 88, 58, 60} set()\n"
     ]
    }
   ],
   "source": [
    "print(widx, hidx, bigger_w, bigger_h, bigger_num)"
   ]
  },
  {
   "cell_type": "code",
   "execution_count": 86,
   "id": "216b6d27",
   "metadata": {},
   "outputs": [
    {
     "data": {
      "text/plain": [
       "[88, 60, 58, 55, 46]"
      ]
     },
     "execution_count": 86,
     "metadata": {},
     "output_type": "execute_result"
    }
   ],
   "source": [
    "[i[0] for i in weight]"
   ]
  },
  {
   "cell_type": "code",
   "execution_count": 90,
   "id": "7f88c5b5",
   "metadata": {},
   "outputs": [
    {
     "data": {
      "text/plain": [
       "([[46, 155], [55, 185], [58, 183], [60, 175], [88, 186]],\n",
       " [[46, 155], [60, 175], [58, 183], [55, 185], [88, 186]])"
      ]
     },
     "execution_count": 90,
     "metadata": {},
     "output_type": "execute_result"
    }
   ],
   "source": [
    "weight = sorted(data)\n",
    "height = sorted(data, key = lambda x: x[1])\n",
    "w, h = 55, 185\n",
    "widx = bl([i[0] for i in weight], w)\n",
    "hidx = bl([j[1] for j in height], h)\n",
    "widx, hidx\n",
    "weight, height"
   ]
  }
 ],
 "metadata": {
  "kernelspec": {
   "display_name": "Python 3 (ipykernel)",
   "language": "python",
   "name": "python3"
  },
  "language_info": {
   "codemirror_mode": {
    "name": "ipython",
    "version": 3
   },
   "file_extension": ".py",
   "mimetype": "text/x-python",
   "name": "python",
   "nbconvert_exporter": "python",
   "pygments_lexer": "ipython3",
   "version": "3.7.13"
  }
 },
 "nbformat": 4,
 "nbformat_minor": 5
}
