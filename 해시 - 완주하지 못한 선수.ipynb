{
 "cells": [
  {
   "cell_type": "markdown",
   "id": "950ffd1d",
   "metadata": {},
   "source": [
    "# 코딩 전 생각"
   ]
  },
  {
   "cell_type": "code",
   "execution_count": null,
   "id": "2db0fa6d",
   "metadata": {},
   "outputs": [],
   "source": [
    "\"\"\"\"\"\"\"\"\"\"\"\n",
    "1. participant의 각 이름들을 키 값으로 하고 해당 이름을 가진 선수들의 수를 값으로 하는 p_dic 딕셔너리를 선언한다.\n",
    "\n",
    "2. completion의 각 이름마다 p_dic의 해당 이름의 키 값의 값을 1 뺀다.\n",
    "\n",
    "3. p_dic의 모든 key에 대해 값이 0보다 큰 경우 해당 이름을 key를 return한다.\n",
    "\"\"\"\"\"\"\"\"\"\"\""
   ]
  },
  {
   "cell_type": "markdown",
   "id": "241dfe53",
   "metadata": {},
   "source": [
    "# 내 답안"
   ]
  },
  {
   "cell_type": "code",
   "execution_count": null,
   "id": "1a481d99",
   "metadata": {},
   "outputs": [],
   "source": [
    "def solution(participant, completion):\n",
    "    answer = ''\n",
    "    p_dic = dict()\n",
    "    for p in participant:\n",
    "        if p in p_dic.keys():\n",
    "            p_dic[p] += 1\n",
    "        else:\n",
    "            p_dic[p] = 1\n",
    "    \n",
    "    for c in completion:\n",
    "        p_dic[c] -= 1\n",
    "        \n",
    "    for i,v in p_dic.items():\n",
    "        if v > 0:\n",
    "            return i"
   ]
  },
  {
   "cell_type": "markdown",
   "id": "dab496d6",
   "metadata": {},
   "source": [
    "# 김형준 , ii , - , YoungHo Choi , 민홍 외 1283 명의 답안"
   ]
  },
  {
   "cell_type": "code",
   "execution_count": null,
   "id": "8c9b05ba",
   "metadata": {},
   "outputs": [],
   "source": [
    "import collections\n",
    "\n",
    "\n",
    "def solution(participant, completion):\n",
    "    answer = collections.Counter(participant) - collections.Counter(completion)\n",
    "    return list(answer.keys())[0]"
   ]
  },
  {
   "cell_type": "markdown",
   "id": "ad9a2b6f",
   "metadata": {},
   "source": [
    "# 답안 작성 후 생각"
   ]
  },
  {
   "cell_type": "code",
   "execution_count": null,
   "id": "6b565cb5",
   "metadata": {},
   "outputs": [],
   "source": [
    "\"\"\"\"\"\"\"\"\"\"\n",
    "Counter 모듈을 사용해 풀 수도 있다.\n",
    "\"\"\"\"\"\"\"\"\"\""
   ]
  }
 ],
 "metadata": {
  "kernelspec": {
   "display_name": "Python 3 (ipykernel)",
   "language": "python",
   "name": "python3"
  },
  "language_info": {
   "codemirror_mode": {
    "name": "ipython",
    "version": 3
   },
   "file_extension": ".py",
   "mimetype": "text/x-python",
   "name": "python",
   "nbconvert_exporter": "python",
   "pygments_lexer": "ipython3",
   "version": "3.7.13"
  }
 },
 "nbformat": 4,
 "nbformat_minor": 5
}
