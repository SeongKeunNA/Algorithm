{
 "cells": [
  {
   "cell_type": "markdown",
   "id": "12be97b9",
   "metadata": {},
   "source": [
    "# 풀이 전 생각"
   ]
  },
  {
   "cell_type": "code",
   "execution_count": null,
   "id": "f6e3bdbf",
   "metadata": {},
   "outputs": [],
   "source": [
    "\"\"\"\n",
    "1) 주어진 동전 중 K보다 작은 동전 중 가장 큰 A원짜리 동전을 찾는다.\n",
    "\n",
    "2) K//A 만큼 동전을 추가하고 만들어야하는 동전을 K에서 K%A로 수정한다.\n",
    "\n",
    "3) A보다 작은 동전부터 다시 반복하여 만들어야하는 값이 0일 경우 동전의 개수를 출력하고 종료한다.\n",
    "\"\"\""
   ]
  },
  {
   "cell_type": "markdown",
   "id": "028454db",
   "metadata": {},
   "source": [
    "# 내 답안"
   ]
  },
  {
   "cell_type": "code",
   "execution_count": null,
   "id": "0d7cc1ac",
   "metadata": {},
   "outputs": [],
   "source": [
    "from sys import stdin\n",
    "\n",
    "n, k = map(int, stdin.readline().split())\n",
    "inputs = sorted(map(int, stdin.read().splitlines()), reverse=True)\n",
    "start = 0\n",
    "coins = 0\n",
    "\n",
    "while k > 0:\n",
    "    now = inputs[start]\n",
    "    if now <= k:\n",
    "        coins += k//now\n",
    "        k %= now\n",
    "    start += 1\n",
    "print(coins)"
   ]
  },
  {
   "cell_type": "markdown",
   "id": "45d965db",
   "metadata": {},
   "source": [
    "# 풀이 후 생각"
   ]
  },
  {
   "cell_type": "code",
   "execution_count": null,
   "id": "9e7020a1",
   "metadata": {},
   "outputs": [],
   "source": [
    "\"\"\"\n",
    "간단한 그리디 문제다.\n",
    "\"\"\""
   ]
  }
 ],
 "metadata": {
  "kernelspec": {
   "display_name": "Python 3 (ipykernel)",
   "language": "python",
   "name": "python3"
  },
  "language_info": {
   "codemirror_mode": {
    "name": "ipython",
    "version": 3
   },
   "file_extension": ".py",
   "mimetype": "text/x-python",
   "name": "python",
   "nbconvert_exporter": "python",
   "pygments_lexer": "ipython3",
   "version": "3.7.13"
  }
 },
 "nbformat": 4,
 "nbformat_minor": 5
}
