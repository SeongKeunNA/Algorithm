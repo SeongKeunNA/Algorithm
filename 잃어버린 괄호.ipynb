{
 "cells": [
  {
   "cell_type": "markdown",
   "id": "d6d3aaee",
   "metadata": {},
   "source": [
    "# 풀이 전 생각"
   ]
  },
  {
   "cell_type": "code",
   "execution_count": null,
   "id": "11c73156",
   "metadata": {},
   "outputs": [],
   "source": [
    "\"\"\"\n",
    "부호를 포함한 숫자들의 리스트 lst를 선언한다. \n",
    "\n",
    "숫자가 총 n개 있을 때, 괄호를 여는 위치의 인덱스(i)는 0부터 n-1까지이다.\n",
    "\n",
    "또한 괄호를 닫는 위치의 인덱스(j)는 i+1부터 n까지가 된다.\n",
    "\n",
    "매번 괄호를 i, j위치에 치고, 만약 i다음 오는 숫자가 -라면 lst에서 괄호 안의 숫자들의 부호를 반대로하여 더한다.\n",
    "\"\"\""
   ]
  },
  {
   "cell_type": "markdown",
   "id": "a4b04a67",
   "metadata": {},
   "source": [
    "# 내 답안"
   ]
  },
  {
   "cell_type": "code",
   "execution_count": 36,
   "id": "224a10c0",
   "metadata": {
    "scrolled": true
   },
   "outputs": [
    {
     "name": "stdout",
     "output_type": "stream",
     "text": [
      "0-100+50-100+50-100\n",
      "0 1 0\n",
      "0 2 -100\n",
      "0 3 100\n",
      "0 4 0\n",
      "0 5 200\n",
      "1 2 -300\n",
      "1 3 -100\n",
      "1 4 -200\n",
      "1 5 0\n",
      "3 4 -300\n",
      "3 5 -100\n",
      "-300\n"
     ]
    }
   ],
   "source": [
    "lst = []\n",
    "digit = \"\"\n",
    "for i in input():\n",
    "    if i.isdigit():\n",
    "        digit += i\n",
    "    else:\n",
    "        if digit != \"\":\n",
    "            lst.append(int(digit))\n",
    "        if i == '-':\n",
    "            digit = i\n",
    "        else:\n",
    "            digit = \"\"\n",
    "lst.append(int(digit))\n",
    "length = len(lst)\n",
    "\n",
    "min_value = sum(lst)\n",
    "for i in range(0, length):\n",
    "    if lst[i] > 0:\n",
    "        continue\n",
    "    for j in range(i+1, length):\n",
    "        value = sum(lst[:i+1]) + -1 * sum(lst[i+1:j+1])+ sum(lst[j+1:])\n",
    "        print(i, j, value)\n",
    "        min_value = min(min_value, value)\n",
    "print(min_value)"
   ]
  },
  {
   "cell_type": "code",
   "execution_count": null,
   "id": "a2288388",
   "metadata": {},
   "outputs": [],
   "source": [
    "10-20+30-40+50"
   ]
  },
  {
   "cell_type": "code",
   "execution_count": null,
   "id": "f89b2151",
   "metadata": {},
   "outputs": [],
   "source": [
    "10-20-30+40-50"
   ]
  },
  {
   "cell_type": "code",
   "execution_count": 4,
   "id": "6f2dd278",
   "metadata": {},
   "outputs": [
    {
     "data": {
      "text/plain": [
       "[55, -50, 40]"
      ]
     },
     "execution_count": 4,
     "metadata": {},
     "output_type": "execute_result"
    }
   ],
   "source": [
    "lst"
   ]
  },
  {
   "cell_type": "code",
   "execution_count": 10,
   "id": "7fd1a16d",
   "metadata": {},
   "outputs": [
    {
     "data": {
      "text/plain": [
       "-9"
      ]
     },
     "execution_count": 10,
     "metadata": {},
     "output_type": "execute_result"
    }
   ],
   "source": [
    "int(\"-00009\")"
   ]
  },
  {
   "cell_type": "code",
   "execution_count": 11,
   "id": "7bc17b6f",
   "metadata": {},
   "outputs": [
    {
     "data": {
      "text/plain": [
       "[9, -9]"
      ]
     },
     "execution_count": 11,
     "metadata": {},
     "output_type": "execute_result"
    }
   ],
   "source": [
    "lst"
   ]
  },
  {
   "cell_type": "code",
   "execution_count": 12,
   "id": "0522f000",
   "metadata": {},
   "outputs": [
    {
     "data": {
      "text/plain": [
       "0"
      ]
     },
     "execution_count": 12,
     "metadata": {},
     "output_type": "execute_result"
    }
   ],
   "source": [
    "int(\"-0\")"
   ]
  },
  {
   "cell_type": "code",
   "execution_count": null,
   "id": "5ddcc75b",
   "metadata": {},
   "outputs": [],
   "source": [
    "10-20+30 20\n",
    "-10+20-30 -20"
   ]
  },
  {
   "cell_type": "code",
   "execution_count": 3,
   "id": "d88c6f5c",
   "metadata": {},
   "outputs": [
    {
     "data": {
      "text/plain": [
       "['a', 'bc']"
      ]
     },
     "execution_count": 3,
     "metadata": {},
     "output_type": "execute_result"
    }
   ],
   "source": [
    "\"a bc\".split(' ')"
   ]
  },
  {
   "cell_type": "markdown",
   "id": "c045497b",
   "metadata": {},
   "source": [
    "# 풀이 전 생각(2)"
   ]
  },
  {
   "cell_type": "code",
   "execution_count": null,
   "id": "a2d78488",
   "metadata": {},
   "outputs": [],
   "source": [
    "\"\"\"\n",
    "괄호를 여러 번 칠 수 있다는 것을 고려하지 못했다. 처음 -가 등장한 이후의 숫자는 모두 부호를 변경할 수 있다.\n",
    "\n",
    "1. 주어진 입력을 -로 split한다.\n",
    "\n",
    "2. -앞의 숫자들은 그대로 더하고, 뒤에 숫자들은 절대값을 모두 더한뒤 -1을 곱해서 더한다.\n",
    "\"\"\""
   ]
  },
  {
   "cell_type": "markdown",
   "id": "fa34d00f",
   "metadata": {},
   "source": [
    "# 내 답안"
   ]
  },
  {
   "cell_type": "code",
   "execution_count": 19,
   "id": "7bdf624b",
   "metadata": {},
   "outputs": [
    {
     "name": "stdout",
     "output_type": "stream",
     "text": [
      "00009-00009\n",
      "0\n"
     ]
    }
   ],
   "source": [
    "inputs = input().split(\"-\")\n",
    "front = sum(map(int, inputs[0].split(\"+\")))\n",
    "back = 0\n",
    "for i in inputs[1:]:\n",
    "    values = i.split(\"+\")\n",
    "    back -= sum(map(int, values))\n",
    "print(front + back)"
   ]
  },
  {
   "cell_type": "markdown",
   "id": "ef5bf38d",
   "metadata": {},
   "source": [
    "# 풀이 후 생각(2)"
   ]
  },
  {
   "cell_type": "code",
   "execution_count": null,
   "id": "701302bd",
   "metadata": {},
   "outputs": [],
   "source": [
    "\"\"\"\n",
    "처음에 생각을 잘해야하는 까다로운 문제인 것 같다.\n",
    "\"\"\""
   ]
  }
 ],
 "metadata": {
  "kernelspec": {
   "display_name": "Python 3 (ipykernel)",
   "language": "python",
   "name": "python3"
  },
  "language_info": {
   "codemirror_mode": {
    "name": "ipython",
    "version": 3
   },
   "file_extension": ".py",
   "mimetype": "text/x-python",
   "name": "python",
   "nbconvert_exporter": "python",
   "pygments_lexer": "ipython3",
   "version": "3.7.13"
  }
 },
 "nbformat": 4,
 "nbformat_minor": 5
}
