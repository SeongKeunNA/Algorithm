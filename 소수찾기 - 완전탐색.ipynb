{
 "cells": [
  {
   "cell_type": "markdown",
   "id": "bfbaead1",
   "metadata": {},
   "source": [
    "# 코딩 전 생각"
   ]
  },
  {
   "cell_type": "code",
   "execution_count": null,
   "id": "77b29e49",
   "metadata": {},
   "outputs": [],
   "source": [
    "\"\"\"\"\"\"\"\"\"\n",
    "주어진 종이 조각으로 만들 수 있는 모든 정수를 permutations을 이용해 정수형으로 뽑아내고 소수 여부를 판단해 개수를 출력한다.\n",
    "\"\"\"\"\"\"\"\"\""
   ]
  },
  {
   "cell_type": "markdown",
   "id": "b3f671f6",
   "metadata": {},
   "source": [
    "# 내 답안"
   ]
  },
  {
   "cell_type": "code",
   "execution_count": null,
   "id": "cefeb118",
   "metadata": {},
   "outputs": [],
   "source": [
    "from itertools import permutations as pt\n",
    "import math\n",
    "def solution(numbers):\n",
    "    result = []\n",
    "    for i in range(1, len(numbers) + 1):\n",
    "        result += [int(''.join(p)) for p in pt(numbers, i)]       \n",
    "        \n",
    "    result = list(set(result))\n",
    "    count = 0\n",
    "    for r in result:\n",
    "        if r >= 2:\n",
    "            for i in range(2, int(math.sqrt(r)) + 1):\n",
    "                if r % i == 0:\n",
    "                    break\n",
    "            else:\n",
    "                count += 1        \n",
    "    return count"
   ]
  },
  {
   "cell_type": "markdown",
   "id": "f9052929",
   "metadata": {},
   "source": [
    "# 김현우 , 윤수현 , 한동준 , - , 홍세진 외 126 명의 답안"
   ]
  },
  {
   "cell_type": "code",
   "execution_count": null,
   "id": "84641982",
   "metadata": {},
   "outputs": [],
   "source": [
    "from itertools import permutations\n",
    "def solution(n):\n",
    "    a = set()\n",
    "    for i in range(len(n)):\n",
    "        a |= set(map(int, map(\"\".join, permutations(list(n), i + 1))))\n",
    "    a -= set(range(0, 2))\n",
    "    for i in range(2, int(max(a) ** 0.5) + 1):\n",
    "        a -= set(range(i * 2, max(a) + 1, i))\n",
    "    return len(a)"
   ]
  },
  {
   "cell_type": "markdown",
   "id": "ae645f07",
   "metadata": {},
   "source": [
    "# 답안 작성 후 생각"
   ]
  },
  {
   "cell_type": "code",
   "execution_count": null,
   "id": "59bdca1b",
   "metadata": {},
   "outputs": [],
   "source": [
    "\"\"\"\"\"\"\"\"\"\"\n",
    "매번 소수 여부를 판별하지 말고 에르토스테네스의체를 set를 활용하여 구현하면 편하다.\n",
    "\"\"\"\"\"\"\"\"\"\""
   ]
  }
 ],
 "metadata": {
  "kernelspec": {
   "display_name": "Python 3 (ipykernel)",
   "language": "python",
   "name": "python3"
  },
  "language_info": {
   "codemirror_mode": {
    "name": "ipython",
    "version": 3
   },
   "file_extension": ".py",
   "mimetype": "text/x-python",
   "name": "python",
   "nbconvert_exporter": "python",
   "pygments_lexer": "ipython3",
   "version": "3.7.13"
  }
 },
 "nbformat": 4,
 "nbformat_minor": 5
}
