{
 "cells": [
  {
   "cell_type": "markdown",
   "id": "2dc267c5",
   "metadata": {},
   "source": [
    "# 코딩 전 생각"
   ]
  },
  {
   "cell_type": "code",
   "execution_count": 1,
   "id": "c68ffd53",
   "metadata": {},
   "outputs": [
    {
     "ename": "SyntaxError",
     "evalue": "EOF while scanning triple-quoted string literal (1314066099.py, line 1)",
     "output_type": "error",
     "traceback": [
      "\u001b[1;36m  File \u001b[1;32m\"C:\\Users\\najonggeun\\AppData\\Local\\Temp\\ipykernel_20952\\1314066099.py\"\u001b[1;36m, line \u001b[1;32m1\u001b[0m\n\u001b[1;33m    \"\"\"\"\"\"\"\"\"\"\u001b[0m\n\u001b[1;37m              ^\u001b[0m\n\u001b[1;31mSyntaxError\u001b[0m\u001b[1;31m:\u001b[0m EOF while scanning triple-quoted string literal\n"
     ]
    }
   ],
   "source": [
    "\"\"\"\"\"\"\"\"\"\"\n",
    "deque의 leftpop()과 append()를 이용한다.\n",
    "\n",
    "1.[0] * len(priorities)로 doc 리스트를 선언한다.\n",
    "\n",
    "2. doc[location] = 1로 한다.\n",
    "\n",
    "3. count = 1 \n",
    "    while True:\n",
    "        if priorities[0] == max(priorities):\n",
    "            out = doc.popleft()\n",
    "            if out == 1:\n",
    "                answer = count\n",
    "                break\n",
    "            count += 1\n",
    "        else:\n",
    "            out_p = priorities.popleft()\n",
    "            priorities.append(out_p)\n",
    "            doc.append(out)\n",
    "    return answer\n",
    "\"\"\"\"\"\"\"\"\"\""
   ]
  },
  {
   "cell_type": "markdown",
   "id": "cd6ef3ac",
   "metadata": {},
   "source": [
    "# 내 답안"
   ]
  },
  {
   "cell_type": "code",
   "execution_count": null,
   "id": "e95a8a5f",
   "metadata": {},
   "outputs": [],
   "source": [
    "from collections import deque\n",
    "def solution(priorities, location):\n",
    "    answer = 0\n",
    "    count = 1\n",
    "    priorities = deque(priorities)\n",
    "    doc = deque([0] * len(priorities))\n",
    "    doc[location] = 1\n",
    "\n",
    "    while True:\n",
    "        out = doc.popleft()\n",
    "        p_out = priorities.popleft()\n",
    "        if len(priorities) == 0 or p_out >= max(priorities):\n",
    "            if out == 1:\n",
    "                answer = count\n",
    "                break\n",
    "            count += 1\n",
    "        else:\n",
    "            doc.append(out)\n",
    "            priorities.append(p_out)\n",
    "    return answer"
   ]
  }
 ],
 "metadata": {
  "kernelspec": {
   "display_name": "Python 3 (ipykernel)",
   "language": "python",
   "name": "python3"
  },
  "language_info": {
   "codemirror_mode": {
    "name": "ipython",
    "version": 3
   },
   "file_extension": ".py",
   "mimetype": "text/x-python",
   "name": "python",
   "nbconvert_exporter": "python",
   "pygments_lexer": "ipython3",
   "version": "3.7.13"
  }
 },
 "nbformat": 4,
 "nbformat_minor": 5
}
