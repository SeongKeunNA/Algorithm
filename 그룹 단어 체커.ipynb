{
 "cells": [
  {
   "cell_type": "markdown",
   "id": "68d96e1a",
   "metadata": {},
   "source": [
    "# 코딩 전 생각"
   ]
  },
  {
   "cell_type": "code",
   "execution_count": null,
   "id": "f15f6eb5",
   "metadata": {},
   "outputs": [],
   "source": [
    "\"\"\"\"\"\"\"\"\"\"\n",
    "1. 모든 문자열의 모든 문자마다 반복하여: 이미 나온 문자를 담는 processed 리스트와 현재 처리 중인 문자인 processing 변수를 선언한다.\n",
    "처음 processing 변수에는 각 문자열의 첫 번째 글자를 담는다.\n",
    "\n",
    "2. 매 반복에서,\n",
    "1)현재 확인하는 문자가 processed 리스트에 존재한다면: break(다음 단어로 넘어감)한다. \n",
    "2)그렇지 않고 processing 변수의 문자와 같다면 continue한다.\n",
    "3)그것도 아니라면 현재 processing 변수의 값을 processed 리스트에 추가하고 현재 확인하는 문자를 processing 변수의 값으로 한다.\n",
    "단어가 끝날 때까지 종료되지 않았다면 count 변수에 1을 더한다.\n",
    "\n",
    "3. count 변수를 출력한다.\n",
    "\"\"\"\"\"\"\"\"\"\""
   ]
  },
  {
   "cell_type": "markdown",
   "id": "81d6eff0",
   "metadata": {},
   "source": [
    "# 내 답안"
   ]
  },
  {
   "cell_type": "code",
   "execution_count": 4,
   "id": "abf3d095",
   "metadata": {},
   "outputs": [
    {
     "name": "stdout",
     "output_type": "stream",
     "text": [
      "3\n",
      "linen\n",
      "color\n",
      "coffee\n",
      "1\n"
     ]
    }
   ],
   "source": [
    "from sys import stdin\n",
    "input = stdin.readline\n",
    "n = int(input())\n",
    "count = 0\n",
    "for _ in range(n):\n",
    "    string = input()\n",
    "    processed = [] # happy\n",
    "    processing  = string[0] # h\n",
    "    for j in string: # a\n",
    "        if j in processed:\n",
    "            break\n",
    "        elif j == processing:\n",
    "            continue\n",
    "        else: \n",
    "            processed.append(processing) #[h, a]\n",
    "            processing = j # a\n",
    "    else:\n",
    "        count += 1        \n",
    "print(count)"
   ]
  },
  {
   "cell_type": "markdown",
   "id": "b67e780b",
   "metadata": {},
   "source": [
    "# hhdpooh님의 답안 (https://www.acmicpc.net/source/25223911)"
   ]
  },
  {
   "cell_type": "code",
   "execution_count": null,
   "id": "eaca3d50",
   "metadata": {},
   "outputs": [],
   "source": [
    "n = int(input())\n",
    "cnt = 0\n",
    "for i in range(n):\n",
    "    word = input()\n",
    "    if list(word) == sorted(word,key = word.find):\n",
    "        cnt += 1\n",
    "print(cnt)"
   ]
  },
  {
   "cell_type": "markdown",
   "id": "fd5bd8f6",
   "metadata": {},
   "source": [
    "# 정답 확인 후 생각"
   ]
  },
  {
   "cell_type": "code",
   "execution_count": null,
   "id": "31dc6f21",
   "metadata": {},
   "outputs": [],
   "source": [
    "단어를 글자 순서대로 정렬한 결과가 현재 단어를 리스트로 만든 것과 같다면 조건에 만족하므로 1을 더한다."
   ]
  }
 ],
 "metadata": {
  "kernelspec": {
   "display_name": "Python 3 (ipykernel)",
   "language": "python",
   "name": "python3"
  },
  "language_info": {
   "codemirror_mode": {
    "name": "ipython",
    "version": 3
   },
   "file_extension": ".py",
   "mimetype": "text/x-python",
   "name": "python",
   "nbconvert_exporter": "python",
   "pygments_lexer": "ipython3",
   "version": "3.7.13"
  }
 },
 "nbformat": 4,
 "nbformat_minor": 5
}
