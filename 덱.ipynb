{
 "cells": [
  {
   "cell_type": "markdown",
   "id": "8610e34e",
   "metadata": {},
   "source": [
    "# 코딩 전 생각"
   ]
  },
  {
   "cell_type": "code",
   "execution_count": null,
   "id": "2118e381",
   "metadata": {},
   "outputs": [],
   "source": [
    "\"\"\"\"\"\"\"\"\"\"\n",
    "요구사항대로 구현한다.\n",
    "\"\"\"\"\"\"\"\"\"\""
   ]
  },
  {
   "cell_type": "markdown",
   "id": "e7a7732a",
   "metadata": {},
   "source": [
    "# 내 답안"
   ]
  },
  {
   "cell_type": "code",
   "execution_count": null,
   "id": "c3ab3f52",
   "metadata": {},
   "outputs": [],
   "source": [
    "from collections import deque\n",
    "from sys import stdin, stdout\n",
    "q = deque()\n",
    "output = []\n",
    "for command in stdin.readlines()[1:]:\n",
    "    com = command.split()\n",
    "    if com[0] == 'push_front':\n",
    "        q.appendleft(com[1])\n",
    "    elif com[0] == 'push_back':\n",
    "        q.append(com[1])\n",
    "    elif com[0] == 'pop_front':\n",
    "        if q: output.append(q.popleft())\n",
    "        else: output.append(-1)\n",
    "    elif com[0] == 'pop_back':\n",
    "        if q: output.append(q.pop())\n",
    "        else: output.append(-1)\n",
    "    elif com[0] == 'size':\n",
    "        output.append(len(q))\n",
    "    elif com[0] == 'empty':\n",
    "        output.append(int(q == deque()))\n",
    "    elif com[0] == 'front':\n",
    "        if q: output.append(q[0])\n",
    "        else: output.append(-1)\n",
    "    elif com[0] == 'back':\n",
    "        if q: output.append(q[-1])\n",
    "        else: output.append(-1)\n",
    "    \n",
    "stdout.write('\\n'.join(map(str, output)))"
   ]
  }
 ],
 "metadata": {
  "kernelspec": {
   "display_name": "Python 3 (ipykernel)",
   "language": "python",
   "name": "python3"
  },
  "language_info": {
   "codemirror_mode": {
    "name": "ipython",
    "version": 3
   },
   "file_extension": ".py",
   "mimetype": "text/x-python",
   "name": "python",
   "nbconvert_exporter": "python",
   "pygments_lexer": "ipython3",
   "version": "3.7.13"
  }
 },
 "nbformat": 4,
 "nbformat_minor": 5
}
