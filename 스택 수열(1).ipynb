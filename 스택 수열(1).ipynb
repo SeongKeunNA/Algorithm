{
 "cells": [
  {
   "cell_type": "markdown",
   "id": "7fa053d9",
   "metadata": {},
   "source": [
    "# 코딩 전 생각"
   ]
  },
  {
   "cell_type": "code",
   "execution_count": 2,
   "id": "323a3d9b",
   "metadata": {},
   "outputs": [
    {
     "ename": "SyntaxError",
     "evalue": "EOL while scanning string literal (2108395391.py, line 13)",
     "output_type": "error",
     "traceback": [
      "\u001b[1;36m  File \u001b[1;32m\"C:\\Users\\najonggeun\\AppData\\Local\\Temp\\ipykernel_25664\\2108395391.py\"\u001b[1;36m, line \u001b[1;32m13\u001b[0m\n\u001b[1;33m    \"\"\"\"\"\"\"\"\"\"\u001b[0m\n\u001b[1;37m              \n^\u001b[0m\n\u001b[1;31mSyntaxError\u001b[0m\u001b[1;31m:\u001b[0m EOL while scanning string literal\n"
     ]
    }
   ],
   "source": [
    "\"\"\"\"\"\"\"\"\"\"\n",
    "매 반복에서 꺼내려는 수를 k, 수열의 마지막 숫자를 a[-1], 현재 인덱스를 now라하자.\n",
    "\n",
    "1. 수열이 비어있는 경우 수열에 1부터 k-1까지를 더하고 result에 +를 k만큼, -를 1만큼 추가한 뒤 now를 k+1로 한다.\n",
    "\n",
    "2. a[-1]이 k와 같다면 수열에 k를 더하고 result에 -를 1만큼 추가한 뒤 now에 1을 더한다.\n",
    "\n",
    "3. a[-1]이 k보다 작다면 수열에 now부터 k-1까지를 더하고 result에 +를 k-now+1만큼, -를 1만큼 추가한 뒤 now에 1을 더한다.\n",
    "\n",
    "4. a[-1]이 k보다 크다면 NO를 출력하고 break한다.\n",
    "\"\"\"\"\"\"\"\"\"\""
   ]
  },
  {
   "cell_type": "markdown",
   "id": "6d722d7d",
   "metadata": {},
   "source": [
    "# 내 답안"
   ]
  },
  {
   "cell_type": "code",
   "execution_count": 20,
   "id": "429c2f57",
   "metadata": {},
   "outputs": [
    {
     "name": "stdout",
     "output_type": "stream",
     "text": [
      "2\n",
      "1\n",
      "now: 2 k: 1 stack: []\n",
      "2\n",
      "now: 3 k: 2 stack: []\n",
      "+\n",
      "-\n",
      "+\n",
      "-\n"
     ]
    }
   ],
   "source": [
    "stack = []\n",
    "now = 1\n",
    "result = ''\n",
    "for _ in range(int(input())):\n",
    "    k = int(input())\n",
    "    if not stack or stack[-1] < k:\n",
    "        stack += list(range(now, k + 1))\n",
    "        stack.pop()\n",
    "        result += '+' * (k-now+1) + '-'\n",
    "        now = k + 1\n",
    "    elif stack[-1] == k:\n",
    "        stack.pop()\n",
    "        result += '-'\n",
    "    else:\n",
    "        print('NO')\n",
    "        break\n",
    "    print('now:',now, 'k:',k, 'stack:',stack)\n",
    "else:\n",
    "    print('\\n'.join(result))"
   ]
  },
  {
   "cell_type": "markdown",
   "id": "74a29b39",
   "metadata": {},
   "source": [
    "# 답안 작성 후 생각"
   ]
  },
  {
   "cell_type": "code",
   "execution_count": null,
   "id": "d749cf0d",
   "metadata": {},
   "outputs": [],
   "source": [
    "\"\"\"\"\"\"\"\"\"\"\n",
    "정답 판정은 받았지만, 1등보다 시간이 10배 이상 많이 소요된다. 시간을 줄여보자.\n",
    "\n",
    "핵심은 결국 n번 모두 처리하는 게 아니라 적당히 건너뛰기를 하는 것이다.\n",
    "\n",
    "자신보다 큰 수를 찾을 때까지 인덱스를 넘어가다가,\n",
    "\n",
    "만약 이전값 -1이 아직 처리되지 않았는데 현재 확인하는 값이 이전 값-1이 아니라면 NO를 출력한다.\n",
    "\n",
    "이때 자기 자신보다 1씩 줄이며 다음으로 올 수를 계산한 뒤 비교한다.\n",
    "\"\"\"\"\"\"\"\"\"\""
   ]
  },
  {
   "cell_type": "markdown",
   "id": "90743cf5",
   "metadata": {},
   "source": [
    "# 내 답안(2)"
   ]
  },
  {
   "cell_type": "code",
   "execution_count": 31,
   "id": "6c6eb4d2",
   "metadata": {},
   "outputs": [
    {
     "name": "stdout",
     "output_type": "stream",
     "text": [
      "8\n",
      "4\n",
      "3\n",
      "6\n",
      "8\n",
      "7\n",
      "5\n",
      "2\n",
      "1\n",
      "NO\n"
     ]
    }
   ],
   "source": [
    "result = ''\n",
    "n = int(input())\n",
    "stack = [int(input()) for _ in range(n)]\n",
    "idx = 0\n",
    "bk = 0\n",
    "ck = [0] * (n + 1)\n",
    "\n",
    "def find_nxt(pre):\n",
    "    for i in range(pre-1, 0, -1):\n",
    "        if ck[i] == 0:\n",
    "            return i\n",
    "        \n",
    "while idx < n:\n",
    "    pre = stack[idx] # 4\n",
    "    bigger_idx = idx + 1\n",
    "    while bigger_idx < n and stack[bigger_idx] < pre:\n",
    "        bigger_idx += 1 # 2   \n",
    "    nxt = pre\n",
    "    for i in range(idx+1, bigger_idx):\n",
    "        nxt = find_nxt(nxt)\n",
    "        if stack[i] != nxt:\n",
    "            print('NO')\n",
    "            bk = 1\n",
    "            break\n",
    "            \n",
    "    if bk:\n",
    "        break\n",
    "    result += '+' * pre + '-' * (bigger_idx - idx)\n",
    "    idx = bigger_idx\n",
    "    for i in range(idx, bigger_idx):\n",
    "        ck[i] = 1\n",
    "if bk == 0:\n",
    "    print('\\n'.join(result))"
   ]
  },
  {
   "cell_type": "markdown",
   "id": "d6f26fb1",
   "metadata": {},
   "source": [
    "# 답안 작성 후 생각(2)"
   ]
  },
  {
   "cell_type": "code",
   "execution_count": null,
   "id": "8a9ccfba",
   "metadata": {},
   "outputs": [],
   "source": [
    "\"\"\"\"\"\"\"\"\"\"\n",
    "조금 더 고민해서 내일 다시 풀어보자.\n",
    "\"\"\"\"\"\"\"\"\"\""
   ]
  }
 ],
 "metadata": {
  "kernelspec": {
   "display_name": "Python 3 (ipykernel)",
   "language": "python",
   "name": "python3"
  },
  "language_info": {
   "codemirror_mode": {
    "name": "ipython",
    "version": 3
   },
   "file_extension": ".py",
   "mimetype": "text/x-python",
   "name": "python",
   "nbconvert_exporter": "python",
   "pygments_lexer": "ipython3",
   "version": "3.7.13"
  }
 },
 "nbformat": 4,
 "nbformat_minor": 5
}
