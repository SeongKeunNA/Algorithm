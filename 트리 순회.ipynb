{
 "cells": [
  {
   "cell_type": "markdown",
   "id": "265e8bf0",
   "metadata": {},
   "source": [
    "# 코딩 전 생각"
   ]
  },
  {
   "cell_type": "code",
   "execution_count": null,
   "id": "4141e4b3",
   "metadata": {},
   "outputs": [],
   "source": [
    "\"\"\"\"\"\"\"\"\"\"\n",
    "1) 전위 순회: preorder(dfs) 이용한다:\n",
    "\n",
    "2-1. 현재 노드의 번호를 result에 넣는다.\n",
    "\n",
    "2-2. 왼쪽 자식 노드가 존재한다면 해당 노드에서 inorder를 실행한다.\n",
    "\n",
    "2-3.\n",
    "오른쪽 자식 노드가 존재한다면 해당 노드에서 inorder를 실행한다.\n",
    "\n",
    "\n",
    "2) 중위 순회: inorder(dfs)를 이용한다:\n",
    "\n",
    "2-1.\n",
    "왼쪽 자식 노드가 존재한다면 해당 노드에서 inorder를 실행한다.\n",
    "\n",
    "2-2.\n",
    "현재 노드의 번호를 result에 넣는다.\n",
    "\n",
    "2-3.\n",
    "오른쪽 자식 노드가 존재한다면 해당 노드에서 inorder를 실행한다.\n",
    "\n",
    "3) 후위 순회: postorder(dfs)를 이용한다.\n",
    "\n",
    "3-1.\n",
    "왼쪽 자식 노드가 존재한다면 해당 노드에서 postorder를 실행한다.\n",
    "\n",
    "3-2.\n",
    "오른쪽 자식 노드가 존재한다면 해당 노드에서 postorder를 실행한다.\n",
    "\n",
    "3-3.\n",
    "현재 노드의 번호를 result에 넣는다.\n",
    "\"\"\"\"\"\"\"\"\"\""
   ]
  },
  {
   "cell_type": "markdown",
   "id": "225dd950",
   "metadata": {},
   "source": [
    "# 내 답안"
   ]
  },
  {
   "cell_type": "code",
   "execution_count": null,
   "id": "26d14500",
   "metadata": {},
   "outputs": [],
   "source": [
    "from sys import stdin\n",
    "\n",
    "def pre_dfs(now):\n",
    "    result.append(now)\n",
    "    if btree[now][0] != '.':\n",
    "        pre_dfs(btree[now][0])\n",
    "    if btree[now][1] != '.':\n",
    "        pre_dfs(btree[now][1])\n",
    "        \n",
    "def in_dfs(now):\n",
    "    if btree[now][0] != '.':\n",
    "        in_dfs(btree[now][0])\n",
    "    result.append(now)\n",
    "    if btree[now][1] != '.':\n",
    "        in_dfs(btree[now][1])\n",
    "\n",
    "def post_dfs(now):\n",
    "    if btree[now][0] != '.':\n",
    "        post_dfs(btree[now][0])\n",
    "    if btree[now][1] != '.':\n",
    "        post_dfs(btree[now][1])       \n",
    "    result.append(now)\n",
    "\n",
    "input = stdin.readline        \n",
    "n = int(input())\n",
    "btree = dict()\n",
    "for _ in range(n):\n",
    "    a, b, c = input().split()\n",
    "    btree[a] = [b, c]\n",
    "    \n",
    "for f in pre_dfs, in_dfs, post_dfs:\n",
    "    result = []\n",
    "    f('A')\n",
    "    print(''.join(result))"
   ]
  }
 ],
 "metadata": {
  "kernelspec": {
   "display_name": "Python 3 (ipykernel)",
   "language": "python",
   "name": "python3"
  },
  "language_info": {
   "codemirror_mode": {
    "name": "ipython",
    "version": 3
   },
   "file_extension": ".py",
   "mimetype": "text/x-python",
   "name": "python",
   "nbconvert_exporter": "python",
   "pygments_lexer": "ipython3",
   "version": "3.7.13"
  }
 },
 "nbformat": 4,
 "nbformat_minor": 5
}
