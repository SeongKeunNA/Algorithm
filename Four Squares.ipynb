{
 "cells": [
  {
   "cell_type": "markdown",
   "id": "32a6fc50",
   "metadata": {},
   "source": [
    "# 풀이 전 생각"
   ]
  },
  {
   "cell_type": "code",
   "execution_count": null,
   "id": "7c43ddda",
   "metadata": {},
   "outputs": [],
   "source": [
    "\"\"\"\n",
    "다이나믹 프로그래밍 문제인 것 같다.\n",
    "\n",
    "d = [0] * 224로 선언한다.\n",
    "\n",
    "i를 1부터 223(50000의 제곱근보다 작거나 같은 자연수 중 가장 큰 값)까지 반복하여,\n",
    "\n",
    "j를 0부터 i-1까지 반복하여,\n",
    "\n",
    "d[i] = min(d[i-j] + d[j])로 초기화한다.\n",
    "\n",
    "이후, 0부터 int((n**0.5))까지 반복해 n을 표현하는 최소 개수의 제곱수 합 조합을 찾는다.\n",
    "\"\"\""
   ]
  },
  {
   "cell_type": "markdown",
   "id": "7875302e",
   "metadata": {},
   "source": [
    "# 내 답안"
   ]
  },
  {
   "cell_type": "code",
   "execution_count": 34,
   "id": "25c9c7a1",
   "metadata": {},
   "outputs": [
    {
     "name": "stdout",
     "output_type": "stream",
     "text": [
      "11339\n",
      "2\n"
     ]
    }
   ],
   "source": [
    "n = int(input())\n",
    "value = int(n**0.5)\n",
    "d = [0] * (value + 1)\n",
    "d[1], d[2] = 1, 2\n",
    "for i in range(3, value + 1):\n",
    "    min_value = int(1e9)\n",
    "    for j in range(1, i-1):\n",
    "        min_value = min(min_value, d[i-j] + d[j])\n",
    "    if (i ** 0.5).is_integer():\n",
    "        min_value = 1\n",
    "    d[i] = min_value\n",
    "answer = int(1e9)\n",
    "for i in range(1, n): \n",
    "    answer = min(answer, d[i] + d[value-i])\n",
    "if (n**0.5).is_integer():\n",
    "    answer = 1\n",
    "print(answer)"
   ]
  },
  {
   "cell_type": "code",
   "execution_count": 37,
   "id": "e0a7aeac",
   "metadata": {},
   "outputs": [
    {
     "name": "stdout",
     "output_type": "stream",
     "text": [
      "0 0\n",
      "1 1\n",
      "2 2\n",
      "3 3\n",
      "4 1\n",
      "5 2\n",
      "6 3\n",
      "7 4\n",
      "8 2\n",
      "9 1\n",
      "10 2\n",
      "11 3\n",
      "12 3\n",
      "13 2\n",
      "14 3\n",
      "15 4\n",
      "16 1\n",
      "17 2\n",
      "18 2\n",
      "19 3\n",
      "20 2\n",
      "21 3\n",
      "22 3\n",
      "23 4\n",
      "24 3\n",
      "25 1\n",
      "26 2\n",
      "27 3\n",
      "28 4\n",
      "29 2\n",
      "30 3\n",
      "31 4\n",
      "32 2\n",
      "33 3\n",
      "34 2\n",
      "35 3\n",
      "36 1\n",
      "37 2\n",
      "38 3\n",
      "39 4\n",
      "40 2\n",
      "41 2\n",
      "42 3\n",
      "43 3\n",
      "44 3\n",
      "45 2\n",
      "46 3\n",
      "47 4\n",
      "48 3\n",
      "49 1\n",
      "50 2\n",
      "51 3\n",
      "52 2\n",
      "53 2\n",
      "54 3\n",
      "55 4\n",
      "56 3\n",
      "57 3\n",
      "58 2\n",
      "59 3\n",
      "60 4\n",
      "61 2\n",
      "62 3\n",
      "63 4\n",
      "64 1\n",
      "65 2\n",
      "66 3\n",
      "67 3\n",
      "68 2\n",
      "69 3\n",
      "70 3\n",
      "71 4\n",
      "72 2\n",
      "73 2\n",
      "74 2\n",
      "75 3\n",
      "76 3\n",
      "77 3\n",
      "78 3\n",
      "79 4\n",
      "80 2\n",
      "81 1\n",
      "82 2\n",
      "83 3\n",
      "84 3\n",
      "85 2\n",
      "86 3\n",
      "87 4\n",
      "88 3\n",
      "89 2\n",
      "90 2\n",
      "91 3\n",
      "92 4\n",
      "93 3\n",
      "94 3\n",
      "95 4\n",
      "96 3\n",
      "97 2\n",
      "98 2\n",
      "99 3\n",
      "100 1\n",
      "101 2\n",
      "102 3\n",
      "103 4\n",
      "104 2\n",
      "105 3\n",
      "106 2\n"
     ]
    }
   ],
   "source": [
    "for i in range(len(d)):\n",
    "    print(i, d[i])"
   ]
  },
  {
   "cell_type": "code",
   "execution_count": null,
   "id": "e033b5f3",
   "metadata": {},
   "outputs": [],
   "source": [
    "12 = 2*2 + 2*2 + 2*2\n",
    "13 = 3*2 + 2+2\n",
    "14 = 3*2 + "
   ]
  },
  {
   "cell_type": "code",
   "execution_count": 19,
   "id": "c1fc9d01",
   "metadata": {},
   "outputs": [
    {
     "data": {
      "text/plain": [
       "False"
      ]
     },
     "execution_count": 19,
     "metadata": {},
     "output_type": "execute_result"
    }
   ],
   "source": [
    "(3 ** 0.5).is_integer()"
   ]
  },
  {
   "cell_type": "code",
   "execution_count": 21,
   "id": "4fe7046e",
   "metadata": {},
   "outputs": [
    {
     "name": "stdout",
     "output_type": "stream",
     "text": [
      "[1, 1, 2, 3, 1, 2]\n"
     ]
    }
   ],
   "source": [
    "print(d)"
   ]
  },
  {
   "cell_type": "code",
   "execution_count": 2,
   "id": "e560805b",
   "metadata": {},
   "outputs": [
    {
     "data": {
      "text/plain": [
       "106.48474069086143"
      ]
     },
     "execution_count": 2,
     "metadata": {},
     "output_type": "execute_result"
    }
   ],
   "source": [
    "11339 **(1/2)"
   ]
  },
  {
   "cell_type": "code",
   "execution_count": 13,
   "id": "689f997a",
   "metadata": {},
   "outputs": [
    {
     "data": {
      "text/plain": [
       "10.0"
      ]
     },
     "execution_count": 13,
     "metadata": {},
     "output_type": "execute_result"
    }
   ],
   "source": [
    "100**0.5"
   ]
  },
  {
   "cell_type": "code",
   "execution_count": 14,
   "id": "e0f905dc",
   "metadata": {},
   "outputs": [
    {
     "data": {
      "text/plain": [
       "100.0"
      ]
     },
     "execution_count": 14,
     "metadata": {},
     "output_type": "execute_result"
    }
   ],
   "source": [
    "10.0 ** 2"
   ]
  },
  {
   "cell_type": "code",
   "execution_count": 3,
   "id": "0c63f328",
   "metadata": {},
   "outputs": [
    {
     "data": {
      "text/plain": [
       "11236"
      ]
     },
     "execution_count": 3,
     "metadata": {},
     "output_type": "execute_result"
    }
   ],
   "source": [
    "106**2"
   ]
  },
  {
   "cell_type": "code",
   "execution_count": 4,
   "id": "56b608db",
   "metadata": {},
   "outputs": [
    {
     "data": {
      "text/plain": [
       "103"
      ]
     },
     "execution_count": 4,
     "metadata": {},
     "output_type": "execute_result"
    }
   ],
   "source": [
    "11339-11236"
   ]
  },
  {
   "cell_type": "code",
   "execution_count": 5,
   "id": "de49a39b",
   "metadata": {},
   "outputs": [
    {
     "data": {
      "text/plain": [
       "10.14889156509222"
      ]
     },
     "execution_count": 5,
     "metadata": {},
     "output_type": "execute_result"
    }
   ],
   "source": [
    "103 **(1/2)"
   ]
  },
  {
   "cell_type": "code",
   "execution_count": 6,
   "id": "945564ff",
   "metadata": {},
   "outputs": [
    {
     "data": {
      "text/plain": [
       "225"
      ]
     },
     "execution_count": 6,
     "metadata": {},
     "output_type": "execute_result"
    }
   ],
   "source": [
    "15**2"
   ]
  },
  {
   "cell_type": "code",
   "execution_count": null,
   "id": "c660811f",
   "metadata": {},
   "outputs": [],
   "source": [
    "11236 + 100 + 1 + 1+ (x)"
   ]
  },
  {
   "cell_type": "code",
   "execution_count": 7,
   "id": "383c63b2",
   "metadata": {},
   "outputs": [
    {
     "data": {
      "text/plain": [
       "223.60679774997897"
      ]
     },
     "execution_count": 7,
     "metadata": {},
     "output_type": "execute_result"
    }
   ],
   "source": [
    "50000**0.5"
   ]
  },
  {
   "cell_type": "code",
   "execution_count": null,
   "id": "17a9725c",
   "metadata": {},
   "outputs": [],
   "source": [
    "1-1\n",
    "2-2\n",
    "3-3\n",
    "4-2\n",
    "5-2\n",
    "\n"
   ]
  },
  {
   "cell_type": "code",
   "execution_count": 8,
   "id": "8984ccaa",
   "metadata": {},
   "outputs": [
    {
     "data": {
      "text/plain": [
       "50176"
      ]
     },
     "execution_count": 8,
     "metadata": {},
     "output_type": "execute_result"
    }
   ],
   "source": [
    "224**2"
   ]
  },
  {
   "cell_type": "code",
   "execution_count": 9,
   "id": "cfa71946",
   "metadata": {},
   "outputs": [
    {
     "data": {
      "text/plain": [
       "49729"
      ]
     },
     "execution_count": 9,
     "metadata": {},
     "output_type": "execute_result"
    }
   ],
   "source": [
    "223*223"
   ]
  },
  {
   "cell_type": "code",
   "execution_count": 10,
   "id": "49bef582",
   "metadata": {},
   "outputs": [
    {
     "data": {
      "text/plain": [
       "49284"
      ]
     },
     "execution_count": 10,
     "metadata": {},
     "output_type": "execute_result"
    }
   ],
   "source": [
    "222*222"
   ]
  },
  {
   "cell_type": "code",
   "execution_count": 11,
   "id": "27349dd5",
   "metadata": {},
   "outputs": [
    {
     "data": {
      "text/plain": [
       "125.15190769620733"
      ]
     },
     "execution_count": 11,
     "metadata": {},
     "output_type": "execute_result"
    }
   ],
   "source": [
    "15663 ** 0.5"
   ]
  },
  {
   "cell_type": "markdown",
   "id": "04628763",
   "metadata": {},
   "source": [
    "# 풀이 후 생각"
   ]
  },
  {
   "cell_type": "code",
   "execution_count": 38,
   "id": "fd461a73",
   "metadata": {},
   "outputs": [
    {
     "data": {
      "text/plain": [
       "'\\n다이나믹 프로그래밍으로는 깔끔한 풀이가 되지 않는다.\\n\\ndfs로 해결해본다.\\n'"
      ]
     },
     "execution_count": 38,
     "metadata": {},
     "output_type": "execute_result"
    }
   ],
   "source": [
    "\"\"\"\n",
    "다이나믹 프로그래밍으로는 깔끔한 풀이가 되지 않는다.\n",
    "\n",
    "dfs로 해결해본다.\n",
    "\"\"\""
   ]
  },
  {
   "cell_type": "markdown",
   "id": "d2c098c6",
   "metadata": {},
   "source": [
    "# 내 답안(2)"
   ]
  },
  {
   "cell_type": "code",
   "execution_count": 19,
   "id": "91ac202f",
   "metadata": {},
   "outputs": [
    {
     "name": "stdout",
     "output_type": "stream",
     "text": [
      "50000\n"
     ]
    },
    {
     "ename": "KeyboardInterrupt",
     "evalue": "",
     "output_type": "error",
     "traceback": [
      "\u001b[1;31m---------------------------------------------------------------------------\u001b[0m",
      "\u001b[1;31mKeyboardInterrupt\u001b[0m                         Traceback (most recent call last)",
      "\u001b[1;32m~\\AppData\\Local\\Temp\\ipykernel_10664\\1759278422.py\u001b[0m in \u001b[0;36m<module>\u001b[1;34m\u001b[0m\n\u001b[0;32m     20\u001b[0m \u001b[1;33m\u001b[0m\u001b[0m\n\u001b[0;32m     21\u001b[0m \u001b[0manswer\u001b[0m \u001b[1;33m=\u001b[0m \u001b[1;36m4\u001b[0m\u001b[1;33m\u001b[0m\u001b[1;33m\u001b[0m\u001b[0m\n\u001b[1;32m---> 22\u001b[1;33m \u001b[0mbacktrack\u001b[0m\u001b[1;33m(\u001b[0m\u001b[0mn\u001b[0m\u001b[1;33m,\u001b[0m \u001b[1;36m0\u001b[0m\u001b[1;33m)\u001b[0m\u001b[1;33m\u001b[0m\u001b[1;33m\u001b[0m\u001b[0m\n\u001b[0m\u001b[0;32m     23\u001b[0m \u001b[0mprint\u001b[0m\u001b[1;33m(\u001b[0m\u001b[0manswer\u001b[0m\u001b[1;33m)\u001b[0m\u001b[1;33m\u001b[0m\u001b[1;33m\u001b[0m\u001b[0m\n",
      "\u001b[1;32m~\\AppData\\Local\\Temp\\ipykernel_10664\\1759278422.py\u001b[0m in \u001b[0;36mbacktrack\u001b[1;34m(num, count)\u001b[0m\n\u001b[0;32m     17\u001b[0m             \u001b[0manswer\u001b[0m \u001b[1;33m=\u001b[0m \u001b[0mmin\u001b[0m\u001b[1;33m(\u001b[0m\u001b[0manswer\u001b[0m\u001b[1;33m,\u001b[0m \u001b[0md\u001b[0m\u001b[1;33m[\u001b[0m\u001b[0mi\u001b[0m\u001b[1;33m]\u001b[0m \u001b[1;33m+\u001b[0m \u001b[0mcount\u001b[0m\u001b[1;33m)\u001b[0m\u001b[1;33m\u001b[0m\u001b[1;33m\u001b[0m\u001b[0m\n\u001b[0;32m     18\u001b[0m         \u001b[1;32melse\u001b[0m\u001b[1;33m:\u001b[0m\u001b[1;33m\u001b[0m\u001b[1;33m\u001b[0m\u001b[0m\n\u001b[1;32m---> 19\u001b[1;33m             \u001b[0mbacktrack\u001b[0m\u001b[1;33m(\u001b[0m\u001b[0mnum\u001b[0m \u001b[1;33m-\u001b[0m \u001b[1;33m(\u001b[0m\u001b[0mi\u001b[0m\u001b[1;33m**\u001b[0m\u001b[1;36m2\u001b[0m\u001b[1;33m)\u001b[0m\u001b[1;33m,\u001b[0m \u001b[0mcount\u001b[0m\u001b[1;33m+\u001b[0m\u001b[1;36m1\u001b[0m\u001b[1;33m)\u001b[0m\u001b[1;33m\u001b[0m\u001b[1;33m\u001b[0m\u001b[0m\n\u001b[0m\u001b[0;32m     20\u001b[0m \u001b[1;33m\u001b[0m\u001b[0m\n\u001b[0;32m     21\u001b[0m \u001b[0manswer\u001b[0m \u001b[1;33m=\u001b[0m \u001b[1;36m4\u001b[0m\u001b[1;33m\u001b[0m\u001b[1;33m\u001b[0m\u001b[0m\n",
      "\u001b[1;32m~\\AppData\\Local\\Temp\\ipykernel_10664\\1759278422.py\u001b[0m in \u001b[0;36mbacktrack\u001b[1;34m(num, count)\u001b[0m\n\u001b[0;32m     17\u001b[0m             \u001b[0manswer\u001b[0m \u001b[1;33m=\u001b[0m \u001b[0mmin\u001b[0m\u001b[1;33m(\u001b[0m\u001b[0manswer\u001b[0m\u001b[1;33m,\u001b[0m \u001b[0md\u001b[0m\u001b[1;33m[\u001b[0m\u001b[0mi\u001b[0m\u001b[1;33m]\u001b[0m \u001b[1;33m+\u001b[0m \u001b[0mcount\u001b[0m\u001b[1;33m)\u001b[0m\u001b[1;33m\u001b[0m\u001b[1;33m\u001b[0m\u001b[0m\n\u001b[0;32m     18\u001b[0m         \u001b[1;32melse\u001b[0m\u001b[1;33m:\u001b[0m\u001b[1;33m\u001b[0m\u001b[1;33m\u001b[0m\u001b[0m\n\u001b[1;32m---> 19\u001b[1;33m             \u001b[0mbacktrack\u001b[0m\u001b[1;33m(\u001b[0m\u001b[0mnum\u001b[0m \u001b[1;33m-\u001b[0m \u001b[1;33m(\u001b[0m\u001b[0mi\u001b[0m\u001b[1;33m**\u001b[0m\u001b[1;36m2\u001b[0m\u001b[1;33m)\u001b[0m\u001b[1;33m,\u001b[0m \u001b[0mcount\u001b[0m\u001b[1;33m+\u001b[0m\u001b[1;36m1\u001b[0m\u001b[1;33m)\u001b[0m\u001b[1;33m\u001b[0m\u001b[1;33m\u001b[0m\u001b[0m\n\u001b[0m\u001b[0;32m     20\u001b[0m \u001b[1;33m\u001b[0m\u001b[0m\n\u001b[0;32m     21\u001b[0m \u001b[0manswer\u001b[0m \u001b[1;33m=\u001b[0m \u001b[1;36m4\u001b[0m\u001b[1;33m\u001b[0m\u001b[1;33m\u001b[0m\u001b[0m\n",
      "\u001b[1;32m~\\AppData\\Local\\Temp\\ipykernel_10664\\1759278422.py\u001b[0m in \u001b[0;36mbacktrack\u001b[1;34m(num, count)\u001b[0m\n\u001b[0;32m     17\u001b[0m             \u001b[0manswer\u001b[0m \u001b[1;33m=\u001b[0m \u001b[0mmin\u001b[0m\u001b[1;33m(\u001b[0m\u001b[0manswer\u001b[0m\u001b[1;33m,\u001b[0m \u001b[0md\u001b[0m\u001b[1;33m[\u001b[0m\u001b[0mi\u001b[0m\u001b[1;33m]\u001b[0m \u001b[1;33m+\u001b[0m \u001b[0mcount\u001b[0m\u001b[1;33m)\u001b[0m\u001b[1;33m\u001b[0m\u001b[1;33m\u001b[0m\u001b[0m\n\u001b[0;32m     18\u001b[0m         \u001b[1;32melse\u001b[0m\u001b[1;33m:\u001b[0m\u001b[1;33m\u001b[0m\u001b[1;33m\u001b[0m\u001b[0m\n\u001b[1;32m---> 19\u001b[1;33m             \u001b[0mbacktrack\u001b[0m\u001b[1;33m(\u001b[0m\u001b[0mnum\u001b[0m \u001b[1;33m-\u001b[0m \u001b[1;33m(\u001b[0m\u001b[0mi\u001b[0m\u001b[1;33m**\u001b[0m\u001b[1;36m2\u001b[0m\u001b[1;33m)\u001b[0m\u001b[1;33m,\u001b[0m \u001b[0mcount\u001b[0m\u001b[1;33m+\u001b[0m\u001b[1;36m1\u001b[0m\u001b[1;33m)\u001b[0m\u001b[1;33m\u001b[0m\u001b[1;33m\u001b[0m\u001b[0m\n\u001b[0m\u001b[0;32m     20\u001b[0m \u001b[1;33m\u001b[0m\u001b[0m\n\u001b[0;32m     21\u001b[0m \u001b[0manswer\u001b[0m \u001b[1;33m=\u001b[0m \u001b[1;36m4\u001b[0m\u001b[1;33m\u001b[0m\u001b[1;33m\u001b[0m\u001b[0m\n",
      "\u001b[1;32m~\\AppData\\Local\\Temp\\ipykernel_10664\\1759278422.py\u001b[0m in \u001b[0;36mbacktrack\u001b[1;34m(num, count)\u001b[0m\n\u001b[0;32m     17\u001b[0m             \u001b[0manswer\u001b[0m \u001b[1;33m=\u001b[0m \u001b[0mmin\u001b[0m\u001b[1;33m(\u001b[0m\u001b[0manswer\u001b[0m\u001b[1;33m,\u001b[0m \u001b[0md\u001b[0m\u001b[1;33m[\u001b[0m\u001b[0mi\u001b[0m\u001b[1;33m]\u001b[0m \u001b[1;33m+\u001b[0m \u001b[0mcount\u001b[0m\u001b[1;33m)\u001b[0m\u001b[1;33m\u001b[0m\u001b[1;33m\u001b[0m\u001b[0m\n\u001b[0;32m     18\u001b[0m         \u001b[1;32melse\u001b[0m\u001b[1;33m:\u001b[0m\u001b[1;33m\u001b[0m\u001b[1;33m\u001b[0m\u001b[0m\n\u001b[1;32m---> 19\u001b[1;33m             \u001b[0mbacktrack\u001b[0m\u001b[1;33m(\u001b[0m\u001b[0mnum\u001b[0m \u001b[1;33m-\u001b[0m \u001b[1;33m(\u001b[0m\u001b[0mi\u001b[0m\u001b[1;33m**\u001b[0m\u001b[1;36m2\u001b[0m\u001b[1;33m)\u001b[0m\u001b[1;33m,\u001b[0m \u001b[0mcount\u001b[0m\u001b[1;33m+\u001b[0m\u001b[1;36m1\u001b[0m\u001b[1;33m)\u001b[0m\u001b[1;33m\u001b[0m\u001b[1;33m\u001b[0m\u001b[0m\n\u001b[0m\u001b[0;32m     20\u001b[0m \u001b[1;33m\u001b[0m\u001b[0m\n\u001b[0;32m     21\u001b[0m \u001b[0manswer\u001b[0m \u001b[1;33m=\u001b[0m \u001b[1;36m4\u001b[0m\u001b[1;33m\u001b[0m\u001b[1;33m\u001b[0m\u001b[0m\n",
      "\u001b[1;32m~\\AppData\\Local\\Temp\\ipykernel_10664\\1759278422.py\u001b[0m in \u001b[0;36mbacktrack\u001b[1;34m(num, count)\u001b[0m\n\u001b[0;32m     17\u001b[0m             \u001b[0manswer\u001b[0m \u001b[1;33m=\u001b[0m \u001b[0mmin\u001b[0m\u001b[1;33m(\u001b[0m\u001b[0manswer\u001b[0m\u001b[1;33m,\u001b[0m \u001b[0md\u001b[0m\u001b[1;33m[\u001b[0m\u001b[0mi\u001b[0m\u001b[1;33m]\u001b[0m \u001b[1;33m+\u001b[0m \u001b[0mcount\u001b[0m\u001b[1;33m)\u001b[0m\u001b[1;33m\u001b[0m\u001b[1;33m\u001b[0m\u001b[0m\n\u001b[0;32m     18\u001b[0m         \u001b[1;32melse\u001b[0m\u001b[1;33m:\u001b[0m\u001b[1;33m\u001b[0m\u001b[1;33m\u001b[0m\u001b[0m\n\u001b[1;32m---> 19\u001b[1;33m             \u001b[0mbacktrack\u001b[0m\u001b[1;33m(\u001b[0m\u001b[0mnum\u001b[0m \u001b[1;33m-\u001b[0m \u001b[1;33m(\u001b[0m\u001b[0mi\u001b[0m\u001b[1;33m**\u001b[0m\u001b[1;36m2\u001b[0m\u001b[1;33m)\u001b[0m\u001b[1;33m,\u001b[0m \u001b[0mcount\u001b[0m\u001b[1;33m+\u001b[0m\u001b[1;36m1\u001b[0m\u001b[1;33m)\u001b[0m\u001b[1;33m\u001b[0m\u001b[1;33m\u001b[0m\u001b[0m\n\u001b[0m\u001b[0;32m     20\u001b[0m \u001b[1;33m\u001b[0m\u001b[0m\n\u001b[0;32m     21\u001b[0m \u001b[0manswer\u001b[0m \u001b[1;33m=\u001b[0m \u001b[1;36m4\u001b[0m\u001b[1;33m\u001b[0m\u001b[1;33m\u001b[0m\u001b[0m\n",
      "\u001b[1;31mKeyboardInterrupt\u001b[0m: "
     ]
    }
   ],
   "source": [
    "n = int(input())\n",
    "d = [-1] * 50001\n",
    "def backtrack(num, count):\n",
    "    global answer\n",
    "    if answer == 1:\n",
    "        return \n",
    "    if count > 4:\n",
    "        return\n",
    "    sqrt = num**0.5\n",
    "    \n",
    "    if sqrt.is_integer():\n",
    "        answer = min(answer, count + 1)\n",
    "        d[num] = answer\n",
    "        return\n",
    "    for i in range(1, int(sqrt) + 1): \n",
    "        if d[i] != -1:\n",
    "            answer = min(answer, d[i] + count)\n",
    "        else:\n",
    "            backtrack(num - (i**2), count+1)\n",
    "\n",
    "answer = 4\n",
    "backtrack(n, 0)\n",
    "print(answer)"
   ]
  },
  {
   "cell_type": "code",
   "execution_count": null,
   "id": "333a14da",
   "metadata": {},
   "outputs": [],
   "source": [
    "26.3\n",
    "\n",
    "26 \n",
    "25\n",
    "24\n",
    "23\n",
    "...\n",
    "1"
   ]
  },
  {
   "cell_type": "code",
   "execution_count": 7,
   "id": "62e2826a",
   "metadata": {},
   "outputs": [
    {
     "data": {
      "text/plain": [
       "106.48474069086143"
      ]
     },
     "execution_count": 7,
     "metadata": {},
     "output_type": "execute_result"
    }
   ],
   "source": [
    "11339 ** 0.5"
   ]
  },
  {
   "cell_type": "code",
   "execution_count": 16,
   "id": "9293d504",
   "metadata": {},
   "outputs": [
    {
     "name": "stdout",
     "output_type": "stream",
     "text": [
      "103 314 523\n"
     ]
    }
   ],
   "source": [
    "print(11339-(106**2), 11339-(105**2),11339-(104**2))"
   ]
  },
  {
   "cell_type": "code",
   "execution_count": 17,
   "id": "f08f684b",
   "metadata": {},
   "outputs": [
    {
     "data": {
      "text/plain": [
       "11338"
      ]
     },
     "execution_count": 17,
     "metadata": {},
     "output_type": "execute_result"
    }
   ],
   "source": [
    "11339-1**2"
   ]
  },
  {
   "cell_type": "code",
   "execution_count": null,
   "id": "3e0a159c",
   "metadata": {},
   "outputs": [],
   "source": [
    "1**2, 2**2, ... , 233**2\n",
    "233c1 233c2 233c3\n",
    "233 232\n",
    "2\n",
    "ls = [i**2 for i in range(int(n**0.5) + 1)]\n",
    "def backtrack(num, count):\n",
    "    global answer\n",
    "    if answer == 1:\n",
    "        return \n",
    "    if count > 4:\n",
    "        return\n",
    "    if num.is_integer():\n",
    "        answer = min(answer, count + 1)\n",
    "        return\n",
    "    backtrack()\n",
    "    \n",
    "for i in range()\n",
    "\n"
   ]
  },
  {
   "cell_type": "markdown",
   "id": "cdfe2329",
   "metadata": {},
   "source": [
    "# 풀이 전 생각(3)"
   ]
  },
  {
   "cell_type": "code",
   "execution_count": null,
   "id": "7ef7cd8c",
   "metadata": {},
   "outputs": [],
   "source": [
    "\"\"\"\n",
    "i) 하나의 제곱수로 표현 가능(n**0.5가 정수인 경우): 1을 return\n",
    "\n",
    "ii) 두 개의 제곱수로 표현 가능(i를 1부터 int(n**0.5)까지 반복해서 n - (i**0.5)이 정수 인 경우) : 2을 return\n",
    "\n",
    "iii) 세 개의 제곱수로 표현 가능(i를 1부터 int(n**0.5)까지 반복하여 n-(i**0.5) = val 을 구하고,\n",
    "     다시 한 번 j를 1부터 int(n**0.5)까지 반복하여 val - (j**0.5)가 정수인 경우 3을 return\n",
    "     \n",
    "iv) 4를 return\n",
    "\"\"\""
   ]
  },
  {
   "cell_type": "markdown",
   "id": "5e383074",
   "metadata": {},
   "source": [
    "# 내 풀이(3)"
   ]
  },
  {
   "cell_type": "code",
   "execution_count": 6,
   "id": "0d95c162",
   "metadata": {},
   "outputs": [
    {
     "name": "stdout",
     "output_type": "stream",
     "text": [
      "50000\n",
      "2\n"
     ]
    }
   ],
   "source": [
    "n = int(input())\n",
    "answer = 4\n",
    "def backtrack(num, count):\n",
    "    global answer\n",
    "    if answer <= count:\n",
    "        return\n",
    "    if (num**0.5).is_integer():\n",
    "        answer = count\n",
    "    for i in range(1, int(num**0.5) + 1):\n",
    "        backtrack(num - (i**2),  count + 1)\n",
    "backtrack(n, 1)\n",
    "print(answer)"
   ]
  },
  {
   "cell_type": "markdown",
   "id": "7f5ee19d",
   "metadata": {},
   "source": [
    "# gkdbssla97님의 풀이"
   ]
  },
  {
   "cell_type": "code",
   "execution_count": null,
   "id": "f871b6c6",
   "metadata": {},
   "outputs": [],
   "source": [
    "import math\n",
    "\n",
    "n = int(input())\n",
    "\n",
    "def cal_sqrt(n):\n",
    "# 1개 일때\n",
    "    if math.sqrt(n) == int(math.sqrt(n)):\n",
    "        return 1\n",
    "\n",
    "    # 2개 일때\n",
    "    for i in range(1, int(math.sqrt(n)) + 1):\n",
    "        if math.sqrt(n - i**2) == int(math.sqrt(n - i**2)):\n",
    "            return 2\n",
    "\n",
    "    # 3개 일때\n",
    "    for i in range(1, int(math.sqrt(n)) + 1):\n",
    "        for j in range(1, int(math.sqrt(n - i**2)) + 1):\n",
    "            if int(math.sqrt(n - i**2 - j**2)) == (math.sqrt(n - i**2 - j**2)):\n",
    "                return 3\n",
    "\n",
    "    return 4\n",
    "print(cal_sqrt(n))\n"
   ]
  },
  {
   "cell_type": "markdown",
   "id": "c40b51c4",
   "metadata": {},
   "source": [
    "# 풀이 후 생각"
   ]
  },
  {
   "cell_type": "code",
   "execution_count": null,
   "id": "5ce6598c",
   "metadata": {},
   "outputs": [],
   "source": [
    "\"\"\"\n",
    "어쨋든 제곱수로만 표현해야한다는 사실을 이용해 backtracking으로 해결했다.\n",
    "\n",
    "for 문을 세 번 돌리고 return 하는 게 더 빠르다.\n",
    "\"\"\""
   ]
  }
 ],
 "metadata": {
  "kernelspec": {
   "display_name": "Python 3 (ipykernel)",
   "language": "python",
   "name": "python3"
  },
  "language_info": {
   "codemirror_mode": {
    "name": "ipython",
    "version": 3
   },
   "file_extension": ".py",
   "mimetype": "text/x-python",
   "name": "python",
   "nbconvert_exporter": "python",
   "pygments_lexer": "ipython3",
   "version": "3.7.13"
  }
 },
 "nbformat": 4,
 "nbformat_minor": 5
}
