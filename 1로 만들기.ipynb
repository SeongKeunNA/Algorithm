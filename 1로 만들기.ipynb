{
 "cells": [
  {
   "cell_type": "markdown",
   "id": "546524c2",
   "metadata": {},
   "source": [
    "# 풀이 전 생각"
   ]
  },
  {
   "cell_type": "code",
   "execution_count": null,
   "id": "dae69521",
   "metadata": {},
   "outputs": [],
   "source": [
    "\"\"\"\n",
    "다이나믹 프로그래밍으로 해결한다.\n",
    "\n",
    "i번째 수의 연산 횟수의 최솟값을 i번째 인덱스의 값으로 하는 리스트 ls를 선언한다.\n",
    "\n",
    "i를 2에서부터 N까지 반복해서 세 가지 경우의 수 중 최솟값을 ls[i]의 값으로 저장한다.\n",
    "\n",
    "(1) i가 3으로 나누어 떨어지는 경우 ls[i//3] + 1 \n",
    "\n",
    "(2) i가 2로 나누어 떨어지는 경우 ls[i//2] + 1\n",
    "\n",
    "(3) ls[i-1] + 1\n",
    "\"\"\""
   ]
  },
  {
   "cell_type": "markdown",
   "id": "70638cc9",
   "metadata": {},
   "source": [
    "# 내 답안"
   ]
  },
  {
   "cell_type": "code",
   "execution_count": 5,
   "id": "781390fe",
   "metadata": {},
   "outputs": [
    {
     "name": "stdout",
     "output_type": "stream",
     "text": [
      "10\n",
      "3\n"
     ]
    }
   ],
   "source": [
    "n = int(input())\n",
    "ls = [0] * (n+1)\n",
    "for i in range(2, n+1):\n",
    "    val = int(1e9)\n",
    "    if i % 3 == 0:\n",
    "        val = ls[i//3] + 1\n",
    "    if i % 2 == 0:\n",
    "        val = min(val, ls[i//2] + 1)\n",
    "    val = min(val, ls[i-1] + 1)\n",
    "    ls[i] = val\n",
    "print(ls[n])"
   ]
  }
 ],
 "metadata": {
  "kernelspec": {
   "display_name": "Python 3 (ipykernel)",
   "language": "python",
   "name": "python3"
  },
  "language_info": {
   "codemirror_mode": {
    "name": "ipython",
    "version": 3
   },
   "file_extension": ".py",
   "mimetype": "text/x-python",
   "name": "python",
   "nbconvert_exporter": "python",
   "pygments_lexer": "ipython3",
   "version": "3.7.13"
  }
 },
 "nbformat": 4,
 "nbformat_minor": 5
}
