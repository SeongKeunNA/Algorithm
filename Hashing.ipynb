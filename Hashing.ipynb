{
 "cells": [
  {
   "cell_type": "markdown",
   "id": "78d7dece",
   "metadata": {},
   "source": [
    "# 코딩 전 생각"
   ]
  },
  {
   "cell_type": "code",
   "execution_count": null,
   "id": "72af14d3",
   "metadata": {},
   "outputs": [],
   "source": [
    "\"\"\"\"\"\"\"\"\"\n",
    "1. ord를 이용해 abc...z 를 1에서 26사이의 숫자로 변환한다.\n",
    "\n",
    "2. 숫자 문자열의 개수만큼(i) 반복해서 i번째 숫자 * 31 ^ i의 합을 계산한다.\n",
    "\n",
    "3. 최종 결과를 1234567891로 나눈 나머지를 최종 답안으로 출력한다.\n",
    "\"\"\"\"\"\"\"\"\""
   ]
  },
  {
   "cell_type": "markdown",
   "id": "58a85487",
   "metadata": {},
   "source": [
    "# 내 답안"
   ]
  },
  {
   "cell_type": "code",
   "execution_count": 9,
   "id": "0524d5a8",
   "metadata": {},
   "outputs": [
    {
     "name": "stdout",
     "output_type": "stream",
     "text": [
      "1\n",
      "i\n",
      "9\n"
     ]
    }
   ],
   "source": [
    "l = int(input())\n",
    "s = list(map(lambda x: ord(x) - 96, input()))\n",
    "value = 0\n",
    "for i in range(len(s)):\n",
    "    value += s[i] * (31 ** i)\n",
    "print(value % 1234567891)"
   ]
  }
 ],
 "metadata": {
  "kernelspec": {
   "display_name": "Python 3 (ipykernel)",
   "language": "python",
   "name": "python3"
  },
  "language_info": {
   "codemirror_mode": {
    "name": "ipython",
    "version": 3
   },
   "file_extension": ".py",
   "mimetype": "text/x-python",
   "name": "python",
   "nbconvert_exporter": "python",
   "pygments_lexer": "ipython3",
   "version": "3.7.13"
  }
 },
 "nbformat": 4,
 "nbformat_minor": 5
}
