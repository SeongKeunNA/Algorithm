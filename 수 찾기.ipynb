{
 "cells": [
  {
   "cell_type": "markdown",
   "id": "fde90cb1",
   "metadata": {},
   "source": [
    "# 코딩 전 생각"
   ]
  },
  {
   "cell_type": "code",
   "execution_count": null,
   "id": "6faee3f6",
   "metadata": {},
   "outputs": [],
   "source": [
    "\"\"\"\"\"\"\"\"\"\"\n",
    "주어진 정수 리스트를 정렬한 뒤 이진 탐색으로 매번 특정 정수의 존재 여부를 판단하여 출력한다.\n",
    "\"\"\"\"\"\"\"\"\"\""
   ]
  },
  {
   "cell_type": "markdown",
   "id": "068f6b9f",
   "metadata": {},
   "source": [
    "# 내 답안 - 이진 탐색 직접 구현"
   ]
  },
  {
   "cell_type": "code",
   "execution_count": null,
   "id": "b064324e",
   "metadata": {},
   "outputs": [],
   "source": [
    "def search_num(i):\n",
    "    start, end = 0, n - 1\n",
    "    while start <= end:\n",
    "        mid = (start + end) // 2\n",
    "        if data[mid] == i:\n",
    "            return True\n",
    "        elif data[mid] > i:\n",
    "            mid = end - 1\n",
    "        else:\n",
    "            mid = start + 1\n",
    "    else:\n",
    "        return False\n",
    "\n",
    "\n",
    "n = int(input())\n",
    "data = list(map(int, input().split()))\n",
    "data.sort()\n",
    "m = int(input())\n",
    "for i in list(map(int,input().split())):\n",
    "    if search_num(i):\n",
    "        print(1)\n",
    "    else:\n",
    "        print(0)"
   ]
  },
  {
   "cell_type": "markdown",
   "id": "43d3fa0c",
   "metadata": {},
   "source": [
    "# 내 답안 - bisect 라이브러리 사용해 구현"
   ]
  },
  {
   "cell_type": "code",
   "execution_count": null,
   "id": "05474741",
   "metadata": {},
   "outputs": [],
   "source": [
    "from bisect import bisect_left, bisect_right\n",
    "from sys import stdin\n",
    "\n",
    "def binary_search(i):\n",
    "    left = bisect_left(data, i)\n",
    "    right = bisect_right(data, i)\n",
    "    if left == right:\n",
    "        return 0\n",
    "    else:\n",
    "        return 1\n",
    "    \n",
    "input = stdin.readline\n",
    "n = int(input())\n",
    "data = list(map(int, input().split()))\n",
    "data.sort()\n",
    "m = int(input())\n",
    "for i in list(map(int, input().split())):\n",
    "    print(binary_search(i))"
   ]
  },
  {
   "cell_type": "markdown",
   "id": "a3b7b256",
   "metadata": {},
   "source": [
    "# samag님의 답안 - https://www.acmicpc.net/source/40468417"
   ]
  },
  {
   "cell_type": "code",
   "execution_count": 1,
   "id": "b5f34a39",
   "metadata": {},
   "outputs": [
    {
     "name": "stdout",
     "output_type": "stream",
     "text": [
      "1 3 5\n"
     ]
    },
    {
     "data": {
      "text/plain": [
       "['1', '3', '5']"
      ]
     },
     "execution_count": 1,
     "metadata": {},
     "output_type": "execute_result"
    }
   ],
   "source": [
    "_, a, _ = input(), set(input().split(\" \")), input()\n",
    "print(''.join('1\\n' if v in a else '0\\n' for v in input().split(\" \")))"
   ]
  },
  {
   "cell_type": "markdown",
   "id": "1f0cc569",
   "metadata": {},
   "source": [
    "# 답안 작성 후 생각"
   ]
  },
  {
   "cell_type": "code",
   "execution_count": null,
   "id": "c7c179da",
   "metadata": {},
   "outputs": [],
   "source": [
    "\"\"\"\"\"\"\"\"\"\"\n",
    "bisect 라이브러리를 이용해야 시간초과를 피할 수 있었다. \n",
    "\n",
    "samag님은 단 두 줄로 필요한 정보만 골라 문제를 효율적으로 해결했다.\n",
    "\n",
    "이때 input().split() 구조를 활용했다.\n",
    "\"\"\"\"\"\"\"\"\"\""
   ]
  }
 ],
 "metadata": {
  "kernelspec": {
   "display_name": "Python 3 (ipykernel)",
   "language": "python",
   "name": "python3"
  },
  "language_info": {
   "codemirror_mode": {
    "name": "ipython",
    "version": 3
   },
   "file_extension": ".py",
   "mimetype": "text/x-python",
   "name": "python",
   "nbconvert_exporter": "python",
   "pygments_lexer": "ipython3",
   "version": "3.7.13"
  }
 },
 "nbformat": 4,
 "nbformat_minor": 5
}
