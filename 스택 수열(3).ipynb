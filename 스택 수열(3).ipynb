{
 "cells": [
  {
   "cell_type": "markdown",
   "id": "abb10604",
   "metadata": {},
   "source": [
    "# 내 답안"
   ]
  },
  {
   "cell_type": "code",
   "execution_count": null,
   "id": "2fd23ec9",
   "metadata": {},
   "outputs": [],
   "source": [
    "from sys import stdin, stdout\n",
    "input, print = stdin.readline, stdout.write\n",
    "def find_parent(parent, x):\n",
    "    if parent[x] != x:\n",
    "        parent[x] = find_parent(parent, parent[x])\n",
    "    return parent[x]\n",
    "\n",
    "def union_parent(parent, a, b):\n",
    "    a = find_parent(parent, a)\n",
    "    b = find_parent(parent, b)\n",
    "    if a < b:\n",
    "        parent[b] = a\n",
    "    else:\n",
    "        parent[a] = b\n",
    "        \n",
    "result = ''\n",
    "n = int(input())\n",
    "ls = [int(input()) for _ in range(n)]\n",
    "parent = [0] * (n + 2)\n",
    "for i in range(n+2):\n",
    "    parent[i] = i    \n",
    "    \n",
    "if n == 1: print('+\\n-')\n",
    "else:\n",
    "    idx = 1\n",
    "    pre_value = ls[0]\n",
    "    max_value = 0\n",
    "    cnt = 1\n",
    "    while idx < n:\n",
    "        now_value = ls[idx]\n",
    "        if now_value < pre_value:\n",
    "            if find_parent(parent, ls[idx-1]-1) == now_value:\n",
    "                union_parent(parent, ls[idx-1], now_value)\n",
    "                cnt += 1\n",
    "            else:\n",
    "                print('NO')\n",
    "                break\n",
    "        else:\n",
    "            union_parent(parent, ls[idx-1], ls[idx-1] - 1)     \n",
    "            result += '+' * (pre_value - max_value) + '-' * cnt\n",
    "            if now_value == n:\n",
    "                result += '+' * (n - max(pre_value, max_value))\n",
    "            cnt = 1\n",
    "            max_value = pre_value\n",
    "            pre_value = now_value\n",
    "        idx += 1\n",
    "    else:\n",
    "        result += '-' * cnt\n",
    "        print('\\n'.join(result))"
   ]
  },
  {
   "cell_type": "markdown",
   "id": "ac6e200f",
   "metadata": {},
   "source": [
    "# ehdlfaos님의 답안"
   ]
  },
  {
   "cell_type": "code",
   "execution_count": null,
   "id": "73280afb",
   "metadata": {},
   "outputs": [],
   "source": [
    "import sys\n",
    "input = sys.stdin.read\n",
    "n, *lst = map(int, input().split())\n",
    "stk = []\n",
    "res = []\n",
    "p = 1\n",
    "for i in lst:\n",
    "    while p <= i:\n",
    "        stk.append(p)\n",
    "        res.append('+')\n",
    "        p += 1\n",
    "    if stk[-1] != i:\n",
    "        res = ['NO']\n",
    "        break\n",
    "    stk.pop()\n",
    "    res.append('-')\n",
    "print('\\n'.join(res))"
   ]
  },
  {
   "cell_type": "markdown",
   "id": "1e86cf00",
   "metadata": {},
   "source": [
    "# 정답 확인 후 생각"
   ]
  },
  {
   "cell_type": "code",
   "execution_count": null,
   "id": "75272de9",
   "metadata": {},
   "outputs": [],
   "source": [
    "\"\"\"\"\"\"\"\"\"\"\n",
    "깔끔한 풀이이다. \n",
    "\n",
    "한글자씩 확인하며 현재 확인하는 숫자보다 p가 작다면 같아질 때까지 stk에 append하고 res에 +를 append한다.\n",
    "\n",
    "이때 stk[-1] != i일 경우에 break하고 NO를 출력한다.\n",
    "\n",
    "그렇지 않으면 pop()하고 -를 res에 append한다.\n",
    "\n",
    "\"\"\"\"\"\"\"\"\"\""
   ]
  }
 ],
 "metadata": {
  "kernelspec": {
   "display_name": "Python 3 (ipykernel)",
   "language": "python",
   "name": "python3"
  },
  "language_info": {
   "codemirror_mode": {
    "name": "ipython",
    "version": 3
   },
   "file_extension": ".py",
   "mimetype": "text/x-python",
   "name": "python",
   "nbconvert_exporter": "python",
   "pygments_lexer": "ipython3",
   "version": "3.7.13"
  }
 },
 "nbformat": 4,
 "nbformat_minor": 5
}
