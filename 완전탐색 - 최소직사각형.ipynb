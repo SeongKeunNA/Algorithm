{
 "cells": [
  {
   "cell_type": "markdown",
   "id": "68525a47",
   "metadata": {},
   "source": [
    "# 코딩 전 생각"
   ]
  },
  {
   "cell_type": "code",
   "execution_count": null,
   "id": "faf7d116",
   "metadata": {},
   "outputs": [],
   "source": [
    "\"\"\"\"\"\"\"\"\"\"\"\n",
    "1번 명함부터 가로와 세로 길이를 바꾸었을 때 최종 지갑 크기가 작아진다면 바꾸는 것을 반복한다.\n",
    "\"\"\"\"\"\"\"\"\"\"\""
   ]
  },
  {
   "cell_type": "markdown",
   "id": "ffccb86a",
   "metadata": {},
   "source": [
    "# 내 답안"
   ]
  },
  {
   "cell_type": "code",
   "execution_count": null,
   "id": "504c32f0",
   "metadata": {},
   "outputs": [],
   "source": [
    "def solution(sizes):\n",
    "    while True:\n",
    "        w_max = max(sizes)[0]\n",
    "        h_max = max(sizes, key = lambda x : x[1])[1]\n",
    "        for w, h in sizes:\n",
    "            if w == w_max or h == h_max:\n",
    "                tmp = deepcopy(sizes)\n",
    "                tmp.remove([w, h])\n",
    "                tmp.append([h, w])\n",
    "                tmp_w_max = max(tmp)[0]\n",
    "                tmp_h_max = max(tmp, key = lambda x : x[1])[1]\n",
    "                if w_max * h_max > tmp_w_max * tmp_h_max:\n",
    "                    sizes = tmp\n",
    "                    break\n",
    "        else:\n",
    "            return w_max * h_max"
   ]
  },
  {
   "cell_type": "markdown",
   "id": "11ecade8",
   "metadata": {},
   "source": [
    "# 답안 작성 후 생각"
   ]
  },
  {
   "cell_type": "code",
   "execution_count": 1,
   "id": "dcda4483",
   "metadata": {},
   "outputs": [
    {
     "ename": "SyntaxError",
     "evalue": "EOF while scanning triple-quoted string literal (886353925.py, line 1)",
     "output_type": "error",
     "traceback": [
      "\u001b[1;36m  File \u001b[1;32m\"C:\\Users\\najonggeun\\AppData\\Local\\Temp\\ipykernel_14948\\886353925.py\"\u001b[1;36m, line \u001b[1;32m1\u001b[0m\n\u001b[1;33m    \"\"\"\"\"\"\"\"\"\"\u001b[0m\n\u001b[1;37m              ^\u001b[0m\n\u001b[1;31mSyntaxError\u001b[0m\u001b[1;31m:\u001b[0m EOF while scanning triple-quoted string literal\n"
     ]
    }
   ],
   "source": [
    "\"\"\"\"\"\"\"\"\"\"\n",
    "오답이 발생한다. 당장은 최대값이 아니어도 카드를 돌리는 진짜 완전탐색을 시도해보자.\n",
    "\"\"\"\"\"\"\"\"\"\""
   ]
  },
  {
   "cell_type": "markdown",
   "id": "f55efc75",
   "metadata": {},
   "source": [
    "# 내 답안(2)"
   ]
  },
  {
   "cell_type": "code",
   "execution_count": null,
   "id": "08d56194",
   "metadata": {},
   "outputs": [],
   "source": [
    "from copy import deepcopy\n",
    "from collections import deque\n",
    "def solution(sizes):\n",
    "    answer = int(1e6)\n",
    "    L = len(sizes)\n",
    "    q = deque()\n",
    "    q.append([[sizes[0]], 1])\n",
    "    q.append([[[sizes[0][1], sizes[0][0]]], 1])\n",
    "    count = 1\n",
    "    while q:       \n",
    "        cards, index = q.popleft()\n",
    "        w_max = max(cards)[0]\n",
    "        h_max = max(cards, key = lambda x : x [1])[1]\n",
    "        if index == L:\n",
    "            answer = min(answer, w_max * h_max)\n",
    "            continue\n",
    "        \n",
    "        tmp1 = deepcopy(cards)\n",
    "        tmp1.append(sizes[index])\n",
    "        q.append([tmp1, index + 1])\n",
    "        if sizes[index][0] >= w_max or sizes[index][1] >= h_max:\n",
    "            tmp2 = deepcopy(cards)\n",
    "            tmp2.append([sizes[index][1], sizes[index][0]])\n",
    "            q.append([tmp2, index + 1])\n",
    "        count += 1\n",
    "    return answer"
   ]
  },
  {
   "cell_type": "markdown",
   "id": "572cb5d8",
   "metadata": {},
   "source": [
    "# 내 답안(3)"
   ]
  },
  {
   "cell_type": "code",
   "execution_count": null,
   "id": "d335945d",
   "metadata": {},
   "outputs": [],
   "source": [
    "from copy import deepcopy\n",
    "def dfs(sizes, cards, index):\n",
    "    global answer\n",
    "    L = len(sizes)\n",
    "    w_max = max(cards)[0]\n",
    "    h_max = max(cards, key = lambda x : x [1])[1]\n",
    "\n",
    "    if index == L:\n",
    "        answer = min(answer, w_max * h_max)\n",
    "        return\n",
    "    \n",
    "    temp = deepcopy(cards)\n",
    "    dfs(sizes, temp + [[sizes[index][0], sizes[index][1]]], index + 1)\n",
    "\n",
    "    if sizes[index][0] > w_max or sizes[index][1] > h_max:\n",
    "        dfs(sizes, temp + [[sizes[index][1], sizes[index][0]]], index + 1)\n",
    "\n",
    "def solution(sizes):\n",
    "    global answer\n",
    "    answer = int(1e6)\n",
    "    dfs(sizes, [[sizes[0][0], sizes[0][1]]], 1)\n",
    "    dfs(sizes, [[sizes[0][1], sizes[0][0]]], 1)\n",
    "    return answer"
   ]
  },
  {
   "cell_type": "markdown",
   "id": "2fcea537",
   "metadata": {},
   "source": [
    "# 답안 작성 후 생각"
   ]
  },
  {
   "cell_type": "code",
   "execution_count": null,
   "id": "6fe2d06e",
   "metadata": {},
   "outputs": [],
   "source": [
    "\"\"\"\"\"\"\"\"\"\"\"\n",
    "bfs나 dfs 모두 시간 초과나 런타임 에러가 발생한다.\n",
    "\n",
    "힌트를 참고해보자.\n",
    "\"\"\"\"\"\"\"\"\"\"\""
   ]
  },
  {
   "cell_type": "markdown",
   "id": "7e0b1dbe",
   "metadata": {},
   "source": [
    "# 힌트 참고 후 생각https://school.programmers.co.kr/questions/20800"
   ]
  },
  {
   "cell_type": "code",
   "execution_count": null,
   "id": "abc77ee3",
   "metadata": {},
   "outputs": [],
   "source": [
    "\"\"\"\"\"\"\"\"\"\"\n",
    "각 명함의 긴쪽을 가로로, 짧은 쪽을 세로로 두면 가로 세로 길이의 각 최댓값이 원하는 답이 된다.\n",
    "\n",
    "그림판으로 그려봐도 가로로 긴 명함을 굳이 세로로 돌렸을 때 이득이 손해보다 더 클 수 없음을 알 수 있다.\n",
    "\"\"\"\"\"\"\"\"\"\""
   ]
  },
  {
   "cell_type": "markdown",
   "id": "587f450f",
   "metadata": {},
   "source": [
    "# 내 답안(4)"
   ]
  },
  {
   "cell_type": "code",
   "execution_count": null,
   "id": "758e2143",
   "metadata": {},
   "outputs": [],
   "source": [
    "def solution(sizes):\n",
    "    new_sizes = []\n",
    "    for w, h in sizes:\n",
    "        if w < h:\n",
    "            new_sizes.append([h, w])\n",
    "        else:\n",
    "            new_sizes.append([w, h])\n",
    "            map(lambda )\n",
    "    return max(new_sizes)[0] * max(new_sizes, key = lambda x : x[1])[1]"
   ]
  },
  {
   "cell_type": "markdown",
   "id": "7a78560c",
   "metadata": {},
   "source": [
    "# Teferi , - , 구세영 , LEO , 김범수 외 141 명의 답안"
   ]
  },
  {
   "cell_type": "code",
   "execution_count": null,
   "id": "30e51d3f",
   "metadata": {},
   "outputs": [],
   "source": [
    "def solution(sizes):\n",
    "    return max(max(x) for x in sizes) * max(min(x) for x in sizes)"
   ]
  },
  {
   "cell_type": "markdown",
   "id": "251b06ee",
   "metadata": {},
   "source": [
    "# 정답 확인 후 생각"
   ]
  },
  {
   "cell_type": "code",
   "execution_count": null,
   "id": "4be12ec1",
   "metadata": {},
   "outputs": [],
   "source": [
    "\"\"\"\"\"\"\"\"\"\"\n",
    "가독성 좋은 한 줄 코드다.\n",
    "\"\"\"\"\"\"\"\"\"\""
   ]
  }
 ],
 "metadata": {
  "kernelspec": {
   "display_name": "Python 3 (ipykernel)",
   "language": "python",
   "name": "python3"
  },
  "language_info": {
   "codemirror_mode": {
    "name": "ipython",
    "version": 3
   },
   "file_extension": ".py",
   "mimetype": "text/x-python",
   "name": "python",
   "nbconvert_exporter": "python",
   "pygments_lexer": "ipython3",
   "version": "3.7.13"
  }
 },
 "nbformat": 4,
 "nbformat_minor": 5
}
