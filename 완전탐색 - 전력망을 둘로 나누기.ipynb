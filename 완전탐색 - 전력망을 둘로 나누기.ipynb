{
 "cells": [
  {
   "cell_type": "markdown",
   "id": "c70c7355",
   "metadata": {},
   "source": [
    "# 코딩 전 생각"
   ]
  },
  {
   "cell_type": "code",
   "execution_count": null,
   "id": "639003ea",
   "metadata": {},
   "outputs": [],
   "source": [
    "\"\"\"\"\"\"\"\"\"\"\"\n",
    "매번 wires중 하나를 선택해 제거한 뒤 union-find 연산을 이용해 모든 노드의 부모 노드를 계산해 딕셔너리에 넣는다.\n",
    "\n",
    "이때 매 반복에서 현재 딕셔너리에 해당하는 부모 노드의 키가 존재한다면 해당 키 값을 1 늘리고, 그렇지 않다면 새로운 키값을 추가한다.\n",
    "\n",
    "반복이 끝나고 각 딕셔너리 값들의 차이의 절대값이 현재 최소치보다 작다면 갱신한다.\n",
    "\n",
    "\n",
    "\n",
    ".\n",
    ".\n",
    ".\n",
    "\n",
    "전선을 확인하는 순서에 따라 딕셔너리에 세 개 이상의 키가 생기는 문제가 있었다.\n",
    "\n",
    "전선을 끊었을 때 양 노드 a,b와 연결된 노드의 개수를 bfs로 따로 세주었다.\n",
    "\"\"\"\"\"\"\"\"\"\"\""
   ]
  },
  {
   "cell_type": "markdown",
   "id": "fbc0340a",
   "metadata": {},
   "source": [
    "# 내 답안"
   ]
  },
  {
   "cell_type": "code",
   "execution_count": null,
   "id": "3ebfb1da",
   "metadata": {},
   "outputs": [],
   "source": [
    "from collections import deque\n",
    "def bfs(x, n):\n",
    "    count = 1\n",
    "    q = deque([x])\n",
    "    visited = [0] * (n + 1)\n",
    "    visited[x] = 1\n",
    "    while q:\n",
    "        now = q.popleft()\n",
    "        for i in graph[now]:\n",
    "            if visited[i] == 0:\n",
    "                visited[i] = 1\n",
    "                count += 1\n",
    "                q.append(i)\n",
    "    return count\n",
    "\n",
    "def solution(n, wires):\n",
    "    global graph\n",
    "    answer = 100\n",
    "    graph = [[] for _ in range(n + 1)]\n",
    "    for a, b in wires:\n",
    "        graph[a].append(b)\n",
    "        graph[b].append(a)\n",
    "    for i in range(n - 1):\n",
    "        wires.sort()\n",
    "        a, b = wires[i]\n",
    "        graph[a].remove(b)\n",
    "        graph[b].remove(a)\n",
    "        wires.remove([a,b])\n",
    "        A = bfs(a, n)\n",
    "        B = bfs(b, n)\n",
    "        answer = min(answer, abs(A - B))\n",
    "        wires.append([a, b])\n",
    "        graph[a].append(b)\n",
    "        graph[b].append(a)   \n",
    "    return answer"
   ]
  },
  {
   "cell_type": "markdown",
   "id": "a74c7a54",
   "metadata": {},
   "source": [
    "# 장연우 , 김영찬 , 염성현 , 박관우 , 맹지열 외 2 명의 답안"
   ]
  },
  {
   "cell_type": "code",
   "execution_count": null,
   "id": "ad1e1319",
   "metadata": {},
   "outputs": [],
   "source": [
    "def solution(n, wires):\n",
    "    ans = n\n",
    "    for sub in (wires[i+1:] + wires[:i] for i in range(len(wires))):\n",
    "        s = set(sub[0])\n",
    "        [s.update(v) for _ in sub for v in sub if set(v) & s]\n",
    "        ans = min(ans, abs(2 * len(s) - n))\n",
    "    return ans\n"
   ]
  },
  {
   "cell_type": "markdown",
   "id": "b7fc63ed",
   "metadata": {},
   "source": [
    "# deeev의 답안"
   ]
  },
  {
   "cell_type": "code",
   "execution_count": null,
   "id": "14172466",
   "metadata": {},
   "outputs": [],
   "source": [
    "uf = []\n",
    "\n",
    "def find(a):\n",
    "    global uf\n",
    "    if uf[a] < 0: return a\n",
    "    uf[a] = find(uf[a])\n",
    "    return uf[a]\n",
    "\n",
    "def merge(a, b):\n",
    "    global uf\n",
    "    pa = find(a)\n",
    "    pb = find(b)\n",
    "    if pa == pb: return\n",
    "    uf[pa] += uf[pb]\n",
    "    uf[pb] = pa\n",
    "\n",
    "def solution(n, wires):\n",
    "    global uf\n",
    "    answer = int(1e9)\n",
    "    k = len(wires)\n",
    "    for i in range(k):\n",
    "        uf = [-1 for _ in range(n+1)]\n",
    "        tmp = [wires[x] for x in range(k) if x != i]\n",
    "        for a, b in tmp: merge(a, b)\n",
    "        v = [x for x in uf[1:] if x < 0]\n",
    "        answer = min(answer, abs(v[0]-v[1]))\n",
    "\n",
    "    return answer\n"
   ]
  },
  {
   "cell_type": "markdown",
   "id": "dae45427",
   "metadata": {},
   "source": [
    "# 답안 작성 후 생각"
   ]
  },
  {
   "cell_type": "code",
   "execution_count": null,
   "id": "617cc926",
   "metadata": {},
   "outputs": [],
   "source": [
    "\"\"\"\"\"\"\"\"\"\"\n",
    "1. 리스트 컴프리헨션에 더욱 익숙해져야겠다.\n",
    "\n",
    "2. union-find 연산으로도 해결이 가능했다.\n",
    "\"\"\"\"\"\"\"\"\"\""
   ]
  }
 ],
 "metadata": {
  "kernelspec": {
   "display_name": "Python 3 (ipykernel)",
   "language": "python",
   "name": "python3"
  },
  "language_info": {
   "codemirror_mode": {
    "name": "ipython",
    "version": 3
   },
   "file_extension": ".py",
   "mimetype": "text/x-python",
   "name": "python",
   "nbconvert_exporter": "python",
   "pygments_lexer": "ipython3",
   "version": "3.7.13"
  }
 },
 "nbformat": 4,
 "nbformat_minor": 5
}
