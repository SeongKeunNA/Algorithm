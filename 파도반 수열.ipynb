{
 "cells": [
  {
   "cell_type": "markdown",
   "id": "d2d6c1e0",
   "metadata": {},
   "source": [
    "# 풀이 전 생각"
   ]
  },
  {
   "cell_type": "code",
   "execution_count": null,
   "id": "a9ad6d6d",
   "metadata": {},
   "outputs": [],
   "source": [
    "\"\"\"\n",
    "다이나믹 프로그래밍으로 해결한다.\n",
    "\n",
    "100개의 인덱스를 가지는 리스트 d를 선언하고, 모두 1으로 초기화한다.\n",
    "\n",
    "i를 3부터 99까지 반복하여, d[i] = d[i-3] + d[i-2]로 값을 바꾼다.\n",
    "\"\"\""
   ]
  },
  {
   "cell_type": "markdown",
   "id": "8cb564b2",
   "metadata": {},
   "source": [
    "# 내 답안"
   ]
  },
  {
   "cell_type": "code",
   "execution_count": null,
   "id": "ec00f952",
   "metadata": {},
   "outputs": [],
   "source": [
    "from sys import stdin, stdout\n",
    "d = [1] * 101\n",
    "for i in range(3, 100):\n",
    "    d[i] = d[i-3] + d[i-2]\n",
    "_ = int(input())\n",
    "result = [d[i-1] for i in map(int, stdin.read().splitlines())]\n",
    "stdout.write(\"\\n\".join(map(str, result)))"
   ]
  },
  {
   "cell_type": "markdown",
   "id": "913b493e",
   "metadata": {},
   "source": [
    "# 풀이 후 생각"
   ]
  },
  {
   "cell_type": "code",
   "execution_count": null,
   "id": "9b0080b2",
   "metadata": {},
   "outputs": [],
   "source": [
    "\"\"\"\n",
    "나선형이라는 단어에 집착해 그림만 들여다보고 있으니 잘 모르겠어서 규칙을 찾아보았다.\n",
    "\n",
    "생각보다 쉽게 d[i] = d[i-3] + d[i-2]라는 규칙을 찾아 다이나믹 프로그래밍으로 해결했다.\n",
    "\"\"\""
   ]
  }
 ],
 "metadata": {
  "kernelspec": {
   "display_name": "Python 3 (ipykernel)",
   "language": "python",
   "name": "python3"
  },
  "language_info": {
   "codemirror_mode": {
    "name": "ipython",
    "version": 3
   },
   "file_extension": ".py",
   "mimetype": "text/x-python",
   "name": "python",
   "nbconvert_exporter": "python",
   "pygments_lexer": "ipython3",
   "version": "3.7.13"
  }
 },
 "nbformat": 4,
 "nbformat_minor": 5
}
