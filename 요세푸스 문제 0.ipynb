{
 "cells": [
  {
   "cell_type": "markdown",
   "id": "f01339be",
   "metadata": {},
   "source": [
    "# 코딩 전 생각"
   ]
  },
  {
   "cell_type": "code",
   "execution_count": null,
   "id": "ff42c8b9",
   "metadata": {},
   "outputs": [],
   "source": [
    "\"\"\"\"\"\"\"\"\"\"\n",
    "1 2 3 4 5 6 7 1 2 \n",
    "1 2 4 5 6 7\n",
    "7 1 2  4 5\n",
    "1 4 5 7\n",
    "1 4 5\n",
    "1 4\n",
    "매번 del 연산을 실행 시키기 vs 사라진 인원 기록하고 매번 체크하기\n",
    "\"\"\"\"\"\"\"\"\"\""
   ]
  },
  {
   "cell_type": "markdown",
   "id": "d0f0842d",
   "metadata": {},
   "source": [
    "# 내 답안"
   ]
  },
  {
   "cell_type": "code",
   "execution_count": null,
   "id": "55589dcf",
   "metadata": {},
   "outputs": [],
   "source": [
    "n, k = map(int, input().split())\n",
    "ls = list(range(n))\n",
    "L = len(ls)\n",
    "result = []\n",
    "pre = -1\n",
    "while ls:\n",
    "    for i in range(k):\n",
    "        idx += 1\n",
    "        if idx >= n:\n",
    "            idx = 0\n",
    "    idx = (idx + k - (n - L)) % L\n",
    "    result.append(ls.pop(idx))\n",
    "    L -= 1\n",
    "print('<' + ', '.join(result) + '>')"
   ]
  },
  {
   "cell_type": "markdown",
   "id": "9f5ff146",
   "metadata": {},
   "source": [
    "# 답안 작성 후 생각"
   ]
  },
  {
   "cell_type": "code",
   "execution_count": null,
   "id": "894b3da0",
   "metadata": {},
   "outputs": [],
   "source": [
    "\"\"\"\"\"\"\"\"\"\"\n",
    "del()를 사용할 경우 너무 복잡해진다. 제거된 인원을 기록하고 매번 체크해서 풀어보자.\n",
    "\"\"\"\"\"\"\"\"\"\""
   ]
  },
  {
   "cell_type": "markdown",
   "id": "882223e7",
   "metadata": {},
   "source": [
    "# 내 답안(2)"
   ]
  },
  {
   "cell_type": "code",
   "execution_count": 18,
   "id": "0b8c9688",
   "metadata": {},
   "outputs": [
    {
     "name": "stdout",
     "output_type": "stream",
     "text": [
      "6 5\n",
      "<5, 4, 6, 2, 3, 1>\n"
     ]
    }
   ],
   "source": [
    "n, k = map(int, input().split())\n",
    "ls = list(range(1,n+1))\n",
    "removed = []\n",
    "total_cnt = 0\n",
    "idx = -1\n",
    "while total_cnt < n:\n",
    "    cnt = 0\n",
    "    while cnt < k:\n",
    "        idx += 1\n",
    "        if idx >= n:\n",
    "            idx = 0\n",
    "        if ls[idx] not in removed:\n",
    "            cnt += 1\n",
    "    removed.append(ls[idx])\n",
    "    total_cnt += 1\n",
    "print('<' + ', '.join(map(str, removed)) + '>')"
   ]
  },
  {
   "cell_type": "markdown",
   "id": "d923946b",
   "metadata": {},
   "source": [
    "# 답안 작성 후 생각(2)"
   ]
  },
  {
   "cell_type": "code",
   "execution_count": 6,
   "id": "cb34127f",
   "metadata": {},
   "outputs": [
    {
     "ename": "SyntaxError",
     "evalue": "EOF while scanning triple-quoted string literal (1195929667.py, line 2)",
     "output_type": "error",
     "traceback": [
      "\u001b[1;36m  File \u001b[1;32m\"C:\\Users\\najonggeun\\AppData\\Local\\Temp\\ipykernel_21460\\1195929667.py\"\u001b[1;36m, line \u001b[1;32m2\u001b[0m\n\u001b[1;33m    \"\"\u001b[0m\n\u001b[1;37m      \n^\u001b[0m\n\u001b[1;31mSyntaxError\u001b[0m\u001b[1;31m:\u001b[0m EOF while scanning triple-quoted string literal\n"
     ]
    }
   ],
   "source": [
    "\"\"\"\"\"\"\"\"\"\"\n",
    "이중 for 문을 사용하니 다른 답안들에 비해 시간이 오래 걸린다.\n",
    "\n",
    "사람들이 원형으로 앉는 것을 이용해서 특정 인원을 제거한 뒤 해당 인원 앞의 인원을 뒤에다 붙이고, 매번 k-1%len(ls)번째 인원을 뽑는다.\n",
    "\"\"\"\"\"\"\"\"\"\""
   ]
  },
  {
   "cell_type": "markdown",
   "id": "67e56103",
   "metadata": {},
   "source": [
    "# 내 답안(3)"
   ]
  },
  {
   "cell_type": "code",
   "execution_count": 22,
   "id": "1859de52",
   "metadata": {},
   "outputs": [
    {
     "name": "stdout",
     "output_type": "stream",
     "text": [
      "6 5\n",
      "bls: [1, 2, 3, 4, 5, 6]\n",
      "als: [6, 1, 2, 3, 4]\n",
      "bls: [6, 1, 2, 3, 4]\n",
      "als: [6, 1, 2, 3]\n",
      "bls: [6, 1, 2, 3]\n",
      "als: [1, 2, 3]\n",
      "bls: [1, 2, 3]\n",
      "als: [3, 1]\n",
      "bls: [3, 1]\n",
      "als: [1]\n",
      "bls: [1]\n",
      "als: []\n",
      "<5, 4, 6, 2, 3, 1>\n"
     ]
    }
   ],
   "source": [
    "n, k = map(int, input().split())\n",
    "ls = list(range(1,n+1))\n",
    "result = []\n",
    "while ls:\n",
    "    print('bls:',ls)\n",
    "    idx = (k - 1) % len(ls)\n",
    "    result.append(ls.pop(idx))\n",
    "    ls = ls[idx:] + ls[:idx]\n",
    "    print('als:',ls)\n",
    "print('<' + ', '.join(map(str, result)) + '>')"
   ]
  },
  {
   "cell_type": "markdown",
   "id": "07227cce",
   "metadata": {},
   "source": [
    "# maxcha98님의 답안"
   ]
  },
  {
   "cell_type": "code",
   "execution_count": null,
   "id": "192e844b",
   "metadata": {},
   "outputs": [],
   "source": [
    "n,k = map(int,input().split())\n",
    "stack = [i for i in range(1,n+1)]\n",
    "result = []\n",
    "j = 0\n",
    "while stack:\n",
    "    j += (k - 1)\n",
    "    j = j % len(stack)\n",
    "    result.append(stack.pop(j))\n",
    "print('<'+str(result)[1:-1]+'>')"
   ]
  },
  {
   "cell_type": "markdown",
   "id": "f62171f3",
   "metadata": {},
   "source": [
    "# 정답 확인 후 생각"
   ]
  },
  {
   "cell_type": "code",
   "execution_count": null,
   "id": "a262327a",
   "metadata": {},
   "outputs": [],
   "source": [
    "\"\"\"\"\"\"\"\"\"\"\n",
    "처음 생각한대로 pop()으로도 해결가능하다.\n",
    "\"\"\"\"\"\"\"\"\"\""
   ]
  }
 ],
 "metadata": {
  "kernelspec": {
   "display_name": "Python 3 (ipykernel)",
   "language": "python",
   "name": "python3"
  },
  "language_info": {
   "codemirror_mode": {
    "name": "ipython",
    "version": 3
   },
   "file_extension": ".py",
   "mimetype": "text/x-python",
   "name": "python",
   "nbconvert_exporter": "python",
   "pygments_lexer": "ipython3",
   "version": "3.7.13"
  }
 },
 "nbformat": 4,
 "nbformat_minor": 5
}
