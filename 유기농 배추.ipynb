{
 "cells": [
  {
   "cell_type": "markdown",
   "id": "cf27c199",
   "metadata": {},
   "source": [
    "# 풀이 전 생각"
   ]
  },
  {
   "cell_type": "code",
   "execution_count": null,
   "id": "0433d3fc",
   "metadata": {},
   "outputs": [],
   "source": [
    "\"\"\"\n",
    "(0,0)부터 (m-1,n-1)까지의 위치에 대해 반복하여, 해당 위치에 배추가 존재하는 경우(1), count 변수에 1을 더한다.\n",
    "\n",
    "또한, bfs를 적용하여 해당 위치로부터 연결된 지역의 값이 1이라면 모두 0으로 만든다.\n",
    "\n",
    "최종 count 값을 print한다.\n",
    "\"\"\""
   ]
  },
  {
   "cell_type": "markdown",
   "id": "a27187a4",
   "metadata": {},
   "source": [
    "# 내 답안"
   ]
  },
  {
   "cell_type": "code",
   "execution_count": 2,
   "id": "92e5f983",
   "metadata": {},
   "outputs": [
    {
     "data": {
      "text/plain": [
       "[[0, 0, 0], [0, 0, 0], [0, 0, 0], [0, 0, 0]]"
      ]
     },
     "execution_count": 2,
     "metadata": {},
     "output_type": "execute_result"
    }
   ],
   "source": [
    "[[0] * 3 for _ in range(4)]"
   ]
  },
  {
   "cell_type": "code",
   "execution_count": null,
   "id": "84f53132",
   "metadata": {},
   "outputs": [],
   "source": [
    "from sys import stdin, stdout\n",
    "from collections import deque\n",
    "input = stdin.readline\n",
    "print = stdout.write\n",
    "t = int(input())\n",
    "dx = [1, -1, 0, 0]\n",
    "dy = [0, 0, 1, -1]\n",
    "def bfs(x, y):\n",
    "    global targets, cnt\n",
    "    \n",
    "    \n",
    "for _ in range(t):\n",
    "    m, n, k = map(int, input().split())\n",
    "    targets = set()\n",
    "    cnt = 0\n",
    "    for _ in range(k):\n",
    "        a, b = map(int, input().split())\n",
    "        targets.add((a, b))\n",
    "    for i in range(m):\n",
    "        for j in range(n):\n",
    "            q = deque([(i, j)])\n",
    "            cnt += 1\n",
    "            while q:\n",
    "                x, y  = q.popleft()\n",
    "                if (x, y) in targets:\n",
    "                    targets.remove((x, y))\n",
    "                    for i in range(4):\n",
    "                        if (x+dx[i], y+dy[i]) in targets:\n",
    "                            q.append((x+dx[i], y+dy[i]))\n",
    "    print(str(cnt) + \"\\n\")"
   ]
  },
  {
   "cell_type": "code",
   "execution_count": 5,
   "id": "17010fc7",
   "metadata": {},
   "outputs": [
    {
     "name": "stdout",
     "output_type": "stream",
     "text": [
      "1\n",
      "5 3 6\n",
      "0 2\n",
      "1 2\n",
      "2 2\n",
      "3 2\n",
      "4 2\n",
      "4 0\n",
      "2\n"
     ]
    }
   ],
   "source": [
    "# from sys import stdin, stdout\n",
    "from collections import deque\n",
    "# input = stdin.readline\n",
    "# print = stdout.write\n",
    "t = int(input())\n",
    "dx = [1, -1, 0, 0]\n",
    "dy = [0, 0, 1, -1]\n",
    "def bfs(x, y):\n",
    "    global targets, cnt\n",
    "    \n",
    "    \n",
    "for _ in range(t):\n",
    "    m, n, k = map(int, input().split())\n",
    "    targets = set()\n",
    "    cnt = 0\n",
    "    for _ in range(k):\n",
    "        a, b = map(int, input().split())\n",
    "        targets.add((a, b))\n",
    "    for i in range(m):\n",
    "        for j in range(n):\n",
    "            if (i, j) in targets:\n",
    "                q = deque([(i, j)])\n",
    "                cnt += 1\n",
    "                while q:\n",
    "                    x, y  = q.popleft()\n",
    "                    targets.remove((x, y))\n",
    "                    for i in range(4):\n",
    "                        if (x+dx[i], y+dy[i]) in targets:\n",
    "                            q.append((x+dx[i], y+dy[i]))\n",
    "    print(str(cnt))"
   ]
  },
  {
   "cell_type": "markdown",
   "id": "704ab287",
   "metadata": {},
   "source": [
    "# 내 풀이(2)"
   ]
  },
  {
   "cell_type": "code",
   "execution_count": null,
   "id": "704c9379",
   "metadata": {},
   "outputs": [],
   "source": [
    "from sys import stdin, stdout\n",
    "from collections import deque\n",
    "input = stdin.readline\n",
    "print = stdout.write\n",
    "t = int(input())\n",
    "dx = [1, -1, 0, 0]\n",
    "dy = [0, 0, 1, -1]\n",
    " \n",
    "for _ in range(t):\n",
    "    m, n, k = map(int, input().strip().split())\n",
    "    graph = [[0] * m for _ in range(n)]\n",
    "    targets = []\n",
    "    cnt = 0\n",
    "    for _ in range(k):\n",
    "        b, a = map(int, input().strip().split())\n",
    "        targets.append((a,b))\n",
    "        graph[a][b] = 1\n",
    "    for a, b in targets:\n",
    "        if graph[a][b] == 1:\n",
    "            graph[a][b] = 0\n",
    "            cnt += 1\n",
    "            q = deque([(a, b)])\n",
    "            while q:\n",
    "                x, y  = q.popleft()\n",
    "                for i in range(4):\n",
    "                    nx = x + dx[i]\n",
    "                    ny = y + dy[i]\n",
    "                    if 0 <= nx < n and 0 <= ny < m and graph[nx][ny] == 1:            \n",
    "                        graph[nx][ny] = 0\n",
    "                        q.append((nx, ny))\n",
    "    print(str(cnt) + \"\\n\")"
   ]
  },
  {
   "cell_type": "markdown",
   "id": "0f9d7db1",
   "metadata": {},
   "source": [
    "# 답안 작성 후 생각"
   ]
  },
  {
   "cell_type": "code",
   "execution_count": null,
   "id": "459293f3",
   "metadata": {},
   "outputs": [],
   "source": [
    "\"\"\"\n",
    "bfs가 오랜만이라 풀이에 시간이 오래 걸렸다.\n",
    "\n",
    "특히 q에서 pop할 때가 아니라 조건에 맞을 때 바로 해당 칸을 0으로 바꿔줘야하는 것을 잊어서 시간초과가 발생했다.\n",
    "\"\"\""
   ]
  }
 ],
 "metadata": {
  "kernelspec": {
   "display_name": "Python 3 (ipykernel)",
   "language": "python",
   "name": "python3"
  },
  "language_info": {
   "codemirror_mode": {
    "name": "ipython",
    "version": 3
   },
   "file_extension": ".py",
   "mimetype": "text/x-python",
   "name": "python",
   "nbconvert_exporter": "python",
   "pygments_lexer": "ipython3",
   "version": "3.7.13"
  }
 },
 "nbformat": 4,
 "nbformat_minor": 5
}
