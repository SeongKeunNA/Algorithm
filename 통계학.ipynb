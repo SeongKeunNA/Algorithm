{
 "cells": [
  {
   "cell_type": "markdown",
   "id": "ed609839",
   "metadata": {},
   "source": [
    "# 코딩 전 생각"
   ]
  },
  {
   "cell_type": "code",
   "execution_count": null,
   "id": "e8d2d28a",
   "metadata": {},
   "outputs": [],
   "source": [
    "\"\"\"\"\"\"\"\"\"\"\"\n",
    "0) 오름차순 정렬\n",
    "1) 평균: round(sum(ls) / n) 사용\n",
    "2) 중앙값: n//2 번째 값 사용\n",
    "3) 최빈값: 딕셔너리로 최빈값 도출해 사용\n",
    "4) 범위: 마지막 숫자에서 첫번째 숫자를 뺀 값 사용\n",
    "\"\"\"\"\"\"\"\"\"\"\""
   ]
  },
  {
   "cell_type": "markdown",
   "id": "29a5bc2e",
   "metadata": {},
   "source": [
    "# 내 답안"
   ]
  },
  {
   "cell_type": "code",
   "execution_count": 10,
   "id": "52233a2c",
   "metadata": {},
   "outputs": [
    {
     "name": "stdout",
     "output_type": "stream",
     "text": [
      "5\n",
      "-1\n",
      "-2\n",
      "-3\n",
      "-1\n",
      "-2\n",
      "-2\n",
      "-2\n",
      "-1\n",
      "2\n"
     ]
    }
   ],
   "source": [
    "n = int(input())\n",
    "ls = sorted([int(input()) for _ in range(n)])\n",
    "ls_dic = {}\n",
    "for i in ls:\n",
    "    if i in sorted(ls_dic.keys()):\n",
    "        ls_dic[i] += 1\n",
    "    else:\n",
    "        ls_dic[i] = 1\n",
    "max_value = 0\n",
    "max_list = []\n",
    "for i in ls_dic.keys():\n",
    "    if ls_dic[i] > max_value:\n",
    "        max_value = ls_dic[i]\n",
    "        max_list = [i]\n",
    "    elif ls_dic[i] == max_value:\n",
    "        max_list.append(i)\n",
    "print(round(sum(ls) / n))\n",
    "print(ls[n//2])\n",
    "if len(max_list) >= 2: print(max_list[1])\n",
    "else: print(max_list[0])\n",
    "print(ls[-1] - ls[0])"
   ]
  },
  {
   "cell_type": "markdown",
   "id": "86f31254",
   "metadata": {},
   "source": [
    "# 답안 작성 후 생각"
   ]
  },
  {
   "cell_type": "code",
   "execution_count": null,
   "id": "d28a4f20",
   "metadata": {},
   "outputs": [],
   "source": [
    "\"\"\"\"\"\"\"\"\"\"\n",
    "우려했던 대로 시간초과가 발생한다.\n",
    "\n",
    "산술평균와 중앙값, 범위를 위해 이분탐색으로 리스트에 값들을 알맞은 위치에 넣는 동시에 최빈값을 위해 딕셔너리에도 값을 넣는다.\n",
    "\"\"\"\"\"\"\"\"\"\""
   ]
  },
  {
   "cell_type": "markdown",
   "id": "8f576c92",
   "metadata": {},
   "source": [
    "# 내 답안(2)"
   ]
  },
  {
   "cell_type": "code",
   "execution_count": 26,
   "id": "f7c460d4",
   "metadata": {},
   "outputs": [
    {
     "name": "stdout",
     "output_type": "stream",
     "text": [
      "3\n",
      "0\n",
      "0\n",
      "-1\n",
      "0\n",
      "0\n",
      "0\n",
      "1\n"
     ]
    }
   ],
   "source": [
    "n = int(input())\n",
    "first = int(input())\n",
    "ls = [first]\n",
    "sum_value = first\n",
    "length = 1\n",
    "count = {}\n",
    "count[first] = 1\n",
    "\n",
    "for _ in range(n-1):\n",
    "    num = int(input())\n",
    "    sum_value += num\n",
    "    \n",
    "    if num in count.keys(): count[num] += 1\n",
    "    else: count[num] = 1\n",
    "        \n",
    "    start, end = 0, length-1\n",
    "    while start <= end:\n",
    "        mid = (start + end) // 2\n",
    "        if ls[mid] > num: #3 7 10 15 \n",
    "            if mid == 0 or ls[mid - 1] <= num:\n",
    "                ls.insert(mid, num)\n",
    "                break\n",
    "            end = mid - 1\n",
    "        elif ls[mid] < num:\n",
    "            if mid == length-1 or ls[mid + 1] >= num:\n",
    "                ls.insert(mid+1, num)\n",
    "                break\n",
    "            start = mid + 1\n",
    "        else:\n",
    "            ls.insert(mid, num)\n",
    "            break\n",
    "    length += 1\n",
    "    \n",
    "max_value = 0\n",
    "max_list = []\n",
    "for i in sorted(count.keys()):\n",
    "    if count[i] > max_value:\n",
    "        max_value = count[i]\n",
    "        max_list = [i]\n",
    "    elif count[i] == max_value:\n",
    "        max_list.append(i)\n",
    "mode = max_list[0]\n",
    "if len(max_list) >= 2: mode = max_list[1]\n",
    "     \n",
    "print(round(sum_value / n))\n",
    "print(ls[n//2])    \n",
    "print(mode)\n",
    "print(ls[-1] - ls[0])"
   ]
  },
  {
   "cell_type": "markdown",
   "id": "9852de6b",
   "metadata": {},
   "source": [
    "# 답안 작성 후 생각"
   ]
  },
  {
   "cell_type": "code",
   "execution_count": null,
   "id": "018ec33e",
   "metadata": {},
   "outputs": [],
   "source": [
    "\"\"\"\"\"\"\"\"\"\"\n",
    "두 번째 풀이 역시 시간초과가 발생한다. 계수 정렬을 활용해보자.\n",
    "\"\"\"\"\"\"\"\"\"\""
   ]
  },
  {
   "cell_type": "markdown",
   "id": "075518bc",
   "metadata": {},
   "source": [
    "# 내 답안(3)"
   ]
  },
  {
   "cell_type": "code",
   "execution_count": 47,
   "id": "10c254bd",
   "metadata": {},
   "outputs": [
    {
     "name": "stdout",
     "output_type": "stream",
     "text": [
      "3\n",
      "0\n",
      "0\n",
      "-1\n",
      "0\n",
      "0\n",
      "0\n",
      "1\n"
     ]
    }
   ],
   "source": [
    "from sys import stdin\n",
    "input = stdin.readline\n",
    "\n",
    "n = int(input())\n",
    "sum_value = 0\n",
    "ls_plus, ls_minus = [0] * 4001, [0] * 4001\n",
    "\n",
    "for _ in range(n):\n",
    "    num = int(input())\n",
    "    if num >= 0: ls_plus[num] += 1\n",
    "    else: ls_minus[-num] += 1\n",
    "    sum_value += num\n",
    "\n",
    "max_list = []\n",
    "max_cnt = 1\n",
    "count = -1\n",
    "median_ck, min_ck = 0, 0\n",
    "\n",
    "\n",
    "for i in range(4000, 0, -1):\n",
    "    if ls_minus[i] >= 1:\n",
    "        max_value = -1 * i\n",
    "        count += ls_minus[i] \n",
    "        \n",
    "        if max_cnt < ls_minus[i]:\n",
    "            max_cnt = ls_minus[i]\n",
    "            max_list = [-1 * i]\n",
    "        elif max_cnt == ls_minus[i]:\n",
    "            max_list.append(-1 * i)\n",
    "        \n",
    "        if count >= n//2 and median_ck == 0:\n",
    "            median = -1 * i\n",
    "            median_ck = 1\n",
    "      \n",
    "        if min_ck == 0:\n",
    "            min_value = -1 * i\n",
    "            min_ck = 1\n",
    "        \n",
    "for i in range(4001):\n",
    "    if ls_plus[i] >= 1:\n",
    "        max_value = i\n",
    "        count += ls_plus[i] \n",
    "        if max_cnt < ls_plus[i]:\n",
    "            max_cnt = ls_plus[i]\n",
    "            max_list = [i]\n",
    "        elif max_cnt == ls_plus[i]:\n",
    "            max_list.append(i)\n",
    "        \n",
    "        if count >= n//2 and median_ck == 0:\n",
    "            median = i\n",
    "            median_ck = 1\n",
    "      \n",
    "        if min_ck == 0:\n",
    "            min_value = i\n",
    "            min_ck = 1\n",
    "    \n",
    "    \n",
    "print(round(sum_value/ n))\n",
    "print(median)\n",
    "if len(max_list) >= 2: print(max_list[1])\n",
    "else: print(max_list[0])\n",
    "print(max_value - min_value)"
   ]
  },
  {
   "cell_type": "markdown",
   "id": "24fafa6d",
   "metadata": {},
   "source": [
    "# thahn106님의 답안"
   ]
  },
  {
   "cell_type": "code",
   "execution_count": null,
   "id": "ddd2eb72",
   "metadata": {},
   "outputs": [],
   "source": [
    "import sys\n",
    "input = sys.stdin.buffer.readline\n",
    "\n",
    "N = int(input())\n",
    "counts = [0 for i in range(8001)]\n",
    "sum = 0\n",
    "for i in range(N):\n",
    "    n = int(input())\n",
    "    sum += n\n",
    "    counts[n+4000] += 1\n",
    "\n",
    "print(round(sum/N))\n",
    "\n",
    "run = 0\n",
    "i = -1\n",
    "while run < (N+1)//2:\n",
    "    i+=1\n",
    "    run+=counts[i]\n",
    "print(i-4000)\n",
    "\n",
    "m = max(counts)\n",
    "maxs = []\n",
    "for i in range(8001):\n",
    "    if counts[i]==m:\n",
    "        maxs.append(i-4000)\n",
    "if len(maxs)>1:\n",
    "    print(maxs[1])\n",
    "else:\n",
    "    print(maxs[0])\n",
    "\n",
    "MAX = 4000\n",
    "while not counts[MAX+4000]:\n",
    "    MAX -= 1\n",
    "MIN = -4000\n",
    "while not counts[MIN+4000]:\n",
    "    MIN += 1\n",
    "print(MAX-MIN)"
   ]
  },
  {
   "cell_type": "markdown",
   "id": "b8962475",
   "metadata": {},
   "source": [
    "# 정답 확인 후 생각"
   ]
  },
  {
   "cell_type": "code",
   "execution_count": null,
   "id": "0cb4f502",
   "metadata": {},
   "outputs": [],
   "source": [
    "\"\"\"\"\"\"\"\"\"\"\n",
    "1. 8001개의 원소를 갖는 리스트에 [n+4000] 방식의 인덱싱을 활용함으로써 -4000부터 4000까지 모든 숫자를 효율적으로 표현했다.\n",
    "\n",
    "2. 각 통계량을 매번 새로운 루프를 통해 구했지만 훨씬 코드가 깔끔하다.\n",
    "\n",
    "3. while not counts[MAX+4000]이라는 코드를 통해 최대값, 최솟값을 효과적으로 탐색했다.\n",
    "\"\"\"\"\"\"\"\"\"\""
   ]
  }
 ],
 "metadata": {
  "kernelspec": {
   "display_name": "Python 3 (ipykernel)",
   "language": "python",
   "name": "python3"
  },
  "language_info": {
   "codemirror_mode": {
    "name": "ipython",
    "version": 3
   },
   "file_extension": ".py",
   "mimetype": "text/x-python",
   "name": "python",
   "nbconvert_exporter": "python",
   "pygments_lexer": "ipython3",
   "version": "3.7.13"
  }
 },
 "nbformat": 4,
 "nbformat_minor": 5
}
