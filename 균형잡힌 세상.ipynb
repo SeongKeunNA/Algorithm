{
 "cells": [
  {
   "cell_type": "markdown",
   "id": "217a1b12",
   "metadata": {},
   "source": [
    "# 코딩 전 생각"
   ]
  },
  {
   "cell_type": "code",
   "execution_count": null,
   "id": "2b8bab1a",
   "metadata": {},
   "outputs": [],
   "source": [
    "\"\"\"\"\"\"\"\"\"\"\n",
    "문자열의 각 문자를 검사하여, 대괄호와 소괄호 별로 개수를 센다. \n",
    "\n",
    "열린 괄호의 경우 +1,  닫힌 괄호의 경우 -1이다. 만약 변수가 0 미만으로 줄어든다면 균형잡히지 않은 상태다.\n",
    "\n",
    "또한 가장 최근의 열린 괄호의 종류를 기록하여 현재 확인하는 문자의 괄호와 종류가 다르다면 역시 균형잡히지 않은 상태다\n",
    "\"\"\"\"\"\"\"\"\"\""
   ]
  },
  {
   "cell_type": "markdown",
   "id": "5a38c6f3",
   "metadata": {},
   "source": [
    "# 내 답안"
   ]
  },
  {
   "cell_type": "code",
   "execution_count": null,
   "id": "839451fa",
   "metadata": {},
   "outputs": [],
   "source": [
    "while True:\n",
    "    b, s = 0\n",
    "    pre = None\n",
    "    string = input()\n",
    "    if string == '.':\n",
    "        break\n",
    "    for i in string:\n",
    "        if i == '[':\n",
    "            b += 1\n",
    "            pre = '['\n",
    "        elif i == '(':\n",
    "            s += 1\n",
    "            pre = '('\n",
    "        elif i == ']':\n",
    "            if pre == '(' or b== 0:\n",
    "                print('no')\n",
    "                break\n",
    "            b -= 1\n",
    "        elif i == ')':\n",
    "            if pre == '[' or s == 0:\n",
    "                print('no')\n",
    "                break\n",
    "            s -= 1\n",
    "    print('yes')"
   ]
  },
  {
   "cell_type": "markdown",
   "id": "a6fede0c",
   "metadata": {},
   "source": [
    "# 답안 작성 후 생각"
   ]
  },
  {
   "cell_type": "code",
   "execution_count": null,
   "id": "ca7b3741",
   "metadata": {},
   "outputs": [],
   "source": [
    "\"\"\"\"\"\"\"\"\"\"\n",
    "이전 괄호의 종류를 알 수 없으므로 괄호들을 스택에 담아서 풀어야 한다.\n",
    "\"\"\"\"\"\"\"\"\"\""
   ]
  },
  {
   "cell_type": "markdown",
   "id": "b8bf104b",
   "metadata": {},
   "source": [
    "# 내 답안(2)"
   ]
  },
  {
   "cell_type": "code",
   "execution_count": 6,
   "id": "c6c64605",
   "metadata": {
    "collapsed": true
   },
   "outputs": [
    {
     "name": "stdout",
     "output_type": "stream",
     "text": [
      "So when I die (the [first] I will see in (heaven) is a score list).\n",
      "yes\n",
      "[ first in ] ( first out ).\n",
      "yes\n",
      "Half Moon tonight (At least it is better than no Moon at all].\n",
      "no\n",
      "A rope may form )( a trail in a maze.\n",
      "no\n",
      "Help( I[m being held prisoner in a fortune cookie factory)].\n",
      "no\n",
      "([ (([( [ ] ) ( ) (( ))] )) ]).\n",
      "yes\n",
      " .\n",
      "yes\n",
      ".\n"
     ]
    }
   ],
   "source": [
    "while True:\n",
    "    stack = []\n",
    "    string = input()\n",
    "    ans = 'yes'\n",
    "    if string == '.':\n",
    "        break\n",
    "    for i in string:\n",
    "        if i == '[' or i == '(':\n",
    "            stack.append(i)\n",
    "        \n",
    "        elif i == ']':\n",
    "            if stack and stack[-1] == '[':\n",
    "                stack.pop()\n",
    "            else:\n",
    "                ans = 'no'\n",
    "                break\n",
    "            \n",
    "        elif i == ')':\n",
    "            if stack and stack[-1] == '(':\n",
    "                stack.pop()\n",
    "            else:\n",
    "                ans = 'no'\n",
    "                break\n",
    "    if stack: ans = 'no'\n",
    "    print(ans)"
   ]
  },
  {
   "cell_type": "markdown",
   "id": "f6d57a95",
   "metadata": {},
   "source": [
    "# sinsung6722\t님의 답안"
   ]
  },
  {
   "cell_type": "code",
   "execution_count": null,
   "id": "b0ce9140",
   "metadata": {},
   "outputs": [],
   "source": [
    "import sys\n",
    "input = sys.stdin.readline\n",
    "\n",
    "results = []\n",
    "while True :\n",
    "  S = input().rstrip()\n",
    "  if len(S) == 1 and S[0] == \".\" : break\n",
    "  stack = []\n",
    "\n",
    "  isValid = True\n",
    "  for ch in S :\n",
    "    if ch == \"(\": stack.append(\"(\")\n",
    "    elif ch == \")\" :\n",
    "      if stack and stack[-1] == \"(\" : stack.pop()\n",
    "      else : isValid = False; break\n",
    "    \n",
    "    elif ch == \"[\" : stack.append(\"[\")\n",
    "    elif ch == \"]\" :\n",
    "      if stack and stack[-1] == \"[\" : stack.pop()\n",
    "      else : isValid = False; break\n",
    "  if stack : isValid = False\n",
    "  results.append([\"no\",\"yes\"][isValid])\n",
    "print(\"\\n\".join(results))"
   ]
  },
  {
   "cell_type": "markdown",
   "id": "72e09375",
   "metadata": {},
   "source": [
    "# 정답 확인 후 생각"
   ]
  },
  {
   "cell_type": "code",
   "execution_count": null,
   "id": "701469d3",
   "metadata": {},
   "outputs": [],
   "source": [
    "\"\"\"\"\"\"\"\"\"\"\n",
    "stdout.write는 사용하지 않았다. \n",
    "\n",
    "stdin.readlnie는 뒤에 strip이 아닌 rstrip을 사용해야만 한다.\n",
    "\"\"\"\"\"\"\"\"\"\""
   ]
  },
  {
   "cell_type": "markdown",
   "id": "0c11a31c",
   "metadata": {},
   "source": [
    "# 내 답안(3)"
   ]
  },
  {
   "cell_type": "code",
   "execution_count": null,
   "id": "ea48f66d",
   "metadata": {},
   "outputs": [],
   "source": [
    "from sys import stdin, stdout\n",
    "input = stdin.readline\n",
    "while True:\n",
    "    stack = []\n",
    "    string = input().rstrip()\n",
    "    ans = 'yes'\n",
    "    if len(string) == 1 and string[0] == '.': break\n",
    "    for i in string:\n",
    "        if i == '[' or i == '(':\n",
    "            stack.append(i)\n",
    "        \n",
    "        elif i == ']':\n",
    "            if stack and stack[-1] == '[':\n",
    "                stack.pop()\n",
    "            else:\n",
    "                ans = 'no'\n",
    "                break\n",
    "            \n",
    "        elif i == ')':\n",
    "            if stack and stack[-1] == '(':\n",
    "                stack.pop()\n",
    "            else:\n",
    "                ans = 'no'\n",
    "                break\n",
    "    if stack: ans = 'no'\n",
    "    print(ans)"
   ]
  }
 ],
 "metadata": {
  "kernelspec": {
   "display_name": "Python 3 (ipykernel)",
   "language": "python",
   "name": "python3"
  },
  "language_info": {
   "codemirror_mode": {
    "name": "ipython",
    "version": 3
   },
   "file_extension": ".py",
   "mimetype": "text/x-python",
   "name": "python",
   "nbconvert_exporter": "python",
   "pygments_lexer": "ipython3",
   "version": "3.7.13"
  }
 },
 "nbformat": 4,
 "nbformat_minor": 5
}
