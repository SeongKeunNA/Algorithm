{
 "cells": [
  {
   "cell_type": "markdown",
   "id": "e067893e",
   "metadata": {},
   "source": [
    "# 코딩 전 생각"
   ]
  },
  {
   "cell_type": "code",
   "execution_count": null,
   "id": "c8d435db",
   "metadata": {},
   "outputs": [],
   "source": [
    "\"\"\"\"\"\"\"\"\"\"\n",
    "파이썬의 내장 함수를 먼저 사용해본다.\n",
    "\"\"\"\"\"\"\"\"\"\""
   ]
  },
  {
   "cell_type": "markdown",
   "id": "bd35ad7f",
   "metadata": {},
   "source": [
    "# 내 답안"
   ]
  },
  {
   "cell_type": "code",
   "execution_count": 6,
   "id": "5cfa046c",
   "metadata": {},
   "outputs": [
    {
     "name": "stdout",
     "output_type": "stream",
     "text": [
      "5\n",
      "5\n",
      "4\n",
      "3\n",
      "2\n",
      "1\n"
     ]
    },
    {
     "data": {
      "text/plain": [
       "[1, 2, 3, 4, 5]"
      ]
     },
     "execution_count": 6,
     "metadata": {},
     "output_type": "execute_result"
    }
   ],
   "source": [
    "from sys import stdin\n",
    "input = stdin.readline\n",
    "for i in sorted([int(input()) for _ in range(int(input()))]):\n",
    "    print(i)"
   ]
  },
  {
   "cell_type": "markdown",
   "id": "da6c800b",
   "metadata": {},
   "source": [
    "# 답안 작성 후 생각"
   ]
  },
  {
   "cell_type": "code",
   "execution_count": null,
   "id": "ad18f4ca",
   "metadata": {},
   "outputs": [],
   "source": [
    "\"\"\"\"\"\"\"\"\"\"\n",
    "위의 답안 제출 시 메모리 초과가 발생한다. 이분 탐색으로 해결해본다.\n",
    "\"\"\"\"\"\"\"\"\"\""
   ]
  },
  {
   "cell_type": "markdown",
   "id": "58807e4b",
   "metadata": {},
   "source": [
    "# 내 답안(2)"
   ]
  },
  {
   "cell_type": "code",
   "execution_count": 2,
   "id": "5017b8a8",
   "metadata": {},
   "outputs": [
    {
     "name": "stdout",
     "output_type": "stream",
     "text": [
      "10\n",
      "5\n",
      "2\n",
      "3\n",
      "1\n",
      "4\n",
      "2\n",
      "3\n",
      "5\n",
      "1\n",
      "7\n",
      "1\n",
      "1\n",
      "2\n",
      "2\n",
      "3\n",
      "3\n",
      "4\n",
      "5\n",
      "5\n",
      "7\n"
     ]
    }
   ],
   "source": [
    "ls = []\n",
    "cnt = 0\n",
    "n = int(input())\n",
    "for _ in range(n):\n",
    "    value = int(input())\n",
    "    start, end = 0, cnt-1\n",
    "    mid = (start + end) // 2\n",
    "    idx = 0\n",
    "    while start <= end: # 6 8 9\n",
    "        mid = (start + end) // 2\n",
    "        if ls[mid] < value:\n",
    "            if mid == cnt - 1 or ls[mid + 1] > value:\n",
    "                idx = mid + 1\n",
    "                break\n",
    "            start = mid + 1\n",
    "            \n",
    "        elif ls[mid] > value:\n",
    "            if mid == 0:\n",
    "                idx = mid\n",
    "                break\n",
    "            elif ls[mid - 1] < value:\n",
    "                idx = mid\n",
    "                break\n",
    "            end = mid - 1\n",
    "            \n",
    "        else:\n",
    "            idx = mid\n",
    "            break\n",
    "    ls.insert(idx, value)\n",
    "    cnt += 1\n",
    "for i in range(n):\n",
    "    print(ls[i])"
   ]
  },
  {
   "cell_type": "markdown",
   "id": "485e3267",
   "metadata": {},
   "source": [
    "# 답안 작성 후 생각"
   ]
  },
  {
   "cell_type": "code",
   "execution_count": null,
   "id": "8f7f4272",
   "metadata": {},
   "outputs": [],
   "source": [
    "\"\"\"\"\"\"\"\"\"\"\n",
    "이분탐색 + insert를 이용한 풀이도 시간초과가 발생한다. \n",
    "\n",
    "예전 기억을 살려 계수 정렬을 사용해보자.\n",
    "\"\"\"\"\"\"\"\"\"\""
   ]
  },
  {
   "cell_type": "markdown",
   "id": "20c970e4",
   "metadata": {},
   "source": [
    "# 내 답안(3)"
   ]
  },
  {
   "cell_type": "code",
   "execution_count": 4,
   "id": "2da67152",
   "metadata": {},
   "outputs": [
    {
     "name": "stdout",
     "output_type": "stream",
     "text": [
      "5\n",
      "5\n",
      "4\n",
      "3\n",
      "2\n",
      "1\n",
      "1\n",
      "2\n",
      "3\n",
      "4\n",
      "5\n"
     ]
    }
   ],
   "source": [
    "ls = [0] * (10001)\n",
    "for _ in range(int(input())):\n",
    "    ls[int(input())] += 1\n",
    "for i in range(1, 10001):\n",
    "    for _ in range(ls[i]):\n",
    "        print(i)"
   ]
  },
  {
   "cell_type": "markdown",
   "id": "1edb498f",
   "metadata": {},
   "source": [
    "# thahn106님의 답안"
   ]
  },
  {
   "cell_type": "code",
   "execution_count": null,
   "id": "c84fe63a",
   "metadata": {},
   "outputs": [],
   "source": [
    "import sys\n",
    "input = sys.stdin.buffer.readline\n",
    "\n",
    "counts = [0 for i in range(10010)]\n",
    "for n in range(int(input())):\n",
    "    counts[int(input())]+=1\n",
    "for i in range(10010):\n",
    "    for j in range(counts[i]):\n",
    "        sys.stdout.write(str(i)+\"\\n\")"
   ]
  },
  {
   "cell_type": "markdown",
   "id": "7a36e512",
   "metadata": {},
   "source": [
    "# baefr님의 답안"
   ]
  },
  {
   "cell_type": "code",
   "execution_count": null,
   "id": "a099dc29",
   "metadata": {},
   "outputs": [],
   "source": [
    "import sys\n",
    "\n",
    "input = sys.stdin.readline\n",
    "print = sys.stdout.write\n",
    "\n",
    "def main():\n",
    "    N = int(input())\n",
    "\n",
    "    arr = [0] * 10001  # idx 가 0 부터 10000 까지\n",
    "\n",
    "    for _ in range(N):\n",
    "        arr[int(input())] += 1\n",
    "\n",
    "    for i in range(len(arr)):\n",
    "        if arr[i]:\n",
    "            while arr[i] > 1000:\n",
    "                print((str(i) + '\\n') * 1000)\n",
    "                arr[i] -= 1000\n",
    "            print((str(i) + '\\n') * arr[i])\n",
    "\n",
    "if __name__==\"__main__\" :\n",
    "    main()"
   ]
  },
  {
   "cell_type": "markdown",
   "id": "d3161482",
   "metadata": {},
   "source": [
    "# 정답 확인 후 생각"
   ]
  },
  {
   "cell_type": "code",
   "execution_count": null,
   "id": "2e74549d",
   "metadata": {},
   "outputs": [],
   "source": [
    "\"\"\"\"\"\"\"\"\"\"\"\n",
    "sys.stdin.readline뿐만 아니라, sys.stdin.buffer.readline이나 sys.stdout.write를 이용해 조금 더 효율적으로 입출력 처리를 할 수 있다.\n",
    "\n",
    "하지만 stdout.write를 사용할 때에는 자동으로 줄바꿈이 되지 않아 뒤에 '\\n'을 붙여줘야 한다.\n",
    "\"\"\"\"\"\"\"\""
   ]
  },
  {
   "cell_type": "code",
   "execution_count": 5,
   "id": "492beebb",
   "metadata": {},
   "outputs": [
    {
     "name": "stdout",
     "output_type": "stream",
     "text": [
      "a\n",
      "a\n"
     ]
    }
   ],
   "source": [
    "print('a' + '\\n' + 'a')"
   ]
  }
 ],
 "metadata": {
  "kernelspec": {
   "display_name": "Python 3 (ipykernel)",
   "language": "python",
   "name": "python3"
  },
  "language_info": {
   "codemirror_mode": {
    "name": "ipython",
    "version": 3
   },
   "file_extension": ".py",
   "mimetype": "text/x-python",
   "name": "python",
   "nbconvert_exporter": "python",
   "pygments_lexer": "ipython3",
   "version": "3.7.13"
  }
 },
 "nbformat": 4,
 "nbformat_minor": 5
}
