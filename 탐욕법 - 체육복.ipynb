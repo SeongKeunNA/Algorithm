{
 "cells": [
  {
   "cell_type": "markdown",
   "id": "5e8972e4",
   "metadata": {},
   "source": [
    "# 코딩 전 생각"
   ]
  },
  {
   "cell_type": "code",
   "execution_count": null,
   "id": "499f22e6",
   "metadata": {},
   "outputs": [],
   "source": [
    "\"\"\"\"\"\"\"\"\"\"\n",
    "여벌 체육복을 가져왔으며 체육복을 도난당하지도 않은 학생들이 각자의 번호보다 1만큼 작은 번호의 학생들에게 필요시 체육복을 빌려준다.\n",
    "\n",
    "만약 필요하지않다면 각자의 번호보다 1만큼 큰 번호의 학생들에게 필요시 체육복을 빌려준다.\n",
    "\"\"\"\"\"\"\"\"\"\""
   ]
  },
  {
   "cell_type": "markdown",
   "id": "1c0f70ff",
   "metadata": {},
   "source": [
    "# 내 답안"
   ]
  },
  {
   "cell_type": "code",
   "execution_count": null,
   "id": "adcc5340",
   "metadata": {},
   "outputs": [],
   "source": [
    "def solution(n, lost, reserve):\n",
    "    lost_without_reserve = list(set(lost) - set(reserve))\n",
    "    extra = list(set(reserve) - set(lost))\n",
    "    answer = n - len(lost_without_reserve)\n",
    "    for e in extra:\n",
    "        if e - 1 in lost_without_reserve:\n",
    "            answer += 1\n",
    "            lost_without_reserve.remove(e-1)\n",
    "        elif e + 1 in lost_without_reserve:\n",
    "            answer += 1\n",
    "            lost_without_reserve.remove(e+1)\n",
    "    return answer"
   ]
  }
 ],
 "metadata": {
  "kernelspec": {
   "display_name": "Python 3 (ipykernel)",
   "language": "python",
   "name": "python3"
  },
  "language_info": {
   "codemirror_mode": {
    "name": "ipython",
    "version": 3
   },
   "file_extension": ".py",
   "mimetype": "text/x-python",
   "name": "python",
   "nbconvert_exporter": "python",
   "pygments_lexer": "ipython3",
   "version": "3.7.13"
  }
 },
 "nbformat": 4,
 "nbformat_minor": 5
}
