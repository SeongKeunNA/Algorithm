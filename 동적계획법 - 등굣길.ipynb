{
 "cells": [
  {
   "cell_type": "markdown",
   "id": "18a89bc3",
   "metadata": {},
   "source": [
    "# 코딩 전 생각"
   ]
  },
  {
   "cell_type": "code",
   "execution_count": null,
   "id": "9a57136c",
   "metadata": {},
   "outputs": [],
   "source": [
    "\"\"\"\"\"\"\"\"\"\"\n",
    "0. 모든 칸에 정보를 채워 넣음 [최단거리, 방문횟수]\n",
    "\n",
    "1. BFS로 아래, 오른쪽 방향으로 탐색을 시작함. 만약 특정 칸까지의 누적거리가 해당 칸까지의 최단거리와 같다면 해당 칸의 방문횟수를 1늘린다.\n",
    "이후 q에 해당 칸을 추가한다.\n",
    "\"\"\"\"\"\"\"\"\"\""
   ]
  },
  {
   "cell_type": "markdown",
   "id": "768ea376",
   "metadata": {},
   "source": [
    "# 내 답안"
   ]
  },
  {
   "cell_type": "code",
   "execution_count": null,
   "id": "1b2f2b64",
   "metadata": {},
   "outputs": [],
   "source": [
    "from collections import deque\n",
    "def solution(m, n, puddles):\n",
    "    if (n == 1 or m == 1):\n",
    "        if puddles:\n",
    "            return (0 % 1000000007)\n",
    "        else:\n",
    "            return (1 % 1000000007)\n",
    "    answer = 0    \n",
    "    INF = int(1e9)\n",
    "    graph = [[[INF, 0] for _ in range(n)] for _ in range(m)]\n",
    "    q = deque([(0, 0, 0)]) # x, y, dist\n",
    "    dx = [1, 0]\n",
    "    dy = [0, 1]\n",
    "    while q:\n",
    "        x, y, dist = q.popleft()\n",
    "        for i in range(2):\n",
    "            nx = x + dx[i]\n",
    "            ny = y + dy[i]\n",
    "            if nx < m and ny < n and [nx + 1, ny + 1] not in puddles:\n",
    "                if graph[nx][ny][0] >= dist + 1:\n",
    "                    graph[nx][ny][0] = dist + 1\n",
    "                    graph[nx][ny][1] += 1\n",
    "                    q.append((nx, ny, dist + 1))\n",
    "    answer = graph[m-1][n-1][1] % 1000000007\n",
    "    return answer"
   ]
  },
  {
   "cell_type": "markdown",
   "id": "b53aecc3",
   "metadata": {},
   "source": [
    "# 답안 작성 후 생각"
   ]
  },
  {
   "cell_type": "code",
   "execution_count": null,
   "id": "7a2efbf2",
   "metadata": {},
   "outputs": [],
   "source": [
    "\"\"\"\"\"\"\"\"\"\"\n",
    "일반적인 bfs로 풀이하니 시간초과가 발생한다.\n",
    "\"\"\"\"\"\"\"\"\"\""
   ]
  },
  {
   "cell_type": "markdown",
   "id": "565a186e",
   "metadata": {},
   "source": [
    "# 내 답안(2)"
   ]
  },
  {
   "cell_type": "code",
   "execution_count": 9,
   "id": "6613a5ce",
   "metadata": {},
   "outputs": [],
   "source": [
    "def solution(m, n, puddles):\n",
    "    d = [[[0, 0] for _ in range(n)] for _ in range(m)] # left, right\n",
    "    for i in range(m):\n",
    "        for j in range(n):\n",
    "            if [i+1, j+1] in puddles:\n",
    "                continue\n",
    "                \n",
    "            if i == 0 and j == 1:\n",
    "                d[i][j] = [1,0]\n",
    "                continue\n",
    "            elif i == 1 and j == 0:\n",
    "                d[i][j] = [0, 1]\n",
    "                continue\n",
    "                \n",
    "            if j - 1 >= 0 and [i + 1, j] not in puddles:\n",
    "                d[i][j][0] = sum(d[i][j-1])\n",
    "            if i - 1 >= 0 and [i, j + 1] not in puddles:\n",
    "                d[i][j][1] = sum(d[i-1][j])\n",
    "    return sum(d[m-1][n-1]) % 1000000007"
   ]
  },
  {
   "cell_type": "markdown",
   "id": "bb4e5c76",
   "metadata": {},
   "source": [
    "# 정성환 , 이동훈 , 이경서 , - , 임정섭 외 19 명의 답안"
   ]
  },
  {
   "cell_type": "code",
   "execution_count": null,
   "id": "250a66e1",
   "metadata": {},
   "outputs": [],
   "source": [
    "def solution(m,n,puddles):\n",
    "    grid = [[0]*(m+1) for i in range(n+1)] #왼쪽, 위로 한줄씩 만들어서 IndexError 방지\n",
    "    if puddles != [[]]:                    #물이 잠긴 지역이 0일 수 있음\n",
    "        for a, b in puddles:\n",
    "            grid[b][a] = -1                #미리 -1로 체크\n",
    "    grid[1][1] = 1\n",
    "    for j in range(1,n+1):\n",
    "        for k in range(1,m+1):\n",
    "            if j == k == 1:                #(1,1)은 1로 만들어두고, 0이 되지 않도록\n",
    "                continue\n",
    "            if grid[j][k] == -1:           #웅덩이는 0으로 만들어 다음 덧셈 때 영향끼치지 않게\n",
    "                grid[j][k] = 0\n",
    "                continue\n",
    "            grid[j][k] = (grid[j][k-1] + grid[j-1][k])%1000000007   #[a,b] = [a-1,b] + [a,b-1] 공식\n",
    "\n",
    "    return grid[n][m]"
   ]
  },
  {
   "cell_type": "markdown",
   "id": "6e1dbd2d",
   "metadata": {},
   "source": [
    "# 정답 확인 후 생각"
   ]
  },
  {
   "cell_type": "code",
   "execution_count": null,
   "id": "c0831711",
   "metadata": {},
   "outputs": [],
   "source": [
    "\"\"\"\"\"\"\"\"\"\"\n",
    "내 풀이: 구하고자하는 칸의 왼쪽에서 오는 것과 위쪽에서 오는 것의 합을 다음 번의 왼쪽 / 위쪽값으로 했다.\n",
    "\n",
    "다른 풀이: 맵에 0을 추가해 인덱스 에러를 방지하고, [a,b] = [a-1,b] + [a,b-1] 공식를 활용해 깔끔하게 풀었다.\n",
    "\"\"\"\"\"\"\"\"\"\""
   ]
  }
 ],
 "metadata": {
  "kernelspec": {
   "display_name": "Python 3 (ipykernel)",
   "language": "python",
   "name": "python3"
  },
  "language_info": {
   "codemirror_mode": {
    "name": "ipython",
    "version": 3
   },
   "file_extension": ".py",
   "mimetype": "text/x-python",
   "name": "python",
   "nbconvert_exporter": "python",
   "pygments_lexer": "ipython3",
   "version": "3.7.13"
  }
 },
 "nbformat": 4,
 "nbformat_minor": 5
}
