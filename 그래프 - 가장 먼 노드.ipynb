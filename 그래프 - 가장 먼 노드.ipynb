{
 "cells": [
  {
   "cell_type": "markdown",
   "id": "7b1fd7db",
   "metadata": {},
   "source": [
    "# 코딩 전 생각"
   ]
  },
  {
   "cell_type": "code",
   "execution_count": null,
   "id": "d5b022ef",
   "metadata": {},
   "outputs": [],
   "source": [
    "\"\"\"\"\"\"\"\"\"\"\n",
    "다익스트라 알고리즘을 이용한다.\n",
    "\n",
    "1. vertex 배열의 정보를 graph 리스트로 옮긴다.\n",
    "\n",
    "2. heapq로 사용할 q를 선언한다.\n",
    "\n",
    "3. (1, 0)을 q에 넣는다. (1번노드, count)\n",
    "\n",
    "4. 1번노드로부터 각 노드까지의 최단 거리를 담는 dist 리스트를 선언한다.\n",
    "\n",
    "5. heapq에서 매번 원소를 추출해서 (now, count) 해당 노드와 연결된 노드(i)까지의 최단 거리가 현재 count 값보다 작다면 continue한다. \n",
    "그렇지 않다면 최단 거리를 min(count + 1)로 하고 q에 (i, count+1)를 추가한다.\n",
    "\n",
    "6. 최단거리 중 최댓값의 개수를 출력한다.\n",
    "\"\"\"\"\"\"\"\"\"\""
   ]
  },
  {
   "cell_type": "markdown",
   "id": "038d6114",
   "metadata": {},
   "source": [
    "# 내 답안"
   ]
  },
  {
   "cell_type": "code",
   "execution_count": 2,
   "id": "1312f8c5",
   "metadata": {},
   "outputs": [
    {
     "data": {
      "text/plain": [
       "[[[], [], [], [], [], [], []],\n",
       " [[], [], [], [], [], [], []],\n",
       " [[], [], [], [], [], [], []],\n",
       " [[], [], [], [], [], [], []],\n",
       " [[], [], [], [], [], [], []],\n",
       " [[], [], [], [], [], [], []],\n",
       " [[], [], [], [], [], [], []]]"
      ]
     },
     "execution_count": 2,
     "metadata": {},
     "output_type": "execute_result"
    }
   ],
   "source": [
    "import heapq\n",
    "def solution(n, edge):\n",
    "    graph = [[] for _ in range(n + 1)]\n",
    "    for a, b in edge:\n",
    "        graph[a].append(b)\n",
    "        graph[b].append(a)\n",
    "    dist = [20000] * (n + 1)    \n",
    "    q = []\n",
    "    heapq.heappush(q, (0, 1))\n",
    "    while q:\n",
    "        count, now = heapq.heappop(q) #(1,2), (1,3) # \n",
    "        if dist[now] < count:\n",
    "            continue\n",
    "        for i in graph[now]:\n",
    "            if dist[i] > count + 1:\n",
    "                dist[i] = count + 1\n",
    "                heapq.heappush(q, (count+1, i))\n",
    "    max_value = 0\n",
    "    max_count = 1\n",
    "    for i in range(2, n + 1):\n",
    "        if dist[i] > max_value:\n",
    "            max_value = dist[i]\n",
    "            max_count = 1\n",
    "        elif dist[i] == max_value:\n",
    "            max_count += 1\n",
    "    return max_count"
   ]
  },
  {
   "cell_type": "markdown",
   "id": "60127607",
   "metadata": {},
   "source": [
    "# 답안 작성 후 생각"
   ]
  },
  {
   "cell_type": "code",
   "execution_count": null,
   "id": "ba9d7ea3",
   "metadata": {},
   "outputs": [],
   "source": [
    "\"\"\"\"\"\"\"\"\"\"\n",
    "다익스트라 알고리즘 구현에서 중요한 부분을 틀렸다.\n",
    "\n",
    "정확히 익혀두자.\n",
    "\"\"\"\"\"\"\"\"\"\""
   ]
  }
 ],
 "metadata": {
  "kernelspec": {
   "display_name": "Python 3 (ipykernel)",
   "language": "python",
   "name": "python3"
  },
  "language_info": {
   "codemirror_mode": {
    "name": "ipython",
    "version": 3
   },
   "file_extension": ".py",
   "mimetype": "text/x-python",
   "name": "python",
   "nbconvert_exporter": "python",
   "pygments_lexer": "ipython3",
   "version": "3.7.13"
  }
 },
 "nbformat": 4,
 "nbformat_minor": 5
}
