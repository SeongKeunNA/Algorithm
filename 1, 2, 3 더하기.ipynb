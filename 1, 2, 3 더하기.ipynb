{
 "cells": [
  {
   "cell_type": "markdown",
   "id": "1b7eb8be",
   "metadata": {},
   "source": [
    "# 풀이 전 생각"
   ]
  },
  {
   "cell_type": "code",
   "execution_count": null,
   "id": "0afeb66d",
   "metadata": {},
   "outputs": [],
   "source": [
    "\"\"\"\n",
    "다이나믹 프로그래밍으로 해결한다.\n",
    "\n",
    "리스트 ls를 선언하고 k번째 인덱스에 k를 1, 2, 3의 합으로 나타내는 방법의 경우의 수를 담는다. ls[1] = 1이다.\n",
    "\n",
    "i를 2부터 n까지, j를 1부터 i-1까지 반복하여 i를 j+(i-j)로 나타내는 경우의 수를 찾는다.\n",
    "\n",
    "즉, ls[i] = sum(ls[j] * ls[i-j])이다.\n",
    "\"\"\""
   ]
  },
  {
   "cell_type": "markdown",
   "id": "5905e5a1",
   "metadata": {},
   "source": [
    "# 내 답안"
   ]
  },
  {
   "cell_type": "code",
   "execution_count": null,
   "id": "74bd5261",
   "metadata": {},
   "outputs": [],
   "source": [
    "ls = [0] * 11\n",
    "ls[1] = 1\n",
    "ls[2] = 2\n",
    "ls[3] = 4\n",
    "for i in range(4, 11):\n",
    "    for j in range(1, i):\n",
    "        ls[i] += ls[j] * ls[i-j]\n",
    "..."
   ]
  },
  {
   "cell_type": "markdown",
   "id": "f3c1f2da",
   "metadata": {},
   "source": [
    "# 풀이 후 생각"
   ]
  },
  {
   "cell_type": "code",
   "execution_count": null,
   "id": "c676e8ac",
   "metadata": {},
   "outputs": [],
   "source": [
    "위의 풀이는 중복되는 경우의 수가 생긴다."
   ]
  },
  {
   "cell_type": "markdown",
   "id": "3f797587",
   "metadata": {},
   "source": [
    "# 풀이 전 생각(2)"
   ]
  },
  {
   "cell_type": "code",
   "execution_count": null,
   "id": "3fab7cf3",
   "metadata": {},
   "outputs": [],
   "source": [
    "\"\"\"\n",
    "백트래킹으로 해결한다.\n",
    "\n",
    "dfs 함수를 선언하고 인자로 남은 값(i)을 받는다.\n",
    "\n",
    "이때 남은 값이 0이면 count에 1을 더하고 0미만이라면 중단한다.\n",
    "\n",
    "그렇지 않다면, dfs(i-1), dfs(i-2), dfs(i-3)을 실행한다.\n",
    "\"\"\""
   ]
  },
  {
   "cell_type": "markdown",
   "id": "596c5a24",
   "metadata": {},
   "source": [
    "# 내 답안(2)"
   ]
  },
  {
   "cell_type": "code",
   "execution_count": 1,
   "id": "a43c20d9",
   "metadata": {},
   "outputs": [
    {
     "name": "stdout",
     "output_type": "stream",
     "text": [
      "\n"
     ]
    },
    {
     "data": {
      "text/plain": [
       "1"
      ]
     },
     "execution_count": 1,
     "metadata": {},
     "output_type": "execute_result"
    }
   ],
   "source": [
    "from sys import stdin, stdout\n",
    "queries = map(int, stdin.read().splitlines()[1:])\n",
    "\n",
    "def dfs(i):\n",
    "    global count\n",
    "    if i == 0:\n",
    "        count += 1\n",
    "    elif i > 0:\n",
    "        dfs(i-1)\n",
    "        dfs(i-2)\n",
    "        dfs(i-3)\n",
    "        \n",
    "ls = [0] * 11\n",
    "for i in range(1, 11):\n",
    "    count = 0\n",
    "    dfs(i)\n",
    "    ls[i] = count\n",
    "\n",
    "answer = [str(ls[i]) for i in queries]\n",
    "stdout.write(\"\\n\".join(answer))"
   ]
  },
  {
   "cell_type": "markdown",
   "id": "498da22d",
   "metadata": {},
   "source": [
    "# mygm1302님의 답안 https://www.acmicpc.net/source/8823139"
   ]
  },
  {
   "cell_type": "code",
   "execution_count": null,
   "id": "95151239",
   "metadata": {},
   "outputs": [],
   "source": [
    "m=int(input())\n",
    "d=[0]*(20);\n",
    "d[1]=1\n",
    "d[2]=2;\n",
    "d[3]=4;\n",
    "for i in range(1,11):\n",
    "    d[i+3]=d[i]+d[i+1]+d[i+2]\n",
    "for i in range(m):\n",
    "    temp=int(input());\n",
    "    print(d[temp]);"
   ]
  },
  {
   "cell_type": "markdown",
   "id": "724c3848",
   "metadata": {},
   "source": [
    "# 풀이 후 생각(2)"
   ]
  },
  {
   "cell_type": "code",
   "execution_count": null,
   "id": "a4d5b582",
   "metadata": {},
   "outputs": [],
   "source": [
    "\"\"\"\n",
    "백트랙킹으로 해결했지만 처음 생각대로 다이나믹 프로그래밍을 이용하는 것이 조금 더 효율적이다.\n",
    "\n",
    " n = 4 인경우 \n",
    "\n",
    " 4 = 1 + 3   ----- (1)\n",
    "\n",
    "   = 2 + 2    ----- (2)\n",
    "\n",
    "   = 3 + 1    ----- (3)\n",
    "\n",
    " 로 표현 가능하고  (1)의 경우 n=3인 경우의 수와 같고, (2)의 경우 n=2인 경우의 수와 같고 (3)의 경우 n=1인 경우의 수와 같다. 그러므로 1,2,3으로 표현되므로 총 3가지 경우로 나눠서 고려해야했었던 것이었다.\n",
    "\n",
    "  점화식으로 나타내면 다음과 같다.\n",
    "\n",
    "  f(n) = f(n-1) + f(n-2) + f(n-3) (n>=4) f(1)=1,f(2)=2,f(3)=4\n",
    "  \n",
    "참고자료: https://animoto1.tistory.com/entry/%EB%B0%B1%EC%A4%80-9095-123-%EB%8D%94%ED%95%98%EA%B8%B0-%ED%8C%8C%EC%9D%B4%EC%8D%AC-Python\n",
    "\n",
    "\"\"\""
   ]
  }
 ],
 "metadata": {
  "kernelspec": {
   "display_name": "Python 3 (ipykernel)",
   "language": "python",
   "name": "python3"
  },
  "language_info": {
   "codemirror_mode": {
    "name": "ipython",
    "version": 3
   },
   "file_extension": ".py",
   "mimetype": "text/x-python",
   "name": "python",
   "nbconvert_exporter": "python",
   "pygments_lexer": "ipython3",
   "version": "3.7.13"
  }
 },
 "nbformat": 4,
 "nbformat_minor": 5
}
