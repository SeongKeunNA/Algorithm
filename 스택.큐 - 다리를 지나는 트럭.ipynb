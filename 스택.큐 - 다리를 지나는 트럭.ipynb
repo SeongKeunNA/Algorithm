{
 "cells": [
  {
   "cell_type": "markdown",
   "id": "fefcc2bc",
   "metadata": {},
   "source": [
    "# 코딩 전  생각"
   ]
  },
  {
   "cell_type": "code",
   "execution_count": null,
   "id": "5e2de544",
   "metadata": {},
   "outputs": [],
   "source": [
    "\"\"\"\"\"\"\"\"\"\"\n",
    "1. 대기 트럭 큐를 waiting_q라는 이름의 deque으로 선언 함.\n",
    "\n",
    "2. 다리를 건너는 트럭들의 큐를 on_q라는 이름의 deque으로 선언함.\n",
    "\n",
    "3. 매 반복에서:\n",
    "    1. 다리를 건너는 트럭에서 가장 앞의 트럭을 leftpop()함.\n",
    "    \n",
    "    2. 만약 대기 큐가 비었으면: 현재 count값을 return한다.\n",
    "    그렇지 않으면: 현재 다리를 건너는 트럭 무게의 합 + 대기 트럭의 첫 번째 트럭의 무게가\n",
    "    weight보다 작거나 같으면 대기 트럭의 가장 앞의 트럭을 leftpop()하고(truck)\n",
    "    다리를 건너는 트럭에 deque(([0] * (bridge_length - 1)) + list(truck))를 추가한다.\n",
    "    \n",
    "    3. count를 1을 더한다.\n",
    "\"\"\"\"\"\"\"\"\"\""
   ]
  },
  {
   "cell_type": "markdown",
   "id": "47a5aaf9",
   "metadata": {},
   "source": [
    "# 내 답안"
   ]
  },
  {
   "cell_type": "code",
   "execution_count": 3,
   "id": "d1e8ce60",
   "metadata": {},
   "outputs": [],
   "source": [
    "from collections import deque\n",
    "def solution(bridge_length, weight, truck_weights):\n",
    "    waiting_q = deque(truck_weights)\n",
    "    bridge_q = deque()\n",
    "    bridge_sum = 0\n",
    "    count = 0\n",
    "    while waiting_q:\n",
    "        if bridge_q:\n",
    "            for i in range(len(bridge_q)):\n",
    "                bridge_q[i][1] -= 1\n",
    "                \n",
    "            if bridge_q[0][1] == 0:\n",
    "                out = bridge_q.popleft()\n",
    "                bridge_sum -= out[0]\n",
    "\n",
    "        if bridge_sum + waiting_q[0] <= weight:\n",
    "            truck = waiting_q.popleft()\n",
    "            bridge_q.append([truck, bridge_length])\n",
    "            bridge_sum += truck\n",
    "        count += 1\n",
    "    return count + bridge_q[-1][1]"
   ]
  },
  {
   "cell_type": "markdown",
   "id": "4ffcd2af",
   "metadata": {},
   "source": [
    "# 답안 작성 후 생각"
   ]
  },
  {
   "cell_type": "code",
   "execution_count": null,
   "id": "8660e1a5",
   "metadata": {},
   "outputs": [],
   "source": [
    "\"\"\"\"\"\"\"\"\"\"\n",
    "다리를 건너는 트럭 큐에 bridge_length 만큼의 길이 - 1만큼의 0과 트럭번호를 추가하면 시간 count가 불가하다.\n",
    "\"\"\"\"\"\"\"\"\"\""
   ]
  },
  {
   "cell_type": "markdown",
   "id": "4b7c8bad",
   "metadata": {},
   "source": [
    "# 김형준 , - , DochisDream , seuai의 답안"
   ]
  },
  {
   "cell_type": "code",
   "execution_count": null,
   "id": "c64f3fa3",
   "metadata": {},
   "outputs": [],
   "source": [
    "import collections\n",
    "\n",
    "DUMMY_TRUCK = 0\n",
    "\n",
    "\n",
    "class Bridge(object):\n",
    "\n",
    "    def __init__(self, length, weight):\n",
    "        self._max_length = length\n",
    "        self._max_weight = weight\n",
    "        self._queue = collections.deque()\n",
    "        self._current_weight = 0\n",
    "\n",
    "    def push(self, truck):\n",
    "        next_weight = self._current_weight + truck\n",
    "        if next_weight <= self._max_weight and len(self._queue) < self._max_length:\n",
    "            self._queue.append(truck)\n",
    "            self._current_weight = next_weight\n",
    "            return True\n",
    "        else:\n",
    "            return False\n",
    "\n",
    "    def pop(self):\n",
    "        item = self._queue.popleft()\n",
    "        self._current_weight -= item\n",
    "        return item\n",
    "\n",
    "    def __len__(self):\n",
    "        return len(self._queue)\n",
    "\n",
    "    def __repr__(self):\n",
    "        return 'Bridge({}/{} : [{}])'.format(self._current_weight, self._max_weight, list(self._queue))\n",
    "\n",
    "\n",
    "def solution(bridge_length, weight, truck_weights):\n",
    "    bridge = Bridge(bridge_length, weight)\n",
    "    trucks = collections.deque(w for w in truck_weights)\n",
    "\n",
    "    for _ in range(bridge_length):\n",
    "        bridge.push(DUMMY_TRUCK)\n",
    "\n",
    "    count = 0\n",
    "    while trucks:\n",
    "        bridge.pop()\n",
    "\n",
    "        if bridge.push(trucks[0]):\n",
    "            trucks.popleft()\n",
    "        else:\n",
    "            bridge.push(DUMMY_TRUCK)\n",
    "\n",
    "        count += 1\n",
    "\n",
    "    while bridge:\n",
    "        bridge.pop()\n",
    "        count += 1\n",
    "\n",
    "    return count\n",
    "\n",
    "\n",
    "def main():\n",
    "    print(solution(2, 10, [7, 4, 5, 6]), 8)\n",
    "    print(solution(100, 100, [10]), 101)\n",
    "    print(solution(100, 100, [10, 10, 10, 10, 10, 10, 10, 10, 10, 10]), 110)\n",
    "\n",
    "\n",
    "if __name__ == '__main__':\n",
    "    main()"
   ]
  },
  {
   "cell_type": "markdown",
   "id": "0054565e",
   "metadata": {},
   "source": [
    "# 정답 확인 후 생각"
   ]
  },
  {
   "cell_type": "code",
   "execution_count": null,
   "id": "6ad438dd",
   "metadata": {},
   "outputs": [],
   "source": [
    "\"\"\"\"\"\"\"\"\"\"\n",
    "class를 이용해 해결했다.\n",
    "\"\"\"\"\"\"\"\"\"\""
   ]
  }
 ],
 "metadata": {
  "kernelspec": {
   "display_name": "Python 3 (ipykernel)",
   "language": "python",
   "name": "python3"
  },
  "language_info": {
   "codemirror_mode": {
    "name": "ipython",
    "version": 3
   },
   "file_extension": ".py",
   "mimetype": "text/x-python",
   "name": "python",
   "nbconvert_exporter": "python",
   "pygments_lexer": "ipython3",
   "version": "3.7.13"
  }
 },
 "nbformat": 4,
 "nbformat_minor": 5
}
