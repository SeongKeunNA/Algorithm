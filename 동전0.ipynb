{
 "cells": [
  {
   "cell_type": "markdown",
   "id": "fcccb4fd",
   "metadata": {},
   "source": [
    "# 코딩 전 생각"
   ]
  },
  {
   "cell_type": "code",
   "execution_count": null,
   "id": "241e3da6",
   "metadata": {},
   "outputs": [],
   "source": [
    "\"\"\"\"\"\"\"\"\"\"\n",
    "주어진 동전 리스트에서 만들고자하는 값 k보다 가치가 작은 동전 중 가장 가치가 큰 동전을 찾는다.\n",
    "\n",
    "k를 해당 동전의 가치 v로 나눈 나머지인 k // v로 하고 count 변수에 사용한 동전의 수인 k % v를 추가한다.\n",
    "\n",
    "이때 k가 0이된다면 count를 출력하고 break한다.\n",
    "\n",
    "다음으로 가치가 작은 동전을 순서대로 확인하여, 만약 남은 금액보다 크다면 continue하고,\n",
    "\n",
    "그렇지 않다면 위의 과정을 반복한다.\n",
    "\"\"\"\"\"\"\"\"\"\""
   ]
  },
  {
   "cell_type": "markdown",
   "id": "6a359064",
   "metadata": {},
   "source": [
    "# 내 답안"
   ]
  },
  {
   "cell_type": "code",
   "execution_count": 12,
   "id": "d5b3f85b",
   "metadata": {},
   "outputs": [
    {
     "name": "stdout",
     "output_type": "stream",
     "text": [
      "10 4200\n",
      "1\n",
      "5\n",
      "10\n",
      "50\n",
      "100\n",
      "500\n",
      "1000\n",
      "5000\n",
      "10000\n",
      "50000\n",
      "4200\n"
     ]
    }
   ],
   "source": [
    "from sys import stdin\n",
    "input = stdin.readline\n",
    "n, k = map(int, input().split())\n",
    "values = [int(input()) for _ in range(n)]\n",
    "for i in range(n-1, -1, -1):\n",
    "    if values[i] <= k:\n",
    "        start = i\n",
    "        break\n",
    "count = 0\n",
    "for j in range(start, -1, -1):\n",
    "    if values[j] > k:\n",
    "        continue\n",
    "    count += k // values[j]\n",
    "    k %= values[j]\n",
    "    if k == 0:\n",
    "        print(count)\n",
    "        break"
   ]
  },
  {
   "cell_type": "markdown",
   "id": "8b0e5e71",
   "metadata": {},
   "source": [
    "# 답안 작성 후 생각"
   ]
  },
  {
   "cell_type": "code",
   "execution_count": null,
   "id": "0ddf4767",
   "metadata": {},
   "outputs": [],
   "source": [
    "\"\"\"\"\"\"\"\"\"\"\n",
    "조건 만족 후 break 문으로 탈출하는 것 잊지 말자.\n",
    "\"\"\"\"\"\"\"\"\"\""
   ]
  }
 ],
 "metadata": {
  "kernelspec": {
   "display_name": "Python 3 (ipykernel)",
   "language": "python",
   "name": "python3"
  },
  "language_info": {
   "codemirror_mode": {
    "name": "ipython",
    "version": 3
   },
   "file_extension": ".py",
   "mimetype": "text/x-python",
   "name": "python",
   "nbconvert_exporter": "python",
   "pygments_lexer": "ipython3",
   "version": "3.7.13"
  }
 },
 "nbformat": 4,
 "nbformat_minor": 5
}
