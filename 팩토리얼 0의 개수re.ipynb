{
 "cells": [
  {
   "cell_type": "code",
   "execution_count": 1,
   "id": "cfc6eb76",
   "metadata": {
    "collapsed": true
   },
   "outputs": [
    {
     "ename": "SyntaxError",
     "evalue": "invalid syntax (3734148478.py, line 1)",
     "output_type": "error",
     "traceback": [
      "\u001b[1;36m  File \u001b[1;32m\"C:\\Users\\najonggeun\\AppData\\Local\\Temp\\ipykernel_26664\\3734148478.py\"\u001b[1;36m, line \u001b[1;32m1\u001b[0m\n\u001b[1;33m    https://www.acmicpc.net/problem/1676\u001b[0m\n\u001b[1;37m           ^\u001b[0m\n\u001b[1;31mSyntaxError\u001b[0m\u001b[1;31m:\u001b[0m invalid syntax\n"
     ]
    }
   ],
   "source": [
    "https://www.acmicpc.net/problem/1676"
   ]
  },
  {
   "cell_type": "markdown",
   "id": "d5ee2e86",
   "metadata": {},
   "source": [
    "# 풀이 전 생각"
   ]
  },
  {
   "cell_type": "code",
   "execution_count": 3,
   "id": "ea1db3ae",
   "metadata": {},
   "outputs": [
    {
     "data": {
      "text/plain": [
       "3628800"
      ]
     },
     "execution_count": 3,
     "metadata": {},
     "output_type": "execute_result"
    }
   ],
   "source": [
    "import math\n",
    "f = math.factorial\n",
    "f(10)"
   ]
  },
  {
   "cell_type": "code",
   "execution_count": null,
   "id": "b5f82592",
   "metadata": {},
   "outputs": [],
   "source": [
    "1 2 6 24 120 720 5040 "
   ]
  },
  {
   "cell_type": "code",
   "execution_count": 4,
   "id": "fc0f1e74",
   "metadata": {},
   "outputs": [
    {
     "name": "stdout",
     "output_type": "stream",
     "text": [
      "1\n",
      "2\n",
      "6\n",
      "24\n",
      "120\n",
      "720\n",
      "5040\n",
      "40320\n",
      "362880\n",
      "3628800\n",
      "39916800\n",
      "479001600\n",
      "6227020800\n",
      "87178291200\n",
      "1307674368000\n",
      "20922789888000\n",
      "355687428096000\n",
      "6402373705728000\n",
      "121645100408832000\n",
      "2432902008176640000\n",
      "51090942171709440000\n",
      "1124000727777607680000\n",
      "25852016738884976640000\n",
      "620448401733239439360000\n",
      "15511210043330985984000000\n"
     ]
    }
   ],
   "source": [
    "for i in range(1, 26):\n",
    "    print(math.factorial(i))"
   ]
  },
  {
   "cell_type": "code",
   "execution_count": 8,
   "id": "f04d7586",
   "metadata": {},
   "outputs": [
    {
     "name": "stdout",
     "output_type": "stream",
     "text": [
      "1\n"
     ]
    }
   ],
   "source": [
    "print(math.factorial(0))"
   ]
  },
  {
   "cell_type": "code",
   "execution_count": null,
   "id": "5ae25165",
   "metadata": {},
   "outputs": [],
   "source": [
    "\"\"\"\"\"\"\"\"\"\"\n",
    "1. k!에서  뒤에서부터 처음 0이 아닌 수자가 나올 때까지 0의 개수를 담는 zero_counts를 선언한다.\n",
    "\n",
    "2. 0!의 값인 1에서는 처음 0의 개수가 0이므로 zero_counts를 0번째 값으로 0을 넣는다.\n",
    "\n",
    "3. k!의 뒤에서부터 처음 0이 아닌 수(1~9)를 담는 first_nonzeros 선언한다.\n",
    "\n",
    "4. 0!의 값인 1에서는 처음 0이 아닌 수가 1이므로 first_nonzeros의 0번째 값으로 1을 넣는다. \n",
    "\n",
    "5. 0부터 500까지 반복해서(i), 이전 수의 처음 0이 아닌 수(first_nonzeros의[i-1])와 i를 곱한다 .\n",
    "\n",
    "6. 곱한 결과에서 뒤자리부터 0을 세서(count) 이전 수의 0의 개수(zero_counts를[i-1])에서 count만큼 더한 값을 zero_counts를 추가한다.\n",
    "\n",
    "7. 곱한 결과에서 뒤자리부터 처음 0이 아닌 값을 first_nonzeros에 추가한다.\n",
    "\n",
    "8. n이 주어졌을 때, zero_counts[n]을 출력한다.\n",
    "\"\"\"\"\"\"\"\"\"\""
   ]
  },
  {
   "cell_type": "markdown",
   "id": "7022caa9",
   "metadata": {},
   "source": [
    "# 내 답안"
   ]
  },
  {
   "cell_type": "code",
   "execution_count": 6,
   "id": "71016de0",
   "metadata": {},
   "outputs": [
    {
     "data": {
      "text/plain": [
       "180"
      ]
     },
     "execution_count": 6,
     "metadata": {},
     "output_type": "execute_result"
    }
   ],
   "source": [
    "12 * 15"
   ]
  },
  {
   "cell_type": "code",
   "execution_count": 5,
   "id": "20b627da",
   "metadata": {},
   "outputs": [
    {
     "name": "stdout",
     "output_type": "stream",
     "text": [
      "1 : 1\n",
      "2 : 2\n",
      "3 : 6\n",
      "4 : 24\n",
      "5 : 120\n",
      "6 : 720\n",
      "7 : 5040\n",
      "8 : 40320\n",
      "9 : 362880\n",
      "10 : 3628800\n",
      "11 : 39916800\n",
      "12 : 479001600\n",
      "13 : 6227020800\n",
      "14 : 87178291200\n",
      "15 : 1307674368000\n",
      "16 : 20922789888000\n",
      "17 : 355687428096000\n",
      "18 : 6402373705728000\n",
      "19 : 121645100408832000\n",
      "20 : 2432902008176640000\n",
      "21 : 51090942171709440000\n",
      "22 : 1124000727777607680000\n",
      "23 : 25852016738884976640000\n",
      "24 : 620448401733239439360000\n",
      "25 : 15511210043330985984000000\n"
     ]
    }
   ],
   "source": [
    "for i in range(1, 26):\n",
    "    print(i, \":\",math.factorial(i))"
   ]
  },
  {
   "cell_type": "code",
   "execution_count": 17,
   "id": "b501f6c7",
   "metadata": {},
   "outputs": [
    {
     "data": {
      "text/plain": [
       "13680"
      ]
     },
     "execution_count": 17,
     "metadata": {},
     "output_type": "execute_result"
    }
   ],
   "source": [
    "912 * 15"
   ]
  },
  {
   "cell_type": "code",
   "execution_count": 16,
   "id": "49002fde",
   "metadata": {},
   "outputs": [
    {
     "data": {
      "text/plain": [
       "23400"
      ]
     },
     "execution_count": 16,
     "metadata": {},
     "output_type": "execute_result"
    }
   ],
   "source": [
    "936 *25"
   ]
  },
  {
   "cell_type": "code",
   "execution_count": 28,
   "id": "bcbc3ce7",
   "metadata": {},
   "outputs": [
    {
     "name": "stdout",
     "output_type": "stream",
     "text": [
      "126\n",
      "0 : 0 1\n",
      "1 : 0 1\n",
      "2 : 0 2\n",
      "3 : 0 6\n",
      "4 : 0 4\n",
      "5 : 1 2\n",
      "6 : 1 2\n",
      "7 : 1 4\n",
      "8 : 1 2\n",
      "9 : 1 8\n",
      "10 : 2 8\n",
      "11 : 2 8\n",
      "12 : 2 6\n",
      "13 : 2 8\n",
      "14 : 2 2\n",
      "15 : 3 3\n",
      "16 : 3 8\n",
      "17 : 3 6\n",
      "18 : 3 8\n",
      "19 : 3 2\n",
      "20 : 4 4\n",
      "21 : 4 4\n",
      "22 : 4 8\n",
      "23 : 4 4\n",
      "24 : 4 6\n",
      "25 : 5 5\n",
      "26 : 6 3\n",
      "27 : 6 1\n",
      "28 : 6 8\n",
      "29 : 6 2\n",
      "30 : 7 6\n",
      "31 : 7 6\n",
      "32 : 7 2\n",
      "33 : 7 6\n",
      "34 : 7 4\n",
      "35 : 8 4\n",
      "36 : 8 4\n",
      "37 : 8 8\n",
      "38 : 8 4\n",
      "39 : 8 6\n",
      "40 : 9 4\n",
      "41 : 9 4\n",
      "42 : 9 8\n",
      "43 : 9 4\n",
      "44 : 9 6\n",
      "45 : 10 7\n",
      "46 : 10 2\n",
      "47 : 10 4\n",
      "48 : 10 2\n",
      "49 : 10 8\n",
      "50 : 12 4\n",
      "51 : 12 4\n",
      "52 : 12 8\n",
      "53 : 12 4\n",
      "54 : 12 6\n",
      "55 : 13 3\n",
      "56 : 13 8\n",
      "57 : 13 6\n",
      "58 : 13 8\n",
      "59 : 13 2\n",
      "60 : 14 2\n",
      "61 : 14 2\n",
      "62 : 14 4\n",
      "63 : 14 2\n",
      "64 : 14 8\n",
      "65 : 15 2\n",
      "66 : 15 2\n",
      "67 : 15 4\n",
      "68 : 15 2\n",
      "69 : 15 8\n",
      "70 : 16 6\n",
      "71 : 16 6\n",
      "72 : 16 2\n",
      "73 : 16 6\n",
      "74 : 16 4\n",
      "75 : 18 3\n",
      "76 : 18 8\n",
      "77 : 18 6\n",
      "78 : 18 8\n",
      "79 : 18 2\n",
      "80 : 19 6\n",
      "81 : 19 6\n",
      "82 : 19 2\n",
      "83 : 19 6\n",
      "84 : 19 4\n",
      "85 : 20 4\n",
      "86 : 20 4\n",
      "87 : 20 8\n",
      "88 : 20 4\n",
      "89 : 20 6\n",
      "90 : 21 4\n",
      "91 : 21 4\n",
      "92 : 21 8\n",
      "93 : 21 4\n",
      "94 : 21 6\n",
      "95 : 22 7\n",
      "96 : 22 2\n",
      "97 : 22 4\n",
      "98 : 22 2\n",
      "99 : 22 8\n",
      "100 : 24 8\n",
      "101 : 24 8\n",
      "102 : 24 6\n",
      "103 : 24 8\n",
      "104 : 24 2\n",
      "105 : 25 1\n",
      "106 : 25 6\n",
      "107 : 25 2\n",
      "108 : 25 6\n",
      "109 : 25 4\n",
      "110 : 26 4\n",
      "111 : 26 4\n",
      "112 : 26 8\n",
      "113 : 26 4\n",
      "114 : 26 6\n",
      "115 : 27 9\n",
      "116 : 27 4\n",
      "117 : 27 8\n",
      "118 : 27 4\n",
      "119 : 27 6\n",
      "120 : 28 2\n",
      "121 : 28 2\n",
      "122 : 28 4\n",
      "123 : 28 2\n",
      "124 : 28 8\n",
      "125 : 31 1\n",
      "126 : 31 6\n"
     ]
    }
   ],
   "source": [
    "n = int(input())\n",
    "\n",
    "zero_counts = [0]\n",
    "first_nonzeros = [1]\n",
    "\n",
    "for i in range(1, n+1):\n",
    "    result = str(first_nonzeros[i-1] * i)\n",
    "    count = 0\n",
    "    for j in range(len(result)-1, -1, -1):\n",
    "        if result[j] != \"0\":\n",
    "            zero_counts.append(zero_counts[i-1] + count)\n",
    "            first_nonzeros.append(int(result[j]))\n",
    "            break\n",
    "        else:\n",
    "            count +=1\n",
    "for i in range(n+1):            \n",
    "    print(i, \":\", zero_counts[i], first_nonzeros[i])   "
   ]
  },
  {
   "cell_type": "code",
   "execution_count": 31,
   "id": "e2943a7b",
   "metadata": {},
   "outputs": [
    {
     "data": {
      "text/plain": [
       "620448401733239439360000"
      ]
     },
     "execution_count": 31,
     "metadata": {},
     "output_type": "execute_result"
    }
   ],
   "source": [
    "math.factorial(24)"
   ]
  },
  {
   "cell_type": "code",
   "execution_count": 32,
   "id": "de55f56f",
   "metadata": {},
   "outputs": [
    {
     "data": {
      "text/plain": [
       "15511210043330985984000000"
      ]
     },
     "execution_count": 32,
     "metadata": {},
     "output_type": "execute_result"
    }
   ],
   "source": [
    "620448401733239439360000 * 25"
   ]
  },
  {
   "cell_type": "code",
   "execution_count": 34,
   "id": "fe673e6c",
   "metadata": {},
   "outputs": [
    {
     "data": {
      "text/plain": [
       "1500000"
      ]
     },
     "execution_count": 34,
     "metadata": {},
     "output_type": "execute_result"
    }
   ],
   "source": [
    "25*60000"
   ]
  },
  {
   "cell_type": "markdown",
   "id": "172e74b5",
   "metadata": {},
   "source": [
    "# 답안 작성 후 생각"
   ]
  },
  {
   "cell_type": "code",
   "execution_count": null,
   "id": "c9b6cc6e",
   "metadata": {},
   "outputs": [],
   "source": [
    "백준 사이트에서 채점 시 약 40%에서 오답이 나온다.\n",
    "\n",
    "자체 디버깅 결과 25 입력 시 25!의 값이 15511210043330985984000000이기 때문에 6이 출력으로 나와야하는데, 5가 나온다.\n",
    "\n",
    "24!에서 최초 0이 아닌 값인 6에서 25을 곱하면 150이 나오는데, 25!의 마지막은 정작 4000000이다.\n",
    "\n",
    "내일 다시 풀어보자."
   ]
  },
  {
   "cell_type": "markdown",
   "id": "02bad3fe",
   "metadata": {},
   "source": [
    "# 내 답안(2)"
   ]
  },
  {
   "cell_type": "code",
   "execution_count": 1,
   "id": "076c160e",
   "metadata": {},
   "outputs": [
    {
     "data": {
      "text/plain": [
       "1500000"
      ]
     },
     "execution_count": 1,
     "metadata": {},
     "output_type": "execute_result"
    }
   ],
   "source": [
    "반복하는 수 i와 이전의 처음 0이 아닌 수를 곱하는 것이 아니라, 반복하는 수 i와 i의 자리수보다 한자리 많은 만큼 잘라와서 곱한다.\n",
    "\n",
    "i가 최대 500이므로 최대 4자리를 불러오도록 하면 편하다.\n",
    "\n",
    "즉, 이전 수의 팩토리얼 값의 마지막 글자(최대 4글자)를 저장하는 lastnums 리스트를 선언하여 사용한다."
   ]
  },
  {
   "cell_type": "code",
   "execution_count": 28,
   "id": "61740625",
   "metadata": {
    "collapsed": true
   },
   "outputs": [
    {
     "name": "stdout",
     "output_type": "stream",
     "text": [
      "126\n",
      "0 : 0 1\n",
      "1 : 0 1\n",
      "2 : 0 2\n",
      "3 : 0 6\n",
      "4 : 0 4\n",
      "5 : 1 2\n",
      "6 : 1 2\n",
      "7 : 1 4\n",
      "8 : 1 2\n",
      "9 : 1 8\n",
      "10 : 2 8\n",
      "11 : 2 8\n",
      "12 : 2 6\n",
      "13 : 2 8\n",
      "14 : 2 2\n",
      "15 : 3 3\n",
      "16 : 3 8\n",
      "17 : 3 6\n",
      "18 : 3 8\n",
      "19 : 3 2\n",
      "20 : 4 4\n",
      "21 : 4 4\n",
      "22 : 4 8\n",
      "23 : 4 4\n",
      "24 : 4 6\n",
      "25 : 5 5\n",
      "26 : 6 3\n",
      "27 : 6 1\n",
      "28 : 6 8\n",
      "29 : 6 2\n",
      "30 : 7 6\n",
      "31 : 7 6\n",
      "32 : 7 2\n",
      "33 : 7 6\n",
      "34 : 7 4\n",
      "35 : 8 4\n",
      "36 : 8 4\n",
      "37 : 8 8\n",
      "38 : 8 4\n",
      "39 : 8 6\n",
      "40 : 9 4\n",
      "41 : 9 4\n",
      "42 : 9 8\n",
      "43 : 9 4\n",
      "44 : 9 6\n",
      "45 : 10 7\n",
      "46 : 10 2\n",
      "47 : 10 4\n",
      "48 : 10 2\n",
      "49 : 10 8\n",
      "50 : 12 4\n",
      "51 : 12 4\n",
      "52 : 12 8\n",
      "53 : 12 4\n",
      "54 : 12 6\n",
      "55 : 13 3\n",
      "56 : 13 8\n",
      "57 : 13 6\n",
      "58 : 13 8\n",
      "59 : 13 2\n",
      "60 : 14 2\n",
      "61 : 14 2\n",
      "62 : 14 4\n",
      "63 : 14 2\n",
      "64 : 14 8\n",
      "65 : 15 2\n",
      "66 : 15 2\n",
      "67 : 15 4\n",
      "68 : 15 2\n",
      "69 : 15 8\n",
      "70 : 16 6\n",
      "71 : 16 6\n",
      "72 : 16 2\n",
      "73 : 16 6\n",
      "74 : 16 4\n",
      "75 : 18 3\n",
      "76 : 18 8\n",
      "77 : 18 6\n",
      "78 : 18 8\n",
      "79 : 18 2\n",
      "80 : 19 6\n",
      "81 : 19 6\n",
      "82 : 19 2\n",
      "83 : 19 6\n",
      "84 : 19 4\n",
      "85 : 20 4\n",
      "86 : 20 4\n",
      "87 : 20 8\n",
      "88 : 20 4\n",
      "89 : 20 6\n",
      "90 : 21 4\n",
      "91 : 21 4\n",
      "92 : 21 8\n",
      "93 : 21 4\n",
      "94 : 21 6\n",
      "95 : 22 7\n",
      "96 : 22 2\n",
      "97 : 22 4\n",
      "98 : 22 2\n",
      "99 : 22 8\n",
      "100 : 24 8\n",
      "101 : 24 8\n",
      "102 : 24 6\n",
      "103 : 24 8\n",
      "104 : 24 2\n",
      "105 : 25 1\n",
      "106 : 25 6\n",
      "107 : 25 2\n",
      "108 : 25 6\n",
      "109 : 25 4\n",
      "110 : 26 4\n",
      "111 : 26 4\n",
      "112 : 26 8\n",
      "113 : 26 4\n",
      "114 : 26 6\n",
      "115 : 27 9\n",
      "116 : 27 4\n",
      "117 : 27 8\n",
      "118 : 27 4\n",
      "119 : 27 6\n",
      "120 : 28 2\n",
      "121 : 28 2\n",
      "122 : 28 4\n",
      "123 : 28 2\n",
      "124 : 28 8\n",
      "125 : 31 1\n",
      "126 : 31 6\n"
     ]
    }
   ],
   "source": [
    "n = int(input())\n",
    "\n",
    "zero_counts = [0]\n",
    "first_nonzeros = [1]\n",
    "\n",
    "for i in range(1, n+1):\n",
    "    result = str(first_nonzeros[i-1] * i)\n",
    "    count = 0\n",
    "    for j in range(len(result)-1, -1, -1):\n",
    "        if result[j] != \"0\":\n",
    "            zero_counts.append(zero_counts[i-1] + count)\n",
    "            first_nonzeros.append(int(result[j]))\n",
    "            break\n",
    "        else:\n",
    "            count +=1\n",
    "for i in range(n+1):            \n",
    "    print(i, \":\", zero_counts[i], first_nonzeros[i])   "
   ]
  },
  {
   "cell_type": "code",
   "execution_count": 21,
   "id": "30ff5745",
   "metadata": {},
   "outputs": [
    {
     "name": "stdout",
     "output_type": "stream",
     "text": [
      "500\n",
      "124\n"
     ]
    }
   ],
   "source": [
    "n = int(input())\n",
    "\n",
    "zero_counts = [0]\n",
    "lastnums = [1]\n",
    "\n",
    "for i in range(1, n+1):\n",
    "    result = str(lastnums[i-1] * i)\n",
    "    count = 0\n",
    "    for j in range(len(result)-1, -1, -1):\n",
    "        if result[j] != \"0\":\n",
    "            zero_counts.append(zero_counts[i-1] + count)\n",
    "            lastnums.append(int(result[max(0,j-4):j+1]))\n",
    "            break\n",
    "        else:\n",
    "            count +=1\n",
    "print(zero_counts[n])"
   ]
  },
  {
   "cell_type": "markdown",
   "id": "106fda74",
   "metadata": {},
   "source": [
    "# lion1735님의 풀이(https://www.acmicpc.net/source/40170363)"
   ]
  },
  {
   "cell_type": "code",
   "execution_count": null,
   "id": "f10e35f0",
   "metadata": {},
   "outputs": [],
   "source": [
    "n = int(input())\n",
    "print(n//5 + n//25 + n//125)"
   ]
  },
  {
   "cell_type": "markdown",
   "id": "04bc3c50",
   "metadata": {},
   "source": [
    "# 정답 확인 후 생각"
   ]
  },
  {
   "cell_type": "code",
   "execution_count": null,
   "id": "47c1d2dc",
   "metadata": {},
   "outputs": [],
   "source": [
    "\"\"\"\"\"\"\"\"\"\"\n",
    "나는 자체 디버깅하며 패턴을 파악해 문제를 맞혔는데, lion1735님과 같은 풀이는 문제의 원리를 이해하고 푼 느낌이다.\n",
    "\n",
    "다른 블로그 글들도 참고한 결과, 새로운 숫자를 곱해서(팩토리얼이므로) 뒤자리 0을 만드려면 곱해서 10이 나와야 하므로 2와 5가 필요하다.\n",
    "\n",
    "그중 2의 배수는 많으므로 결국 5가 총 몇 번 곱해지는지가 핵심이다.\n",
    "\n",
    "예를 들어 5!는 5가 한 번, 10!는 5가 두 번 나온다.\n",
    "\n",
    "또한 5를 2번, 3번 곱한 25나 125보다 큰 수의 경우에는 추가적으로 5가 더 등장하므로 카운팅해준다.\n",
    "\"\"\"\"\"\"\"\"\"\""
   ]
  }
 ],
 "metadata": {
  "kernelspec": {
   "display_name": "Python 3 (ipykernel)",
   "language": "python",
   "name": "python3"
  },
  "language_info": {
   "codemirror_mode": {
    "name": "ipython",
    "version": 3
   },
   "file_extension": ".py",
   "mimetype": "text/x-python",
   "name": "python",
   "nbconvert_exporter": "python",
   "pygments_lexer": "ipython3",
   "version": "3.7.13"
  }
 },
 "nbformat": 4,
 "nbformat_minor": 5
}
