{
 "cells": [
  {
   "cell_type": "markdown",
   "id": "df61a85c",
   "metadata": {},
   "source": [
    "# 코딩 전 생각"
   ]
  },
  {
   "cell_type": "code",
   "execution_count": null,
   "id": "8aac58f8",
   "metadata": {},
   "outputs": [],
   "source": [
    "\"\"\"\"\"\"\"\"\"\"\"\n",
    "0층부터 k층까지 반복하여: 1호부터 n호까지 반복하여: 이전 층의 거주자 수를 pre 리스트에 저장하고 구간합을 매번 계산한다.\n",
    "\"\"\"\"\"\"\"\"\"\"\""
   ]
  },
  {
   "cell_type": "markdown",
   "id": "b22b8abf",
   "metadata": {},
   "source": [
    "# 내 답안"
   ]
  },
  {
   "cell_type": "code",
   "execution_count": 4,
   "id": "bf5d1005",
   "metadata": {},
   "outputs": [
    {
     "name": "stdout",
     "output_type": "stream",
     "text": [
      "1\n",
      "1\n",
      "1\n",
      "1\n"
     ]
    }
   ],
   "source": [
    "for t in range(int(input())):\n",
    "    k = int(input())\n",
    "    n = int(input())\n",
    "    pre = [i for i in range(n+1)] # 0 1 2 3\n",
    "    for i in range(k):\n",
    "        new = [sum(pre[:j]) for j in range(1, n+2)] # 0 1 3 6\n",
    "        pre = new\n",
    "    print(pre[n])        "
   ]
  },
  {
   "cell_type": "markdown",
   "id": "56337a75",
   "metadata": {},
   "source": [
    "# sinsung6722님의 답안"
   ]
  },
  {
   "cell_type": "code",
   "execution_count": null,
   "id": "04f50226",
   "metadata": {},
   "outputs": [],
   "source": [
    "import sys\n",
    "input = sys.stdin.readline\n",
    "\n",
    "MAX_FLOOR = 14\n",
    "MAX_DOOR = 14\n",
    "HOST_INFO = [[0] * MAX_DOOR for _ in range(MAX_FLOOR+1)]\n",
    "HOST_INFO[0] = list(range(1, MAX_DOOR+1))\n",
    "\n",
    "for floor in range(1, MAX_FLOOR+1) :\n",
    "  HOST_INFO[floor][0] = HOST_INFO[floor-1][0]\n",
    "  for door in range(1, MAX_DOOR) :\n",
    "    HOST_INFO[floor][door] = HOST_INFO[floor][door-1] + HOST_INFO[floor-1][door] \n",
    "\n",
    "for _ in range(int(input())) :\n",
    "  print(HOST_INFO[int(input())][int(input())-1])"
   ]
  },
  {
   "cell_type": "markdown",
   "id": "9aa7ce42",
   "metadata": {},
   "source": [
    "# 정답 확인 후 생각"
   ]
  },
  {
   "cell_type": "code",
   "execution_count": null,
   "id": "7e779598",
   "metadata": {},
   "outputs": [],
   "source": [
    "\"\"\"\"\"\"\"\"\"\"\"\n",
    "매번 새로운 값을 구할 때 전 호수까지의 총합 + 이번 호수의 수로 구해 조금 더 효율적인 코드다.\n",
    "\"\"\"\"\"\"\"\"\"\"\""
   ]
  }
 ],
 "metadata": {
  "kernelspec": {
   "display_name": "Python 3 (ipykernel)",
   "language": "python",
   "name": "python3"
  },
  "language_info": {
   "codemirror_mode": {
    "name": "ipython",
    "version": 3
   },
   "file_extension": ".py",
   "mimetype": "text/x-python",
   "name": "python",
   "nbconvert_exporter": "python",
   "pygments_lexer": "ipython3",
   "version": "3.7.13"
  }
 },
 "nbformat": 4,
 "nbformat_minor": 5
}
