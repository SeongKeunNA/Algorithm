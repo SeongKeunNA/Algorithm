{
 "cells": [
  {
   "cell_type": "markdown",
   "id": "d6d38e80",
   "metadata": {},
   "source": [
    "# 풀이 전 생각"
   ]
  },
  {
   "cell_type": "code",
   "execution_count": null,
   "id": "6e1bba51",
   "metadata": {},
   "outputs": [],
   "source": [
    "\"\"\"\n",
    "i번째부터 j번째 까지의 합은, 각 인덱스까지의 누적합을 담는 리스트에서 j번째 값 - i-1번째 값이다.\n",
    "\"\"\""
   ]
  },
  {
   "cell_type": "markdown",
   "id": "9d6abcf6",
   "metadata": {},
   "source": [
    "# 내 답안"
   ]
  },
  {
   "cell_type": "code",
   "execution_count": 4,
   "id": "95985af6",
   "metadata": {},
   "outputs": [
    {
     "name": "stdout",
     "output_type": "stream",
     "text": [
      "5 3\n",
      "5 4 3 2 1\n",
      "1 3\n",
      "12\n",
      "2 4\n",
      "9\n",
      "5 5\n",
      "1\n"
     ]
    }
   ],
   "source": [
    "from sys import stdin, stdout\n",
    "input = stdin.readline\n",
    "n, m = map(int, input().split())\n",
    "ls = list(map(int, input().split()))\n",
    "accum_ls = [0]\n",
    "accum = 0\n",
    "for i in ls:\n",
    "    accum_ls.append(accum+i)\n",
    "    accum += i\n",
    "for _ in range(m):\n",
    "    a, b = map(int, input().split())\n",
    "    stdout.write(str(accum_ls[b] - accum_ls[a-1]) + \"\\n\")"
   ]
  }
 ],
 "metadata": {
  "kernelspec": {
   "display_name": "Python 3 (ipykernel)",
   "language": "python",
   "name": "python3"
  },
  "language_info": {
   "codemirror_mode": {
    "name": "ipython",
    "version": 3
   },
   "file_extension": ".py",
   "mimetype": "text/x-python",
   "name": "python",
   "nbconvert_exporter": "python",
   "pygments_lexer": "ipython3",
   "version": "3.7.13"
  }
 },
 "nbformat": 4,
 "nbformat_minor": 5
}
