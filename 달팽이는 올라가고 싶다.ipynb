{
 "cells": [
  {
   "cell_type": "markdown",
   "id": "61f5d89d",
   "metadata": {},
   "source": [
    "# 코딩 전 생각"
   ]
  },
  {
   "cell_type": "code",
   "execution_count": null,
   "id": "a9e9ecf8",
   "metadata": {},
   "outputs": [],
   "source": [
    "\"\"\"\"\"\"\"\"\"\"\"\n",
    "1. 만약 a가 V와 같다면 1을 출력한다. \n",
    "\n",
    "2. 그렇지 않다면 v를 a-b로 나눈다. 이때 몫과 나머지를 q, r이라한다.\n",
    "\n",
    "3. 만약 r이 0이면 q - a + 1을 출력한다.\n",
    "\n",
    "4. 그렇지 않다면 q + 1을 출력한다.\n",
    "\"\"\"\"\"\"\"\"\"\"\""
   ]
  },
  {
   "cell_type": "markdown",
   "id": "e957ad3e",
   "metadata": {},
   "source": [
    "# 내 답안"
   ]
  },
  {
   "cell_type": "code",
   "execution_count": 33,
   "id": "d0f9e5b7",
   "metadata": {},
   "outputs": [
    {
     "name": "stdout",
     "output_type": "stream",
     "text": [
      "100 99 1000000000\n",
      "999999901\n"
     ]
    }
   ],
   "source": [
    "a, b, v = map(int, input().split())\n",
    "if a == v:\n",
    "    print(1)\n",
    "else:\n",
    "    print(((v - a) // (a - b)) + ((v - a) % (a - b) > 0) + 1)"
   ]
  },
  {
   "cell_type": "markdown",
   "id": "13b6cc1c",
   "metadata": {},
   "source": [
    "# 답안 작성 후 생각"
   ]
  },
  {
   "cell_type": "code",
   "execution_count": null,
   "id": "ce0ad010",
   "metadata": {},
   "outputs": [],
   "source": [
    "\"\"\"\"\"\"\"\"\"\"\n",
    "문제에서 주어진 숫자끼리의 나눗셈에만 집중하느라 본질을 놓쳐 오래 걸렸다.\n",
    "\n",
    "v-a까지 몇 번만에 도달하는지만 알면 그 다음날 a를 오른다.\n",
    "\"\"\"\"\"\"\"\"\"\""
   ]
  }
 ],
 "metadata": {
  "kernelspec": {
   "display_name": "Python 3 (ipykernel)",
   "language": "python",
   "name": "python3"
  },
  "language_info": {
   "codemirror_mode": {
    "name": "ipython",
    "version": 3
   },
   "file_extension": ".py",
   "mimetype": "text/x-python",
   "name": "python",
   "nbconvert_exporter": "python",
   "pygments_lexer": "ipython3",
   "version": "3.7.13"
  }
 },
 "nbformat": 4,
 "nbformat_minor": 5
}
