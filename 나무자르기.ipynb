{
 "cells": [
  {
   "cell_type": "markdown",
   "id": "e5958d13",
   "metadata": {},
   "source": [
    "# 코딩 전 생각"
   ]
  },
  {
   "cell_type": "code",
   "execution_count": null,
   "id": "534c7a9d",
   "metadata": {},
   "outputs": [],
   "source": [
    "\"\"\"\"\"\"\"\"\"\"\n",
    "h를 1부터 나무 길이의 최대값 사이에서 이진탐색하여 h길이로 잘랐을 때\n",
    "\n",
    "1) 가져가는 나무의 길이 총합이 m보다 크거나 같다면 : h를 더 늘린다\n",
    "\n",
    "2) 그렇지 않다면 : h를 줄인다\n",
    "\"\"\"\"\"\"\"\"\"\""
   ]
  },
  {
   "cell_type": "markdown",
   "id": "f819ea63",
   "metadata": {},
   "source": [
    "# 내 답안"
   ]
  },
  {
   "cell_type": "code",
   "execution_count": 2,
   "id": "aa1da83d",
   "metadata": {},
   "outputs": [
    {
     "name": "stdout",
     "output_type": "stream",
     "text": [
      "4 7\n",
      "20 15 10 17\n",
      "15\n"
     ]
    }
   ],
   "source": [
    "from sys import stdin\n",
    "input = stdin.readline\n",
    "n, m = map(int, input().split())\n",
    "trees = list(map(int, input().split()))\n",
    "start, end = 1, max(trees)\n",
    "answer = 0\n",
    "while start <= end:\n",
    "    wood = 0\n",
    "    h = (start + end) // 2\n",
    "    for tree in trees:\n",
    "        if tree > h: wood += tree - h\n",
    "    if wood >= m:\n",
    "        answer = h\n",
    "        start = h + 1\n",
    "    else:\n",
    "        end = h - 1\n",
    "print(answer)"
   ]
  }
 ],
 "metadata": {
  "kernelspec": {
   "display_name": "Python 3 (ipykernel)",
   "language": "python",
   "name": "python3"
  },
  "language_info": {
   "codemirror_mode": {
    "name": "ipython",
    "version": 3
   },
   "file_extension": ".py",
   "mimetype": "text/x-python",
   "name": "python",
   "nbconvert_exporter": "python",
   "pygments_lexer": "ipython3",
   "version": "3.7.13"
  }
 },
 "nbformat": 4,
 "nbformat_minor": 5
}
