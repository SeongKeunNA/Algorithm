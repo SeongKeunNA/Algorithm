{
 "cells": [
  {
   "cell_type": "markdown",
   "id": "b9bc7937",
   "metadata": {},
   "source": [
    "# 코딩 전 생각"
   ]
  },
  {
   "cell_type": "code",
   "execution_count": null,
   "id": "3058d495",
   "metadata": {},
   "outputs": [],
   "source": [
    "\"\"\"\"\"\"\"\"\"\"\n",
    "벌집이 안의 방을 둘러싸는 형식으로 방이 증가하므로 주어진 숫자가 몇 번째 겹인지 알아내면 된다.\n",
    "\n",
    "n번째 겹의 방의 수를 an이라할 때,\n",
    "\n",
    "a1 = 1 (1)\n",
    "a2  = 6 (2~7)\n",
    "a3 = 12 (8~13)\n",
    "a4 = 18 (14~19)\n",
    "a5 = 24 (20 ~)\n",
    "...\n",
    "이므로 an = 6 * (n-1) (n >= 2)이다.\n",
    "\n",
    "an까지의 방의 수를 sn이라 하면, s1 = a1, s2 = s1 + a2,... sn = sn-1 + an이다.\n",
    "\n",
    "while문으로 루프를 돌면서 i번째 방까지의 합보다 n이 크다면 i를 증가시키고, 그렇지 않다면 i를 출력한다.\n",
    "\"\"\"\"\"\"\"\"\"\""
   ]
  },
  {
   "cell_type": "markdown",
   "id": "6748b7d0",
   "metadata": {},
   "source": [
    "# 내 답안"
   ]
  },
  {
   "cell_type": "code",
   "execution_count": 5,
   "id": "bcbad933",
   "metadata": {},
   "outputs": [
    {
     "name": "stdout",
     "output_type": "stream",
     "text": [
      "58\n",
      "5\n"
     ]
    }
   ],
   "source": [
    "n = int(input())\n",
    "pre = 1\n",
    "i = 1\n",
    "while True:\n",
    "    sum_value = pre + (6 * (i - 1))\n",
    "    if n <= sum_value:\n",
    "        print(i)\n",
    "        break\n",
    "    pre = sum_value\n",
    "    i += 1   "
   ]
  }
 ],
 "metadata": {
  "kernelspec": {
   "display_name": "Python 3 (ipykernel)",
   "language": "python",
   "name": "python3"
  },
  "language_info": {
   "codemirror_mode": {
    "name": "ipython",
    "version": 3
   },
   "file_extension": ".py",
   "mimetype": "text/x-python",
   "name": "python",
   "nbconvert_exporter": "python",
   "pygments_lexer": "ipython3",
   "version": "3.7.13"
  }
 },
 "nbformat": 4,
 "nbformat_minor": 5
}
