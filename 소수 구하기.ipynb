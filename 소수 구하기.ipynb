{
 "cells": [
  {
   "cell_type": "markdown",
   "id": "2544161b",
   "metadata": {},
   "source": [
    "# 코딩 전 생각"
   ]
  },
  {
   "cell_type": "code",
   "execution_count": null,
   "id": "505647ae",
   "metadata": {},
   "outputs": [],
   "source": [
    "\"\"\"\"\"\"\"\"\"\"\n",
    "n까지의 모든 소수를 구한뒤 m부터 출력한다.\n",
    "\"\"\"\"\"\"\"\"\"\""
   ]
  },
  {
   "cell_type": "markdown",
   "id": "fbb88bb8",
   "metadata": {},
   "source": [
    "# 내 답안"
   ]
  },
  {
   "cell_type": "code",
   "execution_count": 4,
   "id": "15a20db8",
   "metadata": {},
   "outputs": [
    {
     "name": "stdout",
     "output_type": "stream",
     "text": [
      "3 16\n",
      "[3, 5, 7, 11, 13]\n"
     ]
    }
   ],
   "source": [
    "# from sys import stdout\n",
    "m, n = map(int, input().split())\n",
    "ck = [1] * (n + 1)\n",
    "for i in range(2, int(n**(1/2)) + 1):\n",
    "    if ck[i] == 1:\n",
    "        j = 2\n",
    "        while i * j <= n:\n",
    "            ck[i*j] = 0\n",
    "            j += 1\n",
    "answer = [i for i in range(max(2, m), n+1) if ck[i]]\n",
    "print(answer)\n",
    "# stdout.write('\\n'.join(map(str, answer)))    "
   ]
  }
 ],
 "metadata": {
  "kernelspec": {
   "display_name": "Python 3 (ipykernel)",
   "language": "python",
   "name": "python3"
  },
  "language_info": {
   "codemirror_mode": {
    "name": "ipython",
    "version": 3
   },
   "file_extension": ".py",
   "mimetype": "text/x-python",
   "name": "python",
   "nbconvert_exporter": "python",
   "pygments_lexer": "ipython3",
   "version": "3.7.13"
  }
 },
 "nbformat": 4,
 "nbformat_minor": 5
}
