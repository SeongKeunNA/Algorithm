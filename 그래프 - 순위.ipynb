{
 "cells": [
  {
   "cell_type": "markdown",
   "id": "99b39ac5",
   "metadata": {},
   "source": [
    "# 코딩 전 생각"
   ]
  },
  {
   "cell_type": "code",
   "execution_count": null,
   "id": "aa9f1758",
   "metadata": {},
   "outputs": [],
   "source": [
    "\"\"\"\"\"\"\"\"\"\"\n",
    "1. results의 각 정보를 바탕으로 그래프를 업데이트한다.\n",
    "\n",
    "2. 플로이드 워셜 알고리즘을 활용해 i번 선수가 j번 선수로 가는 최단 경로의 길이를 구한다.\n",
    "(a에서 b로의 연결은 a가 b보다 높은 순위라는 의미)\n",
    "\n",
    "3. i로 향하는, 또는 i로부터 나가는 최단 경로의 길이 중 INF가 아닌(경로가 존재하는) 경로가 총 n개라면 answer에 1을 더한다.\n",
    "\"\"\"\"\"\"\"\"\"\""
   ]
  },
  {
   "cell_type": "markdown",
   "id": "f96d79c3",
   "metadata": {},
   "source": [
    "# 내 답안"
   ]
  },
  {
   "cell_type": "code",
   "execution_count": null,
   "id": "48d7796b",
   "metadata": {},
   "outputs": [],
   "source": [
    "def solution(n, results):\n",
    "    answer = 0\n",
    "    INF = int(1e9)\n",
    "    dist = [[INF] * n for _ in range(n)]\n",
    "    for a, b in results:\n",
    "        dist[a-1][b-1] = 1\n",
    "    \n",
    "    for i in range(n):\n",
    "        dist[i][i] = 0\n",
    "        \n",
    "    for k in range(n):\n",
    "        for x in range(n):\n",
    "            for y in range(n):\n",
    "                dist[x][y] = min(dist[x][y], dist[x][k] + dist[k][y])\n",
    "        \n",
    "    for i in range(n):\n",
    "        count = 0\n",
    "        for j in range(n):\n",
    "            if dist[i][j] < INF or dist[j][i] < INF:\n",
    "                count += 1\n",
    "        if count == n:\n",
    "            answer += 1\n",
    "\n",
    "    return answer"
   ]
  },
  {
   "cell_type": "markdown",
   "id": "0b5d2e2e",
   "metadata": {},
   "source": [
    "# - , 박재민 , - , 서혁규 , Seo Tae-won 외 2 명의 답안"
   ]
  },
  {
   "cell_type": "code",
   "execution_count": null,
   "id": "aa104520",
   "metadata": {},
   "outputs": [],
   "source": [
    "from collections import defaultdict\n",
    "def solution(n, results):\n",
    "    answer = 0\n",
    "    win, lose = defaultdict(set), defaultdict(set)\n",
    "    for result in results:\n",
    "            lose[result[1]].add(result[0])\n",
    "            win[result[0]].add(result[1])\n",
    "\n",
    "    for i in range(1, n + 1):\n",
    "        for winner in lose[i]: win[winner].update(win[i])\n",
    "        for loser in win[i]: lose[loser].update(lose[i])\n",
    "\n",
    "    for i in range(1, n+1):\n",
    "        if len(win[i]) + len(lose[i]) == n - 1: answer += 1\n",
    "    return answer"
   ]
  },
  {
   "cell_type": "markdown",
   "id": "26677125",
   "metadata": {},
   "source": [
    "# shinhyogeun의 답안"
   ]
  },
  {
   "cell_type": "code",
   "execution_count": null,
   "id": "e188dd57",
   "metadata": {},
   "outputs": [],
   "source": [
    "def solution(n, results):\n",
    "    total = [['?' for i in range(n)] for j in range(n)]\n",
    "\n",
    "    for i in range(n):\n",
    "        total[i][i] = 'SELF'\n",
    "\n",
    "    for result in results:\n",
    "        total[result[0]-1][result[1]-1] = 'WIN'\n",
    "        total[result[1]-1][result[0]-1] = 'LOSE'\n",
    "\n",
    "    for k in range(n):\n",
    "        for i in range(n):\n",
    "            for j in range(n):\n",
    "                if total[i][k] == 'WIN' and total[k][j] == 'WIN':\n",
    "                    total[i][j] = 'WIN'\n",
    "                elif total[i][k] == 'LOSE' and total[k][j] == 'LOSE':\n",
    "                    total[i][j] = 'LOSE'\n",
    "\n",
    "    answer = 0\n",
    "\n",
    "    for i in total:\n",
    "        if '?' not in i:\n",
    "            answer += 1\n",
    "\n",
    "    return answer"
   ]
  },
  {
   "cell_type": "markdown",
   "id": "d2d10c5f",
   "metadata": {},
   "source": [
    "# 정답 확인 후 생각"
   ]
  },
  {
   "cell_type": "code",
   "execution_count": null,
   "id": "254a5d9f",
   "metadata": {},
   "outputs": [],
   "source": [
    "\"\"\"\"\"\"\"\"\"\"\n",
    "집합을 이용해 내가 이긴 사람이 이기는 사람들을 다 이기고, 내가 지는 사람이 지는 사람들에게 다 지는 것을 구현할 수도 있고,\n",
    "\n",
    "플로이드 워셜 알고리즘을 문자열을 통해 보다 깔끔하게 구현할 수 도 있다.\n",
    "\"\"\"\"\"\"\"\"\"\""
   ]
  }
 ],
 "metadata": {
  "kernelspec": {
   "display_name": "Python 3 (ipykernel)",
   "language": "python",
   "name": "python3"
  },
  "language_info": {
   "codemirror_mode": {
    "name": "ipython",
    "version": 3
   },
   "file_extension": ".py",
   "mimetype": "text/x-python",
   "name": "python",
   "nbconvert_exporter": "python",
   "pygments_lexer": "ipython3",
   "version": "3.7.13"
  }
 },
 "nbformat": 4,
 "nbformat_minor": 5
}
