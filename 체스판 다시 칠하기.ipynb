{
 "cells": [
  {
   "cell_type": "markdown",
   "id": "4733b6e8",
   "metadata": {},
   "source": [
    "# 코딩 전 생각"
   ]
  },
  {
   "cell_type": "code",
   "execution_count": null,
   "id": "5b069a14",
   "metadata": {},
   "outputs": [],
   "source": [
    "\"\"\"\"\"\"\"\"\"\"\n",
    "1. nxm크기의 보드에서 시작점(최좌측최상단)의 위치를 지정해 반복한다.\n",
    "이때 n과 m의 최댓값은 각각 n-8, m-8이다.\n",
    "\n",
    "2. 잘라낸 8x8보드에서 w로 시작하는 경우와 b로 시작하는 경우에서 다시 칠해야하는 정사각형의 최소 개수를 세고 현재까지 최소값이면 갱신한다.\n",
    "이때 i+j를 2로 나눈 나머지가 0이면 w, 아니면 b인지 확인하는 식으로 테스트한다.\n",
    "\"\"\"\"\"\"\"\"\"\""
   ]
  },
  {
   "cell_type": "markdown",
   "id": "f5e02437",
   "metadata": {},
   "source": [
    "# 내 답안"
   ]
  },
  {
   "cell_type": "code",
   "execution_count": 16,
   "id": "fcd86aec",
   "metadata": {},
   "outputs": [
    {
     "name": "stdout",
     "output_type": "stream",
     "text": [
      "11 12\n",
      "BWWBWWBWWBWW\n",
      "BWWBWBBWWBWW\n",
      "WBWWBWBBWWBW\n",
      "BWWBWBBWWBWW\n",
      "WBWWBWBBWWBW\n",
      "BWWBWBBWWBWW\n",
      "WBWWBWBBWWBW\n",
      "BWWBWBWWWBWW\n",
      "WBWWBWBBWWBW\n",
      "BWWBWBBWWBWW\n",
      "WBWWBWBBWWBW\n",
      "15\n"
     ]
    }
   ],
   "source": [
    "n, m = map(int, input().split())\n",
    "board = [list(map(str, input())) for _ in range(n)]\n",
    "answer = int(1e9)\n",
    "for i in range(n-7):\n",
    "    for j in range(m-7):\n",
    "        for k in range(2):\n",
    "            count = 0\n",
    "            for a in range(i, i+8):\n",
    "                for b in range(j, j+8):\n",
    "                    if (a-i + b-j)  % 2 == 0:\n",
    "                        if k == 0:\n",
    "                            if board[a][b] == 'B':\n",
    "                                count += 1\n",
    "                        else:\n",
    "                            if board[a][b] == 'W':\n",
    "                                count += 1\n",
    "                    else:\n",
    "                        if k == 0:\n",
    "                            if board[a][b] == 'W':\n",
    "                                count += 1\n",
    "                        else:\n",
    "                            if board[a][b] == 'B':\n",
    "                                count += 1\n",
    "            answer = min(answer, count)\n",
    "print(answer)"
   ]
  },
  {
   "cell_type": "markdown",
   "id": "fbbcbb3b",
   "metadata": {},
   "source": [
    "# pianory123님의 답안"
   ]
  },
  {
   "cell_type": "code",
   "execution_count": null,
   "id": "a34d482a",
   "metadata": {},
   "outputs": [],
   "source": [
    "row, column = map(int, input().split())\n",
    "rightTemp = [\"W\", \"B\"]*4\n",
    "rightTemp2 = [\"B\", \"W\"]*4\n",
    "right = []\n",
    "for _ in range(4):\n",
    "    right.append(rightTemp)\n",
    "    right.append(rightTemp2)\n",
    "data = []\n",
    "minimum = 64\n",
    "now = 0\n",
    "for i in range(row):\n",
    "    data.append(list(input()))\n",
    "for i in range(row-7):\n",
    "    for j in range(column-7):\n",
    "        for k in range(8):\n",
    "            for l in range(8):\n",
    "                if data[k+i][l+j] != right[k][l]:\n",
    "                    now += 1\n",
    "        if now > 32:\n",
    "            now = 64 - now\n",
    "        if minimum > now:\n",
    "            minimum = now\n",
    "        now = 0\n",
    "print(minimum)"
   ]
  },
  {
   "cell_type": "markdown",
   "id": "8741949a",
   "metadata": {},
   "source": [
    "# 정답 확인 후 생각"
   ]
  },
  {
   "cell_type": "code",
   "execution_count": null,
   "id": "ca4847f8",
   "metadata": {},
   "outputs": [],
   "source": [
    "\"\"\"\"\"\"\"\"\"\"\n",
    "if now > 32:\n",
    "    now = 64 - now\n",
    "    \n",
    "을 통해 for 문 하나를 줄였다. right라는 정답 레이블을 하나 만들어서 깔끔하게 해결했다.\n",
    "\"\"\"\"\"\"\"\"\"\""
   ]
  }
 ],
 "metadata": {
  "kernelspec": {
   "display_name": "Python 3 (ipykernel)",
   "language": "python",
   "name": "python3"
  },
  "language_info": {
   "codemirror_mode": {
    "name": "ipython",
    "version": 3
   },
   "file_extension": ".py",
   "mimetype": "text/x-python",
   "name": "python",
   "nbconvert_exporter": "python",
   "pygments_lexer": "ipython3",
   "version": "3.7.13"
  }
 },
 "nbformat": 4,
 "nbformat_minor": 5
}
