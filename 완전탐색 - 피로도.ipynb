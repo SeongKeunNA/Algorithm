{
 "cells": [
  {
   "cell_type": "markdown",
   "id": "c0b26877",
   "metadata": {},
   "source": [
    "# 코딩 전 생각"
   ]
  },
  {
   "cell_type": "code",
   "execution_count": null,
   "id": "b757e8d5",
   "metadata": {},
   "outputs": [],
   "source": [
    "\"\"\"\"\"\"\"\"\"\"\n",
    "dfs나 bfs를 이용해 완전탐색하여 해결할 수 있을 것 같다.\n",
    "\n",
    "dfs를 이용한다.\n",
    "\n",
    "모든 던전의 개수를 length 변수에 저장한다.\n",
    "\n",
    "dfs함수 정의: \n",
    "    현재 피로도와 현재 남은 던전들의 정보를 담은 이차원 배열 dungeons을 인자로 가진다.\n",
    "    만약 남은 던전들 중 더 이상 갈 수 있는 던전이 없다면, length - len(dungeons)를 최대 탐험 가능 던전 수와 비교해 갱신한다.\n",
    "    아직 갈 수 있는 던전이 남았다면 각 던전마다 dfs 함수를 실행한다.\n",
    "\"\"\"\"\"\"\"\"\"\""
   ]
  },
  {
   "cell_type": "markdown",
   "id": "6352873e",
   "metadata": {},
   "source": [
    "# 내 답안"
   ]
  },
  {
   "cell_type": "code",
   "execution_count": 1,
   "id": "0d2028a9",
   "metadata": {},
   "outputs": [],
   "source": [
    "from copy import deepcopy  \n",
    "def dfs(now, last): #60  [50, 40], [30, 10]\n",
    "    global max_value, length\n",
    "    end = 1\n",
    "    last = deepcopy(last)\n",
    "    for a, b in last:\n",
    "        if now >= a:\n",
    "            end = 0\n",
    "            last.remove([a,b])\n",
    "            dfs(now-b, last)\n",
    "            last.append([a,b])\n",
    "    if end == 1:\n",
    "        max_value = max(max_value, length - len(last))\n",
    "            \n",
    "def solution(k, dungeons):\n",
    "    global max_value, length\n",
    "    max_value = 0\n",
    "    length = len(dungeons)\n",
    "    dfs(k, dungeons) \n",
    "    return max_value"
   ]
  },
  {
   "cell_type": "markdown",
   "id": "29e1e091",
   "metadata": {},
   "source": [
    "# 수정 답안"
   ]
  },
  {
   "cell_type": "code",
   "execution_count": null,
   "id": "eb57fd68",
   "metadata": {},
   "outputs": [],
   "source": [
    "from copy import deepcopy  \n",
    "def dfs(now, last): #60  [50, 40], [30, 10]\n",
    "    global max_value, length\n",
    "    end = 1\n",
    "    for i in range(len(last)):\n",
    "        a, b = last[i]\n",
    "        if now >= a:\n",
    "            end = 0\n",
    "            dfs(now-b, last[:i] + last[i+1:])\n",
    "    if end == 1:\n",
    "        max_value = max(max_value, length - len(last))\n",
    "            \n",
    "def solution(k, dungeons):\n",
    "    global max_value, length\n",
    "    max_value = 0\n",
    "    length = len(dungeons)\n",
    "    dfs(k, dungeons) \n",
    "    return max_value"
   ]
  },
  {
   "cell_type": "markdown",
   "id": "fae9f8ca",
   "metadata": {},
   "source": [
    "# 답안 작성 후 생각"
   ]
  },
  {
   "cell_type": "code",
   "execution_count": null,
   "id": "507c5414",
   "metadata": {},
   "outputs": [],
   "source": [
    "\"\"\"\"\"\"\"\"\"\"\n",
    "재귀함수 실행 시에 매번 deepcopy로 남은 던전 리스트를 복사해도 리스트연산(remove, append)시 문제를 일으킨다.\n",
    "\n",
    "재귀 함수 실행 시 정수형 변수에서는 더해줬던 변수를 빼주는 작업에 이상이 없어서 같은 방식으로 코드를 작성했지만\n",
    "\n",
    "리스트에서는 주소 값을 이용하는 방식이 다른 것 같다.\n",
    "\n",
    "매번 새로운 던전을 인덱싱을 이용하여 선정하고 후처리하는 방법으로 교체 후 정답 판정을 받았다.\n",
    "\"\"\"\"\"\"\"\"\"\""
   ]
  }
 ],
 "metadata": {
  "kernelspec": {
   "display_name": "Python 3 (ipykernel)",
   "language": "python",
   "name": "python3"
  },
  "language_info": {
   "codemirror_mode": {
    "name": "ipython",
    "version": 3
   },
   "file_extension": ".py",
   "mimetype": "text/x-python",
   "name": "python",
   "nbconvert_exporter": "python",
   "pygments_lexer": "ipython3",
   "version": "3.7.13"
  }
 },
 "nbformat": 4,
 "nbformat_minor": 5
}
