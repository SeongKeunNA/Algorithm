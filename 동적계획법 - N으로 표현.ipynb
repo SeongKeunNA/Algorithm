{
 "cells": [
  {
   "cell_type": "markdown",
   "id": "e11d522f",
   "metadata": {},
   "source": [
    "# 코딩 전 생각"
   ]
  },
  {
   "cell_type": "code",
   "execution_count": null,
   "id": "510ea12a",
   "metadata": {},
   "outputs": [],
   "source": [
    "\"\"\"\"\"\"\"\"\"\"\"\n",
    "1작성\n",
    "\n",
    "1을활용해서,,, 갱신할 수 있으면 최ㄱ대값갱신 \n",
    "\n",
    "1, 2 을활용해서,,, 갱신할수있으면 최대값게ㅐㅇ신\n",
    "...\n",
    "\n",
    "1,2, ... number-11을 이용해서,,, 갱신할수 이승염최ㅐㄳ갱신\n",
    "\n",
    "print(d[number])\n",
    "\n",
    "재료:\n",
    "[n n,n nn,n nnn,n nnn/nn nnnn/n nnnn/nn nnnn/nnn nnnnn/n nnnnn/nn nnnnn/nnn]\n",
    "\n",
    "모든 재료를 풀고\n",
    "n+n\n",
    "+, -, //, *\n",
    "\n",
    "\n",
    "처음 가능한 수 n, nn, nnn, nnnn, nnnnn, nnnnnn\n",
    "d[n] = 1 d[nn]=2, ... d[nnnnnn] = 6\n",
    "\n",
    "남은 n수 (7, 6, 5, 4, 3, 2)\n",
    "\n",
    "다음 가능한 연산 +, -, *, //\n",
    "\n",
    "n을 고름 n + n\n",
    "\n",
    "q안에 계속 넣는 형태...\n",
    "q = [(n, 1), (nn, 2), (nnn, 3), (nnnn,4) (nnnnn,5) (nnnnnn,6)]\n",
    "while q:\n",
    "    now, count = q.popleft()\n",
    "    if now == number:\n",
    "        answer = min(answer, count)\n",
    "    d[now] = min(d[now], count)\n",
    "    for n, c in q:\n",
    "        if count + cnt < 9:\n",
    "            if d[now+n] > count + c:\n",
    "                q.append((now + n, count+c))\n",
    "            if d[now//n] > count + c:\n",
    "                q.append((now // n, count+c))\n",
    "            if d[now - n] > count + c:\n",
    "                q.append((now - n, count+c))\n",
    "            if d[now * n] > count + c:\n",
    "                q.append((now * n, count+c))\n",
    "print(answer)\n",
    "\"\"\"\"\"\"\"\"\"\"\""
   ]
  },
  {
   "cell_type": "code",
   "execution_count": 7,
   "id": "4365346f",
   "metadata": {},
   "outputs": [],
   "source": [
    "from collections import deque\n",
    "def solution(N, number):\n",
    "    answer = 9\n",
    "    d = [9] *  int(1e9)\n",
    "    q = deque([(int(str(N) * i), i) for i in range(1, 6)])\n",
    "    while q:\n",
    "        now, count = q.popleft()\n",
    "        if now == number:\n",
    "            answer = min(answer, count)\n",
    "        if now > 0:\n",
    "            d[now] = min(d[now], count)\n",
    "            for n, c in list(q):\n",
    "                if count + c < 9:\n",
    "                    if d[now+n] > count + c:\n",
    "                        q.append((now + n, count+c))\n",
    "                    if d[now//n] > count + c:\n",
    "                        q.append((now // n, count+c))\n",
    "                    if d[now - n] > count + c:\n",
    "                        q.append((now - n, count+c))\n",
    "                    if d[now * n] > count + c:\n",
    "                        q.append((now * n, count+c))\n",
    "    return -1 if answer == 0 else answer"
   ]
  },
  {
   "cell_type": "code",
   "execution_count": 9,
   "id": "c12ec3eb",
   "metadata": {},
   "outputs": [],
   "source": [
    "from collections import deque\n",
    "def solution(N, number):\n",
    "    answer = 9\n",
    "    d = [9] *  int(1e9)\n",
    "    q = deque([(int(str(N) * i), i) for i in range(1, 6)])\n",
    "    while q:\n",
    "        now, count = q.popleft()\n",
    "        if now == number:\n",
    "            answer = min(answer, count)\n",
    "        if now > 0:\n",
    "            d[now] = min(d[now], count)\n",
    "            for n, c in list(q):\n",
    "                if n > 0 and count + c < 9:\n",
    "                    if d[now+n] > count + c:\n",
    "                        q.append((now + n, count+c))\n",
    "                    if d[now//n] > count + c:\n",
    "                        q.append((now // n, count+c))\n",
    "                    if d[now - n] > count + c:\n",
    "                        q.append((now - n, count+c))\n",
    "                    if d[now * n] > count + c:\n",
    "                        q.append((now * n, count+c))\n",
    "    return -1 if answer == 0 else answer"
   ]
  },
  {
   "cell_type": "code",
   "execution_count": 12,
   "id": "f657c9ed",
   "metadata": {},
   "outputs": [
    {
     "ename": "NameError",
     "evalue": "name 'd' is not defined",
     "output_type": "error",
     "traceback": [
      "\u001b[1;31m---------------------------------------------------------------------------\u001b[0m",
      "\u001b[1;31mNameError\u001b[0m                                 Traceback (most recent call last)",
      "\u001b[1;32m~\\AppData\\Local\\Temp\\ipykernel_70008\\1698968541.py\u001b[0m in \u001b[0;36m<module>\u001b[1;34m\u001b[0m\n\u001b[1;32m----> 1\u001b[1;33m \u001b[0md\u001b[0m\u001b[1;33m[\u001b[0m\u001b[1;33m:\u001b[0m\u001b[1;36m100\u001b[0m\u001b[1;33m]\u001b[0m\u001b[1;33m\u001b[0m\u001b[1;33m\u001b[0m\u001b[0m\n\u001b[0m",
      "\u001b[1;31mNameError\u001b[0m: name 'd' is not defined"
     ]
    }
   ],
   "source": [
    "def dfs(now, count):\n",
    "    global d, q\n",
    "    d[now] = min(d[now], count)\n",
    "    for n, c in list(set(q)):\n",
    "        if n > 0 and count + c < 9:\n",
    "            if d[now+n] > count + c:\n",
    "                dfs(now + n, count+c)\n",
    "            if d[now//n] > count + c:\n",
    "                dfs(now // n, count+c)\n",
    "            if d[now - n] > count + c and now > n:\n",
    "                dfs(now - n, count+c)\n",
    "            if d[now * n] > count + c:\n",
    "                dfs(now * n, count+c)\n",
    "    \n",
    "def solution(N, number):\n",
    "    global d, q\n",
    "    d = [9] *  int(1e9)\n",
    "    q = [(int(str(N) * i), i) for i in range(1, 6)]\n",
    "    for n, c in q:\n",
    "        dfs(n, c)"
   ]
  },
  {
   "cell_type": "code",
   "execution_count": 11,
   "id": "8f69661f",
   "metadata": {},
   "outputs": [
    {
     "data": {
      "text/plain": [
       "9"
      ]
     },
     "execution_count": 11,
     "metadata": {},
     "output_type": "execute_result"
    }
   ],
   "source": [
    "solution(2, 11)"
   ]
  },
  {
   "cell_type": "markdown",
   "id": "b27ef568",
   "metadata": {},
   "source": [
    "# 답안 작성 후 생각"
   ]
  },
  {
   "cell_type": "code",
   "execution_count": null,
   "id": "e6b67b1d",
   "metadata": {},
   "outputs": [],
   "source": [
    "\"\"\"\"\"\"\"\"\"\"\n",
    "dfs/bfs로 문제를 해결하려했지만 시간초과가 발생하고 정답을 출력하지도 못하는 것 같다.\n",
    "\n",
    "내일 힌트를 참고해 다시 풀어보자.\n",
    "\"\"\"\"\"\"\"\"\"\""
   ]
  }
 ],
 "metadata": {
  "kernelspec": {
   "display_name": "Python 3 (ipykernel)",
   "language": "python",
   "name": "python3"
  },
  "language_info": {
   "codemirror_mode": {
    "name": "ipython",
    "version": 3
   },
   "file_extension": ".py",
   "mimetype": "text/x-python",
   "name": "python",
   "nbconvert_exporter": "python",
   "pygments_lexer": "ipython3",
   "version": "3.7.13"
  }
 },
 "nbformat": 4,
 "nbformat_minor": 5
}
