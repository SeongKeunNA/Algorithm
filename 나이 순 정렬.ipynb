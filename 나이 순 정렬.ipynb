{
 "cells": [
  {
   "cell_type": "markdown",
   "id": "a2577af0",
   "metadata": {},
   "source": [
    "# 코딩 전 생각"
   ]
  },
  {
   "cell_type": "code",
   "execution_count": null,
   "id": "5f5d4ce4",
   "metadata": {},
   "outputs": [],
   "source": [
    "\"\"\"\"\"\"\"\"\"\"\n",
    "나이, 이름, 가입 순서를 받은 뒤 정렬하여 출력한다.\n",
    "\"\"\"\"\"\"\"\"\"\""
   ]
  },
  {
   "cell_type": "markdown",
   "id": "8afc2a49",
   "metadata": {},
   "source": [
    "# 내 답안"
   ]
  },
  {
   "cell_type": "code",
   "execution_count": null,
   "id": "d19684d4",
   "metadata": {},
   "outputs": [],
   "source": [
    "from sys import stdin, stdout\n",
    "input, print = stdin.readline, stdout.write\n",
    "data = []\n",
    "for i in range(int(input().strip())):\n",
    "    info = list(map(str, input().strip().split()))\n",
    "    info.append(i)\n",
    "    data.append(info)\n",
    "\n",
    "for age, name, _ in sorted(data, key = lambda x: (int(x[0]), x[2])):\n",
    "    print(str(age) + ' ' + str(name) + '\\n')"
   ]
  },
  {
   "cell_type": "markdown",
   "id": "6d32b902",
   "metadata": {},
   "source": [
    "# ldywinner님의 답안"
   ]
  },
  {
   "cell_type": "code",
   "execution_count": null,
   "id": "4be9d3f2",
   "metadata": {},
   "outputs": [],
   "source": [
    "import sys\n",
    "input = sys.stdin.readline\n",
    "print = sys.stdout.write\n",
    "\n",
    "N = int(input())\n",
    "people = {}\n",
    "for n in range(N):\n",
    "    age, name = map(str, input().split())\n",
    "    if int(age) in people:\n",
    "        people[int(age)].append(name)\n",
    "    else:\n",
    "        people[int(age)] = [name]\n",
    "temp = sorted(people)\n",
    "for ageNum in temp:\n",
    "    for person in people[ageNum]:\n",
    "        print(str(ageNum) + \" \" + person + \"\\n\")"
   ]
  },
  {
   "cell_type": "markdown",
   "id": "eebb4081",
   "metadata": {},
   "source": [
    "# 답안 작성 후 생각"
   ]
  },
  {
   "cell_type": "code",
   "execution_count": null,
   "id": "1108ee1b",
   "metadata": {},
   "outputs": [],
   "source": [
    "\"\"\"\"\"\"\"\"\"\"\n",
    "1. readline함수에서 map(str, input().split()) 형태로 사용 시 strip()처리를 안 해줘도 됨.\n",
    "\n",
    "2. 나이를 키 값으로 하는 딕셔너리를 활용해 풀면 더 빠름.\n",
    "\n",
    "3. 딕셔너리를 정렬하면 키 값을 정렬한 리스트가 나옴.\n",
    "\"\"\"\"\"\"\"\"\"\""
   ]
  }
 ],
 "metadata": {
  "kernelspec": {
   "display_name": "Python 3 (ipykernel)",
   "language": "python",
   "name": "python3"
  },
  "language_info": {
   "codemirror_mode": {
    "name": "ipython",
    "version": 3
   },
   "file_extension": ".py",
   "mimetype": "text/x-python",
   "name": "python",
   "nbconvert_exporter": "python",
   "pygments_lexer": "ipython3",
   "version": "3.7.13"
  }
 },
 "nbformat": 4,
 "nbformat_minor": 5
}
